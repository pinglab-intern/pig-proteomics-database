{
  "nbformat": 4,
  "nbformat_minor": 0,
  "metadata": {
    "colab": {
      "name": "model_v2.ipynb",
      "provenance": [],
      "collapsed_sections": [],
      "authorship_tag": "ABX9TyOIL4dEYJbQLowSEOlhSBX2"
    },
    "kernelspec": {
      "name": "python3",
      "display_name": "Python 3"
    },
    "language_info": {
      "name": "python"
    }
  },
  "cells": [
    {
      "cell_type": "markdown",
      "metadata": {
        "id": "rKt3MmkrM-w6"
      },
      "source": [
        "# Feature Crosses"
      ]
    },
    {
      "cell_type": "markdown",
      "metadata": {
        "id": "VCZdhnmW-u1A"
      },
      "source": [
        "This notebook is the same algorithm as model_v1.ipynb, but uses feature crosses:\n",
        "{X1X2, X1X3, X1X2}"
      ]
    },
    {
      "cell_type": "code",
      "metadata": {
        "colab": {
          "base_uri": "https://localhost:8080/"
        },
        "id": "gIB_Ah_u-nox",
        "outputId": "e7e5a74b-a24f-438c-a6c0-14c80dacefa6"
      },
      "source": [
        "# Connect notebook to Google Drive\n",
        "from google.colab import drive\n",
        "drive.mount('/content/drive', force_remount=True)"
      ],
      "execution_count": null,
      "outputs": [
        {
          "output_type": "stream",
          "text": [
            "Mounted at /content/drive\n"
          ],
          "name": "stdout"
        }
      ]
    },
    {
      "cell_type": "code",
      "metadata": {
        "colab": {
          "base_uri": "https://localhost:8080/"
        },
        "id": "knJbHEtF-7uf",
        "outputId": "670e93af-2008-4305-bece-448326b1d08a"
      },
      "source": [
        "# Navigate to the shared drive folder\n",
        "%cd /content/drive/'My Drive'/'Pig Proteomics Summer Project'\n",
        "!pwd\n",
        "!ls"
      ],
      "execution_count": null,
      "outputs": [
        {
          "output_type": "stream",
          "text": [
            "/content/drive/.shortcut-targets-by-id/1H3M9nQYJ9K9M22jDv-wcvZ0azPz9lhsr/Pig Proteomics Summer Project\n",
            "/content/drive/.shortcut-targets-by-id/1H3M9nQYJ9K9M22jDv-wcvZ0azPz9lhsr/Pig Proteomics Summer Project\n",
            "'2021-06-21 Introduction to Proteomes.ipynb'\n",
            "'2021-06-28 Reactome and Uniprot.ipynb'\n",
            "'2021-06-29 Identifying characteristics of an unreliable protein.gslides'\n",
            " data\n",
            " gene_PE.ipynb\n",
            " histogram.ipynb\n",
            "'machine learning.gslides'\n",
            " model_v1.ipynb\n",
            " model_v2.ipynb\n",
            " model_v3.ipynb\n",
            " output\n",
            " pe_scores.ipynb\n",
            " scratch\n",
            "'Summer Project.gdoc'\n",
            " violin.ipynb\n",
            "'Week 1 Introduction slides.gslides'\n",
            "'Week 3 Findings.gslides'\n"
          ],
          "name": "stdout"
        }
      ]
    },
    {
      "cell_type": "code",
      "metadata": {
        "colab": {
          "base_uri": "https://localhost:8080/"
        },
        "id": "81JdNUq4_Ant",
        "outputId": "5cfc061c-5b90-473f-b6de-6fb74131d33f"
      },
      "source": [
        "!pip install fastaparser"
      ],
      "execution_count": null,
      "outputs": [
        {
          "output_type": "stream",
          "text": [
            "Collecting fastaparser\n",
            "  Downloading fastaparser-1.1-py3-none-any.whl (29 kB)\n",
            "Installing collected packages: fastaparser\n",
            "Successfully installed fastaparser-1.1\n"
          ],
          "name": "stdout"
        }
      ]
    },
    {
      "cell_type": "markdown",
      "metadata": {
        "id": "vwsrqUAF_Ga8"
      },
      "source": [
        "# **Feature Extraction**\n",
        "The features of interest (so far):\n",
        "1. Protein length\n",
        "2. PE score\n",
        "3. Number of confirmed isoforms\n",
        "4. Number of computational isoforms"
      ]
    },
    {
      "cell_type": "code",
      "metadata": {
        "id": "hezkNYJ6_DGA"
      },
      "source": [
        "import fastaparser\n",
        "import pandas as pd\n",
        "\n",
        "def parse_fasta_file(file_name):\n",
        "  \"\"\"\n",
        "  this function parses a FASTA database and returns it as a mapping from the\n",
        "  header of the protein to the amino acid sequence it corresponds to\n",
        "  mapping: {header: sequence}\n",
        "  \"\"\"\n",
        "  out_dict = {}\n",
        "  fastaRaw = [] #uses quick parsing method\n",
        "  with open(file_name) as fasta_file:\n",
        "      parserQuick = fastaparser.Reader(fasta_file, parse_method = 'quick')\n",
        "      \n",
        "      for seq in parserQuick:\n",
        "          fastaRaw.append(seq)\n",
        "          \n",
        "  headerList = []\n",
        "  seqList = []\n",
        "\n",
        "  for k in fastaRaw:\n",
        "      headerList.append(k.header)\n",
        "      seqList.append(k.sequence)\n",
        "\n",
        "  if len(headerList) != len(seqList):\n",
        "      raise ValueError(\"Number of headers =/= number of sequences\")\n",
        "\n",
        "  for i in range(len(headerList)):\n",
        "      out_dict[headerList[i]] = seqList[i]\n",
        "\n",
        "  return out_dict\n",
        "\n",
        "def extract_protein_length(file_name):\n",
        "  \"\"\"\n",
        "  gets protein length in the following format:\n",
        "  {accession ID : protein length}\n",
        "  \"\"\"\n",
        "  out_dict = parse_fasta_file(file_name)\n",
        "  protein_to_length = {}\n",
        "\n",
        "  for key in out_dict.keys():\n",
        "    indice = []\n",
        "    for k in range(len(key)):\n",
        "      t = key[k]\n",
        "      if '|' in t:\n",
        "        indice.append(k)\n",
        "    accession = key[indice[0] + 1 : indice[1]]\n",
        "\n",
        "    protein_to_length[accession] = len(out_dict[key])\n",
        "\n",
        "\n",
        "  return protein_to_length\n",
        "\n",
        "def extract_PE_scores(file_name):\n",
        "  \"\"\"\n",
        "  gets PE score in the following format:\n",
        "  {accession ID : PE score}\n",
        "  \"\"\"\n",
        "  out_dict = parse_fasta_file(file_name)\n",
        "  protein_to_PE_score = {}\n",
        "\n",
        "  for key in out_dict.keys():\n",
        "    indice_accession = []\n",
        "    indice_PE = []\n",
        "    for i in range(len(key)):\n",
        "      t_accession = key[i]\n",
        "      if '|' in t_accession:\n",
        "        indice_accession.append(i)    \n",
        "    accession = key[indice_accession[0] + 1 : indice_accession[1]]\n",
        "\n",
        "    for j in range(len(key)):\n",
        "      t_pe = key[j:j+3]\n",
        "      if 'PE=' in t_pe:\n",
        "        indice_PE.append(j)\n",
        "    \n",
        "    pe_score = int(key[indice_PE[0] + 3 : indice_PE[0] + 4])\n",
        "    protein_to_PE_score[accession] = pe_score\n",
        "  \n",
        "  return protein_to_PE_score\n",
        "\n",
        "def extract_confirmed_isoforms(isoform_file):\n",
        "  \"\"\"\n",
        "  {accession ID : num of confirmed isoforms}\n",
        "  specifically takes isoform file\n",
        "  \"\"\"\n",
        "  protein_to_length = extract_protein_length(isoform_file) #{accession ID : length of sequence}\n",
        "  protein_to_isoform = {}\n",
        "\n",
        "  set_of_proteins = list(set(protein_to_length.keys()))\n",
        "  set_of_isoforms = [x for x in set_of_proteins if '-' in x] #list of isoforms\n",
        "  set_of_no_isoforms = [x for x in set_of_proteins if '-' not in x] #list of non-isoforms\n",
        "\n",
        "  for protein in set_of_no_isoforms:\n",
        "    c = 0\n",
        "    for k in set_of_isoforms:\n",
        "      if protein in k:\n",
        "        c = c + 1\n",
        "    \n",
        "    protein_to_isoform[protein] = c\n",
        "  \n",
        "  return protein_to_isoform\n",
        "\n",
        "def reference_proteome(file_name, proteome_file):\n",
        "  \"\"\"\n",
        "  returns 1 if protein is in reference proteome, 0 if protein is not in reference proteome\n",
        "  file_name -> full db\n",
        "  proteome_file -> proteome db\n",
        "  \"\"\"\n",
        "  all_proteins = list(set(extract_protein_length(file_name).keys()))\n",
        "  proteome_proteins = list(set(extract_protein_length(proteome_file).keys()))\n",
        "\n",
        "  protein_to_binary = {}\n",
        "  for protein in all_proteins:\n",
        "    if protein in proteome_proteins:\n",
        "      protein_to_binary[protein] = 1\n",
        "    elif protein not in proteome_proteins:\n",
        "      protein_to_binary[protein] = 0\n",
        "  \n",
        "  return protein_to_binary"
      ],
      "execution_count": null,
      "outputs": []
    },
    {
      "cell_type": "markdown",
      "metadata": {
        "id": "Cy4dPPZd_Z5r"
      },
      "source": [
        "# **Compiling Features into Dictionary**\n",
        "format: {accession ID : [protein length, PE score, num of confirmed isoforms]}"
      ]
    },
    {
      "cell_type": "code",
      "metadata": {
        "id": "SOqTULI0_XA7"
      },
      "source": [
        "def protein_to_features(file_name, proteome_file, isoform_file):\n",
        "  \"\"\"\n",
        "  inputs:\n",
        "  file_name -> full protein db\n",
        "  proteome_file -> reference proteome db\n",
        "  isoform_file -> full protein db with isoforms\n",
        "  creates dictionary in the following format:\n",
        "  {accession ID : [protein length, PE score, num of confirmed isoforms]}\n",
        "  \"\"\"\n",
        "  #hopefully the keys of each dictionary defined above are identical to each other\n",
        "  protein_to_length = extract_protein_length(file_name)\n",
        "  protein_to_PE_score = extract_PE_scores(file_name)\n",
        "  protein_to_isoform = extract_confirmed_isoforms(isoform_file)\n",
        "  protein_to_binary = reference_proteome(file_name, proteome_file)\n",
        "\n",
        "  protein_to_features = {}\n",
        "\n",
        "  for key in list(protein_to_length.keys()):\n",
        "    protein_to_features[key] = [protein_to_length[key],\n",
        "                                protein_to_PE_score[key],\n",
        "                                protein_to_isoform[key],\n",
        "                                protein_to_binary[key]]\n",
        "  \n",
        "  return protein_to_features\n",
        "\n",
        "def protein_features_dataframe(protein_features_dict):\n",
        "  \"\"\"\n",
        "  input: protein_to_features output\n",
        "  output: dataframe; headers = ['Protein Accession ID', 'Length', 'PE Score', '#Isoforms (confirmed)', 'In reference proteome']\n",
        "  \"\"\"  \n",
        "  accession = []\n",
        "  length = []\n",
        "  pe_score = []\n",
        "  confirmed_isoforms = []\n",
        "  ref_proteome = []\n",
        "\n",
        "  for protein in list(protein_features_dict.keys()):\n",
        "    accession.append(protein)\n",
        "    length.append(protein_features_dict[protein][0])\n",
        "    pe_score.append(protein_features_dict[protein][1])\n",
        "    confirmed_isoforms.append(protein_features_dict[protein][2])\n",
        "    ref_proteome.append(protein_features_dict[protein][3])\n",
        "  \n",
        "  d = {'Protein Accession' : accession,\n",
        "       'Length' : length,\n",
        "       'PE Score' : pe_score,\n",
        "       '#Confirmed Isoforms' : confirmed_isoforms,\n",
        "       'In Reference Proteome' : ref_proteome}\n",
        "\n",
        "  return pd.DataFrame(data = d)"
      ],
      "execution_count": null,
      "outputs": []
    },
    {
      "cell_type": "code",
      "metadata": {
        "colab": {
          "base_uri": "https://localhost:8080/"
        },
        "id": "3G-4dgT-LKmd",
        "outputId": "1468f113-6891-4be3-c164-106a1fb08f45"
      },
      "source": [
        "%cd output/protein_features/"
      ],
      "execution_count": null,
      "outputs": [
        {
          "output_type": "stream",
          "text": [
            "/content/drive/.shortcut-targets-by-id/1H3M9nQYJ9K9M22jDv-wcvZ0azPz9lhsr/Pig Proteomics Summer Project/output/protein_features\n"
          ],
          "name": "stdout"
        }
      ]
    },
    {
      "cell_type": "code",
      "metadata": {
        "colab": {
          "base_uri": "https://localhost:8080/",
          "height": 419
        },
        "id": "bkpqh6kULM0x",
        "outputId": "77e731e6-29b7-4c66-beac-a698ceb8e44d"
      },
      "source": [
        "df_protein_features = pd.read_csv(\"human_protein_features.csv\")\n",
        "df_protein_features = df_protein_features.drop(df_protein_features.columns[[0]], axis = 1)\n",
        "df_protein_features"
      ],
      "execution_count": null,
      "outputs": [
        {
          "output_type": "execute_result",
          "data": {
            "text/html": [
              "<div>\n",
              "<style scoped>\n",
              "    .dataframe tbody tr th:only-of-type {\n",
              "        vertical-align: middle;\n",
              "    }\n",
              "\n",
              "    .dataframe tbody tr th {\n",
              "        vertical-align: top;\n",
              "    }\n",
              "\n",
              "    .dataframe thead th {\n",
              "        text-align: right;\n",
              "    }\n",
              "</style>\n",
              "<table border=\"1\" class=\"dataframe\">\n",
              "  <thead>\n",
              "    <tr style=\"text-align: right;\">\n",
              "      <th></th>\n",
              "      <th>Protein Accession</th>\n",
              "      <th>Length</th>\n",
              "      <th>PE Score</th>\n",
              "      <th>#Confirmed Isoforms</th>\n",
              "      <th>In Reference Proteome</th>\n",
              "    </tr>\n",
              "  </thead>\n",
              "  <tbody>\n",
              "    <tr>\n",
              "      <th>0</th>\n",
              "      <td>P04439</td>\n",
              "      <td>365</td>\n",
              "      <td>1</td>\n",
              "      <td>1</td>\n",
              "      <td>1</td>\n",
              "    </tr>\n",
              "    <tr>\n",
              "      <th>1</th>\n",
              "      <td>P01911</td>\n",
              "      <td>266</td>\n",
              "      <td>1</td>\n",
              "      <td>0</td>\n",
              "      <td>1</td>\n",
              "    </tr>\n",
              "    <tr>\n",
              "      <th>2</th>\n",
              "      <td>P01889</td>\n",
              "      <td>362</td>\n",
              "      <td>1</td>\n",
              "      <td>0</td>\n",
              "      <td>1</td>\n",
              "    </tr>\n",
              "    <tr>\n",
              "      <th>3</th>\n",
              "      <td>P31689</td>\n",
              "      <td>397</td>\n",
              "      <td>1</td>\n",
              "      <td>1</td>\n",
              "      <td>1</td>\n",
              "    </tr>\n",
              "    <tr>\n",
              "      <th>4</th>\n",
              "      <td>P08246</td>\n",
              "      <td>267</td>\n",
              "      <td>1</td>\n",
              "      <td>0</td>\n",
              "      <td>1</td>\n",
              "    </tr>\n",
              "    <tr>\n",
              "      <th>...</th>\n",
              "      <td>...</td>\n",
              "      <td>...</td>\n",
              "      <td>...</td>\n",
              "      <td>...</td>\n",
              "      <td>...</td>\n",
              "    </tr>\n",
              "    <tr>\n",
              "      <th>202155</th>\n",
              "      <td>Q9P2T1</td>\n",
              "      <td>348</td>\n",
              "      <td>1</td>\n",
              "      <td>2</td>\n",
              "      <td>1</td>\n",
              "    </tr>\n",
              "    <tr>\n",
              "      <th>202156</th>\n",
              "      <td>Q8IUX8</td>\n",
              "      <td>553</td>\n",
              "      <td>1</td>\n",
              "      <td>1</td>\n",
              "      <td>1</td>\n",
              "    </tr>\n",
              "    <tr>\n",
              "      <th>202157</th>\n",
              "      <td>O15372</td>\n",
              "      <td>352</td>\n",
              "      <td>1</td>\n",
              "      <td>0</td>\n",
              "      <td>1</td>\n",
              "    </tr>\n",
              "    <tr>\n",
              "      <th>202158</th>\n",
              "      <td>P54852</td>\n",
              "      <td>163</td>\n",
              "      <td>1</td>\n",
              "      <td>0</td>\n",
              "      <td>1</td>\n",
              "    </tr>\n",
              "    <tr>\n",
              "      <th>202159</th>\n",
              "      <td>P50402</td>\n",
              "      <td>254</td>\n",
              "      <td>1</td>\n",
              "      <td>0</td>\n",
              "      <td>1</td>\n",
              "    </tr>\n",
              "  </tbody>\n",
              "</table>\n",
              "<p>202160 rows × 5 columns</p>\n",
              "</div>"
            ],
            "text/plain": [
              "       Protein Accession  Length  ...  #Confirmed Isoforms  In Reference Proteome\n",
              "0                 P04439     365  ...                    1                      1\n",
              "1                 P01911     266  ...                    0                      1\n",
              "2                 P01889     362  ...                    0                      1\n",
              "3                 P31689     397  ...                    1                      1\n",
              "4                 P08246     267  ...                    0                      1\n",
              "...                  ...     ...  ...                  ...                    ...\n",
              "202155            Q9P2T1     348  ...                    2                      1\n",
              "202156            Q8IUX8     553  ...                    1                      1\n",
              "202157            O15372     352  ...                    0                      1\n",
              "202158            P54852     163  ...                    0                      1\n",
              "202159            P50402     254  ...                    0                      1\n",
              "\n",
              "[202160 rows x 5 columns]"
            ]
          },
          "metadata": {
            "tags": []
          },
          "execution_count": 7
        }
      ]
    },
    {
      "cell_type": "code",
      "metadata": {
        "id": "WysJ1CpELPJQ"
      },
      "source": [
        "def feature_crosses(df_protein_features):\n",
        "  \"\"\"\n",
        "  outputs dataframe but with the cross features\n",
        "  cross features:\n",
        "  1. length*PE\n",
        "  2. length*n (n = confirmed isoforms)\n",
        "  3. PE*n\n",
        "  \"\"\"\n",
        "  length_PE = []\n",
        "  length_n = []\n",
        "  pe_n = []\n",
        "\n",
        "  for k in range(len(df_protein_features['Length'])):\n",
        "    length_PE.append(df_protein_features['Length'][k] * df_protein_features['PE Score'][k])\n",
        "    length_n.append(df_protein_features['Length'][k] * df_protein_features['#Confirmed Isoforms'][k])\n",
        "    pe_n.append(df_protein_features['Length'][k] * df_protein_features['#Confirmed Isoforms'][k])\n",
        "  \n",
        "  df_protein_features['Length * PE Score'] = length_PE\n",
        "  df_protein_features['Length * #Confirmed Isoforms'] = length_n\n",
        "  df_protein_features['PE Score * #Confirmed Isoforms'] = pe_n\n",
        "\n",
        "  return df_protein_features"
      ],
      "execution_count": null,
      "outputs": []
    },
    {
      "cell_type": "code",
      "metadata": {
        "colab": {
          "base_uri": "https://localhost:8080/",
          "height": 436
        },
        "id": "eDEwcoXcMtxO",
        "outputId": "5c27ce27-c1b9-4bcc-ba45-ae1ae1bcdbb1"
      },
      "source": [
        "df_protein_new = feature_crosses(df_protein_features)\n",
        "df_protein_new"
      ],
      "execution_count": null,
      "outputs": [
        {
          "output_type": "execute_result",
          "data": {
            "text/html": [
              "<div>\n",
              "<style scoped>\n",
              "    .dataframe tbody tr th:only-of-type {\n",
              "        vertical-align: middle;\n",
              "    }\n",
              "\n",
              "    .dataframe tbody tr th {\n",
              "        vertical-align: top;\n",
              "    }\n",
              "\n",
              "    .dataframe thead th {\n",
              "        text-align: right;\n",
              "    }\n",
              "</style>\n",
              "<table border=\"1\" class=\"dataframe\">\n",
              "  <thead>\n",
              "    <tr style=\"text-align: right;\">\n",
              "      <th></th>\n",
              "      <th>Protein Accession</th>\n",
              "      <th>Length</th>\n",
              "      <th>PE Score</th>\n",
              "      <th>#Confirmed Isoforms</th>\n",
              "      <th>In Reference Proteome</th>\n",
              "      <th>Length * PE Score</th>\n",
              "      <th>Length * #Confirmed Isoforms</th>\n",
              "      <th>PE Score * #Confirmed Isoforms</th>\n",
              "    </tr>\n",
              "  </thead>\n",
              "  <tbody>\n",
              "    <tr>\n",
              "      <th>0</th>\n",
              "      <td>P04439</td>\n",
              "      <td>365</td>\n",
              "      <td>1</td>\n",
              "      <td>1</td>\n",
              "      <td>1</td>\n",
              "      <td>365</td>\n",
              "      <td>365</td>\n",
              "      <td>365</td>\n",
              "    </tr>\n",
              "    <tr>\n",
              "      <th>1</th>\n",
              "      <td>P01911</td>\n",
              "      <td>266</td>\n",
              "      <td>1</td>\n",
              "      <td>0</td>\n",
              "      <td>1</td>\n",
              "      <td>266</td>\n",
              "      <td>0</td>\n",
              "      <td>0</td>\n",
              "    </tr>\n",
              "    <tr>\n",
              "      <th>2</th>\n",
              "      <td>P01889</td>\n",
              "      <td>362</td>\n",
              "      <td>1</td>\n",
              "      <td>0</td>\n",
              "      <td>1</td>\n",
              "      <td>362</td>\n",
              "      <td>0</td>\n",
              "      <td>0</td>\n",
              "    </tr>\n",
              "    <tr>\n",
              "      <th>3</th>\n",
              "      <td>P31689</td>\n",
              "      <td>397</td>\n",
              "      <td>1</td>\n",
              "      <td>1</td>\n",
              "      <td>1</td>\n",
              "      <td>397</td>\n",
              "      <td>397</td>\n",
              "      <td>397</td>\n",
              "    </tr>\n",
              "    <tr>\n",
              "      <th>4</th>\n",
              "      <td>P08246</td>\n",
              "      <td>267</td>\n",
              "      <td>1</td>\n",
              "      <td>0</td>\n",
              "      <td>1</td>\n",
              "      <td>267</td>\n",
              "      <td>0</td>\n",
              "      <td>0</td>\n",
              "    </tr>\n",
              "    <tr>\n",
              "      <th>...</th>\n",
              "      <td>...</td>\n",
              "      <td>...</td>\n",
              "      <td>...</td>\n",
              "      <td>...</td>\n",
              "      <td>...</td>\n",
              "      <td>...</td>\n",
              "      <td>...</td>\n",
              "      <td>...</td>\n",
              "    </tr>\n",
              "    <tr>\n",
              "      <th>202155</th>\n",
              "      <td>Q9P2T1</td>\n",
              "      <td>348</td>\n",
              "      <td>1</td>\n",
              "      <td>2</td>\n",
              "      <td>1</td>\n",
              "      <td>348</td>\n",
              "      <td>696</td>\n",
              "      <td>696</td>\n",
              "    </tr>\n",
              "    <tr>\n",
              "      <th>202156</th>\n",
              "      <td>Q8IUX8</td>\n",
              "      <td>553</td>\n",
              "      <td>1</td>\n",
              "      <td>1</td>\n",
              "      <td>1</td>\n",
              "      <td>553</td>\n",
              "      <td>553</td>\n",
              "      <td>553</td>\n",
              "    </tr>\n",
              "    <tr>\n",
              "      <th>202157</th>\n",
              "      <td>O15372</td>\n",
              "      <td>352</td>\n",
              "      <td>1</td>\n",
              "      <td>0</td>\n",
              "      <td>1</td>\n",
              "      <td>352</td>\n",
              "      <td>0</td>\n",
              "      <td>0</td>\n",
              "    </tr>\n",
              "    <tr>\n",
              "      <th>202158</th>\n",
              "      <td>P54852</td>\n",
              "      <td>163</td>\n",
              "      <td>1</td>\n",
              "      <td>0</td>\n",
              "      <td>1</td>\n",
              "      <td>163</td>\n",
              "      <td>0</td>\n",
              "      <td>0</td>\n",
              "    </tr>\n",
              "    <tr>\n",
              "      <th>202159</th>\n",
              "      <td>P50402</td>\n",
              "      <td>254</td>\n",
              "      <td>1</td>\n",
              "      <td>0</td>\n",
              "      <td>1</td>\n",
              "      <td>254</td>\n",
              "      <td>0</td>\n",
              "      <td>0</td>\n",
              "    </tr>\n",
              "  </tbody>\n",
              "</table>\n",
              "<p>202160 rows × 8 columns</p>\n",
              "</div>"
            ],
            "text/plain": [
              "       Protein Accession  ...  PE Score * #Confirmed Isoforms\n",
              "0                 P04439  ...                             365\n",
              "1                 P01911  ...                               0\n",
              "2                 P01889  ...                               0\n",
              "3                 P31689  ...                             397\n",
              "4                 P08246  ...                               0\n",
              "...                  ...  ...                             ...\n",
              "202155            Q9P2T1  ...                             696\n",
              "202156            Q8IUX8  ...                             553\n",
              "202157            O15372  ...                               0\n",
              "202158            P54852  ...                               0\n",
              "202159            P50402  ...                               0\n",
              "\n",
              "[202160 rows x 8 columns]"
            ]
          },
          "metadata": {
            "tags": []
          },
          "execution_count": 9
        }
      ]
    },
    {
      "cell_type": "markdown",
      "metadata": {
        "id": "NL8XjqccM8FK"
      },
      "source": [
        "# **Training Model**"
      ]
    },
    {
      "cell_type": "code",
      "metadata": {
        "id": "7R0jgTjXMvDh"
      },
      "source": [
        "import numpy as np\n",
        "import pandas as pd\n",
        "import matplotlib.pyplot as plt\n",
        "import sklearn\n",
        "from sklearn.model_selection import train_test_split\n",
        "from sklearn.preprocessing import StandardScaler\n",
        "from sklearn.metrics import accuracy_score\n",
        "from math import *\n",
        "\n",
        "def initialize_weights_bias(num_features = 6):\n",
        "  \"\"\"\n",
        "  initializes w and b\n",
        "  output: np.array -> w\n",
        "  output: int -> b (0)\n",
        "  \"\"\"\n",
        "  weights = np.zeros((1,num_features))\n",
        "  bias = 0\n",
        "\n",
        "  return weights, bias\n",
        "\n",
        "def sigmoid_function(z):\n",
        "  \"\"\"\n",
        "  evaluates sigma(z) = 1/(1 + exp(-z))\n",
        "  \"\"\"\n",
        "  return 1/(1 + np.exp(-z))\n",
        "\n",
        "def model_construction(df_protein_features):\n",
        "  inp_df = df_protein_features.drop(df_protein_features.columns[[0,4]], axis=1)\n",
        "  out_df = df_protein_features.drop(df_protein_features.columns[[0,1,2,3,5,6,7]], axis=1)\n",
        "  \n",
        "  scaler = StandardScaler()\n",
        "  inp_df = scaler.fit_transform(inp_df) #transforms into Z values\n",
        "\n",
        "  X_train, X_test, Y_train, Y_test = train_test_split(inp_df, out_df, test_size=0.2, train_size = 0.8)\n",
        "\n",
        "  return X_train, Y_train, X_test, Y_test\n",
        "\n",
        "def evaluate_cost(w, b, X_train, Y_train):\n",
        "  \"\"\"\n",
        "  J = -y*log(sigma(Z)) - (1-y)*log(sigma(Z))\n",
        "  positive training set : y = 1 (ones in human reference proteome)\n",
        "  negative training set : y = 0 (ones not in human reference proteome)\n",
        "  \"\"\"\n",
        "  m = X_train.shape[0] #number of rows in X_train dataset (training set is entire human db)\n",
        "  z = np.dot(w, X_train.T) + b\n",
        "  a = sigmoid_function(z) #evaluates sigmoid function\n",
        "  \n",
        "  cost = (-1/m)*(np.array(Y_train.T*np.log(a) + (1 - Y_train.T)*np.log(1 - a))).sum()\n",
        "  dJdw = (1/m)*(np.dot(X_train.T, (a-Y_train.T).T))\n",
        "  dJdb = (1/m)*(np.array(a-Y_train.T).sum())\n",
        "\n",
        "  return cost, dJdw, dJdb\n",
        "\n",
        "def model_predict(w, b, df_protein_features, n = 4500, alpha = 0.001):\n",
        "  \"\"\"\n",
        "  predicts model for constructing the reference proteome\n",
        "  w -> initialized weights\n",
        "  b -> initialized bias\n",
        "  X_train -> X-axis of training set (all the features ; length, PE score, #isoforms (confirmed))\n",
        "  Y_train -> Y-axis of training set (in reference proteome or no?)\n",
        "  n -> number of iterations\n",
        "\n",
        "  also creates cost function vs. iteration num\n",
        "  \"\"\"\n",
        "  X_train, Y_train, X_test, Y_test = model_construction(df_protein_features)\n",
        "  cost_train = []\n",
        "  cost_test = []\n",
        "  iteration_num = []\n",
        "  for i in range(n):\n",
        "    iteration_num.append(i)\n",
        "    cost_tr, dJdw, dJdb = evaluate_cost(w, b, X_train, Y_train)\n",
        "    cost_te, _ , _ = evaluate_cost(w, b, X_test, Y_test)\n",
        "    cost_train.append(cost_tr)\n",
        "    cost_test.append(cost_te)\n",
        "\n",
        "    w = w - alpha*dJdw.T\n",
        "    b = b - alpha*dJdb\n",
        "  \n",
        "  plt.plot(iteration_num, cost_train)\n",
        "  plt.plot(iteration_num, cost_test)\n",
        "  plt.legend(['Training set', 'Testing set'])\n",
        "  plt.xlabel(\"Iteration number\")\n",
        "  plt.ylabel(\"Cost\")\n",
        "\n",
        "  return w, b\n"
      ],
      "execution_count": null,
      "outputs": []
    },
    {
      "cell_type": "code",
      "metadata": {
        "id": "Qnyg93LMNK5S"
      },
      "source": [
        "df_protein_new.to_csv(\"feature_crosses.csv\")"
      ],
      "execution_count": null,
      "outputs": []
    },
    {
      "cell_type": "code",
      "metadata": {
        "colab": {
          "base_uri": "https://localhost:8080/"
        },
        "id": "LFVWAFHCNgNO",
        "outputId": "d25e07fe-232a-4ab0-eb79-93bb7d1c0e78"
      },
      "source": [
        "w, b = initialize_weights_bias()\n",
        "w"
      ],
      "execution_count": null,
      "outputs": [
        {
          "output_type": "execute_result",
          "data": {
            "text/plain": [
              "array([[0., 0., 0., 0., 0., 0.]])"
            ]
          },
          "metadata": {
            "tags": []
          },
          "execution_count": 12
        }
      ]
    },
    {
      "cell_type": "code",
      "metadata": {
        "colab": {
          "base_uri": "https://localhost:8080/",
          "height": 313
        },
        "id": "RAWcQ1sXNj0Y",
        "outputId": "de4e603a-9f4a-48d4-b646-6c075110cefa"
      },
      "source": [
        "w, b = model_predict(w, b, df_protein_features, n = 1500, alpha = 0.001)\n",
        "w"
      ],
      "execution_count": null,
      "outputs": [
        {
          "output_type": "execute_result",
          "data": {
            "text/plain": [
              "array([[ 0.05886958, -0.33994867,  0.11822008, -0.09167097,  0.04450159,\n",
              "         0.04450159]])"
            ]
          },
          "metadata": {
            "tags": []
          },
          "execution_count": 13
        },
        {
          "output_type": "display_data",
          "data": {
            "image/png": "[encoded data removed]",
            "text/plain": [
              "<Figure size 432x288 with 1 Axes>"
            ]
          },
          "metadata": {
            "tags": [],
            "needs_background": "light"
          }
        }
      ]
    },
    {
      "cell_type": "code",
      "metadata": {
        "colab": {
          "base_uri": "https://localhost:8080/"
        },
        "id": "E6dW0RQaNnY9",
        "outputId": "25c6b473-4672-4188-afe9-1dcb95a21899"
      },
      "source": [
        "b"
      ],
      "execution_count": null,
      "outputs": [
        {
          "output_type": "execute_result",
          "data": {
            "text/plain": [
              "-0.14222154220415592"
            ]
          },
          "metadata": {
            "tags": []
          },
          "execution_count": 14
        }
      ]
    },
    {
      "cell_type": "code",
      "metadata": {
        "colab": {
          "base_uri": "https://localhost:8080/"
        },
        "id": "UUkfYScyDEoC",
        "outputId": "fdb26460-7a80-4772-9dd6-7ac8e88dafa0"
      },
      "source": [
        "w = np.array([[ 0.05886958, -0.33994867,  0.11822008, -0.09167097,  0.04450159,\n",
        "         0.04450159]])\n",
        "\n",
        "w = w[0]\n",
        "w"
      ],
      "execution_count": null,
      "outputs": [
        {
          "output_type": "execute_result",
          "data": {
            "text/plain": [
              "array([ 0.05886958, -0.33994867,  0.11822008, -0.09167097,  0.04450159,\n",
              "        0.04450159])"
            ]
          },
          "metadata": {
            "tags": []
          },
          "execution_count": 27
        }
      ]
    },
    {
      "cell_type": "markdown",
      "metadata": {
        "id": "Lmd08ZRGUITA"
      },
      "source": [
        "# **Testing Model**"
      ]
    },
    {
      "cell_type": "code",
      "metadata": {
        "colab": {
          "base_uri": "https://localhost:8080/"
        },
        "id": "80NITI1vNt52",
        "outputId": "eb53167e-def3-4822-8f71-c233e05f3b17"
      },
      "source": [
        "%cd -"
      ],
      "execution_count": null,
      "outputs": [
        {
          "output_type": "stream",
          "text": [
            "/content/drive/.shortcut-targets-by-id/1H3M9nQYJ9K9M22jDv-wcvZ0azPz9lhsr/Pig Proteomics Summer Project\n"
          ],
          "name": "stdout"
        }
      ]
    },
    {
      "cell_type": "code",
      "metadata": {
        "id": "SoWZXHRcA9ry"
      },
      "source": [
        "from scipy.stats import zscore\n",
        "\n",
        "def jaccard_overlap(predicted, reference):\n",
        "  \"\"\"\n",
        "  computes jaccard overlap; J = A.intersection(B)/A.union(B)\n",
        "  \"\"\"\n",
        "  return len(predicted.intersection(reference))/len(predicted.union(reference))\n"
      ],
      "execution_count": null,
      "outputs": []
    },
    {
      "cell_type": "code",
      "metadata": {
        "id": "ddtLK-ckUJ6G"
      },
      "source": [
        "def z_score_dataframe(all):\n",
        "    \"\"\"\n",
        "    returns df w/ z-scores\n",
        "    \"\"\"\n",
        "    #all\n",
        "    all_input = all.drop(all.columns[[0,4]], axis=1) #[Length, PE Score, #Confirmed Isoforms, Length * PE Score, Length * #Confirmed Isoforms, PE Score * #Confirmed Isoforms]\n",
        "    all_input = all_input.apply(zscore)\n",
        "    all_proteins = list(all['Protein Accession'])\n",
        "    all_binary = list(all['In Reference Proteome'])\n",
        "    all_z_length = list(all_input['Length'])\n",
        "    all_z_pe_score = list(all_input['PE Score'])\n",
        "    all_z_isoforms = list(all_input['#Confirmed Isoforms'])\n",
        "    all_z_w1w2 = list(all_input['Length * PE Score'])\n",
        "    all_z_w1w3 = list(all_input['Length * #Confirmed Isoforms'])\n",
        "    all_z_w2w3 = list(all_input['PE Score * #Confirmed Isoforms'])\n",
        "\n",
        "    #creating all dataframe with z-scores\n",
        "    all['Protein Accession'] = all_proteins\n",
        "    all['Length'] = all_z_length\n",
        "    all['PE Score'] = all_z_pe_score\n",
        "    all['#Confirmed Isoforms'] = all_z_isoforms\n",
        "    all['Length * PE Score'] = all_z_w1w2\n",
        "    all['Length * #Confirmed Isoforms'] = all_z_w1w3\n",
        "    all['PE Score * #Confirmed Isoforms'] = all_z_w2w3\n",
        "    all['In Reference Proteome'] = all_binary\n",
        "\n",
        "    return all\n",
        "\n",
        "def jaccard_threshold_plot(all, reference, w, b):\n",
        "    \"\"\"\n",
        "    plot jaccard overlap score vs. the threshold to be added to the reference proteome\n",
        "    all -> all proteins df\n",
        "    reference -> reference proteome df\n",
        "    \"\"\"\n",
        "    p = np.linspace(0,1,1000)\n",
        "    #w = w[0]\n",
        "\n",
        "    #data processing\n",
        "    #reference proteome\n",
        "    reference_proteins = set(reference['accession'])\n",
        "\n",
        "    #all\n",
        "    all_input = all.drop(all.columns[[0,4]], axis=1) #[Length, PE Score, #Confirmed Isoforms]\n",
        "    all_input = all_input.apply(zscore)\n",
        "    all_proteins = list(all['Protein Accession'])\n",
        "    all_binary = list(all['In Reference Proteome'])\n",
        "    all_z_length = list(all_input['Length'])\n",
        "    all_z_pe_score = list(all_input['PE Score'])\n",
        "    all_z_isoforms = list(all_input['#Confirmed Isoforms'])\n",
        "\n",
        "    #creating all dataframe with z-scores\n",
        "    all['Protein Accession'] = all_proteins\n",
        "    all['Length'] = all_z_length\n",
        "    all['PE Score'] = all_z_pe_score\n",
        "    all['#Confirmed Isoforms'] = all_z_isoforms\n",
        "    all['In Reference Proteome'] = all_binary\n",
        "\n",
        "    J = []\n",
        "\n",
        "    for threshold in p:\n",
        "        protein_above_threshold = []\n",
        "        for k in range(len(all['Length'])):\n",
        "            L = [all['Length'][k], all['PE Score'][k], all['#Confirmed Isoforms'][k],\n",
        "                 all['Length * PE Score'][k], all['Length * #Confirmed Isoforms'][k],\n",
        "                 all['PE Score * #Confirmed Isoforms'][k]]\n",
        "            z = w[0]*L[0] + w[1]*L[1] + w[2]*L[2] + w[3]*L[3] + w[4]*L[4] + w[5]*L[5] + b\n",
        "            sigma = sigmoid_function(z)\n",
        "\n",
        "            if sigma >= threshold:\n",
        "                protein_above_threshold.append(all['Protein Accession'][k])\n",
        "            else:\n",
        "                pass\n",
        "\n",
        "        J_calc = jaccard_overlap(set(protein_above_threshold), reference_proteins)\n",
        "        J.append(J_calc)\n",
        "        \n",
        "    plt.plot(p, J)\n",
        "\n",
        "    #return all\n"
      ],
      "execution_count": null,
      "outputs": []
    },
    {
      "cell_type": "code",
      "metadata": {
        "colab": {
          "base_uri": "https://localhost:8080/"
        },
        "id": "cR-as2RhUM6p",
        "outputId": "b4aa8e20-44d4-4fe8-ec2b-9599b1545b13"
      },
      "source": [
        "%cd output"
      ],
      "execution_count": null,
      "outputs": [
        {
          "output_type": "stream",
          "text": [
            "/content/drive/.shortcut-targets-by-id/1H3M9nQYJ9K9M22jDv-wcvZ0azPz9lhsr/Pig Proteomics Summer Project/output\n"
          ],
          "name": "stdout"
        }
      ]
    },
    {
      "cell_type": "code",
      "metadata": {
        "colab": {
          "base_uri": "https://localhost:8080/",
          "height": 419
        },
        "id": "2r1yZCyQUUCR",
        "outputId": "34cbc638-9096-410f-97ce-744331481b5b"
      },
      "source": [
        "human_proteome = pd.read_csv(\"human_proteome_table_PE.csv\")\n",
        "human_proteome = human_proteome.drop(columns=['Unnamed: 0'], axis = 1)\n",
        "human_proteome"
      ],
      "execution_count": null,
      "outputs": [
        {
          "output_type": "execute_result",
          "data": {
            "text/html": [
              "<div>\n",
              "<style scoped>\n",
              "    .dataframe tbody tr th:only-of-type {\n",
              "        vertical-align: middle;\n",
              "    }\n",
              "\n",
              "    .dataframe tbody tr th {\n",
              "        vertical-align: top;\n",
              "    }\n",
              "\n",
              "    .dataframe thead th {\n",
              "        text-align: right;\n",
              "    }\n",
              "</style>\n",
              "<table border=\"1\" class=\"dataframe\">\n",
              "  <thead>\n",
              "    <tr style=\"text-align: right;\">\n",
              "      <th></th>\n",
              "      <th>sptr</th>\n",
              "      <th>accession</th>\n",
              "      <th>organism</th>\n",
              "      <th>Gene Name</th>\n",
              "      <th>length</th>\n",
              "      <th>PE Score</th>\n",
              "    </tr>\n",
              "  </thead>\n",
              "  <tbody>\n",
              "    <tr>\n",
              "      <th>0</th>\n",
              "      <td>sp</td>\n",
              "      <td>Q00266</td>\n",
              "      <td>Homo sapiens</td>\n",
              "      <td>MAT1A</td>\n",
              "      <td>395</td>\n",
              "      <td>1</td>\n",
              "    </tr>\n",
              "    <tr>\n",
              "      <th>1</th>\n",
              "      <td>sp</td>\n",
              "      <td>Q8NB16</td>\n",
              "      <td>Homo sapiens</td>\n",
              "      <td>MLKL</td>\n",
              "      <td>471</td>\n",
              "      <td>1</td>\n",
              "    </tr>\n",
              "    <tr>\n",
              "      <th>2</th>\n",
              "      <td>sp</td>\n",
              "      <td>O94851</td>\n",
              "      <td>Homo sapiens</td>\n",
              "      <td>MICAL2</td>\n",
              "      <td>1124</td>\n",
              "      <td>1</td>\n",
              "    </tr>\n",
              "    <tr>\n",
              "      <th>3</th>\n",
              "      <td>sp</td>\n",
              "      <td>Q8TDZ2</td>\n",
              "      <td>Homo sapiens</td>\n",
              "      <td>MICAL1</td>\n",
              "      <td>1067</td>\n",
              "      <td>1</td>\n",
              "    </tr>\n",
              "    <tr>\n",
              "      <th>4</th>\n",
              "      <td>sp</td>\n",
              "      <td>Q9NPJ6</td>\n",
              "      <td>Homo sapiens</td>\n",
              "      <td>MED4</td>\n",
              "      <td>270</td>\n",
              "      <td>1</td>\n",
              "    </tr>\n",
              "    <tr>\n",
              "      <th>...</th>\n",
              "      <td>...</td>\n",
              "      <td>...</td>\n",
              "      <td>...</td>\n",
              "      <td>...</td>\n",
              "      <td>...</td>\n",
              "      <td>...</td>\n",
              "    </tr>\n",
              "    <tr>\n",
              "      <th>78115</th>\n",
              "      <td>tr</td>\n",
              "      <td>A0A087WVB8</td>\n",
              "      <td>Homo sapiens</td>\n",
              "      <td>CNBD2</td>\n",
              "      <td>181</td>\n",
              "      <td>1</td>\n",
              "    </tr>\n",
              "    <tr>\n",
              "      <th>78116</th>\n",
              "      <td>tr</td>\n",
              "      <td>H0Y876</td>\n",
              "      <td>Homo sapiens</td>\n",
              "      <td>CCDC136</td>\n",
              "      <td>548</td>\n",
              "      <td>1</td>\n",
              "    </tr>\n",
              "    <tr>\n",
              "      <th>78117</th>\n",
              "      <td>tr</td>\n",
              "      <td>A0A3B3IU88</td>\n",
              "      <td>Homo sapiens</td>\n",
              "      <td>No Name</td>\n",
              "      <td>217</td>\n",
              "      <td>4</td>\n",
              "    </tr>\n",
              "    <tr>\n",
              "      <th>78118</th>\n",
              "      <td>tr</td>\n",
              "      <td>A0A1W2PR38</td>\n",
              "      <td>Homo sapiens</td>\n",
              "      <td>CSAG2</td>\n",
              "      <td>78</td>\n",
              "      <td>4</td>\n",
              "    </tr>\n",
              "    <tr>\n",
              "      <th>78119</th>\n",
              "      <td>tr</td>\n",
              "      <td>A0A1B0GU22</td>\n",
              "      <td>Homo sapiens</td>\n",
              "      <td>No Name</td>\n",
              "      <td>75</td>\n",
              "      <td>3</td>\n",
              "    </tr>\n",
              "  </tbody>\n",
              "</table>\n",
              "<p>78120 rows × 6 columns</p>\n",
              "</div>"
            ],
            "text/plain": [
              "      sptr   accession       organism Gene Name  length  PE Score\n",
              "0       sp      Q00266  Homo sapiens     MAT1A      395         1\n",
              "1       sp      Q8NB16  Homo sapiens      MLKL      471         1\n",
              "2       sp      O94851  Homo sapiens    MICAL2     1124         1\n",
              "3       sp      Q8TDZ2  Homo sapiens    MICAL1     1067         1\n",
              "4       sp      Q9NPJ6  Homo sapiens      MED4      270         1\n",
              "...    ...         ...            ...       ...     ...       ...\n",
              "78115   tr  A0A087WVB8  Homo sapiens     CNBD2      181         1\n",
              "78116   tr      H0Y876  Homo sapiens   CCDC136      548         1\n",
              "78117   tr  A0A3B3IU88  Homo sapiens    No Name     217         4\n",
              "78118   tr  A0A1W2PR38  Homo sapiens     CSAG2       78         4\n",
              "78119   tr  A0A1B0GU22  Homo sapiens    No Name      75         3\n",
              "\n",
              "[78120 rows x 6 columns]"
            ]
          },
          "metadata": {
            "tags": []
          },
          "execution_count": 21
        }
      ]
    },
    {
      "cell_type": "code",
      "metadata": {
        "colab": {
          "base_uri": "https://localhost:8080/",
          "height": 265
        },
        "id": "FQX0TOMnD4vL",
        "outputId": "a1a238dc-8da4-4007-fc59-461716b78524"
      },
      "source": [
        "jaccard_threshold_plot(df_protein_new, human_proteome, w, b)"
      ],
      "execution_count": null,
      "outputs": [
        {
          "output_type": "display_data",
          "data": {
            "image/png": "[encoded data removed]",
            "text/plain": [
              "<Figure size 432x288 with 1 Axes>"
            ]
          },
          "metadata": {
            "tags": [],
            "needs_background": "light"
          }
        }
      ]
    },
    {
      "cell_type": "code",
      "metadata": {
        "colab": {
          "base_uri": "https://localhost:8080/",
          "height": 436
        },
        "id": "40o9PJdfEozZ",
        "outputId": "fbcbadc4-e6e7-4717-bc0d-0ee5a47cb9ae"
      },
      "source": [
        "sample_size = int(0.2*len(df_protein_new['Length']))\n",
        "sample_df = df_protein_features.sample(sample_size)\n",
        "sample_df"
      ],
      "execution_count": null,
      "outputs": [
        {
          "output_type": "execute_result",
          "data": {
            "text/html": [
              "<div>\n",
              "<style scoped>\n",
              "    .dataframe tbody tr th:only-of-type {\n",
              "        vertical-align: middle;\n",
              "    }\n",
              "\n",
              "    .dataframe tbody tr th {\n",
              "        vertical-align: top;\n",
              "    }\n",
              "\n",
              "    .dataframe thead th {\n",
              "        text-align: right;\n",
              "    }\n",
              "</style>\n",
              "<table border=\"1\" class=\"dataframe\">\n",
              "  <thead>\n",
              "    <tr style=\"text-align: right;\">\n",
              "      <th></th>\n",
              "      <th>Protein Accession</th>\n",
              "      <th>Length</th>\n",
              "      <th>PE Score</th>\n",
              "      <th>#Confirmed Isoforms</th>\n",
              "      <th>In Reference Proteome</th>\n",
              "      <th>Length * PE Score</th>\n",
              "      <th>Length * #Confirmed Isoforms</th>\n",
              "      <th>PE Score * #Confirmed Isoforms</th>\n",
              "    </tr>\n",
              "  </thead>\n",
              "  <tbody>\n",
              "    <tr>\n",
              "      <th>34273</th>\n",
              "      <td>A0A0C4DGU7</td>\n",
              "      <td>0.046370</td>\n",
              "      <td>-1.171799</td>\n",
              "      <td>-0.172949</td>\n",
              "      <td>1</td>\n",
              "      <td>-0.354992</td>\n",
              "      <td>-0.070546</td>\n",
              "      <td>-0.070546</td>\n",
              "    </tr>\n",
              "    <tr>\n",
              "      <th>172175</th>\n",
              "      <td>P03956</td>\n",
              "      <td>0.432424</td>\n",
              "      <td>-1.171799</td>\n",
              "      <td>-0.172949</td>\n",
              "      <td>1</td>\n",
              "      <td>-0.170573</td>\n",
              "      <td>-0.070546</td>\n",
              "      <td>-0.070546</td>\n",
              "    </tr>\n",
              "    <tr>\n",
              "      <th>104929</th>\n",
              "      <td>E5RI37</td>\n",
              "      <td>-0.412857</td>\n",
              "      <td>1.528787</td>\n",
              "      <td>-0.172949</td>\n",
              "      <td>1</td>\n",
              "      <td>-0.089814</td>\n",
              "      <td>-0.070546</td>\n",
              "      <td>-0.070546</td>\n",
              "    </tr>\n",
              "    <tr>\n",
              "      <th>105840</th>\n",
              "      <td>B4DKE2</td>\n",
              "      <td>0.217950</td>\n",
              "      <td>-0.271604</td>\n",
              "      <td>-0.172949</td>\n",
              "      <td>0</td>\n",
              "      <td>0.189828</td>\n",
              "      <td>-0.070546</td>\n",
              "      <td>-0.070546</td>\n",
              "    </tr>\n",
              "    <tr>\n",
              "      <th>168040</th>\n",
              "      <td>A0A1B0GVQ3</td>\n",
              "      <td>-0.327068</td>\n",
              "      <td>1.528787</td>\n",
              "      <td>-0.172949</td>\n",
              "      <td>1</td>\n",
              "      <td>0.074114</td>\n",
              "      <td>-0.070546</td>\n",
              "      <td>-0.070546</td>\n",
              "    </tr>\n",
              "    <tr>\n",
              "      <th>...</th>\n",
              "      <td>...</td>\n",
              "      <td>...</td>\n",
              "      <td>...</td>\n",
              "      <td>...</td>\n",
              "      <td>...</td>\n",
              "      <td>...</td>\n",
              "      <td>...</td>\n",
              "      <td>...</td>\n",
              "    </tr>\n",
              "    <tr>\n",
              "      <th>121733</th>\n",
              "      <td>A0A0J9YXP0</td>\n",
              "      <td>0.651945</td>\n",
              "      <td>-1.171799</td>\n",
              "      <td>-0.172949</td>\n",
              "      <td>1</td>\n",
              "      <td>-0.065707</td>\n",
              "      <td>-0.070546</td>\n",
              "      <td>-0.070546</td>\n",
              "    </tr>\n",
              "    <tr>\n",
              "      <th>158130</th>\n",
              "      <td>S5DN29</td>\n",
              "      <td>-0.062129</td>\n",
              "      <td>0.628592</td>\n",
              "      <td>-0.172949</td>\n",
              "      <td>0</td>\n",
              "      <td>0.251302</td>\n",
              "      <td>-0.070546</td>\n",
              "      <td>-0.070546</td>\n",
              "    </tr>\n",
              "    <tr>\n",
              "      <th>131140</th>\n",
              "      <td>F4YU78</td>\n",
              "      <td>-0.294266</td>\n",
              "      <td>0.628592</td>\n",
              "      <td>-0.172949</td>\n",
              "      <td>0</td>\n",
              "      <td>-0.081377</td>\n",
              "      <td>-0.070546</td>\n",
              "      <td>-0.070546</td>\n",
              "    </tr>\n",
              "    <tr>\n",
              "      <th>57837</th>\n",
              "      <td>R4L8Y9</td>\n",
              "      <td>-0.294266</td>\n",
              "      <td>0.628592</td>\n",
              "      <td>-0.172949</td>\n",
              "      <td>0</td>\n",
              "      <td>-0.081377</td>\n",
              "      <td>-0.070546</td>\n",
              "      <td>-0.070546</td>\n",
              "    </tr>\n",
              "    <tr>\n",
              "      <th>76607</th>\n",
              "      <td>B7Z6T4</td>\n",
              "      <td>0.096835</td>\n",
              "      <td>-0.271604</td>\n",
              "      <td>-0.172949</td>\n",
              "      <td>0</td>\n",
              "      <td>0.074114</td>\n",
              "      <td>-0.070546</td>\n",
              "      <td>-0.070546</td>\n",
              "    </tr>\n",
              "  </tbody>\n",
              "</table>\n",
              "<p>40432 rows × 8 columns</p>\n",
              "</div>"
            ],
            "text/plain": [
              "       Protein Accession  ...  PE Score * #Confirmed Isoforms\n",
              "34273         A0A0C4DGU7  ...                       -0.070546\n",
              "172175            P03956  ...                       -0.070546\n",
              "104929            E5RI37  ...                       -0.070546\n",
              "105840            B4DKE2  ...                       -0.070546\n",
              "168040        A0A1B0GVQ3  ...                       -0.070546\n",
              "...                  ...  ...                             ...\n",
              "121733        A0A0J9YXP0  ...                       -0.070546\n",
              "158130            S5DN29  ...                       -0.070546\n",
              "131140            F4YU78  ...                       -0.070546\n",
              "57837             R4L8Y9  ...                       -0.070546\n",
              "76607             B7Z6T4  ...                       -0.070546\n",
              "\n",
              "[40432 rows x 8 columns]"
            ]
          },
          "metadata": {
            "tags": []
          },
          "execution_count": 30
        }
      ]
    },
    {
      "cell_type": "code",
      "metadata": {
        "colab": {
          "base_uri": "https://localhost:8080/",
          "height": 436
        },
        "id": "csHeM17mEsja",
        "outputId": "ac1e7ca9-c791-4ba8-fe9f-58c49416520e"
      },
      "source": [
        "sample_df = z_score_dataframe(sample_df)\n",
        "sample_df"
      ],
      "execution_count": null,
      "outputs": [
        {
          "output_type": "execute_result",
          "data": {
            "text/html": [
              "<div>\n",
              "<style scoped>\n",
              "    .dataframe tbody tr th:only-of-type {\n",
              "        vertical-align: middle;\n",
              "    }\n",
              "\n",
              "    .dataframe tbody tr th {\n",
              "        vertical-align: top;\n",
              "    }\n",
              "\n",
              "    .dataframe thead th {\n",
              "        text-align: right;\n",
              "    }\n",
              "</style>\n",
              "<table border=\"1\" class=\"dataframe\">\n",
              "  <thead>\n",
              "    <tr style=\"text-align: right;\">\n",
              "      <th></th>\n",
              "      <th>Protein Accession</th>\n",
              "      <th>Length</th>\n",
              "      <th>PE Score</th>\n",
              "      <th>#Confirmed Isoforms</th>\n",
              "      <th>In Reference Proteome</th>\n",
              "      <th>Length * PE Score</th>\n",
              "      <th>Length * #Confirmed Isoforms</th>\n",
              "      <th>PE Score * #Confirmed Isoforms</th>\n",
              "    </tr>\n",
              "  </thead>\n",
              "  <tbody>\n",
              "    <tr>\n",
              "      <th>34273</th>\n",
              "      <td>A0A0C4DGU7</td>\n",
              "      <td>0.054415</td>\n",
              "      <td>-1.178345</td>\n",
              "      <td>-0.168989</td>\n",
              "      <td>1</td>\n",
              "      <td>-0.407115</td>\n",
              "      <td>-0.12478</td>\n",
              "      <td>-0.12478</td>\n",
              "    </tr>\n",
              "    <tr>\n",
              "      <th>172175</th>\n",
              "      <td>P03956</td>\n",
              "      <td>0.485866</td>\n",
              "      <td>-1.178345</td>\n",
              "      <td>-0.168989</td>\n",
              "      <td>1</td>\n",
              "      <td>-0.195806</td>\n",
              "      <td>-0.12478</td>\n",
              "      <td>-0.12478</td>\n",
              "    </tr>\n",
              "    <tr>\n",
              "      <th>104929</th>\n",
              "      <td>E5RI37</td>\n",
              "      <td>-0.458814</td>\n",
              "      <td>1.524335</td>\n",
              "      <td>-0.168989</td>\n",
              "      <td>1</td>\n",
              "      <td>-0.103273</td>\n",
              "      <td>-0.12478</td>\n",
              "      <td>-0.12478</td>\n",
              "    </tr>\n",
              "    <tr>\n",
              "      <th>105840</th>\n",
              "      <td>B4DKE2</td>\n",
              "      <td>0.246171</td>\n",
              "      <td>-0.277452</td>\n",
              "      <td>-0.168989</td>\n",
              "      <td>0</td>\n",
              "      <td>0.217143</td>\n",
              "      <td>-0.12478</td>\n",
              "      <td>-0.12478</td>\n",
              "    </tr>\n",
              "    <tr>\n",
              "      <th>168040</th>\n",
              "      <td>A0A1B0GVQ3</td>\n",
              "      <td>-0.362936</td>\n",
              "      <td>1.524335</td>\n",
              "      <td>-0.168989</td>\n",
              "      <td>1</td>\n",
              "      <td>0.084557</td>\n",
              "      <td>-0.12478</td>\n",
              "      <td>-0.12478</td>\n",
              "    </tr>\n",
              "    <tr>\n",
              "      <th>...</th>\n",
              "      <td>...</td>\n",
              "      <td>...</td>\n",
              "      <td>...</td>\n",
              "      <td>...</td>\n",
              "      <td>...</td>\n",
              "      <td>...</td>\n",
              "      <td>...</td>\n",
              "      <td>...</td>\n",
              "    </tr>\n",
              "    <tr>\n",
              "      <th>121733</th>\n",
              "      <td>A0A0J9YXP0</td>\n",
              "      <td>0.731201</td>\n",
              "      <td>-1.178345</td>\n",
              "      <td>-0.168989</td>\n",
              "      <td>1</td>\n",
              "      <td>-0.075651</td>\n",
              "      <td>-0.12478</td>\n",
              "      <td>-0.12478</td>\n",
              "    </tr>\n",
              "    <tr>\n",
              "      <th>158130</th>\n",
              "      <td>S5DN29</td>\n",
              "      <td>-0.066842</td>\n",
              "      <td>0.623442</td>\n",
              "      <td>-0.168989</td>\n",
              "      <td>0</td>\n",
              "      <td>0.287579</td>\n",
              "      <td>-0.12478</td>\n",
              "      <td>-0.12478</td>\n",
              "    </tr>\n",
              "    <tr>\n",
              "      <th>131140</th>\n",
              "      <td>F4YU78</td>\n",
              "      <td>-0.326277</td>\n",
              "      <td>0.623442</td>\n",
              "      <td>-0.168989</td>\n",
              "      <td>0</td>\n",
              "      <td>-0.093605</td>\n",
              "      <td>-0.12478</td>\n",
              "      <td>-0.12478</td>\n",
              "    </tr>\n",
              "    <tr>\n",
              "      <th>57837</th>\n",
              "      <td>R4L8Y9</td>\n",
              "      <td>-0.326277</td>\n",
              "      <td>0.623442</td>\n",
              "      <td>-0.168989</td>\n",
              "      <td>0</td>\n",
              "      <td>-0.093605</td>\n",
              "      <td>-0.12478</td>\n",
              "      <td>-0.12478</td>\n",
              "    </tr>\n",
              "    <tr>\n",
              "      <th>76607</th>\n",
              "      <td>B7Z6T4</td>\n",
              "      <td>0.110814</td>\n",
              "      <td>-0.277452</td>\n",
              "      <td>-0.168989</td>\n",
              "      <td>0</td>\n",
              "      <td>0.084557</td>\n",
              "      <td>-0.12478</td>\n",
              "      <td>-0.12478</td>\n",
              "    </tr>\n",
              "  </tbody>\n",
              "</table>\n",
              "<p>40432 rows × 8 columns</p>\n",
              "</div>"
            ],
            "text/plain": [
              "       Protein Accession  ...  PE Score * #Confirmed Isoforms\n",
              "34273         A0A0C4DGU7  ...                        -0.12478\n",
              "172175            P03956  ...                        -0.12478\n",
              "104929            E5RI37  ...                        -0.12478\n",
              "105840            B4DKE2  ...                        -0.12478\n",
              "168040        A0A1B0GVQ3  ...                        -0.12478\n",
              "...                  ...  ...                             ...\n",
              "121733        A0A0J9YXP0  ...                        -0.12478\n",
              "158130            S5DN29  ...                        -0.12478\n",
              "131140            F4YU78  ...                        -0.12478\n",
              "57837             R4L8Y9  ...                        -0.12478\n",
              "76607             B7Z6T4  ...                        -0.12478\n",
              "\n",
              "[40432 rows x 8 columns]"
            ]
          },
          "metadata": {
            "tags": []
          },
          "execution_count": 31
        }
      ]
    },
    {
      "cell_type": "code",
      "metadata": {
        "id": "1hTY669BEupm"
      },
      "source": [
        "reference_proteins = []\n",
        "\n",
        "for k in range(len(sample_df['Length'])):\n",
        "    if sample_df['In Reference Proteome'].values[k] == 1:\n",
        "        reference_proteins.append(sample_df['Protein Accession'].values[k])\n",
        "    else:\n",
        "        pass\n",
        "\n",
        "reference_proteins = set(reference_proteins)\n",
        "reference_proteins"
      ],
      "execution_count": null,
      "outputs": []
    },
    {
      "cell_type": "code",
      "metadata": {
        "colab": {
          "base_uri": "https://localhost:8080/"
        },
        "id": "0uQOICMkExX0",
        "outputId": "93303c4e-d484-477a-b8ed-75472a24fdfa"
      },
      "source": [
        "threshold = 0.5 #change depending on plot of J vs. threshold (p)\n",
        "#w = w[0]\n",
        "proteins_predict = []\n",
        "\n",
        "for k in range(len(sample_df['Length'])):\n",
        "    L = [list(sample_df['Length'])[k],\n",
        "         list(sample_df['PE Score'])[k],\n",
        "         list(sample_df['#Confirmed Isoforms'])[k],\n",
        "         list(sample_df['Length * PE Score'])[k],\n",
        "         list(sample_df['Length * #Confirmed Isoforms'])[k],\n",
        "         list(sample_df['PE Score * #Confirmed Isoforms'])[k]]\n",
        "    \n",
        "    z = w[0]*L[0] + w[1]*L[1] + w[2]*L[2] + w[3]*L[3] + w[4]*L[4] + w[5]*L[5] + b\n",
        "    p = sigmoid_function(z)\n",
        "\n",
        "    if p >= threshold:\n",
        "        proteins_predict.append(list(sample_df['Protein Accession'])[k])\n",
        "\n",
        "J = jaccard_overlap(set(proteins_predict), set(reference_proteins))\n",
        "J"
      ],
      "execution_count": null,
      "outputs": [
        {
          "output_type": "execute_result",
          "data": {
            "text/plain": [
              "0.8053909386350602"
            ]
          },
          "metadata": {
            "tags": []
          },
          "execution_count": 34
        }
      ]
    },
    {
      "cell_type": "markdown",
      "metadata": {
        "id": "Dj-ePaE9VMO5"
      },
      "source": [
        "# **Testing on Mouse**"
      ]
    },
    {
      "cell_type": "code",
      "metadata": {
        "colab": {
          "base_uri": "https://localhost:8080/"
        },
        "id": "1vIMW3dlVInx",
        "outputId": "ef60d4ac-f0e3-4ee8-97be-aeb879fff9d3"
      },
      "source": [
        "%cd -"
      ],
      "execution_count": null,
      "outputs": [
        {
          "output_type": "stream",
          "text": [
            "/content/drive/.shortcut-targets-by-id/1H3M9nQYJ9K9M22jDv-wcvZ0azPz9lhsr/Pig Proteomics Summer Project\n"
          ],
          "name": "stdout"
        }
      ]
    },
    {
      "cell_type": "code",
      "metadata": {
        "colab": {
          "base_uri": "https://localhost:8080/"
        },
        "id": "pd5-gMWeVYvD",
        "outputId": "5ed197da-bccc-46b5-c516-735364a52018"
      },
      "source": [
        "%cd data"
      ],
      "execution_count": null,
      "outputs": [
        {
          "output_type": "stream",
          "text": [
            "/content/drive/.shortcut-targets-by-id/1H3M9nQYJ9K9M22jDv-wcvZ0azPz9lhsr/Pig Proteomics Summer Project/data\n"
          ],
          "name": "stdout"
        }
      ]
    },
    {
      "cell_type": "code",
      "metadata": {
        "id": "PuZDYkjAVaAg"
      },
      "source": [
        "mouse_all_file = 'mus_musculus_all.fasta'\n",
        "mouse_proteome_file = 'mus_musculus_uniprot-proteome_UP000000589.fasta'\n",
        "mouse_isoform_file = 'all_mouse_and_isoforms.fasta'"
      ],
      "execution_count": null,
      "outputs": []
    },
    {
      "cell_type": "code",
      "metadata": {
        "colab": {
          "base_uri": "https://localhost:8080/",
          "height": 419
        },
        "id": "lkTQwGhQVad_",
        "outputId": "36c4f9be-b6c6-4fe9-8116-fe1564ab5546"
      },
      "source": [
        "protein_to_features_mouse = protein_to_features(mouse_all_file, mouse_proteome_file, mouse_isoform_file)\n",
        "protein_to_features_mouse_df = protein_features_dataframe(protein_to_features_mouse)\n",
        "protein_to_features_mouse_df"
      ],
      "execution_count": null,
      "outputs": [
        {
          "output_type": "execute_result",
          "data": {
            "text/html": [
              "<div>\n",
              "<style scoped>\n",
              "    .dataframe tbody tr th:only-of-type {\n",
              "        vertical-align: middle;\n",
              "    }\n",
              "\n",
              "    .dataframe tbody tr th {\n",
              "        vertical-align: top;\n",
              "    }\n",
              "\n",
              "    .dataframe thead th {\n",
              "        text-align: right;\n",
              "    }\n",
              "</style>\n",
              "<table border=\"1\" class=\"dataframe\">\n",
              "  <thead>\n",
              "    <tr style=\"text-align: right;\">\n",
              "      <th></th>\n",
              "      <th>Protein Accession</th>\n",
              "      <th>Length</th>\n",
              "      <th>PE Score</th>\n",
              "      <th>#Confirmed Isoforms</th>\n",
              "      <th>In Reference Proteome</th>\n",
              "    </tr>\n",
              "  </thead>\n",
              "  <tbody>\n",
              "    <tr>\n",
              "      <th>0</th>\n",
              "      <td>P02762</td>\n",
              "      <td>180</td>\n",
              "      <td>1</td>\n",
              "      <td>0</td>\n",
              "      <td>1</td>\n",
              "    </tr>\n",
              "    <tr>\n",
              "      <th>1</th>\n",
              "      <td>Q91ZJ0</td>\n",
              "      <td>551</td>\n",
              "      <td>1</td>\n",
              "      <td>0</td>\n",
              "      <td>1</td>\n",
              "    </tr>\n",
              "    <tr>\n",
              "      <th>2</th>\n",
              "      <td>Q6ZQL8</td>\n",
              "      <td>611</td>\n",
              "      <td>2</td>\n",
              "      <td>0</td>\n",
              "      <td>0</td>\n",
              "    </tr>\n",
              "    <tr>\n",
              "      <th>3</th>\n",
              "      <td>Q8R4K8</td>\n",
              "      <td>1624</td>\n",
              "      <td>2</td>\n",
              "      <td>1</td>\n",
              "      <td>1</td>\n",
              "    </tr>\n",
              "    <tr>\n",
              "      <th>4</th>\n",
              "      <td>P02089</td>\n",
              "      <td>147</td>\n",
              "      <td>1</td>\n",
              "      <td>0</td>\n",
              "      <td>1</td>\n",
              "    </tr>\n",
              "    <tr>\n",
              "      <th>...</th>\n",
              "      <td>...</td>\n",
              "      <td>...</td>\n",
              "      <td>...</td>\n",
              "      <td>...</td>\n",
              "      <td>...</td>\n",
              "    </tr>\n",
              "    <tr>\n",
              "      <th>86516</th>\n",
              "      <td>Q9Z0F1</td>\n",
              "      <td>257</td>\n",
              "      <td>2</td>\n",
              "      <td>1</td>\n",
              "      <td>1</td>\n",
              "    </tr>\n",
              "    <tr>\n",
              "      <th>86517</th>\n",
              "      <td>Q9DCZ1</td>\n",
              "      <td>345</td>\n",
              "      <td>1</td>\n",
              "      <td>0</td>\n",
              "      <td>1</td>\n",
              "    </tr>\n",
              "    <tr>\n",
              "      <th>86518</th>\n",
              "      <td>Q9EQQ3</td>\n",
              "      <td>425</td>\n",
              "      <td>2</td>\n",
              "      <td>0</td>\n",
              "      <td>1</td>\n",
              "    </tr>\n",
              "    <tr>\n",
              "      <th>86519</th>\n",
              "      <td>Q99L27</td>\n",
              "      <td>348</td>\n",
              "      <td>1</td>\n",
              "      <td>0</td>\n",
              "      <td>1</td>\n",
              "    </tr>\n",
              "    <tr>\n",
              "      <th>86520</th>\n",
              "      <td>Q9JJZ5</td>\n",
              "      <td>550</td>\n",
              "      <td>1</td>\n",
              "      <td>0</td>\n",
              "      <td>1</td>\n",
              "    </tr>\n",
              "  </tbody>\n",
              "</table>\n",
              "<p>86521 rows × 5 columns</p>\n",
              "</div>"
            ],
            "text/plain": [
              "      Protein Accession  Length  ...  #Confirmed Isoforms  In Reference Proteome\n",
              "0                P02762     180  ...                    0                      1\n",
              "1                Q91ZJ0     551  ...                    0                      1\n",
              "2                Q6ZQL8     611  ...                    0                      0\n",
              "3                Q8R4K8    1624  ...                    1                      1\n",
              "4                P02089     147  ...                    0                      1\n",
              "...                 ...     ...  ...                  ...                    ...\n",
              "86516            Q9Z0F1     257  ...                    1                      1\n",
              "86517            Q9DCZ1     345  ...                    0                      1\n",
              "86518            Q9EQQ3     425  ...                    0                      1\n",
              "86519            Q99L27     348  ...                    0                      1\n",
              "86520            Q9JJZ5     550  ...                    0                      1\n",
              "\n",
              "[86521 rows x 5 columns]"
            ]
          },
          "metadata": {
            "tags": []
          },
          "execution_count": 44
        }
      ]
    },
    {
      "cell_type": "code",
      "metadata": {
        "colab": {
          "base_uri": "https://localhost:8080/",
          "height": 436
        },
        "id": "2EzhJS03Vcbo",
        "outputId": "68324961-1a4e-4cdc-b66c-c0dccf5e86f5"
      },
      "source": [
        "protein_features_mouse = feature_crosses(protein_to_features_mouse_df)\n",
        "protein_features_mouse"
      ],
      "execution_count": null,
      "outputs": [
        {
          "output_type": "execute_result",
          "data": {
            "text/html": [
              "<div>\n",
              "<style scoped>\n",
              "    .dataframe tbody tr th:only-of-type {\n",
              "        vertical-align: middle;\n",
              "    }\n",
              "\n",
              "    .dataframe tbody tr th {\n",
              "        vertical-align: top;\n",
              "    }\n",
              "\n",
              "    .dataframe thead th {\n",
              "        text-align: right;\n",
              "    }\n",
              "</style>\n",
              "<table border=\"1\" class=\"dataframe\">\n",
              "  <thead>\n",
              "    <tr style=\"text-align: right;\">\n",
              "      <th></th>\n",
              "      <th>Protein Accession</th>\n",
              "      <th>Length</th>\n",
              "      <th>PE Score</th>\n",
              "      <th>#Confirmed Isoforms</th>\n",
              "      <th>In Reference Proteome</th>\n",
              "      <th>Length * PE Score</th>\n",
              "      <th>Length * #Confirmed Isoforms</th>\n",
              "      <th>PE Score * #Confirmed Isoforms</th>\n",
              "    </tr>\n",
              "  </thead>\n",
              "  <tbody>\n",
              "    <tr>\n",
              "      <th>0</th>\n",
              "      <td>P02762</td>\n",
              "      <td>180</td>\n",
              "      <td>1</td>\n",
              "      <td>0</td>\n",
              "      <td>1</td>\n",
              "      <td>180</td>\n",
              "      <td>0</td>\n",
              "      <td>0</td>\n",
              "    </tr>\n",
              "    <tr>\n",
              "      <th>1</th>\n",
              "      <td>Q91ZJ0</td>\n",
              "      <td>551</td>\n",
              "      <td>1</td>\n",
              "      <td>0</td>\n",
              "      <td>1</td>\n",
              "      <td>551</td>\n",
              "      <td>0</td>\n",
              "      <td>0</td>\n",
              "    </tr>\n",
              "    <tr>\n",
              "      <th>2</th>\n",
              "      <td>Q6ZQL8</td>\n",
              "      <td>611</td>\n",
              "      <td>2</td>\n",
              "      <td>0</td>\n",
              "      <td>0</td>\n",
              "      <td>1222</td>\n",
              "      <td>0</td>\n",
              "      <td>0</td>\n",
              "    </tr>\n",
              "    <tr>\n",
              "      <th>3</th>\n",
              "      <td>Q8R4K8</td>\n",
              "      <td>1624</td>\n",
              "      <td>2</td>\n",
              "      <td>1</td>\n",
              "      <td>1</td>\n",
              "      <td>3248</td>\n",
              "      <td>1624</td>\n",
              "      <td>1624</td>\n",
              "    </tr>\n",
              "    <tr>\n",
              "      <th>4</th>\n",
              "      <td>P02089</td>\n",
              "      <td>147</td>\n",
              "      <td>1</td>\n",
              "      <td>0</td>\n",
              "      <td>1</td>\n",
              "      <td>147</td>\n",
              "      <td>0</td>\n",
              "      <td>0</td>\n",
              "    </tr>\n",
              "    <tr>\n",
              "      <th>...</th>\n",
              "      <td>...</td>\n",
              "      <td>...</td>\n",
              "      <td>...</td>\n",
              "      <td>...</td>\n",
              "      <td>...</td>\n",
              "      <td>...</td>\n",
              "      <td>...</td>\n",
              "      <td>...</td>\n",
              "    </tr>\n",
              "    <tr>\n",
              "      <th>86516</th>\n",
              "      <td>Q9Z0F1</td>\n",
              "      <td>257</td>\n",
              "      <td>2</td>\n",
              "      <td>1</td>\n",
              "      <td>1</td>\n",
              "      <td>514</td>\n",
              "      <td>257</td>\n",
              "      <td>257</td>\n",
              "    </tr>\n",
              "    <tr>\n",
              "      <th>86517</th>\n",
              "      <td>Q9DCZ1</td>\n",
              "      <td>345</td>\n",
              "      <td>1</td>\n",
              "      <td>0</td>\n",
              "      <td>1</td>\n",
              "      <td>345</td>\n",
              "      <td>0</td>\n",
              "      <td>0</td>\n",
              "    </tr>\n",
              "    <tr>\n",
              "      <th>86518</th>\n",
              "      <td>Q9EQQ3</td>\n",
              "      <td>425</td>\n",
              "      <td>2</td>\n",
              "      <td>0</td>\n",
              "      <td>1</td>\n",
              "      <td>850</td>\n",
              "      <td>0</td>\n",
              "      <td>0</td>\n",
              "    </tr>\n",
              "    <tr>\n",
              "      <th>86519</th>\n",
              "      <td>Q99L27</td>\n",
              "      <td>348</td>\n",
              "      <td>1</td>\n",
              "      <td>0</td>\n",
              "      <td>1</td>\n",
              "      <td>348</td>\n",
              "      <td>0</td>\n",
              "      <td>0</td>\n",
              "    </tr>\n",
              "    <tr>\n",
              "      <th>86520</th>\n",
              "      <td>Q9JJZ5</td>\n",
              "      <td>550</td>\n",
              "      <td>1</td>\n",
              "      <td>0</td>\n",
              "      <td>1</td>\n",
              "      <td>550</td>\n",
              "      <td>0</td>\n",
              "      <td>0</td>\n",
              "    </tr>\n",
              "  </tbody>\n",
              "</table>\n",
              "<p>86521 rows × 8 columns</p>\n",
              "</div>"
            ],
            "text/plain": [
              "      Protein Accession  ...  PE Score * #Confirmed Isoforms\n",
              "0                P02762  ...                               0\n",
              "1                Q91ZJ0  ...                               0\n",
              "2                Q6ZQL8  ...                               0\n",
              "3                Q8R4K8  ...                            1624\n",
              "4                P02089  ...                               0\n",
              "...                 ...  ...                             ...\n",
              "86516            Q9Z0F1  ...                             257\n",
              "86517            Q9DCZ1  ...                               0\n",
              "86518            Q9EQQ3  ...                               0\n",
              "86519            Q99L27  ...                               0\n",
              "86520            Q9JJZ5  ...                               0\n",
              "\n",
              "[86521 rows x 8 columns]"
            ]
          },
          "metadata": {
            "tags": []
          },
          "execution_count": 45
        }
      ]
    },
    {
      "cell_type": "code",
      "metadata": {
        "colab": {
          "base_uri": "https://localhost:8080/",
          "height": 436
        },
        "id": "kacpeQb70FwG",
        "outputId": "f04d2f84-134c-4275-9e9c-38439b3c4a74"
      },
      "source": [
        "sample_df = z_score_dataframe(protein_features_mouse)\n",
        "sample_df"
      ],
      "execution_count": null,
      "outputs": [
        {
          "output_type": "execute_result",
          "data": {
            "text/html": [
              "<div>\n",
              "<style scoped>\n",
              "    .dataframe tbody tr th:only-of-type {\n",
              "        vertical-align: middle;\n",
              "    }\n",
              "\n",
              "    .dataframe tbody tr th {\n",
              "        vertical-align: top;\n",
              "    }\n",
              "\n",
              "    .dataframe thead th {\n",
              "        text-align: right;\n",
              "    }\n",
              "</style>\n",
              "<table border=\"1\" class=\"dataframe\">\n",
              "  <thead>\n",
              "    <tr style=\"text-align: right;\">\n",
              "      <th></th>\n",
              "      <th>Protein Accession</th>\n",
              "      <th>Length</th>\n",
              "      <th>PE Score</th>\n",
              "      <th>#Confirmed Isoforms</th>\n",
              "      <th>In Reference Proteome</th>\n",
              "      <th>Length * PE Score</th>\n",
              "      <th>Length * #Confirmed Isoforms</th>\n",
              "      <th>PE Score * #Confirmed Isoforms</th>\n",
              "    </tr>\n",
              "  </thead>\n",
              "  <tbody>\n",
              "    <tr>\n",
              "      <th>0</th>\n",
              "      <td>P02762</td>\n",
              "      <td>-0.429084</td>\n",
              "      <td>-0.863836</td>\n",
              "      <td>-0.186878</td>\n",
              "      <td>1</td>\n",
              "      <td>-0.596784</td>\n",
              "      <td>-0.114172</td>\n",
              "      <td>-0.114172</td>\n",
              "    </tr>\n",
              "    <tr>\n",
              "      <th>1</th>\n",
              "      <td>Q91ZJ0</td>\n",
              "      <td>0.292768</td>\n",
              "      <td>-0.863836</td>\n",
              "      <td>-0.186878</td>\n",
              "      <td>1</td>\n",
              "      <td>-0.128644</td>\n",
              "      <td>-0.114172</td>\n",
              "      <td>-0.114172</td>\n",
              "    </tr>\n",
              "    <tr>\n",
              "      <th>2</th>\n",
              "      <td>Q6ZQL8</td>\n",
              "      <td>0.409510</td>\n",
              "      <td>0.117699</td>\n",
              "      <td>-0.186878</td>\n",
              "      <td>0</td>\n",
              "      <td>0.718045</td>\n",
              "      <td>-0.114172</td>\n",
              "      <td>-0.114172</td>\n",
              "    </tr>\n",
              "    <tr>\n",
              "      <th>3</th>\n",
              "      <td>Q8R4K8</td>\n",
              "      <td>2.380496</td>\n",
              "      <td>0.117699</td>\n",
              "      <td>1.763054</td>\n",
              "      <td>1</td>\n",
              "      <td>3.274517</td>\n",
              "      <td>2.180379</td>\n",
              "      <td>2.180379</td>\n",
              "    </tr>\n",
              "    <tr>\n",
              "      <th>4</th>\n",
              "      <td>P02089</td>\n",
              "      <td>-0.493292</td>\n",
              "      <td>-0.863836</td>\n",
              "      <td>-0.186878</td>\n",
              "      <td>1</td>\n",
              "      <td>-0.638424</td>\n",
              "      <td>-0.114172</td>\n",
              "      <td>-0.114172</td>\n",
              "    </tr>\n",
              "    <tr>\n",
              "      <th>...</th>\n",
              "      <td>...</td>\n",
              "      <td>...</td>\n",
              "      <td>...</td>\n",
              "      <td>...</td>\n",
              "      <td>...</td>\n",
              "      <td>...</td>\n",
              "      <td>...</td>\n",
              "      <td>...</td>\n",
              "    </tr>\n",
              "    <tr>\n",
              "      <th>86516</th>\n",
              "      <td>Q9Z0F1</td>\n",
              "      <td>-0.279265</td>\n",
              "      <td>0.117699</td>\n",
              "      <td>1.763054</td>\n",
              "      <td>1</td>\n",
              "      <td>-0.175332</td>\n",
              "      <td>0.248943</td>\n",
              "      <td>0.248943</td>\n",
              "    </tr>\n",
              "    <tr>\n",
              "      <th>86517</th>\n",
              "      <td>Q9DCZ1</td>\n",
              "      <td>-0.108045</td>\n",
              "      <td>-0.863836</td>\n",
              "      <td>-0.186878</td>\n",
              "      <td>1</td>\n",
              "      <td>-0.388582</td>\n",
              "      <td>-0.114172</td>\n",
              "      <td>-0.114172</td>\n",
              "    </tr>\n",
              "    <tr>\n",
              "      <th>86518</th>\n",
              "      <td>Q9EQQ3</td>\n",
              "      <td>0.047611</td>\n",
              "      <td>0.117699</td>\n",
              "      <td>-0.186878</td>\n",
              "      <td>1</td>\n",
              "      <td>0.248643</td>\n",
              "      <td>-0.114172</td>\n",
              "      <td>-0.114172</td>\n",
              "    </tr>\n",
              "    <tr>\n",
              "      <th>86519</th>\n",
              "      <td>Q99L27</td>\n",
              "      <td>-0.102207</td>\n",
              "      <td>-0.863836</td>\n",
              "      <td>-0.186878</td>\n",
              "      <td>1</td>\n",
              "      <td>-0.384796</td>\n",
              "      <td>-0.114172</td>\n",
              "      <td>-0.114172</td>\n",
              "    </tr>\n",
              "    <tr>\n",
              "      <th>86520</th>\n",
              "      <td>Q9JJZ5</td>\n",
              "      <td>0.290822</td>\n",
              "      <td>-0.863836</td>\n",
              "      <td>-0.186878</td>\n",
              "      <td>1</td>\n",
              "      <td>-0.129906</td>\n",
              "      <td>-0.114172</td>\n",
              "      <td>-0.114172</td>\n",
              "    </tr>\n",
              "  </tbody>\n",
              "</table>\n",
              "<p>86521 rows × 8 columns</p>\n",
              "</div>"
            ],
            "text/plain": [
              "      Protein Accession  ...  PE Score * #Confirmed Isoforms\n",
              "0                P02762  ...                       -0.114172\n",
              "1                Q91ZJ0  ...                       -0.114172\n",
              "2                Q6ZQL8  ...                       -0.114172\n",
              "3                Q8R4K8  ...                        2.180379\n",
              "4                P02089  ...                       -0.114172\n",
              "...                 ...  ...                             ...\n",
              "86516            Q9Z0F1  ...                        0.248943\n",
              "86517            Q9DCZ1  ...                       -0.114172\n",
              "86518            Q9EQQ3  ...                       -0.114172\n",
              "86519            Q99L27  ...                       -0.114172\n",
              "86520            Q9JJZ5  ...                       -0.114172\n",
              "\n",
              "[86521 rows x 8 columns]"
            ]
          },
          "metadata": {
            "tags": []
          },
          "execution_count": 46
        }
      ]
    },
    {
      "cell_type": "code",
      "metadata": {
        "colab": {
          "base_uri": "https://localhost:8080/"
        },
        "id": "gO2KpfIJ0QuD",
        "outputId": "8cedaab6-2c40-49af-df54-257b3c1be69b"
      },
      "source": [
        "%cd -"
      ],
      "execution_count": null,
      "outputs": [
        {
          "output_type": "stream",
          "text": [
            "/content/drive/.shortcut-targets-by-id/1H3M9nQYJ9K9M22jDv-wcvZ0azPz9lhsr/Pig Proteomics Summer Project\n"
          ],
          "name": "stdout"
        }
      ]
    },
    {
      "cell_type": "code",
      "metadata": {
        "colab": {
          "base_uri": "https://localhost:8080/"
        },
        "id": "iptzATAn0TdU",
        "outputId": "ef1d01a3-e6e0-4905-b17e-07e3c391d272"
      },
      "source": [
        "%cd output"
      ],
      "execution_count": null,
      "outputs": [
        {
          "output_type": "stream",
          "text": [
            "/content/drive/.shortcut-targets-by-id/1H3M9nQYJ9K9M22jDv-wcvZ0azPz9lhsr/Pig Proteomics Summer Project/output\n"
          ],
          "name": "stdout"
        }
      ]
    },
    {
      "cell_type": "code",
      "metadata": {
        "colab": {
          "base_uri": "https://localhost:8080/",
          "height": 419
        },
        "id": "m2yADZY5XA11",
        "outputId": "a953c189-490c-4713-e939-12297eadc83c"
      },
      "source": [
        "mouse_proteome_df = pd.read_csv(\"mouse_proteome_table_PE.csv\")\n",
        "mouse_proteome_df"
      ],
      "execution_count": null,
      "outputs": [
        {
          "output_type": "execute_result",
          "data": {
            "text/html": [
              "<div>\n",
              "<style scoped>\n",
              "    .dataframe tbody tr th:only-of-type {\n",
              "        vertical-align: middle;\n",
              "    }\n",
              "\n",
              "    .dataframe tbody tr th {\n",
              "        vertical-align: top;\n",
              "    }\n",
              "\n",
              "    .dataframe thead th {\n",
              "        text-align: right;\n",
              "    }\n",
              "</style>\n",
              "<table border=\"1\" class=\"dataframe\">\n",
              "  <thead>\n",
              "    <tr style=\"text-align: right;\">\n",
              "      <th></th>\n",
              "      <th>Unnamed: 0</th>\n",
              "      <th>sptr</th>\n",
              "      <th>accession</th>\n",
              "      <th>organism</th>\n",
              "      <th>Gene Name</th>\n",
              "      <th>length</th>\n",
              "      <th>PE Score</th>\n",
              "    </tr>\n",
              "  </thead>\n",
              "  <tbody>\n",
              "    <tr>\n",
              "      <th>0</th>\n",
              "      <td>0</td>\n",
              "      <td>sp</td>\n",
              "      <td>Q9D2V8</td>\n",
              "      <td>Mus musculus</td>\n",
              "      <td>Mfsd10</td>\n",
              "      <td>456</td>\n",
              "      <td>1</td>\n",
              "    </tr>\n",
              "    <tr>\n",
              "      <th>1</th>\n",
              "      <td>1</td>\n",
              "      <td>sp</td>\n",
              "      <td>Q8VHK5</td>\n",
              "      <td>Mus musculus</td>\n",
              "      <td>Mlc1</td>\n",
              "      <td>382</td>\n",
              "      <td>1</td>\n",
              "    </tr>\n",
              "    <tr>\n",
              "      <th>2</th>\n",
              "      <td>2</td>\n",
              "      <td>sp</td>\n",
              "      <td>Q5SW45</td>\n",
              "      <td>Mus musculus</td>\n",
              "      <td>Mks1</td>\n",
              "      <td>561</td>\n",
              "      <td>1</td>\n",
              "    </tr>\n",
              "    <tr>\n",
              "      <th>3</th>\n",
              "      <td>3</td>\n",
              "      <td>sp</td>\n",
              "      <td>Q3UQI9</td>\n",
              "      <td>Mus musculus</td>\n",
              "      <td>Mindy4</td>\n",
              "      <td>744</td>\n",
              "      <td>1</td>\n",
              "    </tr>\n",
              "    <tr>\n",
              "      <th>4</th>\n",
              "      <td>4</td>\n",
              "      <td>sp</td>\n",
              "      <td>Q9D273</td>\n",
              "      <td>Mus musculus</td>\n",
              "      <td>Mmab</td>\n",
              "      <td>237</td>\n",
              "      <td>1</td>\n",
              "    </tr>\n",
              "    <tr>\n",
              "      <th>...</th>\n",
              "      <td>...</td>\n",
              "      <td>...</td>\n",
              "      <td>...</td>\n",
              "      <td>...</td>\n",
              "      <td>...</td>\n",
              "      <td>...</td>\n",
              "      <td>...</td>\n",
              "    </tr>\n",
              "    <tr>\n",
              "      <th>55361</th>\n",
              "      <td>55361</td>\n",
              "      <td>tr</td>\n",
              "      <td>D3Z0K8</td>\n",
              "      <td>Mus musculus</td>\n",
              "      <td>Txnrd2</td>\n",
              "      <td>466</td>\n",
              "      <td>1</td>\n",
              "    </tr>\n",
              "    <tr>\n",
              "      <th>55362</th>\n",
              "      <td>55362</td>\n",
              "      <td>tr</td>\n",
              "      <td>A0A1L1STA1</td>\n",
              "      <td>Mus musculus</td>\n",
              "      <td>Csk</td>\n",
              "      <td>139</td>\n",
              "      <td>1</td>\n",
              "    </tr>\n",
              "    <tr>\n",
              "      <th>55363</th>\n",
              "      <td>55363</td>\n",
              "      <td>tr</td>\n",
              "      <td>A0A0G2JF94</td>\n",
              "      <td>Mus musculus</td>\n",
              "      <td>Trav14-1</td>\n",
              "      <td>121</td>\n",
              "      <td>1</td>\n",
              "    </tr>\n",
              "    <tr>\n",
              "      <th>55364</th>\n",
              "      <td>55364</td>\n",
              "      <td>tr</td>\n",
              "      <td>G5E8Y0</td>\n",
              "      <td>Mus musculus</td>\n",
              "      <td>Slc8a1</td>\n",
              "      <td>970</td>\n",
              "      <td>1</td>\n",
              "    </tr>\n",
              "    <tr>\n",
              "      <th>55365</th>\n",
              "      <td>55365</td>\n",
              "      <td>tr</td>\n",
              "      <td>E9Q851</td>\n",
              "      <td>Mus musculus</td>\n",
              "      <td>Racgap1</td>\n",
              "      <td>131</td>\n",
              "      <td>1</td>\n",
              "    </tr>\n",
              "  </tbody>\n",
              "</table>\n",
              "<p>55366 rows × 7 columns</p>\n",
              "</div>"
            ],
            "text/plain": [
              "       Unnamed: 0 sptr   accession       organism  Gene Name  length  PE Score\n",
              "0               0   sp      Q9D2V8  Mus musculus     Mfsd10      456         1\n",
              "1               1   sp      Q8VHK5  Mus musculus       Mlc1      382         1\n",
              "2               2   sp      Q5SW45  Mus musculus       Mks1      561         1\n",
              "3               3   sp      Q3UQI9  Mus musculus     Mindy4      744         1\n",
              "4               4   sp      Q9D273  Mus musculus       Mmab      237         1\n",
              "...           ...  ...         ...            ...        ...     ...       ...\n",
              "55361       55361   tr      D3Z0K8  Mus musculus     Txnrd2      466         1\n",
              "55362       55362   tr  A0A1L1STA1  Mus musculus        Csk      139         1\n",
              "55363       55363   tr  A0A0G2JF94  Mus musculus   Trav14-1      121         1\n",
              "55364       55364   tr      G5E8Y0  Mus musculus     Slc8a1      970         1\n",
              "55365       55365   tr      E9Q851  Mus musculus    Racgap1      131         1\n",
              "\n",
              "[55366 rows x 7 columns]"
            ]
          },
          "metadata": {
            "tags": []
          },
          "execution_count": 50
        }
      ]
    },
    {
      "cell_type": "code",
      "metadata": {
        "id": "gRuLebB-0YcN"
      },
      "source": [
        "mouse_proteome_set = list(mouse_proteome_df['accession'])"
      ],
      "execution_count": null,
      "outputs": []
    },
    {
      "cell_type": "code",
      "metadata": {
        "colab": {
          "base_uri": "https://localhost:8080/"
        },
        "id": "zWoSF7ij0cAx",
        "outputId": "057a04d6-6ff9-457c-e4ec-176fc521e199"
      },
      "source": [
        "threshold = 0.5 #change depending on plot of J vs. threshold (p)\n",
        "#w = w[0]\n",
        "mouse_predict = []\n",
        "\n",
        "for k in range(len(sample_df['Length'])):\n",
        "    L = [list(sample_df['Length'])[k],\n",
        "         list(sample_df['PE Score'])[k],\n",
        "         list(sample_df['#Confirmed Isoforms'])[k],\n",
        "         list(sample_df['Length * PE Score'])[k],\n",
        "         list(sample_df['Length * #Confirmed Isoforms'])[k],\n",
        "         list(sample_df['PE Score * #Confirmed Isoforms'])[k]]\n",
        "    \n",
        "    z = w[0]*L[0] + w[1]*L[1] + w[2]*L[2] + w[3]*L[3] + w[4]*L[4] + w[5]*L[5] + b\n",
        "    p = sigmoid_function(z)\n",
        "\n",
        "    if p >= threshold:\n",
        "        mouse_predict.append(list(sample_df['Protein Accession'])[k])\n",
        "\n",
        "J = jaccard_overlap(set(mouse_predict), set(mouse_proteome_set))\n",
        "J"
      ],
      "execution_count": null,
      "outputs": [
        {
          "output_type": "execute_result",
          "data": {
            "text/plain": [
              "0.6720766075797849"
            ]
          },
          "metadata": {
            "tags": []
          },
          "execution_count": 52
        }
      ]
    },
    {
      "cell_type": "code",
      "metadata": {
        "colab": {
          "base_uri": "https://localhost:8080/"
        },
        "id": "9uz5iq55KtlI",
        "outputId": "93956655-b2b2-4a41-cfae-af5e6fe07963"
      },
      "source": [
        "print(\"Jaccard overlap for full mus musculus db: \", J)"
      ],
      "execution_count": null,
      "outputs": [
        {
          "output_type": "stream",
          "text": [
            "Jaccard overlap for full mus musculus db:  0.6720766075797849\n"
          ],
          "name": "stdout"
        }
      ]
    },
    {
      "cell_type": "code",
      "metadata": {
        "colab": {
          "base_uri": "https://localhost:8080/",
          "height": 436
        },
        "id": "DT9yRfvkK_UV",
        "outputId": "21ecdab5-e069-45d2-8e0c-0234b8ccdc8b"
      },
      "source": [
        "sample_size = int(0.2*len(sample_df['Length']))\n",
        "sample_df = sample_df.sample(sample_size)\n",
        "sample_df"
      ],
      "execution_count": null,
      "outputs": [
        {
          "output_type": "execute_result",
          "data": {
            "text/html": [
              "<div>\n",
              "<style scoped>\n",
              "    .dataframe tbody tr th:only-of-type {\n",
              "        vertical-align: middle;\n",
              "    }\n",
              "\n",
              "    .dataframe tbody tr th {\n",
              "        vertical-align: top;\n",
              "    }\n",
              "\n",
              "    .dataframe thead th {\n",
              "        text-align: right;\n",
              "    }\n",
              "</style>\n",
              "<table border=\"1\" class=\"dataframe\">\n",
              "  <thead>\n",
              "    <tr style=\"text-align: right;\">\n",
              "      <th></th>\n",
              "      <th>Protein Accession</th>\n",
              "      <th>Length</th>\n",
              "      <th>PE Score</th>\n",
              "      <th>#Confirmed Isoforms</th>\n",
              "      <th>In Reference Proteome</th>\n",
              "      <th>Length * PE Score</th>\n",
              "      <th>Length * #Confirmed Isoforms</th>\n",
              "      <th>PE Score * #Confirmed Isoforms</th>\n",
              "    </tr>\n",
              "  </thead>\n",
              "  <tbody>\n",
              "    <tr>\n",
              "      <th>65634</th>\n",
              "      <td>D3Z1T4</td>\n",
              "      <td>-0.413518</td>\n",
              "      <td>-0.863836</td>\n",
              "      <td>-0.186878</td>\n",
              "      <td>1</td>\n",
              "      <td>-0.586689</td>\n",
              "      <td>-0.114172</td>\n",
              "      <td>-0.114172</td>\n",
              "    </tr>\n",
              "    <tr>\n",
              "      <th>31910</th>\n",
              "      <td>A0A3B2WAY7</td>\n",
              "      <td>-0.652838</td>\n",
              "      <td>2.080769</td>\n",
              "      <td>-0.186878</td>\n",
              "      <td>1</td>\n",
              "      <td>-0.495837</td>\n",
              "      <td>-0.114172</td>\n",
              "      <td>-0.114172</td>\n",
              "    </tr>\n",
              "    <tr>\n",
              "      <th>54533</th>\n",
              "      <td>E9Q4X7</td>\n",
              "      <td>-0.158633</td>\n",
              "      <td>2.080769</td>\n",
              "      <td>-0.186878</td>\n",
              "      <td>1</td>\n",
              "      <td>0.786184</td>\n",
              "      <td>-0.114172</td>\n",
              "      <td>-0.114172</td>\n",
              "    </tr>\n",
              "    <tr>\n",
              "      <th>66439</th>\n",
              "      <td>A2AKU3</td>\n",
              "      <td>-0.263700</td>\n",
              "      <td>-0.863836</td>\n",
              "      <td>-0.186878</td>\n",
              "      <td>1</td>\n",
              "      <td>-0.489528</td>\n",
              "      <td>-0.114172</td>\n",
              "      <td>-0.114172</td>\n",
              "    </tr>\n",
              "    <tr>\n",
              "      <th>72451</th>\n",
              "      <td>F2Z445</td>\n",
              "      <td>-0.682024</td>\n",
              "      <td>-0.863836</td>\n",
              "      <td>-0.186878</td>\n",
              "      <td>1</td>\n",
              "      <td>-0.760822</td>\n",
              "      <td>-0.114172</td>\n",
              "      <td>-0.114172</td>\n",
              "    </tr>\n",
              "    <tr>\n",
              "      <th>...</th>\n",
              "      <td>...</td>\n",
              "      <td>...</td>\n",
              "      <td>...</td>\n",
              "      <td>...</td>\n",
              "      <td>...</td>\n",
              "      <td>...</td>\n",
              "      <td>...</td>\n",
              "      <td>...</td>\n",
              "    </tr>\n",
              "    <tr>\n",
              "      <th>6643</th>\n",
              "      <td>B9EKC1</td>\n",
              "      <td>1.911584</td>\n",
              "      <td>0.117699</td>\n",
              "      <td>-0.186878</td>\n",
              "      <td>0</td>\n",
              "      <td>2.666314</td>\n",
              "      <td>-0.114172</td>\n",
              "      <td>-0.114172</td>\n",
              "    </tr>\n",
              "    <tr>\n",
              "      <th>28460</th>\n",
              "      <td>V9GX09</td>\n",
              "      <td>-0.530260</td>\n",
              "      <td>2.080769</td>\n",
              "      <td>-0.186878</td>\n",
              "      <td>1</td>\n",
              "      <td>-0.177856</td>\n",
              "      <td>-0.114172</td>\n",
              "      <td>-0.114172</td>\n",
              "    </tr>\n",
              "    <tr>\n",
              "      <th>52724</th>\n",
              "      <td>A0A571BE94</td>\n",
              "      <td>2.261809</td>\n",
              "      <td>-0.863836</td>\n",
              "      <td>-0.186878</td>\n",
              "      <td>1</td>\n",
              "      <td>1.148330</td>\n",
              "      <td>-0.114172</td>\n",
              "      <td>-0.114172</td>\n",
              "    </tr>\n",
              "    <tr>\n",
              "      <th>21857</th>\n",
              "      <td>O54949</td>\n",
              "      <td>0.246071</td>\n",
              "      <td>-0.863836</td>\n",
              "      <td>-0.186878</td>\n",
              "      <td>1</td>\n",
              "      <td>-0.158928</td>\n",
              "      <td>-0.114172</td>\n",
              "      <td>-0.114172</td>\n",
              "    </tr>\n",
              "    <tr>\n",
              "      <th>77860</th>\n",
              "      <td>Q6PB51</td>\n",
              "      <td>-0.240352</td>\n",
              "      <td>-0.863836</td>\n",
              "      <td>-0.186878</td>\n",
              "      <td>1</td>\n",
              "      <td>-0.474386</td>\n",
              "      <td>-0.114172</td>\n",
              "      <td>-0.114172</td>\n",
              "    </tr>\n",
              "  </tbody>\n",
              "</table>\n",
              "<p>17304 rows × 8 columns</p>\n",
              "</div>"
            ],
            "text/plain": [
              "      Protein Accession  ...  PE Score * #Confirmed Isoforms\n",
              "65634            D3Z1T4  ...                       -0.114172\n",
              "31910        A0A3B2WAY7  ...                       -0.114172\n",
              "54533            E9Q4X7  ...                       -0.114172\n",
              "66439            A2AKU3  ...                       -0.114172\n",
              "72451            F2Z445  ...                       -0.114172\n",
              "...                 ...  ...                             ...\n",
              "6643             B9EKC1  ...                       -0.114172\n",
              "28460            V9GX09  ...                       -0.114172\n",
              "52724        A0A571BE94  ...                       -0.114172\n",
              "21857            O54949  ...                       -0.114172\n",
              "77860            Q6PB51  ...                       -0.114172\n",
              "\n",
              "[17304 rows x 8 columns]"
            ]
          },
          "metadata": {
            "tags": []
          },
          "execution_count": 57
        }
      ]
    },
    {
      "cell_type": "code",
      "metadata": {
        "colab": {
          "base_uri": "https://localhost:8080/"
        },
        "id": "2-XFCrYeKxAJ",
        "outputId": "4042c604-a12c-482e-8b49-a1de9a64a5ac"
      },
      "source": [
        "reference_proteins = []\n",
        "\n",
        "for k in range(len(sample_df['Length'])):\n",
        "    if sample_df['In Reference Proteome'].values[k] == 1:\n",
        "        reference_proteins.append(sample_df['Protein Accession'].values[k])\n",
        "    else:\n",
        "        pass\n",
        "\n",
        "reference_proteins = set(reference_proteins)\n",
        "len(reference_proteins)"
      ],
      "execution_count": null,
      "outputs": [
        {
          "output_type": "execute_result",
          "data": {
            "text/plain": [
              "11075"
            ]
          },
          "metadata": {
            "tags": []
          },
          "execution_count": 58
        }
      ]
    },
    {
      "cell_type": "code",
      "metadata": {
        "colab": {
          "base_uri": "https://localhost:8080/"
        },
        "id": "K5fNQ_g4XW_d",
        "outputId": "7bb6d881-2eac-48f1-9e17-09bb59f7111b"
      },
      "source": [
        "threshold = 0.5 #change depending on plot of J vs. threshold (p)\n",
        "#w = w[0]\n",
        "mouse_predict = []\n",
        "\n",
        "for k in range(len(sample_df['Length'])):\n",
        "    L = [list(sample_df['Length'])[k],\n",
        "         list(sample_df['PE Score'])[k],\n",
        "         list(sample_df['#Confirmed Isoforms'])[k],\n",
        "         list(sample_df['Length * PE Score'])[k],\n",
        "         list(sample_df['Length * #Confirmed Isoforms'])[k],\n",
        "         list(sample_df['PE Score * #Confirmed Isoforms'])[k]]\n",
        "    \n",
        "    z = w[0]*L[0] + w[1]*L[1] + w[2]*L[2] + w[3]*L[3] + w[4]*L[4] + w[5]*L[5] + b\n",
        "    p = sigmoid_function(z)\n",
        "\n",
        "    if p >= threshold:\n",
        "        mouse_predict.append(list(sample_df['Protein Accession'])[k])\n",
        "\n",
        "J = jaccard_overlap(set(mouse_predict), set(reference_proteins))\n",
        "J"
      ],
      "execution_count": null,
      "outputs": [
        {
          "output_type": "execute_result",
          "data": {
            "text/plain": [
              "0.6662560492740871"
            ]
          },
          "metadata": {
            "tags": []
          },
          "execution_count": 59
        }
      ]
    },
    {
      "cell_type": "code",
      "metadata": {
        "id": "aw62oEAbNCwa"
      },
      "source": [
        ""
      ],
      "execution_count": null,
      "outputs": []
    }
  ]
}