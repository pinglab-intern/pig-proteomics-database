{
  "nbformat": 4,
  "nbformat_minor": 0,
  "metadata": {
    "colab": {
      "name": "model_v1.ipynb",
      "provenance": [],
      "collapsed_sections": [],
      "authorship_tag": "ABX9TyMjiZn+qOiksQJJrfc0i2BX"
    },
    "kernelspec": {
      "display_name": "Python 3",
      "name": "python3"
    },
    "language_info": {
      "name": "python"
    }
  },
  "cells": [
    {
      "cell_type": "markdown",
      "metadata": {
        "id": "woAZF7-Zj271"
      },
      "source": [
        "Purpose of this notebook: create a logistic regression classifier model to predict the reliability of proteins.\n",
        "\n",
        "Training set: human protein set\n",
        "\n",
        "Testing set: mouse protein set"
      ]
    },
    {
      "cell_type": "markdown",
      "metadata": {
        "id": "qkzT51zO9rp8"
      },
      "source": [
        "https://www.uniprot.org/help/retrieve_sets <- proves that API only has confirmed isoforms"
      ]
    },
    {
      "cell_type": "code",
      "metadata": {
        "colab": {
          "base_uri": "https://localhost:8080/"
        },
        "id": "C2vva2PB4-Hv",
        "outputId": "22cbb1ad-0a98-4c35-8ac5-7ce246c14459"
      },
      "source": [
        "# Connect notebook to Google Drive\n",
        "from google.colab import drive\n",
        "drive.mount('/content/drive', force_remount=True)"
      ],
      "execution_count": null,
      "outputs": [
        {
          "output_type": "stream",
          "text": [
            "Mounted at /content/drive\n"
          ],
          "name": "stdout"
        }
      ]
    },
    {
      "cell_type": "code",
      "metadata": {
        "colab": {
          "base_uri": "https://localhost:8080/"
        },
        "id": "0IevCnwy5GL-",
        "outputId": "b3f80b8f-9b9e-4e07-cc8f-e52bb4252c58"
      },
      "source": [
        "# Navigate to the shared drive folder\n",
        "%cd /content/drive/'My Drive'/'Pig Proteomics Summer Project'\n",
        "!pwd\n",
        "!ls"
      ],
      "execution_count": null,
      "outputs": [
        {
          "output_type": "stream",
          "text": [
            "/content/drive/.shortcut-targets-by-id/1H3M9nQYJ9K9M22jDv-wcvZ0azPz9lhsr/Pig Proteomics Summer Project\n",
            "/content/drive/.shortcut-targets-by-id/1H3M9nQYJ9K9M22jDv-wcvZ0azPz9lhsr/Pig Proteomics Summer Project\n",
            "'2021-06-21 Introduction to Proteomes.ipynb'\n",
            "'2021-06-28 Reactome and Uniprot.ipynb'\n",
            "'2021-06-29 Identifying characteristics of an unreliable protein.gslides'\n",
            " data\n",
            " gene_PE.ipynb\n",
            " histogram.ipynb\n",
            "'machine learning.gslides'\n",
            " model_v1.ipynb\n",
            " model_v2.ipynb\n",
            " model_v3.ipynb\n",
            " output\n",
            " pe_scores.ipynb\n",
            " scratch\n",
            "'Summer Project.gdoc'\n",
            " violin.ipynb\n",
            "'Week 1 Introduction slides.gslides'\n",
            "'Week 3 Findings.gslides'\n"
          ],
          "name": "stdout"
        }
      ]
    },
    {
      "cell_type": "code",
      "metadata": {
        "colab": {
          "base_uri": "https://localhost:8080/"
        },
        "id": "h8b3oXWF5Lge",
        "outputId": "51f64e8c-f9c7-4592-fcc0-31842e00c4c2"
      },
      "source": [
        "!pip install fastaparser"
      ],
      "execution_count": null,
      "outputs": [
        {
          "output_type": "stream",
          "text": [
            "Collecting fastaparser\n",
            "  Downloading fastaparser-1.1-py3-none-any.whl (29 kB)\n",
            "Installing collected packages: fastaparser\n",
            "Successfully installed fastaparser-1.1\n"
          ],
          "name": "stdout"
        }
      ]
    },
    {
      "cell_type": "code",
      "metadata": {
        "colab": {
          "base_uri": "https://localhost:8080/"
        },
        "id": "JcM61IcfueMx",
        "outputId": "fdd13d61-450d-4e92-a38a-7325745b6f39"
      },
      "source": [
        "%cd data/"
      ],
      "execution_count": null,
      "outputs": [
        {
          "output_type": "stream",
          "text": [
            "/content/drive/.shortcut-targets-by-id/1H3M9nQYJ9K9M22jDv-wcvZ0azPz9lhsr/Pig Proteomics Summer Project/data\n"
          ],
          "name": "stdout"
        }
      ]
    },
    {
      "cell_type": "markdown",
      "metadata": {
        "id": "Ff3I8VKzzpRs"
      },
      "source": [
        "# **Feature Extraction**\n",
        "The features of interest (so far):\n",
        "1. Protein length\n",
        "2. PE score\n",
        "3. Number of confirmed isoforms\n",
        "4. Number of computational isoforms"
      ]
    },
    {
      "cell_type": "code",
      "metadata": {
        "id": "OHvcxZiC5PNy"
      },
      "source": [
        "import fastaparser\n",
        "import pandas as pd\n",
        "\n",
        "def parse_fasta_file(file_name):\n",
        "  \"\"\"\n",
        "  this function parses a FASTA database and returns it as a mapping from the\n",
        "  header of the protein to the amino acid sequence it corresponds to\n",
        "  mapping: {header: sequence}\n",
        "  \"\"\"\n",
        "  out_dict = {}\n",
        "  fastaRaw = [] #uses quick parsing method\n",
        "  with open(file_name) as fasta_file:\n",
        "      parserQuick = fastaparser.Reader(fasta_file, parse_method = 'quick')\n",
        "      \n",
        "      for seq in parserQuick:\n",
        "          fastaRaw.append(seq)\n",
        "          \n",
        "  headerList = []\n",
        "  seqList = []\n",
        "\n",
        "  for k in fastaRaw:\n",
        "      headerList.append(k.header)\n",
        "      seqList.append(k.sequence)\n",
        "\n",
        "  if len(headerList) != len(seqList):\n",
        "      raise ValueError(\"Number of headers =/= number of sequences\")\n",
        "\n",
        "  for i in range(len(headerList)):\n",
        "      out_dict[headerList[i]] = seqList[i]\n",
        "\n",
        "  return out_dict\n",
        "\n",
        "def extract_protein_length(file_name):\n",
        "  \"\"\"\n",
        "  gets protein length in the following format:\n",
        "  {accession ID : protein length}\n",
        "  \"\"\"\n",
        "  out_dict = parse_fasta_file(file_name)\n",
        "  protein_to_length = {}\n",
        "\n",
        "  for key in out_dict.keys():\n",
        "    indice = []\n",
        "    for k in range(len(key)):\n",
        "      t = key[k]\n",
        "      if '|' in t:\n",
        "        indice.append(k)\n",
        "    accession = key[indice[0] + 1 : indice[1]]\n",
        "\n",
        "    protein_to_length[accession] = len(out_dict[key])\n",
        "\n",
        "\n",
        "  return protein_to_length\n",
        "\n",
        "def extract_PE_scores(file_name):\n",
        "  \"\"\"\n",
        "  gets PE score in the following format:\n",
        "  {accession ID : PE score}\n",
        "  \"\"\"\n",
        "  out_dict = parse_fasta_file(file_name)\n",
        "  protein_to_PE_score = {}\n",
        "\n",
        "  for key in out_dict.keys():\n",
        "    indice_accession = []\n",
        "    indice_PE = []\n",
        "    for i in range(len(key)):\n",
        "      t_accession = key[i]\n",
        "      if '|' in t_accession:\n",
        "        indice_accession.append(i)    \n",
        "    accession = key[indice_accession[0] + 1 : indice_accession[1]]\n",
        "\n",
        "    for j in range(len(key)):\n",
        "      t_pe = key[j:j+3]\n",
        "      if 'PE=' in t_pe:\n",
        "        indice_PE.append(j)\n",
        "    \n",
        "    pe_score = int(key[indice_PE[0] + 3 : indice_PE[0] + 4])\n",
        "    protein_to_PE_score[accession] = pe_score\n",
        "  \n",
        "  return protein_to_PE_score\n",
        "\n",
        "def extract_confirmed_isoforms(isoform_file):\n",
        "  \"\"\"\n",
        "  {accession ID : num of confirmed isoforms}\n",
        "  specifically takes isoform file\n",
        "  \"\"\"\n",
        "  protein_to_length = extract_protein_length(isoform_file) #{accession ID : length of sequence}\n",
        "  protein_to_isoform = {}\n",
        "\n",
        "  set_of_proteins = list(set(protein_to_length.keys()))\n",
        "  set_of_isoforms = [x for x in set_of_proteins if '-' in x] #list of isoforms\n",
        "  set_of_no_isoforms = [x for x in set_of_proteins if '-' not in x] #list of non-isoforms\n",
        "\n",
        "  for protein in set_of_no_isoforms:\n",
        "    c = 0\n",
        "    for k in set_of_isoforms:\n",
        "      if protein in k:\n",
        "        c = c + 1\n",
        "    \n",
        "    protein_to_isoform[protein] = c\n",
        "  \n",
        "  return protein_to_isoform\n",
        "\n",
        "def reference_proteome(file_name, proteome_file):\n",
        "  \"\"\"\n",
        "  returns 1 if protein is in reference proteome, 0 if protein is not in reference proteome\n",
        "  file_name -> full db\n",
        "  proteome_file -> proteome db\n",
        "  \"\"\"\n",
        "  all_proteins = list(set(extract_protein_length(file_name).keys()))\n",
        "  proteome_proteins = list(set(extract_protein_length(proteome_file).keys()))\n",
        "\n",
        "  protein_to_binary = {}\n",
        "  for protein in all_proteins:\n",
        "    if protein in proteome_proteins:\n",
        "      protein_to_binary[protein] = 1\n",
        "    elif protein not in proteome_proteins:\n",
        "      protein_to_binary[protein] = 0\n",
        "  \n",
        "  return protein_to_binary"
      ],
      "execution_count": null,
      "outputs": []
    },
    {
      "cell_type": "markdown",
      "metadata": {
        "id": "IHrTv9GNPhV0"
      },
      "source": [
        "# **Compiling Features into Dictionary**\n",
        "format: {accession ID : [protein length, PE score, num of confirmed isoforms]}"
      ]
    },
    {
      "cell_type": "code",
      "metadata": {
        "id": "RD_jbtihPgrt"
      },
      "source": [
        "def protein_to_features(file_name, proteome_file, isoform_file):\n",
        "  \"\"\"\n",
        "  inputs:\n",
        "  file_name -> full protein db\n",
        "  proteome_file -> reference proteome db\n",
        "  isoform_file -> full protein db with isoforms\n",
        "  creates dictionary in the following format:\n",
        "  {accession ID : [protein length, PE score, num of confirmed isoforms]}\n",
        "  \"\"\"\n",
        "  #hopefully the keys of each dictionary defined above are identical to each other\n",
        "  protein_to_length = extract_protein_length(file_name)\n",
        "  protein_to_PE_score = extract_PE_scores(file_name)\n",
        "  protein_to_isoform = extract_confirmed_isoforms(isoform_file)\n",
        "  protein_to_binary = reference_proteome(file_name, proteome_file)\n",
        "\n",
        "  protein_to_features = {}\n",
        "\n",
        "  for key in list(protein_to_length.keys()):\n",
        "    protein_to_features[key] = [protein_to_length[key],\n",
        "                                protein_to_PE_score[key],\n",
        "                                protein_to_isoform[key],\n",
        "                                protein_to_binary[key]]\n",
        "  \n",
        "  return protein_to_features\n",
        "\n",
        "def protein_features_dataframe(protein_features_dict):\n",
        "  \"\"\"\n",
        "  input: protein_to_features output\n",
        "  output: dataframe; headers = ['Protein Accession ID', 'Length', 'PE Score', '#Isoforms (confirmed)', 'In reference proteome']\n",
        "  \"\"\"  \n",
        "  accession = []\n",
        "  length = []\n",
        "  pe_score = []\n",
        "  confirmed_isoforms = []\n",
        "  ref_proteome = []\n",
        "\n",
        "  for protein in list(protein_features_dict.keys()):\n",
        "    accession.append(protein)\n",
        "    length.append(protein_features_dict[protein][0])\n",
        "    pe_score.append(protein_features_dict[protein][1])\n",
        "    confirmed_isoforms.append(protein_features_dict[protein][2])\n",
        "    ref_proteome.append(protein_features_dict[protein][3])\n",
        "  \n",
        "  d = {'Protein Accession' : accession,\n",
        "       'Length' : length,\n",
        "       'PE Score' : pe_score,\n",
        "       '#Confirmed Isoforms' : confirmed_isoforms,\n",
        "       'In Reference Proteome' : ref_proteome}\n",
        "\n",
        "  return pd.DataFrame(data = d)\n"
      ],
      "execution_count": null,
      "outputs": []
    },
    {
      "cell_type": "markdown",
      "metadata": {
        "id": "qKqJLCgGQJbC"
      },
      "source": [
        "# **Testing Feature Functions**"
      ]
    },
    {
      "cell_type": "code",
      "metadata": {
        "id": "6fefrkLrLvQB"
      },
      "source": [
        "file_human_isoforms = 'all_human_and_isoforms.fasta'\n",
        "file_human_proteome = 'Homo_sapiens_uniprot-proteome_UP000005640.fasta'\n",
        "file_human_all = 'homo_sapien_all.fasta'"
      ],
      "execution_count": null,
      "outputs": []
    },
    {
      "cell_type": "code",
      "metadata": {
        "colab": {
          "base_uri": "https://localhost:8080/",
          "height": 324
        },
        "id": "FaFen8sbfypR",
        "outputId": "3ccf1da4-9309-4a7b-94ff-b24d1d8c0f4e"
      },
      "source": [
        "protein_to_features_dict = protein_to_features(file_human_all, file_human_proteome, file_human_isoforms)\n",
        "protein_to_features_dict"
      ],
      "execution_count": null,
      "outputs": [
        {
          "output_type": "error",
          "ename": "KeyboardInterrupt",
          "evalue": "ignored",
          "traceback": [
            "\u001b[0;31m---------------------------------------------------------------------------\u001b[0m",
            "\u001b[0;31mKeyboardInterrupt\u001b[0m                         Traceback (most recent call last)",
            "\u001b[0;32m<ipython-input-8-0cf8b4519603>\u001b[0m in \u001b[0;36m<module>\u001b[0;34m()\u001b[0m\n\u001b[0;32m----> 1\u001b[0;31m \u001b[0mprotein_to_features_dict\u001b[0m \u001b[0;34m=\u001b[0m \u001b[0mprotein_to_features\u001b[0m\u001b[0;34m(\u001b[0m\u001b[0mfile_human_all\u001b[0m\u001b[0;34m,\u001b[0m \u001b[0mfile_human_proteome\u001b[0m\u001b[0;34m,\u001b[0m \u001b[0mfile_human_isoforms\u001b[0m\u001b[0;34m)\u001b[0m\u001b[0;34m\u001b[0m\u001b[0;34m\u001b[0m\u001b[0m\n\u001b[0m\u001b[1;32m      2\u001b[0m \u001b[0mprotein_to_features_dict\u001b[0m\u001b[0;34m\u001b[0m\u001b[0;34m\u001b[0m\u001b[0m\n",
            "\u001b[0;32m<ipython-input-6-2e309a2f82d5>\u001b[0m in \u001b[0;36mprotein_to_features\u001b[0;34m(file_name, proteome_file, isoform_file)\u001b[0m\n\u001b[1;32m     11\u001b[0m   \u001b[0mprotein_to_length\u001b[0m \u001b[0;34m=\u001b[0m \u001b[0mextract_protein_length\u001b[0m\u001b[0;34m(\u001b[0m\u001b[0mfile_name\u001b[0m\u001b[0;34m)\u001b[0m\u001b[0;34m\u001b[0m\u001b[0;34m\u001b[0m\u001b[0m\n\u001b[1;32m     12\u001b[0m   \u001b[0mprotein_to_PE_score\u001b[0m \u001b[0;34m=\u001b[0m \u001b[0mextract_PE_scores\u001b[0m\u001b[0;34m(\u001b[0m\u001b[0mfile_name\u001b[0m\u001b[0;34m)\u001b[0m\u001b[0;34m\u001b[0m\u001b[0;34m\u001b[0m\u001b[0m\n\u001b[0;32m---> 13\u001b[0;31m   \u001b[0mprotein_to_isoform\u001b[0m \u001b[0;34m=\u001b[0m \u001b[0mextract_confirmed_isoforms\u001b[0m\u001b[0;34m(\u001b[0m\u001b[0misoform_file\u001b[0m\u001b[0;34m)\u001b[0m\u001b[0;34m\u001b[0m\u001b[0;34m\u001b[0m\u001b[0m\n\u001b[0m\u001b[1;32m     14\u001b[0m   \u001b[0mprotein_to_binary\u001b[0m \u001b[0;34m=\u001b[0m \u001b[0mreference_proteome\u001b[0m\u001b[0;34m(\u001b[0m\u001b[0mfile_name\u001b[0m\u001b[0;34m,\u001b[0m \u001b[0mproteome_file\u001b[0m\u001b[0;34m)\u001b[0m\u001b[0;34m\u001b[0m\u001b[0;34m\u001b[0m\u001b[0m\n\u001b[1;32m     15\u001b[0m \u001b[0;34m\u001b[0m\u001b[0m\n",
            "\u001b[0;32m<ipython-input-5-b6659e61de22>\u001b[0m in \u001b[0;36mextract_confirmed_isoforms\u001b[0;34m(isoform_file)\u001b[0m\n\u001b[1;32m     93\u001b[0m   \u001b[0;32mfor\u001b[0m \u001b[0mprotein\u001b[0m \u001b[0;32min\u001b[0m \u001b[0mset_of_no_isoforms\u001b[0m\u001b[0;34m:\u001b[0m\u001b[0;34m\u001b[0m\u001b[0;34m\u001b[0m\u001b[0m\n\u001b[1;32m     94\u001b[0m     \u001b[0mc\u001b[0m \u001b[0;34m=\u001b[0m \u001b[0;36m0\u001b[0m\u001b[0;34m\u001b[0m\u001b[0;34m\u001b[0m\u001b[0m\n\u001b[0;32m---> 95\u001b[0;31m     \u001b[0;32mfor\u001b[0m \u001b[0mk\u001b[0m \u001b[0;32min\u001b[0m \u001b[0mset_of_isoforms\u001b[0m\u001b[0;34m:\u001b[0m\u001b[0;34m\u001b[0m\u001b[0;34m\u001b[0m\u001b[0m\n\u001b[0m\u001b[1;32m     96\u001b[0m       \u001b[0;32mif\u001b[0m \u001b[0mprotein\u001b[0m \u001b[0;32min\u001b[0m \u001b[0mk\u001b[0m\u001b[0;34m:\u001b[0m\u001b[0;34m\u001b[0m\u001b[0;34m\u001b[0m\u001b[0m\n\u001b[1;32m     97\u001b[0m         \u001b[0mc\u001b[0m \u001b[0;34m=\u001b[0m \u001b[0mc\u001b[0m \u001b[0;34m+\u001b[0m \u001b[0;36m1\u001b[0m\u001b[0;34m\u001b[0m\u001b[0;34m\u001b[0m\u001b[0m\n",
            "\u001b[0;31mKeyboardInterrupt\u001b[0m: "
          ]
        }
      ]
    },
    {
      "cell_type": "code",
      "metadata": {
        "id": "SFM3hllYXhq5"
      },
      "source": [
        "df_protein_features = protein_features_dataframe(protein_to_features_dict)"
      ],
      "execution_count": null,
      "outputs": []
    },
    {
      "cell_type": "code",
      "metadata": {
        "colab": {
          "base_uri": "https://localhost:8080/",
          "height": 419
        },
        "id": "A6ydj_9aXq69",
        "outputId": "739a6016-2727-4853-cda0-25e43adb6158"
      },
      "source": [
        "df_protein_features"
      ],
      "execution_count": null,
      "outputs": [
        {
          "output_type": "execute_result",
          "data": {
            "text/html": [
              "<div>\n",
              "<style scoped>\n",
              "    .dataframe tbody tr th:only-of-type {\n",
              "        vertical-align: middle;\n",
              "    }\n",
              "\n",
              "    .dataframe tbody tr th {\n",
              "        vertical-align: top;\n",
              "    }\n",
              "\n",
              "    .dataframe thead th {\n",
              "        text-align: right;\n",
              "    }\n",
              "</style>\n",
              "<table border=\"1\" class=\"dataframe\">\n",
              "  <thead>\n",
              "    <tr style=\"text-align: right;\">\n",
              "      <th></th>\n",
              "      <th>Protein Accession</th>\n",
              "      <th>Length</th>\n",
              "      <th>PE Score</th>\n",
              "      <th>#Confirmed Isoforms</th>\n",
              "      <th>In Reference Proteome</th>\n",
              "    </tr>\n",
              "  </thead>\n",
              "  <tbody>\n",
              "    <tr>\n",
              "      <th>0</th>\n",
              "      <td>P04439</td>\n",
              "      <td>365</td>\n",
              "      <td>1</td>\n",
              "      <td>1</td>\n",
              "      <td>1</td>\n",
              "    </tr>\n",
              "    <tr>\n",
              "      <th>1</th>\n",
              "      <td>P01911</td>\n",
              "      <td>266</td>\n",
              "      <td>1</td>\n",
              "      <td>0</td>\n",
              "      <td>1</td>\n",
              "    </tr>\n",
              "    <tr>\n",
              "      <th>2</th>\n",
              "      <td>P01889</td>\n",
              "      <td>362</td>\n",
              "      <td>1</td>\n",
              "      <td>0</td>\n",
              "      <td>1</td>\n",
              "    </tr>\n",
              "    <tr>\n",
              "      <th>3</th>\n",
              "      <td>P31689</td>\n",
              "      <td>397</td>\n",
              "      <td>1</td>\n",
              "      <td>1</td>\n",
              "      <td>1</td>\n",
              "    </tr>\n",
              "    <tr>\n",
              "      <th>4</th>\n",
              "      <td>P08246</td>\n",
              "      <td>267</td>\n",
              "      <td>1</td>\n",
              "      <td>0</td>\n",
              "      <td>1</td>\n",
              "    </tr>\n",
              "    <tr>\n",
              "      <th>...</th>\n",
              "      <td>...</td>\n",
              "      <td>...</td>\n",
              "      <td>...</td>\n",
              "      <td>...</td>\n",
              "      <td>...</td>\n",
              "    </tr>\n",
              "    <tr>\n",
              "      <th>202155</th>\n",
              "      <td>Q9P2T1</td>\n",
              "      <td>348</td>\n",
              "      <td>1</td>\n",
              "      <td>2</td>\n",
              "      <td>1</td>\n",
              "    </tr>\n",
              "    <tr>\n",
              "      <th>202156</th>\n",
              "      <td>Q8IUX8</td>\n",
              "      <td>553</td>\n",
              "      <td>1</td>\n",
              "      <td>1</td>\n",
              "      <td>1</td>\n",
              "    </tr>\n",
              "    <tr>\n",
              "      <th>202157</th>\n",
              "      <td>O15372</td>\n",
              "      <td>352</td>\n",
              "      <td>1</td>\n",
              "      <td>0</td>\n",
              "      <td>1</td>\n",
              "    </tr>\n",
              "    <tr>\n",
              "      <th>202158</th>\n",
              "      <td>P54852</td>\n",
              "      <td>163</td>\n",
              "      <td>1</td>\n",
              "      <td>0</td>\n",
              "      <td>1</td>\n",
              "    </tr>\n",
              "    <tr>\n",
              "      <th>202159</th>\n",
              "      <td>P50402</td>\n",
              "      <td>254</td>\n",
              "      <td>1</td>\n",
              "      <td>0</td>\n",
              "      <td>1</td>\n",
              "    </tr>\n",
              "  </tbody>\n",
              "</table>\n",
              "<p>202160 rows × 5 columns</p>\n",
              "</div>"
            ],
            "text/plain": [
              "       Protein Accession  Length  ...  #Confirmed Isoforms  In Reference Proteome\n",
              "0                 P04439     365  ...                    1                      1\n",
              "1                 P01911     266  ...                    0                      1\n",
              "2                 P01889     362  ...                    0                      1\n",
              "3                 P31689     397  ...                    1                      1\n",
              "4                 P08246     267  ...                    0                      1\n",
              "...                  ...     ...  ...                  ...                    ...\n",
              "202155            Q9P2T1     348  ...                    2                      1\n",
              "202156            Q8IUX8     553  ...                    1                      1\n",
              "202157            O15372     352  ...                    0                      1\n",
              "202158            P54852     163  ...                    0                      1\n",
              "202159            P50402     254  ...                    0                      1\n",
              "\n",
              "[202160 rows x 5 columns]"
            ]
          },
          "metadata": {
            "tags": []
          },
          "execution_count": 36
        }
      ]
    },
    {
      "cell_type": "code",
      "metadata": {
        "id": "4pTuSQGtX1UB"
      },
      "source": [
        "df_protein_features.to_csv(\"human_protein_features.csv\")"
      ],
      "execution_count": null,
      "outputs": []
    },
    {
      "cell_type": "markdown",
      "metadata": {
        "id": "rfSmWK_4QNHJ"
      },
      "source": [
        "# **Logistic Regression Classifier**"
      ]
    },
    {
      "cell_type": "code",
      "metadata": {
        "colab": {
          "base_uri": "https://localhost:8080/"
        },
        "id": "d6lF9OFE2SZx",
        "outputId": "9346436a-351b-4e7f-9030-56c67016c4af"
      },
      "source": [
        "%cd -"
      ],
      "execution_count": null,
      "outputs": [
        {
          "output_type": "stream",
          "text": [
            "/content/drive/.shortcut-targets-by-id/1H3M9nQYJ9K9M22jDv-wcvZ0azPz9lhsr/Pig Proteomics Summer Project\n"
          ],
          "name": "stdout"
        }
      ]
    },
    {
      "cell_type": "code",
      "metadata": {
        "colab": {
          "base_uri": "https://localhost:8080/"
        },
        "id": "ij0RkKKKolJI",
        "outputId": "b89a5679-0748-46d6-9a95-0f3a5c12bd4b"
      },
      "source": [
        "%cd output/protein_features/\n",
        "!ls"
      ],
      "execution_count": null,
      "outputs": [
        {
          "output_type": "stream",
          "text": [
            "/content/drive/.shortcut-targets-by-id/1H3M9nQYJ9K9M22jDv-wcvZ0azPz9lhsr/Pig Proteomics Summer Project/output/protein_features\n",
            "feature_crosses.csv  human_protein_features.csv\n"
          ],
          "name": "stdout"
        }
      ]
    },
    {
      "cell_type": "markdown",
      "metadata": {
        "id": "qiYZs0UBD8ut"
      },
      "source": [
        "# Training Model"
      ]
    },
    {
      "cell_type": "code",
      "metadata": {
        "id": "G0dLupOGhzDk"
      },
      "source": [
        "import numpy as np\n",
        "import pandas as pd\n",
        "import matplotlib.pyplot as plt\n",
        "import sklearn\n",
        "from sklearn.model_selection import train_test_split\n",
        "from sklearn.preprocessing import StandardScaler\n",
        "from sklearn.metrics import accuracy_score\n",
        "from math import *\n",
        "from scipy.stats import zscore\n",
        "\n",
        "\n",
        "def initialize_weights_bias(num_features = 3):\n",
        "  \"\"\"\n",
        "  initializes w and b\n",
        "  output: np.array -> w\n",
        "  output: int -> b (0)\n",
        "  \"\"\"\n",
        "  weights = np.zeros((1,num_features))\n",
        "  bias = 0\n",
        "\n",
        "  return weights, bias\n",
        "\n",
        "def sigmoid_function(z):\n",
        "  \"\"\"\n",
        "  evaluates sigma(z) = 1/(1 + exp(-z))\n",
        "  \"\"\"\n",
        "  return 1/(1 + np.exp(-z))\n",
        "\n",
        "def model_construction(df_protein_features):\n",
        "  inp_df = df_protein_features.drop(df_protein_features.columns[[0,4]], axis=1)\n",
        "  out_df = df_protein_features.drop(df_protein_features.columns[[0,1,2,3]], axis=1)\n",
        "  \n",
        "  scaler = StandardScaler()\n",
        "  inp_df = scaler.fit_transform(inp_df) #transforms into Z values\n",
        "\n",
        "  X_train, X_test, Y_train, Y_test = train_test_split(inp_df, out_df, test_size=0.2, train_size = 0.8)\n",
        "\n",
        "  return X_train, Y_train, X_test, Y_test\n",
        "\n",
        "def evaluate_cost(w, b, X_train, Y_train):\n",
        "  \"\"\"\n",
        "  J = -y*log(sigma(Z)) - (1-y)*log(sigma(Z))\n",
        "  positive training set : y = 1 (ones in human reference proteome)\n",
        "  negative training set : y = 0 (ones not in human reference proteome)\n",
        "  \"\"\"\n",
        "  m = X_train.shape[0] #number of rows in X_train dataset (training set is entire human db)\n",
        "  z = np.dot(w, X_train.T) + b\n",
        "  a = sigmoid_function(z) #evaluates sigmoid function\n",
        "  \n",
        "  cost = (-1/m)*(np.array(Y_train.T*np.log(a) + (1 - Y_train.T)*np.log(1 - a))).sum()\n",
        "  dJdw = (1/m)*(np.dot(X_train.T, (a-Y_train.T).T))\n",
        "  dJdb = (1/m)*(np.array(a-Y_train.T).sum())\n",
        "\n",
        "  return cost, dJdw, dJdb\n",
        "\n",
        "def model_predict(w, b, df_protein_features, n = 4500, alpha = 0.001):\n",
        "  \"\"\"\n",
        "  predicts model for constructing the reference proteome\n",
        "  w -> initialized weights\n",
        "  b -> initialized bias\n",
        "  X_train -> X-axis of training set (all the features ; length, PE score, #isoforms (confirmed))\n",
        "  Y_train -> Y-axis of training set (in reference proteome or no?)\n",
        "  n -> number of iterations\n",
        "\n",
        "  also creates cost function vs. iteration num\n",
        "  \"\"\"\n",
        "  X_train, Y_train, X_test, Y_test = model_construction(df_protein_features)\n",
        "  cost_train = []\n",
        "  cost_test = []\n",
        "  iteration_num = []\n",
        "  for i in range(n):\n",
        "    iteration_num.append(i)\n",
        "    cost_tr, dJdw, dJdb = evaluate_cost(w, b, X_train, Y_train)\n",
        "    cost_te, _ , _ = evaluate_cost(w, b, X_test, Y_test)\n",
        "    cost_train.append(cost_tr)\n",
        "    cost_test.append(cost_te)\n",
        "\n",
        "    w = w - alpha*dJdw.T\n",
        "    b = b - alpha*dJdb\n",
        "  \n",
        "  plt.plot(iteration_num, cost_train)\n",
        "  plt.plot(iteration_num, cost_test)\n",
        "  plt.legend(['Training set', 'Testing set'])\n",
        "  plt.xlabel(\"Iteration number\")\n",
        "  plt.ylabel(\"Cost\")\n",
        "\n",
        "  return w, b\n"
      ],
      "execution_count": null,
      "outputs": []
    },
    {
      "cell_type": "code",
      "metadata": {
        "colab": {
          "base_uri": "https://localhost:8080/"
        },
        "id": "oaL7vog9CTyi",
        "outputId": "bfa3dfea-5a6e-44f4-9986-58551ef88fb6"
      },
      "source": [
        "%cd output/protein_features"
      ],
      "execution_count": null,
      "outputs": [
        {
          "output_type": "stream",
          "text": [
            "[Errno 2] No such file or directory: 'output/protein_features'\n",
            "/content/drive/.shortcut-targets-by-id/1H3M9nQYJ9K9M22jDv-wcvZ0azPz9lhsr/Pig Proteomics Summer Project/output/protein_features\n"
          ],
          "name": "stdout"
        }
      ]
    },
    {
      "cell_type": "code",
      "metadata": {
        "colab": {
          "base_uri": "https://localhost:8080/"
        },
        "id": "YQRpzReVbDyF",
        "outputId": "05f78052-0923-4084-94d4-3aa28ff11087"
      },
      "source": [
        "!pwd"
      ],
      "execution_count": null,
      "outputs": [
        {
          "output_type": "stream",
          "text": [
            "/content/drive/.shortcut-targets-by-id/1H3M9nQYJ9K9M22jDv-wcvZ0azPz9lhsr/Pig Proteomics Summer Project/output/protein_features\n"
          ],
          "name": "stdout"
        }
      ]
    },
    {
      "cell_type": "code",
      "metadata": {
        "colab": {
          "base_uri": "https://localhost:8080/",
          "height": 419
        },
        "id": "6tpwq7Ajopzf",
        "outputId": "1c48b319-afda-45ae-ca8c-8f0ec7aa8a77"
      },
      "source": [
        "df_protein_features = pd.read_csv(\"human_protein_features.csv\")\n",
        "df_protein_features = df_protein_features.drop(df_protein_features.columns[[0]], axis = 1)\n",
        "df_protein_features"
      ],
      "execution_count": null,
      "outputs": [
        {
          "output_type": "execute_result",
          "data": {
            "text/html": [
              "<div>\n",
              "<style scoped>\n",
              "    .dataframe tbody tr th:only-of-type {\n",
              "        vertical-align: middle;\n",
              "    }\n",
              "\n",
              "    .dataframe tbody tr th {\n",
              "        vertical-align: top;\n",
              "    }\n",
              "\n",
              "    .dataframe thead th {\n",
              "        text-align: right;\n",
              "    }\n",
              "</style>\n",
              "<table border=\"1\" class=\"dataframe\">\n",
              "  <thead>\n",
              "    <tr style=\"text-align: right;\">\n",
              "      <th></th>\n",
              "      <th>Protein Accession</th>\n",
              "      <th>Length</th>\n",
              "      <th>PE Score</th>\n",
              "      <th>#Confirmed Isoforms</th>\n",
              "      <th>In Reference Proteome</th>\n",
              "    </tr>\n",
              "  </thead>\n",
              "  <tbody>\n",
              "    <tr>\n",
              "      <th>0</th>\n",
              "      <td>P04439</td>\n",
              "      <td>365</td>\n",
              "      <td>1</td>\n",
              "      <td>1</td>\n",
              "      <td>1</td>\n",
              "    </tr>\n",
              "    <tr>\n",
              "      <th>1</th>\n",
              "      <td>P01911</td>\n",
              "      <td>266</td>\n",
              "      <td>1</td>\n",
              "      <td>0</td>\n",
              "      <td>1</td>\n",
              "    </tr>\n",
              "    <tr>\n",
              "      <th>2</th>\n",
              "      <td>P01889</td>\n",
              "      <td>362</td>\n",
              "      <td>1</td>\n",
              "      <td>0</td>\n",
              "      <td>1</td>\n",
              "    </tr>\n",
              "    <tr>\n",
              "      <th>3</th>\n",
              "      <td>P31689</td>\n",
              "      <td>397</td>\n",
              "      <td>1</td>\n",
              "      <td>1</td>\n",
              "      <td>1</td>\n",
              "    </tr>\n",
              "    <tr>\n",
              "      <th>4</th>\n",
              "      <td>P08246</td>\n",
              "      <td>267</td>\n",
              "      <td>1</td>\n",
              "      <td>0</td>\n",
              "      <td>1</td>\n",
              "    </tr>\n",
              "    <tr>\n",
              "      <th>...</th>\n",
              "      <td>...</td>\n",
              "      <td>...</td>\n",
              "      <td>...</td>\n",
              "      <td>...</td>\n",
              "      <td>...</td>\n",
              "    </tr>\n",
              "    <tr>\n",
              "      <th>202155</th>\n",
              "      <td>Q9P2T1</td>\n",
              "      <td>348</td>\n",
              "      <td>1</td>\n",
              "      <td>2</td>\n",
              "      <td>1</td>\n",
              "    </tr>\n",
              "    <tr>\n",
              "      <th>202156</th>\n",
              "      <td>Q8IUX8</td>\n",
              "      <td>553</td>\n",
              "      <td>1</td>\n",
              "      <td>1</td>\n",
              "      <td>1</td>\n",
              "    </tr>\n",
              "    <tr>\n",
              "      <th>202157</th>\n",
              "      <td>O15372</td>\n",
              "      <td>352</td>\n",
              "      <td>1</td>\n",
              "      <td>0</td>\n",
              "      <td>1</td>\n",
              "    </tr>\n",
              "    <tr>\n",
              "      <th>202158</th>\n",
              "      <td>P54852</td>\n",
              "      <td>163</td>\n",
              "      <td>1</td>\n",
              "      <td>0</td>\n",
              "      <td>1</td>\n",
              "    </tr>\n",
              "    <tr>\n",
              "      <th>202159</th>\n",
              "      <td>P50402</td>\n",
              "      <td>254</td>\n",
              "      <td>1</td>\n",
              "      <td>0</td>\n",
              "      <td>1</td>\n",
              "    </tr>\n",
              "  </tbody>\n",
              "</table>\n",
              "<p>202160 rows × 5 columns</p>\n",
              "</div>"
            ],
            "text/plain": [
              "       Protein Accession  Length  ...  #Confirmed Isoforms  In Reference Proteome\n",
              "0                 P04439     365  ...                    1                      1\n",
              "1                 P01911     266  ...                    0                      1\n",
              "2                 P01889     362  ...                    0                      1\n",
              "3                 P31689     397  ...                    1                      1\n",
              "4                 P08246     267  ...                    0                      1\n",
              "...                  ...     ...  ...                  ...                    ...\n",
              "202155            Q9P2T1     348  ...                    2                      1\n",
              "202156            Q8IUX8     553  ...                    1                      1\n",
              "202157            O15372     352  ...                    0                      1\n",
              "202158            P54852     163  ...                    0                      1\n",
              "202159            P50402     254  ...                    0                      1\n",
              "\n",
              "[202160 rows x 5 columns]"
            ]
          },
          "metadata": {
            "tags": []
          },
          "execution_count": 12
        }
      ]
    },
    {
      "cell_type": "code",
      "metadata": {
        "colab": {
          "base_uri": "https://localhost:8080/"
        },
        "id": "c8rKaQnGkG-W",
        "outputId": "a7c52ddf-2296-41d8-8d89-d40f70295dfa"
      },
      "source": [
        "w, b = initialize_weights_bias()\n",
        "w"
      ],
      "execution_count": null,
      "outputs": [
        {
          "output_type": "execute_result",
          "data": {
            "text/plain": [
              "array([[0., 0., 0.]])"
            ]
          },
          "metadata": {
            "tags": []
          },
          "execution_count": 13
        }
      ]
    },
    {
      "cell_type": "code",
      "metadata": {
        "colab": {
          "base_uri": "https://localhost:8080/",
          "height": 296
        },
        "id": "D_Z1S8zKupJE",
        "outputId": "7b088d33-c354-475a-907e-5afa5434d0ba"
      },
      "source": [
        "w, b = model_predict(w, b, df_protein_features, n = 22000, alpha = 0.001)\n",
        "w"
      ],
      "execution_count": null,
      "outputs": [
        {
          "output_type": "execute_result",
          "data": {
            "text/plain": [
              "array([[-0.00409286, -1.41677154,  0.59926468]])"
            ]
          },
          "metadata": {
            "tags": []
          },
          "execution_count": 14
        },
        {
          "output_type": "display_data",
          "data": {
            "image/png": "[encoded data removed]",
            "text/plain": [
              "<Figure size 432x288 with 1 Axes>"
            ]
          },
          "metadata": {
            "tags": [],
            "needs_background": "light"
          }
        }
      ]
    },
    {
      "cell_type": "code",
      "metadata": {
        "colab": {
          "base_uri": "https://localhost:8080/"
        },
        "id": "EHmQs56MzNZa",
        "outputId": "178a5d5e-3570-4914-ba45-ab45e88a361a"
      },
      "source": [
        "b"
      ],
      "execution_count": null,
      "outputs": [
        {
          "output_type": "execute_result",
          "data": {
            "text/plain": [
              "-0.6384198099664238"
            ]
          },
          "metadata": {
            "tags": []
          },
          "execution_count": 15
        }
      ]
    },
    {
      "cell_type": "code",
      "metadata": {
        "colab": {
          "base_uri": "https://localhost:8080/"
        },
        "id": "8S5WqVKv3tf2",
        "outputId": "46593d3a-f598-414e-a7a6-1ba77138d90c"
      },
      "source": [
        "w"
      ],
      "execution_count": null,
      "outputs": [
        {
          "output_type": "execute_result",
          "data": {
            "text/plain": [
              "array([[-0.00409286, -1.41677154,  0.59926468]])"
            ]
          },
          "metadata": {
            "tags": []
          },
          "execution_count": 16
        }
      ]
    },
    {
      "cell_type": "markdown",
      "metadata": {
        "id": "wEF2fKkdEDcy"
      },
      "source": [
        "# **Testing Model**\n",
        "\n",
        "Objective: test model on mouse, get Z and then compute sigma(Z). Afterwards, set thresholds ranging from p = 0 to p = 1 and see which threshold value maximizes Jaccard Overlap (J)"
      ]
    },
    {
      "cell_type": "code",
      "metadata": {
        "colab": {
          "base_uri": "https://localhost:8080/"
        },
        "id": "CnEeI7NkZZgh",
        "outputId": "69e44007-f797-4f3b-cd22-1aea252eaf34"
      },
      "source": [
        "%cd -"
      ],
      "execution_count": null,
      "outputs": [
        {
          "output_type": "stream",
          "text": [
            "/content/drive/.shortcut-targets-by-id/1H3M9nQYJ9K9M22jDv-wcvZ0azPz9lhsr/Pig Proteomics Summer Project\n"
          ],
          "name": "stdout"
        }
      ]
    },
    {
      "cell_type": "code",
      "metadata": {
        "colab": {
          "base_uri": "https://localhost:8080/"
        },
        "id": "wucYVxBvDt95",
        "outputId": "7d07a483-6d16-4161-b7d1-6f8670be922b"
      },
      "source": [
        "%cd output"
      ],
      "execution_count": null,
      "outputs": [
        {
          "output_type": "stream",
          "text": [
            "/content/drive/.shortcut-targets-by-id/1H3M9nQYJ9K9M22jDv-wcvZ0azPz9lhsr/Pig Proteomics Summer Project/output\n"
          ],
          "name": "stdout"
        }
      ]
    },
    {
      "cell_type": "code",
      "metadata": {
        "colab": {
          "base_uri": "https://localhost:8080/"
        },
        "id": "cwtR005d3DAh",
        "outputId": "08c9f958-221a-4dd6-8a6c-6448e6eeb88c"
      },
      "source": [
        "w = np.array([-0.00409286, -1.41677154,  0.59926468])\n",
        "w"
      ],
      "execution_count": null,
      "outputs": [
        {
          "output_type": "execute_result",
          "data": {
            "text/plain": [
              "array([-0.00409286, -1.41677154,  0.59926468])"
            ]
          },
          "metadata": {
            "tags": []
          },
          "execution_count": 13
        }
      ]
    },
    {
      "cell_type": "code",
      "metadata": {
        "colab": {
          "base_uri": "https://localhost:8080/"
        },
        "id": "B5J3TFYJeHey",
        "outputId": "769bd754-3261-4b09-e62d-fb9098dfff68"
      },
      "source": [
        "b = -0.6384198099664238\n",
        "b"
      ],
      "execution_count": null,
      "outputs": [
        {
          "output_type": "execute_result",
          "data": {
            "text/plain": [
              "-0.6384198099664238"
            ]
          },
          "metadata": {
            "tags": []
          },
          "execution_count": 16
        }
      ]
    },
    {
      "cell_type": "code",
      "metadata": {
        "id": "HTXVaecOHobl"
      },
      "source": [
        "from scipy.stats import zscore\n",
        "\n",
        "def jaccard_overlap(predicted, reference):\n",
        "  \"\"\"\n",
        "  computes jaccard overlap; J = A.intersection(B)/A.union(B)\n",
        "  \"\"\"\n",
        "  return len(predicted.intersection(reference))/len(predicted.union(reference))\n"
      ],
      "execution_count": null,
      "outputs": []
    },
    {
      "cell_type": "code",
      "metadata": {
        "id": "WZZ0ILutlCrn"
      },
      "source": [
        "def z_score_dataframe(all):\n",
        "    \"\"\"\n",
        "    returns df w/ z-scores\n",
        "    \"\"\"\n",
        "    #all\n",
        "    all_input = all.drop(all.columns[[0,4]], axis=1) #[Length, PE Score, #Confirmed Isoforms]\n",
        "    all_input = all_input.apply(zscore)\n",
        "    all_proteins = list(all['Protein Accession'])\n",
        "    all_binary = list(all['In Reference Proteome'])\n",
        "    all_z_length = list(all_input['Length'])\n",
        "    all_z_pe_score = list(all_input['PE Score'])\n",
        "    all_z_isoforms = list(all_input['#Confirmed Isoforms'])\n",
        "\n",
        "    #creating all dataframe with z-scores\n",
        "    all['Protein Accession'] = all_proteins\n",
        "    all['Length'] = all_z_length\n",
        "    all['PE Score'] = all_z_pe_score\n",
        "    all['#Confirmed Isoforms'] = all_z_isoforms\n",
        "    all['In Reference Proteome'] = all_binary\n",
        "\n",
        "    return all\n",
        "\n",
        "def jaccard_threshold_plot(all, reference, w, b):\n",
        "    \"\"\"\n",
        "    plot jaccard overlap score vs. the threshold to be added to the reference proteome\n",
        "    all -> all proteins df\n",
        "    reference -> reference proteome df\n",
        "    \"\"\"\n",
        "    p = np.linspace(0,1,1000)\n",
        "    #w = w[0]\n",
        "\n",
        "    #data processing\n",
        "    #reference proteome\n",
        "    reference_proteins = set(reference['accession'])\n",
        "\n",
        "    #all\n",
        "    all_input = all.drop(all.columns[[0,4]], axis=1) #[Length, PE Score, #Confirmed Isoforms]\n",
        "    all_input = all_input.apply(zscore)\n",
        "    all_proteins = list(all['Protein Accession'])\n",
        "    all_binary = list(all['In Reference Proteome'])\n",
        "    all_z_length = list(all_input['Length'])\n",
        "    all_z_pe_score = list(all_input['PE Score'])\n",
        "    all_z_isoforms = list(all_input['#Confirmed Isoforms'])\n",
        "\n",
        "    #creating all dataframe with z-scores\n",
        "    all['Protein Accession'] = all_proteins\n",
        "    all['Length'] = all_z_length\n",
        "    all['PE Score'] = all_z_pe_score\n",
        "    all['#Confirmed Isoforms'] = all_z_isoforms\n",
        "    all['In Reference Proteome'] = all_binary\n",
        "\n",
        "    J = []\n",
        "\n",
        "    for threshold in p:\n",
        "        protein_above_threshold = []\n",
        "        for k in range(len(all['Length'])):\n",
        "            L = [all['Length'][k], all['PE Score'][k], all['#Confirmed Isoforms'][k]]\n",
        "            z = w[0]*L[0] + w[1]*L[1] + w[2]*L[2] + b\n",
        "            sigma = sigmoid_function(z)\n",
        "\n",
        "            if sigma >= threshold:\n",
        "                protein_above_threshold.append(all['Protein Accession'][k])\n",
        "            else:\n",
        "                pass\n",
        "\n",
        "        J_calc = jaccard_overlap(set(protein_above_threshold), reference_proteins)\n",
        "        J.append(J_calc)\n",
        "        \n",
        "    plt.plot(p, J)\n",
        "\n",
        "    #return all\n"
      ],
      "execution_count": null,
      "outputs": []
    },
    {
      "cell_type": "code",
      "metadata": {
        "colab": {
          "base_uri": "https://localhost:8080/",
          "height": 419
        },
        "id": "s5QG0eiLLizw",
        "outputId": "a367171f-e070-4286-ff3d-e10aa84406c6"
      },
      "source": [
        "human_proteome = pd.read_csv(\"human_proteome_table_PE.csv\")\n",
        "human_proteome = human_proteome.drop(columns=['Unnamed: 0'], axis = 1)\n",
        "human_proteome"
      ],
      "execution_count": null,
      "outputs": [
        {
          "output_type": "execute_result",
          "data": {
            "text/html": [
              "<div>\n",
              "<style scoped>\n",
              "    .dataframe tbody tr th:only-of-type {\n",
              "        vertical-align: middle;\n",
              "    }\n",
              "\n",
              "    .dataframe tbody tr th {\n",
              "        vertical-align: top;\n",
              "    }\n",
              "\n",
              "    .dataframe thead th {\n",
              "        text-align: right;\n",
              "    }\n",
              "</style>\n",
              "<table border=\"1\" class=\"dataframe\">\n",
              "  <thead>\n",
              "    <tr style=\"text-align: right;\">\n",
              "      <th></th>\n",
              "      <th>sptr</th>\n",
              "      <th>accession</th>\n",
              "      <th>organism</th>\n",
              "      <th>Gene Name</th>\n",
              "      <th>length</th>\n",
              "      <th>PE Score</th>\n",
              "    </tr>\n",
              "  </thead>\n",
              "  <tbody>\n",
              "    <tr>\n",
              "      <th>0</th>\n",
              "      <td>sp</td>\n",
              "      <td>Q00266</td>\n",
              "      <td>Homo sapiens</td>\n",
              "      <td>MAT1A</td>\n",
              "      <td>395</td>\n",
              "      <td>1</td>\n",
              "    </tr>\n",
              "    <tr>\n",
              "      <th>1</th>\n",
              "      <td>sp</td>\n",
              "      <td>Q8NB16</td>\n",
              "      <td>Homo sapiens</td>\n",
              "      <td>MLKL</td>\n",
              "      <td>471</td>\n",
              "      <td>1</td>\n",
              "    </tr>\n",
              "    <tr>\n",
              "      <th>2</th>\n",
              "      <td>sp</td>\n",
              "      <td>O94851</td>\n",
              "      <td>Homo sapiens</td>\n",
              "      <td>MICAL2</td>\n",
              "      <td>1124</td>\n",
              "      <td>1</td>\n",
              "    </tr>\n",
              "    <tr>\n",
              "      <th>3</th>\n",
              "      <td>sp</td>\n",
              "      <td>Q8TDZ2</td>\n",
              "      <td>Homo sapiens</td>\n",
              "      <td>MICAL1</td>\n",
              "      <td>1067</td>\n",
              "      <td>1</td>\n",
              "    </tr>\n",
              "    <tr>\n",
              "      <th>4</th>\n",
              "      <td>sp</td>\n",
              "      <td>Q9NPJ6</td>\n",
              "      <td>Homo sapiens</td>\n",
              "      <td>MED4</td>\n",
              "      <td>270</td>\n",
              "      <td>1</td>\n",
              "    </tr>\n",
              "    <tr>\n",
              "      <th>...</th>\n",
              "      <td>...</td>\n",
              "      <td>...</td>\n",
              "      <td>...</td>\n",
              "      <td>...</td>\n",
              "      <td>...</td>\n",
              "      <td>...</td>\n",
              "    </tr>\n",
              "    <tr>\n",
              "      <th>78115</th>\n",
              "      <td>tr</td>\n",
              "      <td>A0A087WVB8</td>\n",
              "      <td>Homo sapiens</td>\n",
              "      <td>CNBD2</td>\n",
              "      <td>181</td>\n",
              "      <td>1</td>\n",
              "    </tr>\n",
              "    <tr>\n",
              "      <th>78116</th>\n",
              "      <td>tr</td>\n",
              "      <td>H0Y876</td>\n",
              "      <td>Homo sapiens</td>\n",
              "      <td>CCDC136</td>\n",
              "      <td>548</td>\n",
              "      <td>1</td>\n",
              "    </tr>\n",
              "    <tr>\n",
              "      <th>78117</th>\n",
              "      <td>tr</td>\n",
              "      <td>A0A3B3IU88</td>\n",
              "      <td>Homo sapiens</td>\n",
              "      <td>No Name</td>\n",
              "      <td>217</td>\n",
              "      <td>4</td>\n",
              "    </tr>\n",
              "    <tr>\n",
              "      <th>78118</th>\n",
              "      <td>tr</td>\n",
              "      <td>A0A1W2PR38</td>\n",
              "      <td>Homo sapiens</td>\n",
              "      <td>CSAG2</td>\n",
              "      <td>78</td>\n",
              "      <td>4</td>\n",
              "    </tr>\n",
              "    <tr>\n",
              "      <th>78119</th>\n",
              "      <td>tr</td>\n",
              "      <td>A0A1B0GU22</td>\n",
              "      <td>Homo sapiens</td>\n",
              "      <td>No Name</td>\n",
              "      <td>75</td>\n",
              "      <td>3</td>\n",
              "    </tr>\n",
              "  </tbody>\n",
              "</table>\n",
              "<p>78120 rows × 6 columns</p>\n",
              "</div>"
            ],
            "text/plain": [
              "      sptr   accession       organism Gene Name  length  PE Score\n",
              "0       sp      Q00266  Homo sapiens     MAT1A      395         1\n",
              "1       sp      Q8NB16  Homo sapiens      MLKL      471         1\n",
              "2       sp      O94851  Homo sapiens    MICAL2     1124         1\n",
              "3       sp      Q8TDZ2  Homo sapiens    MICAL1     1067         1\n",
              "4       sp      Q9NPJ6  Homo sapiens      MED4      270         1\n",
              "...    ...         ...            ...       ...     ...       ...\n",
              "78115   tr  A0A087WVB8  Homo sapiens     CNBD2      181         1\n",
              "78116   tr      H0Y876  Homo sapiens   CCDC136      548         1\n",
              "78117   tr  A0A3B3IU88  Homo sapiens    No Name     217         4\n",
              "78118   tr  A0A1W2PR38  Homo sapiens     CSAG2       78         4\n",
              "78119   tr  A0A1B0GU22  Homo sapiens    No Name      75         3\n",
              "\n",
              "[78120 rows x 6 columns]"
            ]
          },
          "metadata": {
            "tags": []
          },
          "execution_count": 17
        }
      ]
    },
    {
      "cell_type": "code",
      "metadata": {
        "colab": {
          "base_uri": "https://localhost:8080/",
          "height": 265
        },
        "id": "PLetSgxZpZ2P",
        "outputId": "2a88a6fa-ee25-40e2-9339-c8b00626e821"
      },
      "source": [
        "jaccard_threshold_plot(df_protein_features, human_proteome, w, b)"
      ],
      "execution_count": null,
      "outputs": [
        {
          "output_type": "display_data",
          "data": {
            "image/png": "[encoded data removed]",
            "text/plain": [
              "<Figure size 432x288 with 1 Axes>"
            ]
          },
          "metadata": {
            "tags": [],
            "needs_background": "light"
          }
        }
      ]
    },
    {
      "cell_type": "code",
      "metadata": {
        "colab": {
          "base_uri": "https://localhost:8080/",
          "height": 419
        },
        "id": "nG95ZYYqNJ4j",
        "outputId": "5e3654a0-0eab-4b31-e18a-ffebc7dcd452"
      },
      "source": [
        "sample_size = int(0.2*len(df_protein_features['Length']))\n",
        "sample_df = df_protein_features.sample(sample_size)\n",
        "sample_df"
      ],
      "execution_count": null,
      "outputs": [
        {
          "output_type": "execute_result",
          "data": {
            "text/html": [
              "<div>\n",
              "<style scoped>\n",
              "    .dataframe tbody tr th:only-of-type {\n",
              "        vertical-align: middle;\n",
              "    }\n",
              "\n",
              "    .dataframe tbody tr th {\n",
              "        vertical-align: top;\n",
              "    }\n",
              "\n",
              "    .dataframe thead th {\n",
              "        text-align: right;\n",
              "    }\n",
              "</style>\n",
              "<table border=\"1\" class=\"dataframe\">\n",
              "  <thead>\n",
              "    <tr style=\"text-align: right;\">\n",
              "      <th></th>\n",
              "      <th>Protein Accession</th>\n",
              "      <th>Length</th>\n",
              "      <th>PE Score</th>\n",
              "      <th>#Confirmed Isoforms</th>\n",
              "      <th>In Reference Proteome</th>\n",
              "    </tr>\n",
              "  </thead>\n",
              "  <tbody>\n",
              "    <tr>\n",
              "      <th>153448</th>\n",
              "      <td>V5ZDU6</td>\n",
              "      <td>229</td>\n",
              "      <td>3</td>\n",
              "      <td>0</td>\n",
              "      <td>0</td>\n",
              "    </tr>\n",
              "    <tr>\n",
              "      <th>14085</th>\n",
              "      <td>B4DR16</td>\n",
              "      <td>149</td>\n",
              "      <td>2</td>\n",
              "      <td>0</td>\n",
              "      <td>0</td>\n",
              "    </tr>\n",
              "    <tr>\n",
              "      <th>83728</th>\n",
              "      <td>A0A1L2BM69</td>\n",
              "      <td>181</td>\n",
              "      <td>3</td>\n",
              "      <td>0</td>\n",
              "      <td>0</td>\n",
              "    </tr>\n",
              "    <tr>\n",
              "      <th>126200</th>\n",
              "      <td>H9C3J6</td>\n",
              "      <td>82</td>\n",
              "      <td>3</td>\n",
              "      <td>0</td>\n",
              "      <td>0</td>\n",
              "    </tr>\n",
              "    <tr>\n",
              "      <th>140801</th>\n",
              "      <td>Q6NVW5</td>\n",
              "      <td>503</td>\n",
              "      <td>2</td>\n",
              "      <td>0</td>\n",
              "      <td>0</td>\n",
              "    </tr>\n",
              "    <tr>\n",
              "      <th>...</th>\n",
              "      <td>...</td>\n",
              "      <td>...</td>\n",
              "      <td>...</td>\n",
              "      <td>...</td>\n",
              "      <td>...</td>\n",
              "    </tr>\n",
              "    <tr>\n",
              "      <th>170533</th>\n",
              "      <td>P0CG08</td>\n",
              "      <td>455</td>\n",
              "      <td>1</td>\n",
              "      <td>0</td>\n",
              "      <td>1</td>\n",
              "    </tr>\n",
              "    <tr>\n",
              "      <th>134638</th>\n",
              "      <td>Q30037</td>\n",
              "      <td>83</td>\n",
              "      <td>4</td>\n",
              "      <td>0</td>\n",
              "      <td>0</td>\n",
              "    </tr>\n",
              "    <tr>\n",
              "      <th>56543</th>\n",
              "      <td>K7EJ41</td>\n",
              "      <td>52</td>\n",
              "      <td>1</td>\n",
              "      <td>0</td>\n",
              "      <td>1</td>\n",
              "    </tr>\n",
              "    <tr>\n",
              "      <th>124614</th>\n",
              "      <td>A0A346M0E6</td>\n",
              "      <td>261</td>\n",
              "      <td>3</td>\n",
              "      <td>0</td>\n",
              "      <td>0</td>\n",
              "    </tr>\n",
              "    <tr>\n",
              "      <th>96578</th>\n",
              "      <td>B3KTM8</td>\n",
              "      <td>348</td>\n",
              "      <td>1</td>\n",
              "      <td>0</td>\n",
              "      <td>1</td>\n",
              "    </tr>\n",
              "  </tbody>\n",
              "</table>\n",
              "<p>40432 rows × 5 columns</p>\n",
              "</div>"
            ],
            "text/plain": [
              "       Protein Accession  Length  ...  #Confirmed Isoforms  In Reference Proteome\n",
              "153448            V5ZDU6     229  ...                    0                      0\n",
              "14085             B4DR16     149  ...                    0                      0\n",
              "83728         A0A1L2BM69     181  ...                    0                      0\n",
              "126200            H9C3J6      82  ...                    0                      0\n",
              "140801            Q6NVW5     503  ...                    0                      0\n",
              "...                  ...     ...  ...                  ...                    ...\n",
              "170533            P0CG08     455  ...                    0                      1\n",
              "134638            Q30037      83  ...                    0                      0\n",
              "56543             K7EJ41      52  ...                    0                      1\n",
              "124614        A0A346M0E6     261  ...                    0                      0\n",
              "96578             B3KTM8     348  ...                    0                      1\n",
              "\n",
              "[40432 rows x 5 columns]"
            ]
          },
          "metadata": {
            "tags": []
          },
          "execution_count": 37
        }
      ]
    },
    {
      "cell_type": "code",
      "metadata": {
        "colab": {
          "base_uri": "https://localhost:8080/",
          "height": 419
        },
        "id": "Q_F1gqiEkPiv",
        "outputId": "09a700fb-5613-4435-d340-f25677353ae7"
      },
      "source": [
        "sample_df = z_score_dataframe(sample_df)\n",
        "sample_df"
      ],
      "execution_count": null,
      "outputs": [
        {
          "output_type": "execute_result",
          "data": {
            "text/html": [
              "<div>\n",
              "<style scoped>\n",
              "    .dataframe tbody tr th:only-of-type {\n",
              "        vertical-align: middle;\n",
              "    }\n",
              "\n",
              "    .dataframe tbody tr th {\n",
              "        vertical-align: top;\n",
              "    }\n",
              "\n",
              "    .dataframe thead th {\n",
              "        text-align: right;\n",
              "    }\n",
              "</style>\n",
              "<table border=\"1\" class=\"dataframe\">\n",
              "  <thead>\n",
              "    <tr style=\"text-align: right;\">\n",
              "      <th></th>\n",
              "      <th>Protein Accession</th>\n",
              "      <th>Length</th>\n",
              "      <th>PE Score</th>\n",
              "      <th>#Confirmed Isoforms</th>\n",
              "      <th>In Reference Proteome</th>\n",
              "    </tr>\n",
              "  </thead>\n",
              "  <tbody>\n",
              "    <tr>\n",
              "      <th>153448</th>\n",
              "      <td>V5ZDU6</td>\n",
              "      <td>-0.168027</td>\n",
              "      <td>0.626418</td>\n",
              "      <td>-0.175073</td>\n",
              "      <td>0</td>\n",
              "    </tr>\n",
              "    <tr>\n",
              "      <th>14085</th>\n",
              "      <td>B4DR16</td>\n",
              "      <td>-0.363849</td>\n",
              "      <td>-0.275649</td>\n",
              "      <td>-0.175073</td>\n",
              "      <td>0</td>\n",
              "    </tr>\n",
              "    <tr>\n",
              "      <th>83728</th>\n",
              "      <td>A0A1L2BM69</td>\n",
              "      <td>-0.285520</td>\n",
              "      <td>0.626418</td>\n",
              "      <td>-0.175073</td>\n",
              "      <td>0</td>\n",
              "    </tr>\n",
              "    <tr>\n",
              "      <th>126200</th>\n",
              "      <td>H9C3J6</td>\n",
              "      <td>-0.527849</td>\n",
              "      <td>0.626418</td>\n",
              "      <td>-0.175073</td>\n",
              "      <td>0</td>\n",
              "    </tr>\n",
              "    <tr>\n",
              "      <th>140801</th>\n",
              "      <td>Q6NVW5</td>\n",
              "      <td>0.502660</td>\n",
              "      <td>-0.275649</td>\n",
              "      <td>-0.175073</td>\n",
              "      <td>0</td>\n",
              "    </tr>\n",
              "    <tr>\n",
              "      <th>...</th>\n",
              "      <td>...</td>\n",
              "      <td>...</td>\n",
              "      <td>...</td>\n",
              "      <td>...</td>\n",
              "      <td>...</td>\n",
              "    </tr>\n",
              "    <tr>\n",
              "      <th>170533</th>\n",
              "      <td>P0CG08</td>\n",
              "      <td>0.385168</td>\n",
              "      <td>-1.177715</td>\n",
              "      <td>-0.175073</td>\n",
              "      <td>1</td>\n",
              "    </tr>\n",
              "    <tr>\n",
              "      <th>134638</th>\n",
              "      <td>Q30037</td>\n",
              "      <td>-0.525401</td>\n",
              "      <td>1.528484</td>\n",
              "      <td>-0.175073</td>\n",
              "      <td>0</td>\n",
              "    </tr>\n",
              "    <tr>\n",
              "      <th>56543</th>\n",
              "      <td>K7EJ41</td>\n",
              "      <td>-0.601282</td>\n",
              "      <td>-1.177715</td>\n",
              "      <td>-0.175073</td>\n",
              "      <td>1</td>\n",
              "    </tr>\n",
              "    <tr>\n",
              "      <th>124614</th>\n",
              "      <td>A0A346M0E6</td>\n",
              "      <td>-0.089699</td>\n",
              "      <td>0.626418</td>\n",
              "      <td>-0.175073</td>\n",
              "      <td>0</td>\n",
              "    </tr>\n",
              "    <tr>\n",
              "      <th>96578</th>\n",
              "      <td>B3KTM8</td>\n",
              "      <td>0.123257</td>\n",
              "      <td>-1.177715</td>\n",
              "      <td>-0.175073</td>\n",
              "      <td>1</td>\n",
              "    </tr>\n",
              "  </tbody>\n",
              "</table>\n",
              "<p>40432 rows × 5 columns</p>\n",
              "</div>"
            ],
            "text/plain": [
              "       Protein Accession    Length  ...  #Confirmed Isoforms  In Reference Proteome\n",
              "153448            V5ZDU6 -0.168027  ...            -0.175073                      0\n",
              "14085             B4DR16 -0.363849  ...            -0.175073                      0\n",
              "83728         A0A1L2BM69 -0.285520  ...            -0.175073                      0\n",
              "126200            H9C3J6 -0.527849  ...            -0.175073                      0\n",
              "140801            Q6NVW5  0.502660  ...            -0.175073                      0\n",
              "...                  ...       ...  ...                  ...                    ...\n",
              "170533            P0CG08  0.385168  ...            -0.175073                      1\n",
              "134638            Q30037 -0.525401  ...            -0.175073                      0\n",
              "56543             K7EJ41 -0.601282  ...            -0.175073                      1\n",
              "124614        A0A346M0E6 -0.089699  ...            -0.175073                      0\n",
              "96578             B3KTM8  0.123257  ...            -0.175073                      1\n",
              "\n",
              "[40432 rows x 5 columns]"
            ]
          },
          "metadata": {
            "tags": []
          },
          "execution_count": 38
        }
      ]
    },
    {
      "cell_type": "code",
      "metadata": {
        "id": "WuBqgAEGeq1u"
      },
      "source": [
        "reference_proteins = []\n",
        "\n",
        "for k in range(len(sample_df['Length'])):\n",
        "    if sample_df['In Reference Proteome'].values[k] == 1:\n",
        "        reference_proteins.append(sample_df['Protein Accession'].values[k])\n",
        "    else:\n",
        "        pass\n",
        "\n",
        "reference_proteins = set(reference_proteins)\n",
        "reference_proteins"
      ],
      "execution_count": null,
      "outputs": []
    },
    {
      "cell_type": "code",
      "metadata": {
        "colab": {
          "base_uri": "https://localhost:8080/"
        },
        "id": "nJ1c5FdsNdqs",
        "outputId": "d89299c9-815e-4406-dbe7-26d0faa6f6a1"
      },
      "source": [
        "threshold = 0.5\n",
        "#w = w[0]\n",
        "proteins_predict = []\n",
        "\n",
        "for k in range(len(sample_df['Length'])):\n",
        "    L = [list(sample_df['Length'])[k],\n",
        "         list(sample_df['PE Score'])[k],\n",
        "         list(sample_df['#Confirmed Isoforms'])[k]]\n",
        "    \n",
        "    z = w[0]*L[0] + w[1]*L[1] + w[2]*L[2] + b\n",
        "    p = sigmoid_function(z)\n",
        "\n",
        "    if p >= threshold:\n",
        "        proteins_predict.append(list(sample_df['Protein Accession'])[k])\n",
        "\n",
        "J = jaccard_overlap(set(proteins_predict), set(reference_proteins))\n",
        "J"
      ],
      "execution_count": null,
      "outputs": [
        {
          "output_type": "execute_result",
          "data": {
            "text/plain": [
              "0.8045830681094844"
            ]
          },
          "metadata": {
            "tags": []
          },
          "execution_count": 40
        }
      ]
    },
    {
      "cell_type": "code",
      "metadata": {
        "colab": {
          "base_uri": "https://localhost:8080/"
        },
        "id": "bBENnmQjOnp1",
        "outputId": "6d927d9a-eb44-4c85-d127-9287980a408a"
      },
      "source": [
        "print(\"With random 20% of homo sapien database, J = \", J)"
      ],
      "execution_count": null,
      "outputs": [
        {
          "output_type": "stream",
          "text": [
            "With random 20% of homo sapien database, J =  0.8045830681094844\n"
          ],
          "name": "stdout"
        }
      ]
    },
    {
      "cell_type": "markdown",
      "metadata": {
        "id": "XF5OIElGoUOq"
      },
      "source": [
        "# Testing model on mouse"
      ]
    },
    {
      "cell_type": "code",
      "metadata": {
        "colab": {
          "base_uri": "https://localhost:8080/"
        },
        "id": "OINwQOePnUe-",
        "outputId": "dd6679d0-b345-44be-80b8-6a21bc70833d"
      },
      "source": [
        "%cd -"
      ],
      "execution_count": null,
      "outputs": [
        {
          "output_type": "stream",
          "text": [
            "/content/drive/.shortcut-targets-by-id/1H3M9nQYJ9K9M22jDv-wcvZ0azPz9lhsr/Pig Proteomics Summer Project\n"
          ],
          "name": "stdout"
        }
      ]
    },
    {
      "cell_type": "code",
      "metadata": {
        "colab": {
          "base_uri": "https://localhost:8080/"
        },
        "id": "kAkahLh1c0dW",
        "outputId": "ae050a9a-51dd-4530-9594-68074d573dc9"
      },
      "source": [
        "%cd data"
      ],
      "execution_count": null,
      "outputs": [
        {
          "output_type": "stream",
          "text": [
            "/content/drive/.shortcut-targets-by-id/1H3M9nQYJ9K9M22jDv-wcvZ0azPz9lhsr/Pig Proteomics Summer Project/data\n"
          ],
          "name": "stdout"
        }
      ]
    },
    {
      "cell_type": "code",
      "metadata": {
        "id": "9fAtZ1jqEYxb"
      },
      "source": [
        "mouse_all_file = 'mus_musculus_all.fasta'\n",
        "mouse_proteome_file = 'mus_musculus_uniprot-proteome_UP000000589.fasta'\n",
        "mouse_isoform_file = 'all_mouse_and_isoforms.fasta'"
      ],
      "execution_count": null,
      "outputs": []
    },
    {
      "cell_type": "code",
      "metadata": {
        "colab": {
          "base_uri": "https://localhost:8080/",
          "height": 419
        },
        "id": "BKHXrIzSErcC",
        "outputId": "4d32bb8b-d7be-4366-cd7e-5e1964a6990a"
      },
      "source": [
        "protein_to_features_mouse = protein_to_features(mouse_all_file, mouse_proteome_file, mouse_isoform_file)\n",
        "protein_to_features_mouse_df = protein_features_dataframe(protein_to_features_mouse)\n",
        "protein_to_features_mouse_df"
      ],
      "execution_count": null,
      "outputs": [
        {
          "output_type": "execute_result",
          "data": {
            "text/html": [
              "<div>\n",
              "<style scoped>\n",
              "    .dataframe tbody tr th:only-of-type {\n",
              "        vertical-align: middle;\n",
              "    }\n",
              "\n",
              "    .dataframe tbody tr th {\n",
              "        vertical-align: top;\n",
              "    }\n",
              "\n",
              "    .dataframe thead th {\n",
              "        text-align: right;\n",
              "    }\n",
              "</style>\n",
              "<table border=\"1\" class=\"dataframe\">\n",
              "  <thead>\n",
              "    <tr style=\"text-align: right;\">\n",
              "      <th></th>\n",
              "      <th>Protein Accession</th>\n",
              "      <th>Length</th>\n",
              "      <th>PE Score</th>\n",
              "      <th>#Confirmed Isoforms</th>\n",
              "      <th>In Reference Proteome</th>\n",
              "    </tr>\n",
              "  </thead>\n",
              "  <tbody>\n",
              "    <tr>\n",
              "      <th>0</th>\n",
              "      <td>P02762</td>\n",
              "      <td>180</td>\n",
              "      <td>1</td>\n",
              "      <td>0</td>\n",
              "      <td>1</td>\n",
              "    </tr>\n",
              "    <tr>\n",
              "      <th>1</th>\n",
              "      <td>Q91ZJ0</td>\n",
              "      <td>551</td>\n",
              "      <td>1</td>\n",
              "      <td>0</td>\n",
              "      <td>1</td>\n",
              "    </tr>\n",
              "    <tr>\n",
              "      <th>2</th>\n",
              "      <td>Q6ZQL8</td>\n",
              "      <td>611</td>\n",
              "      <td>2</td>\n",
              "      <td>0</td>\n",
              "      <td>0</td>\n",
              "    </tr>\n",
              "    <tr>\n",
              "      <th>3</th>\n",
              "      <td>Q8R4K8</td>\n",
              "      <td>1624</td>\n",
              "      <td>2</td>\n",
              "      <td>1</td>\n",
              "      <td>1</td>\n",
              "    </tr>\n",
              "    <tr>\n",
              "      <th>4</th>\n",
              "      <td>P02089</td>\n",
              "      <td>147</td>\n",
              "      <td>1</td>\n",
              "      <td>0</td>\n",
              "      <td>1</td>\n",
              "    </tr>\n",
              "    <tr>\n",
              "      <th>...</th>\n",
              "      <td>...</td>\n",
              "      <td>...</td>\n",
              "      <td>...</td>\n",
              "      <td>...</td>\n",
              "      <td>...</td>\n",
              "    </tr>\n",
              "    <tr>\n",
              "      <th>86516</th>\n",
              "      <td>Q9Z0F1</td>\n",
              "      <td>257</td>\n",
              "      <td>2</td>\n",
              "      <td>1</td>\n",
              "      <td>1</td>\n",
              "    </tr>\n",
              "    <tr>\n",
              "      <th>86517</th>\n",
              "      <td>Q9DCZ1</td>\n",
              "      <td>345</td>\n",
              "      <td>1</td>\n",
              "      <td>0</td>\n",
              "      <td>1</td>\n",
              "    </tr>\n",
              "    <tr>\n",
              "      <th>86518</th>\n",
              "      <td>Q9EQQ3</td>\n",
              "      <td>425</td>\n",
              "      <td>2</td>\n",
              "      <td>0</td>\n",
              "      <td>1</td>\n",
              "    </tr>\n",
              "    <tr>\n",
              "      <th>86519</th>\n",
              "      <td>Q99L27</td>\n",
              "      <td>348</td>\n",
              "      <td>1</td>\n",
              "      <td>0</td>\n",
              "      <td>1</td>\n",
              "    </tr>\n",
              "    <tr>\n",
              "      <th>86520</th>\n",
              "      <td>Q9JJZ5</td>\n",
              "      <td>550</td>\n",
              "      <td>1</td>\n",
              "      <td>0</td>\n",
              "      <td>1</td>\n",
              "    </tr>\n",
              "  </tbody>\n",
              "</table>\n",
              "<p>86521 rows × 5 columns</p>\n",
              "</div>"
            ],
            "text/plain": [
              "      Protein Accession  Length  ...  #Confirmed Isoforms  In Reference Proteome\n",
              "0                P02762     180  ...                    0                      1\n",
              "1                Q91ZJ0     551  ...                    0                      1\n",
              "2                Q6ZQL8     611  ...                    0                      0\n",
              "3                Q8R4K8    1624  ...                    1                      1\n",
              "4                P02089     147  ...                    0                      1\n",
              "...                 ...     ...  ...                  ...                    ...\n",
              "86516            Q9Z0F1     257  ...                    1                      1\n",
              "86517            Q9DCZ1     345  ...                    0                      1\n",
              "86518            Q9EQQ3     425  ...                    0                      1\n",
              "86519            Q99L27     348  ...                    0                      1\n",
              "86520            Q9JJZ5     550  ...                    0                      1\n",
              "\n",
              "[86521 rows x 5 columns]"
            ]
          },
          "metadata": {
            "tags": []
          },
          "execution_count": 46
        }
      ]
    },
    {
      "cell_type": "code",
      "metadata": {
        "colab": {
          "base_uri": "https://localhost:8080/",
          "height": 419
        },
        "id": "PjVHNnINplTK",
        "outputId": "7c87e73c-c826-49c7-c9d0-36ec0cfde7f4"
      },
      "source": [
        "protein_to_features_mouse_df = z_score_dataframe(protein_to_features_mouse_df)\n",
        "protein_to_features_mouse_df"
      ],
      "execution_count": null,
      "outputs": [
        {
          "output_type": "execute_result",
          "data": {
            "text/html": [
              "<div>\n",
              "<style scoped>\n",
              "    .dataframe tbody tr th:only-of-type {\n",
              "        vertical-align: middle;\n",
              "    }\n",
              "\n",
              "    .dataframe tbody tr th {\n",
              "        vertical-align: top;\n",
              "    }\n",
              "\n",
              "    .dataframe thead th {\n",
              "        text-align: right;\n",
              "    }\n",
              "</style>\n",
              "<table border=\"1\" class=\"dataframe\">\n",
              "  <thead>\n",
              "    <tr style=\"text-align: right;\">\n",
              "      <th></th>\n",
              "      <th>Protein Accession</th>\n",
              "      <th>Length</th>\n",
              "      <th>PE Score</th>\n",
              "      <th>#Confirmed Isoforms</th>\n",
              "      <th>In Reference Proteome</th>\n",
              "    </tr>\n",
              "  </thead>\n",
              "  <tbody>\n",
              "    <tr>\n",
              "      <th>0</th>\n",
              "      <td>P02762</td>\n",
              "      <td>-0.429084</td>\n",
              "      <td>-0.863836</td>\n",
              "      <td>-0.186878</td>\n",
              "      <td>1</td>\n",
              "    </tr>\n",
              "    <tr>\n",
              "      <th>1</th>\n",
              "      <td>Q91ZJ0</td>\n",
              "      <td>0.292768</td>\n",
              "      <td>-0.863836</td>\n",
              "      <td>-0.186878</td>\n",
              "      <td>1</td>\n",
              "    </tr>\n",
              "    <tr>\n",
              "      <th>2</th>\n",
              "      <td>Q6ZQL8</td>\n",
              "      <td>0.409510</td>\n",
              "      <td>0.117699</td>\n",
              "      <td>-0.186878</td>\n",
              "      <td>0</td>\n",
              "    </tr>\n",
              "    <tr>\n",
              "      <th>3</th>\n",
              "      <td>Q8R4K8</td>\n",
              "      <td>2.380496</td>\n",
              "      <td>0.117699</td>\n",
              "      <td>1.763054</td>\n",
              "      <td>1</td>\n",
              "    </tr>\n",
              "    <tr>\n",
              "      <th>4</th>\n",
              "      <td>P02089</td>\n",
              "      <td>-0.493292</td>\n",
              "      <td>-0.863836</td>\n",
              "      <td>-0.186878</td>\n",
              "      <td>1</td>\n",
              "    </tr>\n",
              "    <tr>\n",
              "      <th>...</th>\n",
              "      <td>...</td>\n",
              "      <td>...</td>\n",
              "      <td>...</td>\n",
              "      <td>...</td>\n",
              "      <td>...</td>\n",
              "    </tr>\n",
              "    <tr>\n",
              "      <th>86516</th>\n",
              "      <td>Q9Z0F1</td>\n",
              "      <td>-0.279265</td>\n",
              "      <td>0.117699</td>\n",
              "      <td>1.763054</td>\n",
              "      <td>1</td>\n",
              "    </tr>\n",
              "    <tr>\n",
              "      <th>86517</th>\n",
              "      <td>Q9DCZ1</td>\n",
              "      <td>-0.108045</td>\n",
              "      <td>-0.863836</td>\n",
              "      <td>-0.186878</td>\n",
              "      <td>1</td>\n",
              "    </tr>\n",
              "    <tr>\n",
              "      <th>86518</th>\n",
              "      <td>Q9EQQ3</td>\n",
              "      <td>0.047611</td>\n",
              "      <td>0.117699</td>\n",
              "      <td>-0.186878</td>\n",
              "      <td>1</td>\n",
              "    </tr>\n",
              "    <tr>\n",
              "      <th>86519</th>\n",
              "      <td>Q99L27</td>\n",
              "      <td>-0.102207</td>\n",
              "      <td>-0.863836</td>\n",
              "      <td>-0.186878</td>\n",
              "      <td>1</td>\n",
              "    </tr>\n",
              "    <tr>\n",
              "      <th>86520</th>\n",
              "      <td>Q9JJZ5</td>\n",
              "      <td>0.290822</td>\n",
              "      <td>-0.863836</td>\n",
              "      <td>-0.186878</td>\n",
              "      <td>1</td>\n",
              "    </tr>\n",
              "  </tbody>\n",
              "</table>\n",
              "<p>86521 rows × 5 columns</p>\n",
              "</div>"
            ],
            "text/plain": [
              "      Protein Accession    Length  ...  #Confirmed Isoforms  In Reference Proteome\n",
              "0                P02762 -0.429084  ...            -0.186878                      1\n",
              "1                Q91ZJ0  0.292768  ...            -0.186878                      1\n",
              "2                Q6ZQL8  0.409510  ...            -0.186878                      0\n",
              "3                Q8R4K8  2.380496  ...             1.763054                      1\n",
              "4                P02089 -0.493292  ...            -0.186878                      1\n",
              "...                 ...       ...  ...                  ...                    ...\n",
              "86516            Q9Z0F1 -0.279265  ...             1.763054                      1\n",
              "86517            Q9DCZ1 -0.108045  ...            -0.186878                      1\n",
              "86518            Q9EQQ3  0.047611  ...            -0.186878                      1\n",
              "86519            Q99L27 -0.102207  ...            -0.186878                      1\n",
              "86520            Q9JJZ5  0.290822  ...            -0.186878                      1\n",
              "\n",
              "[86521 rows x 5 columns]"
            ]
          },
          "metadata": {
            "tags": []
          },
          "execution_count": 47
        }
      ]
    },
    {
      "cell_type": "code",
      "metadata": {
        "id": "gDddnOCy89ih"
      },
      "source": [
        "protein_to_features_mouse_df.to_csv(\"mus_musculus_features.csv\")"
      ],
      "execution_count": null,
      "outputs": []
    },
    {
      "cell_type": "code",
      "metadata": {
        "colab": {
          "base_uri": "https://localhost:8080/"
        },
        "id": "S-xBrJ2yqTHL",
        "outputId": "09b6b199-819b-4a6f-ff72-79e7afbaf433"
      },
      "source": [
        "%cd -"
      ],
      "execution_count": null,
      "outputs": [
        {
          "output_type": "stream",
          "text": [
            "/content/drive/.shortcut-targets-by-id/1H3M9nQYJ9K9M22jDv-wcvZ0azPz9lhsr/Pig Proteomics Summer Project\n"
          ],
          "name": "stdout"
        }
      ]
    },
    {
      "cell_type": "code",
      "metadata": {
        "colab": {
          "base_uri": "https://localhost:8080/"
        },
        "id": "QbMMVExRqUMQ",
        "outputId": "97102928-c7eb-4725-9a73-4d636070f339"
      },
      "source": [
        "%cd output"
      ],
      "execution_count": null,
      "outputs": [
        {
          "output_type": "stream",
          "text": [
            "/content/drive/.shortcut-targets-by-id/1H3M9nQYJ9K9M22jDv-wcvZ0azPz9lhsr/Pig Proteomics Summer Project/output\n"
          ],
          "name": "stdout"
        }
      ]
    },
    {
      "cell_type": "code",
      "metadata": {
        "colab": {
          "base_uri": "https://localhost:8080/",
          "height": 419
        },
        "id": "DjEjpR9GMBaq",
        "outputId": "a925cfc0-2faf-45d1-a738-821e46f6162c"
      },
      "source": [
        "mouse_proteome_df = pd.read_csv(\"mouse_proteome_table_PE.csv\")\n",
        "mouse_proteome_df"
      ],
      "execution_count": null,
      "outputs": [
        {
          "output_type": "execute_result",
          "data": {
            "text/html": [
              "<div>\n",
              "<style scoped>\n",
              "    .dataframe tbody tr th:only-of-type {\n",
              "        vertical-align: middle;\n",
              "    }\n",
              "\n",
              "    .dataframe tbody tr th {\n",
              "        vertical-align: top;\n",
              "    }\n",
              "\n",
              "    .dataframe thead th {\n",
              "        text-align: right;\n",
              "    }\n",
              "</style>\n",
              "<table border=\"1\" class=\"dataframe\">\n",
              "  <thead>\n",
              "    <tr style=\"text-align: right;\">\n",
              "      <th></th>\n",
              "      <th>Unnamed: 0</th>\n",
              "      <th>sptr</th>\n",
              "      <th>accession</th>\n",
              "      <th>organism</th>\n",
              "      <th>Gene Name</th>\n",
              "      <th>length</th>\n",
              "      <th>PE Score</th>\n",
              "    </tr>\n",
              "  </thead>\n",
              "  <tbody>\n",
              "    <tr>\n",
              "      <th>0</th>\n",
              "      <td>0</td>\n",
              "      <td>sp</td>\n",
              "      <td>Q9D2V8</td>\n",
              "      <td>Mus musculus</td>\n",
              "      <td>Mfsd10</td>\n",
              "      <td>456</td>\n",
              "      <td>1</td>\n",
              "    </tr>\n",
              "    <tr>\n",
              "      <th>1</th>\n",
              "      <td>1</td>\n",
              "      <td>sp</td>\n",
              "      <td>Q8VHK5</td>\n",
              "      <td>Mus musculus</td>\n",
              "      <td>Mlc1</td>\n",
              "      <td>382</td>\n",
              "      <td>1</td>\n",
              "    </tr>\n",
              "    <tr>\n",
              "      <th>2</th>\n",
              "      <td>2</td>\n",
              "      <td>sp</td>\n",
              "      <td>Q5SW45</td>\n",
              "      <td>Mus musculus</td>\n",
              "      <td>Mks1</td>\n",
              "      <td>561</td>\n",
              "      <td>1</td>\n",
              "    </tr>\n",
              "    <tr>\n",
              "      <th>3</th>\n",
              "      <td>3</td>\n",
              "      <td>sp</td>\n",
              "      <td>Q3UQI9</td>\n",
              "      <td>Mus musculus</td>\n",
              "      <td>Mindy4</td>\n",
              "      <td>744</td>\n",
              "      <td>1</td>\n",
              "    </tr>\n",
              "    <tr>\n",
              "      <th>4</th>\n",
              "      <td>4</td>\n",
              "      <td>sp</td>\n",
              "      <td>Q9D273</td>\n",
              "      <td>Mus musculus</td>\n",
              "      <td>Mmab</td>\n",
              "      <td>237</td>\n",
              "      <td>1</td>\n",
              "    </tr>\n",
              "    <tr>\n",
              "      <th>...</th>\n",
              "      <td>...</td>\n",
              "      <td>...</td>\n",
              "      <td>...</td>\n",
              "      <td>...</td>\n",
              "      <td>...</td>\n",
              "      <td>...</td>\n",
              "      <td>...</td>\n",
              "    </tr>\n",
              "    <tr>\n",
              "      <th>55361</th>\n",
              "      <td>55361</td>\n",
              "      <td>tr</td>\n",
              "      <td>D3Z0K8</td>\n",
              "      <td>Mus musculus</td>\n",
              "      <td>Txnrd2</td>\n",
              "      <td>466</td>\n",
              "      <td>1</td>\n",
              "    </tr>\n",
              "    <tr>\n",
              "      <th>55362</th>\n",
              "      <td>55362</td>\n",
              "      <td>tr</td>\n",
              "      <td>A0A1L1STA1</td>\n",
              "      <td>Mus musculus</td>\n",
              "      <td>Csk</td>\n",
              "      <td>139</td>\n",
              "      <td>1</td>\n",
              "    </tr>\n",
              "    <tr>\n",
              "      <th>55363</th>\n",
              "      <td>55363</td>\n",
              "      <td>tr</td>\n",
              "      <td>A0A0G2JF94</td>\n",
              "      <td>Mus musculus</td>\n",
              "      <td>Trav14-1</td>\n",
              "      <td>121</td>\n",
              "      <td>1</td>\n",
              "    </tr>\n",
              "    <tr>\n",
              "      <th>55364</th>\n",
              "      <td>55364</td>\n",
              "      <td>tr</td>\n",
              "      <td>G5E8Y0</td>\n",
              "      <td>Mus musculus</td>\n",
              "      <td>Slc8a1</td>\n",
              "      <td>970</td>\n",
              "      <td>1</td>\n",
              "    </tr>\n",
              "    <tr>\n",
              "      <th>55365</th>\n",
              "      <td>55365</td>\n",
              "      <td>tr</td>\n",
              "      <td>E9Q851</td>\n",
              "      <td>Mus musculus</td>\n",
              "      <td>Racgap1</td>\n",
              "      <td>131</td>\n",
              "      <td>1</td>\n",
              "    </tr>\n",
              "  </tbody>\n",
              "</table>\n",
              "<p>55366 rows × 7 columns</p>\n",
              "</div>"
            ],
            "text/plain": [
              "       Unnamed: 0 sptr   accession       organism  Gene Name  length  PE Score\n",
              "0               0   sp      Q9D2V8  Mus musculus     Mfsd10      456         1\n",
              "1               1   sp      Q8VHK5  Mus musculus       Mlc1      382         1\n",
              "2               2   sp      Q5SW45  Mus musculus       Mks1      561         1\n",
              "3               3   sp      Q3UQI9  Mus musculus     Mindy4      744         1\n",
              "4               4   sp      Q9D273  Mus musculus       Mmab      237         1\n",
              "...           ...  ...         ...            ...        ...     ...       ...\n",
              "55361       55361   tr      D3Z0K8  Mus musculus     Txnrd2      466         1\n",
              "55362       55362   tr  A0A1L1STA1  Mus musculus        Csk      139         1\n",
              "55363       55363   tr  A0A0G2JF94  Mus musculus   Trav14-1      121         1\n",
              "55364       55364   tr      G5E8Y0  Mus musculus     Slc8a1      970         1\n",
              "55365       55365   tr      E9Q851  Mus musculus    Racgap1      131         1\n",
              "\n",
              "[55366 rows x 7 columns]"
            ]
          },
          "metadata": {
            "tags": []
          },
          "execution_count": 52
        }
      ]
    },
    {
      "cell_type": "code",
      "metadata": {
        "id": "KpJPoE8oqOE3"
      },
      "source": [
        "mouse_proteome_set = list(mouse_proteome_df['accession'])"
      ],
      "execution_count": null,
      "outputs": []
    },
    {
      "cell_type": "code",
      "metadata": {
        "colab": {
          "base_uri": "https://localhost:8080/"
        },
        "id": "1K5w6UE6qlUY",
        "outputId": "bfda7e09-39c2-400a-a1ef-a03cdad96073"
      },
      "source": [
        "threshold = 0.5\n",
        "#w = w[0]\n",
        "mouse_predict = []\n",
        "\n",
        "for k in range(len(protein_to_features_mouse_df['Length'])):\n",
        "    L = [list(protein_to_features_mouse_df['Length'])[k],\n",
        "         list(protein_to_features_mouse_df['PE Score'])[k],\n",
        "         list(protein_to_features_mouse_df['#Confirmed Isoforms'])[k]]\n",
        "    \n",
        "    z = w[0]*L[0] + w[1]*L[1] + w[2]*L[2] + b\n",
        "    p = sigmoid_function(z)\n",
        "\n",
        "    if p >= threshold:\n",
        "        mouse_predict.append(list(protein_to_features_mouse_df['Protein Accession'])[k])\n",
        "\n",
        "J = jaccard_overlap(set(mouse_predict), set(mouse_proteome_set))\n",
        "J"
      ],
      "execution_count": null,
      "outputs": [
        {
          "output_type": "execute_result",
          "data": {
            "text/plain": [
              "0.6721118132690242"
            ]
          },
          "metadata": {
            "tags": []
          },
          "execution_count": 56
        }
      ]
    },
    {
      "cell_type": "code",
      "metadata": {
        "colab": {
          "base_uri": "https://localhost:8080/",
          "height": 419
        },
        "id": "R3kN1-5184mH",
        "outputId": "600d33a4-00fd-42ec-ffa3-adb9278a6dd4"
      },
      "source": [
        "sample_size = int(0.2*len(protein_to_features_mouse_df['Length']))\n",
        "sample_df = df_protein_features.sample(sample_size)\n",
        "sample_df"
      ],
      "execution_count": null,
      "outputs": [
        {
          "output_type": "execute_result",
          "data": {
            "text/html": [
              "<div>\n",
              "<style scoped>\n",
              "    .dataframe tbody tr th:only-of-type {\n",
              "        vertical-align: middle;\n",
              "    }\n",
              "\n",
              "    .dataframe tbody tr th {\n",
              "        vertical-align: top;\n",
              "    }\n",
              "\n",
              "    .dataframe thead th {\n",
              "        text-align: right;\n",
              "    }\n",
              "</style>\n",
              "<table border=\"1\" class=\"dataframe\">\n",
              "  <thead>\n",
              "    <tr style=\"text-align: right;\">\n",
              "      <th></th>\n",
              "      <th>Protein Accession</th>\n",
              "      <th>Length</th>\n",
              "      <th>PE Score</th>\n",
              "      <th>#Confirmed Isoforms</th>\n",
              "      <th>In Reference Proteome</th>\n",
              "    </tr>\n",
              "  </thead>\n",
              "  <tbody>\n",
              "    <tr>\n",
              "      <th>180530</th>\n",
              "      <td>A0A590UK82</td>\n",
              "      <td>234</td>\n",
              "      <td>4</td>\n",
              "      <td>0</td>\n",
              "      <td>1</td>\n",
              "    </tr>\n",
              "    <tr>\n",
              "      <th>29537</th>\n",
              "      <td>B4DN13</td>\n",
              "      <td>254</td>\n",
              "      <td>2</td>\n",
              "      <td>0</td>\n",
              "      <td>0</td>\n",
              "    </tr>\n",
              "    <tr>\n",
              "      <th>131612</th>\n",
              "      <td>Q9UE29</td>\n",
              "      <td>29</td>\n",
              "      <td>4</td>\n",
              "      <td>0</td>\n",
              "      <td>0</td>\n",
              "    </tr>\n",
              "    <tr>\n",
              "      <th>63116</th>\n",
              "      <td>H0YJK6</td>\n",
              "      <td>134</td>\n",
              "      <td>1</td>\n",
              "      <td>0</td>\n",
              "      <td>1</td>\n",
              "    </tr>\n",
              "    <tr>\n",
              "      <th>117</th>\n",
              "      <td>G3V221</td>\n",
              "      <td>71</td>\n",
              "      <td>1</td>\n",
              "      <td>0</td>\n",
              "      <td>1</td>\n",
              "    </tr>\n",
              "    <tr>\n",
              "      <th>...</th>\n",
              "      <td>...</td>\n",
              "      <td>...</td>\n",
              "      <td>...</td>\n",
              "      <td>...</td>\n",
              "      <td>...</td>\n",
              "    </tr>\n",
              "    <tr>\n",
              "      <th>173812</th>\n",
              "      <td>O00522</td>\n",
              "      <td>736</td>\n",
              "      <td>1</td>\n",
              "      <td>2</td>\n",
              "      <td>1</td>\n",
              "    </tr>\n",
              "    <tr>\n",
              "      <th>195264</th>\n",
              "      <td>A0A5C2FYF6</td>\n",
              "      <td>106</td>\n",
              "      <td>2</td>\n",
              "      <td>0</td>\n",
              "      <td>0</td>\n",
              "    </tr>\n",
              "    <tr>\n",
              "      <th>158636</th>\n",
              "      <td>F4YUA0</td>\n",
              "      <td>181</td>\n",
              "      <td>3</td>\n",
              "      <td>0</td>\n",
              "      <td>0</td>\n",
              "    </tr>\n",
              "    <tr>\n",
              "      <th>80238</th>\n",
              "      <td>V5J9Y5</td>\n",
              "      <td>89</td>\n",
              "      <td>4</td>\n",
              "      <td>0</td>\n",
              "      <td>0</td>\n",
              "    </tr>\n",
              "    <tr>\n",
              "      <th>15887</th>\n",
              "      <td>L8E827</td>\n",
              "      <td>56</td>\n",
              "      <td>4</td>\n",
              "      <td>0</td>\n",
              "      <td>0</td>\n",
              "    </tr>\n",
              "  </tbody>\n",
              "</table>\n",
              "<p>17304 rows × 5 columns</p>\n",
              "</div>"
            ],
            "text/plain": [
              "       Protein Accession  Length  ...  #Confirmed Isoforms  In Reference Proteome\n",
              "180530        A0A590UK82     234  ...                    0                      1\n",
              "29537             B4DN13     254  ...                    0                      0\n",
              "131612            Q9UE29      29  ...                    0                      0\n",
              "63116             H0YJK6     134  ...                    0                      1\n",
              "117               G3V221      71  ...                    0                      1\n",
              "...                  ...     ...  ...                  ...                    ...\n",
              "173812            O00522     736  ...                    2                      1\n",
              "195264        A0A5C2FYF6     106  ...                    0                      0\n",
              "158636            F4YUA0     181  ...                    0                      0\n",
              "80238             V5J9Y5      89  ...                    0                      0\n",
              "15887             L8E827      56  ...                    0                      0\n",
              "\n",
              "[17304 rows x 5 columns]"
            ]
          },
          "metadata": {
            "tags": []
          },
          "execution_count": 60
        }
      ]
    },
    {
      "cell_type": "code",
      "metadata": {
        "colab": {
          "base_uri": "https://localhost:8080/",
          "height": 419
        },
        "id": "r5QtJ92K9awL",
        "outputId": "790127d8-dcaf-43a6-9708-a7f04f84c103"
      },
      "source": [
        "sample_df = z_score_dataframe(sample_df)\n",
        "sample_df"
      ],
      "execution_count": null,
      "outputs": [
        {
          "output_type": "execute_result",
          "data": {
            "text/html": [
              "<div>\n",
              "<style scoped>\n",
              "    .dataframe tbody tr th:only-of-type {\n",
              "        vertical-align: middle;\n",
              "    }\n",
              "\n",
              "    .dataframe tbody tr th {\n",
              "        vertical-align: top;\n",
              "    }\n",
              "\n",
              "    .dataframe thead th {\n",
              "        text-align: right;\n",
              "    }\n",
              "</style>\n",
              "<table border=\"1\" class=\"dataframe\">\n",
              "  <thead>\n",
              "    <tr style=\"text-align: right;\">\n",
              "      <th></th>\n",
              "      <th>Protein Accession</th>\n",
              "      <th>Length</th>\n",
              "      <th>PE Score</th>\n",
              "      <th>#Confirmed Isoforms</th>\n",
              "      <th>In Reference Proteome</th>\n",
              "    </tr>\n",
              "  </thead>\n",
              "  <tbody>\n",
              "    <tr>\n",
              "      <th>180530</th>\n",
              "      <td>A0A590UK82</td>\n",
              "      <td>-0.149132</td>\n",
              "      <td>1.538073</td>\n",
              "      <td>-0.176947</td>\n",
              "      <td>1</td>\n",
              "    </tr>\n",
              "    <tr>\n",
              "      <th>29537</th>\n",
              "      <td>B4DN13</td>\n",
              "      <td>-0.104957</td>\n",
              "      <td>-0.260772</td>\n",
              "      <td>-0.176947</td>\n",
              "      <td>0</td>\n",
              "    </tr>\n",
              "    <tr>\n",
              "      <th>131612</th>\n",
              "      <td>Q9UE29</td>\n",
              "      <td>-0.601923</td>\n",
              "      <td>1.538073</td>\n",
              "      <td>-0.176947</td>\n",
              "      <td>0</td>\n",
              "    </tr>\n",
              "    <tr>\n",
              "      <th>63116</th>\n",
              "      <td>H0YJK6</td>\n",
              "      <td>-0.370006</td>\n",
              "      <td>-1.160195</td>\n",
              "      <td>-0.176947</td>\n",
              "      <td>1</td>\n",
              "    </tr>\n",
              "    <tr>\n",
              "      <th>117</th>\n",
              "      <td>G3V221</td>\n",
              "      <td>-0.509156</td>\n",
              "      <td>-1.160195</td>\n",
              "      <td>-0.176947</td>\n",
              "      <td>1</td>\n",
              "    </tr>\n",
              "    <tr>\n",
              "      <th>...</th>\n",
              "      <td>...</td>\n",
              "      <td>...</td>\n",
              "      <td>...</td>\n",
              "      <td>...</td>\n",
              "      <td>...</td>\n",
              "    </tr>\n",
              "    <tr>\n",
              "      <th>173812</th>\n",
              "      <td>O00522</td>\n",
              "      <td>0.959653</td>\n",
              "      <td>-1.160195</td>\n",
              "      <td>2.917436</td>\n",
              "      <td>1</td>\n",
              "    </tr>\n",
              "    <tr>\n",
              "      <th>195264</th>\n",
              "      <td>A0A5C2FYF6</td>\n",
              "      <td>-0.431850</td>\n",
              "      <td>-0.260772</td>\n",
              "      <td>-0.176947</td>\n",
              "      <td>0</td>\n",
              "    </tr>\n",
              "    <tr>\n",
              "      <th>158636</th>\n",
              "      <td>F4YUA0</td>\n",
              "      <td>-0.266195</td>\n",
              "      <td>0.638650</td>\n",
              "      <td>-0.176947</td>\n",
              "      <td>0</td>\n",
              "    </tr>\n",
              "    <tr>\n",
              "      <th>80238</th>\n",
              "      <td>V5J9Y5</td>\n",
              "      <td>-0.469399</td>\n",
              "      <td>1.538073</td>\n",
              "      <td>-0.176947</td>\n",
              "      <td>0</td>\n",
              "    </tr>\n",
              "    <tr>\n",
              "      <th>15887</th>\n",
              "      <td>L8E827</td>\n",
              "      <td>-0.542287</td>\n",
              "      <td>1.538073</td>\n",
              "      <td>-0.176947</td>\n",
              "      <td>0</td>\n",
              "    </tr>\n",
              "  </tbody>\n",
              "</table>\n",
              "<p>17304 rows × 5 columns</p>\n",
              "</div>"
            ],
            "text/plain": [
              "       Protein Accession    Length  ...  #Confirmed Isoforms  In Reference Proteome\n",
              "180530        A0A590UK82 -0.149132  ...            -0.176947                      1\n",
              "29537             B4DN13 -0.104957  ...            -0.176947                      0\n",
              "131612            Q9UE29 -0.601923  ...            -0.176947                      0\n",
              "63116             H0YJK6 -0.370006  ...            -0.176947                      1\n",
              "117               G3V221 -0.509156  ...            -0.176947                      1\n",
              "...                  ...       ...  ...                  ...                    ...\n",
              "173812            O00522  0.959653  ...             2.917436                      1\n",
              "195264        A0A5C2FYF6 -0.431850  ...            -0.176947                      0\n",
              "158636            F4YUA0 -0.266195  ...            -0.176947                      0\n",
              "80238             V5J9Y5 -0.469399  ...            -0.176947                      0\n",
              "15887             L8E827 -0.542287  ...            -0.176947                      0\n",
              "\n",
              "[17304 rows x 5 columns]"
            ]
          },
          "metadata": {
            "tags": []
          },
          "execution_count": 61
        }
      ]
    },
    {
      "cell_type": "code",
      "metadata": {
        "colab": {
          "base_uri": "https://localhost:8080/"
        },
        "id": "6z97tvoP9gjU",
        "outputId": "7c883be4-cd0e-4776-f716-b83052c7c65c"
      },
      "source": [
        "reference_proteins = []\n",
        "\n",
        "for k in range(len(sample_df['Length'])):\n",
        "    if sample_df['In Reference Proteome'].values[k] == 1:\n",
        "        reference_proteins.append(sample_df['Protein Accession'].values[k])\n",
        "    else:\n",
        "        pass\n",
        "\n",
        "reference_proteins = set(reference_proteins)\n",
        "len(reference_proteins)"
      ],
      "execution_count": null,
      "outputs": [
        {
          "output_type": "execute_result",
          "data": {
            "text/plain": [
              "6805"
            ]
          },
          "metadata": {
            "tags": []
          },
          "execution_count": 63
        }
      ]
    },
    {
      "cell_type": "code",
      "metadata": {
        "colab": {
          "base_uri": "https://localhost:8080/"
        },
        "id": "v83oD8wA-ZD5",
        "outputId": "3098fe77-4af3-4a1f-ef6c-c8e1d67ec3f7"
      },
      "source": [
        "threshold = 0.5\n",
        "#w = w[0]\n",
        "proteins_predict = []\n",
        "\n",
        "for k in range(len(sample_df['Length'])):\n",
        "    L = [list(sample_df['Length'])[k],\n",
        "         list(sample_df['PE Score'])[k],\n",
        "         list(sample_df['#Confirmed Isoforms'])[k]]\n",
        "    \n",
        "    z = w[0]*L[0] + w[1]*L[1] + w[2]*L[2] + b\n",
        "    p = sigmoid_function(z)\n",
        "\n",
        "    if p >= threshold:\n",
        "        proteins_predict.append(list(sample_df['Protein Accession'])[k])\n",
        "\n",
        "J = jaccard_overlap(set(proteins_predict), set(reference_proteins))\n",
        "J"
      ],
      "execution_count": null,
      "outputs": [
        {
          "output_type": "execute_result",
          "data": {
            "text/plain": [
              "0.806165479133343"
            ]
          },
          "metadata": {
            "tags": []
          },
          "execution_count": 64
        }
      ]
    },
    {
      "cell_type": "code",
      "metadata": {
        "colab": {
          "base_uri": "https://localhost:8080/"
        },
        "id": "zEWz7xwHIVNX",
        "outputId": "090ba668-53a4-4579-b189-f78942a42983"
      },
      "source": [
        "print(\"Jaccard Overlap for 20% random sample of mus musculus proteins: \", J)"
      ],
      "execution_count": null,
      "outputs": [
        {
          "output_type": "stream",
          "text": [
            "Jaccard Overlap for 20% random sample of mus musculus proteins:  0.806165479133343\n"
          ],
          "name": "stdout"
        }
      ]
    },
    {
      "cell_type": "markdown",
      "metadata": {
        "id": "dHbx17otEsTU"
      },
      "source": [
        "# **SKLEARN**"
      ]
    },
    {
      "cell_type": "code",
      "metadata": {
        "id": "tuYiEE-zDDVV"
      },
      "source": [
        "from sklearn.linear_model import LogisticRegression"
      ],
      "execution_count": null,
      "outputs": []
    },
    {
      "cell_type": "code",
      "metadata": {
        "id": "aa2CU2w_DOJT"
      },
      "source": [
        "clf = LogisticRegression(class_weight = 'balanced')\n",
        "inp_df, out_df = model_construction(df_protein_features)\n",
        "clf.fit(inp_df, out_df)"
      ],
      "execution_count": null,
      "outputs": []
    },
    {
      "cell_type": "code",
      "metadata": {
        "colab": {
          "base_uri": "https://localhost:8080/"
        },
        "id": "l_VoiTEkDedx",
        "outputId": "15ecc87d-7b48-410c-d410-84ff335733c2"
      },
      "source": [
        "clf.coef_"
      ],
      "execution_count": null,
      "outputs": [
        {
          "output_type": "execute_result",
          "data": {
            "text/plain": [
              "array([[-0.06866565, -1.33909128,  4.62710651]])"
            ]
          },
          "metadata": {
            "tags": []
          },
          "execution_count": 131
        }
      ]
    },
    {
      "cell_type": "code",
      "metadata": {
        "id": "x5Uuu4vVDg2U"
      },
      "source": [
        "z_mouse = np.dot(clf.coef_, inp_df_mouse.T) + clf.intercept_[0]\n",
        "a_mouse = sigmoid_function(z_mouse).tolist()[0]\n",
        "a_mouse"
      ],
      "execution_count": null,
      "outputs": []
    },
    {
      "cell_type": "code",
      "metadata": {
        "colab": {
          "base_uri": "https://localhost:8080/",
          "height": 282
        },
        "id": "8jOytArQD85k",
        "outputId": "71358d30-5139-4da0-a11d-42e8eb9b86c5"
      },
      "source": [
        "d_jaccard = jaccard_threshold_plot(all_proteins, a_mouse, mouse_proteome_list)"
      ],
      "execution_count": null,
      "outputs": [
        {
          "output_type": "display_data",
          "data": {
            "image/png": "[encoded data removed]",
            "text/plain": [
              "<Figure size 432x288 with 1 Axes>"
            ]
          },
          "metadata": {
            "tags": []
          }
        }
      ]
    },
    {
      "cell_type": "code",
      "metadata": {
        "id": "rFJbgOd1EINX"
      },
      "source": [
        "mydict = d_jaccard\n",
        "y = list(mydict.keys())[list(mydict.values()).index(max(mydict.values()))] "
      ],
      "execution_count": null,
      "outputs": []
    },
    {
      "cell_type": "code",
      "metadata": {
        "colab": {
          "base_uri": "https://localhost:8080/"
        },
        "id": "PvZEYbgUEdOW",
        "outputId": "c68d8e47-483e-48af-d31f-45a7a042b728"
      },
      "source": [
        "d_jaccard[y]"
      ],
      "execution_count": null,
      "outputs": [
        {
          "output_type": "execute_result",
          "data": {
            "text/plain": [
              "0.6719222918279721"
            ]
          },
          "metadata": {
            "tags": []
          },
          "execution_count": 102
        }
      ]
    },
    {
      "cell_type": "code",
      "metadata": {
        "id": "JqYiRgBwWQ1F"
      },
      "source": [
        ""
      ],
      "execution_count": null,
      "outputs": []
    }
  ]
}