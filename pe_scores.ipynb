{
  "nbformat": 4,
  "nbformat_minor": 0,
  "metadata": {
    "colab": {
      "name": "pe_scores.ipynb",
      "provenance": [],
      "collapsed_sections": [],
      "authorship_tag": "ABX9TyPaIm1xXhrqQcARQPUwUsJr"
    },
    "kernelspec": {
      "name": "python3",
      "display_name": "Python 3"
    },
    "language_info": {
      "name": "python"
    }
  },
  "cells": [
    {
      "cell_type": "markdown",
      "metadata": {
        "id": "LKItq4SfHrDH"
      },
      "source": [
        "This notebook was created to see the distribution of PE scores amongst the proteome database of sus scrofa, homo sapien and mus musculus. This can help characterize what is considered to be an unreliable protein. The following description is adapted from UniprotKB on protein evidence:\n",
        "\n",
        "\"\n",
        "In UniProtKB there are 5 types of evidence for the existence of a protein:\n",
        "\n",
        "1. Experimental evidence at protein level (PE = 1)\n",
        "2. Experimental evidence at transcript level (PE = 2)\n",
        "3. Protein inferred from homology (PE = 3)\n",
        "4. Protein predicted (PE = 4)\n",
        "5. Protein uncertain (PE = 5)\n",
        "\n",
        "The value 'Experimental evidence at protein level' (PE = 1) indicates that there is clear experimental evidence for the existence of the protein. The criteria include partial or complete Edman sequencing, clear identification by mass spectrometry, X-ray or NMR structure, good quality protein-protein interaction or detection of the protein by antibodies.\n",
        "\n",
        "The value 'Experimental evidence at transcript level' (PE = 2) indicates that the existence of a protein has not been strictly proven but that expression data (such as existence of cDNA(s), RT-PCR or Northern blots) indicate the existence of a transcript.\n",
        "\n",
        "The value 'Protein inferred by homology' (PE = 3) indicates that the existence of a protein is probable because clear orthologs exist in closely related species.\n",
        "\n",
        "The value 'Protein predicted' (PE = 4) is used for entries without evidence at protein, transcript, or homology levels.\n",
        "\n",
        "The value 'Protein uncertain' (PE = 5) indicates that the existence of the protein is unsure.\n",
        "\"\n",
        "\n",
        "Source: https://www.uniprot.org/help/protein_existence\n",
        "\n",
        "\n",
        "**My thoughts:**\n",
        "\n",
        "From this description, it can be seen that a PE score of 1 gives the most reliable results, followed by {2 or 3}, with {4 or 5} showing the protein is unreliable."
      ]
    },
    {
      "cell_type": "code",
      "metadata": {
        "colab": {
          "base_uri": "https://localhost:8080/"
        },
        "id": "8CWy605ztMKI",
        "outputId": "9b39aa65-80c8-45e8-8b43-cec8b2367aec"
      },
      "source": [
        "# Connect notebook to Google Drive\n",
        "from google.colab import drive\n",
        "drive.mount('/content/drive', force_remount=True)"
      ],
      "execution_count": null,
      "outputs": [
        {
          "output_type": "stream",
          "text": [
            "Mounted at /content/drive\n"
          ],
          "name": "stdout"
        }
      ]
    },
    {
      "cell_type": "code",
      "metadata": {
        "id": "CcpFf1vixh6-",
        "colab": {
          "base_uri": "https://localhost:8080/"
        },
        "outputId": "b1dcbb25-1a09-41d4-8927-dd9071dd9b81"
      },
      "source": [
        "# Navigate to the shared drive folder\n",
        "%cd /content/drive/'My Drive'/'Pig Proteomics Summer Project'\n",
        "!pwd\n",
        "!ls"
      ],
      "execution_count": null,
      "outputs": [
        {
          "output_type": "stream",
          "text": [
            "/content/drive/.shortcut-targets-by-id/1H3M9nQYJ9K9M22jDv-wcvZ0azPz9lhsr/Pig Proteomics Summer Project\n",
            "/content/drive/.shortcut-targets-by-id/1H3M9nQYJ9K9M22jDv-wcvZ0azPz9lhsr/Pig Proteomics Summer Project\n",
            "'2021-06-21 Introduction to Proteomes.ipynb'\n",
            "'2021-06-28 Reactome and Uniprot.ipynb'\n",
            "'2021-06-29 Identifying characteristics of an unreliable protein.gslides'\n",
            "'Copy of gene_PE.ipynb'\n",
            " data\n",
            " gene_PE.ipynb\n",
            " histogram.ipynb\n",
            " output\n",
            " pe_scores.ipynb\n",
            " scratch\n",
            "'Summer Project.gdoc'\n",
            "'Week 1 Introduction slides.gslides'\n",
            "'Week 3 Findings.gslides'\n"
          ],
          "name": "stdout"
        }
      ]
    },
    {
      "cell_type": "code",
      "metadata": {
        "colab": {
          "base_uri": "https://localhost:8080/"
        },
        "id": "EwYDalVpPdBB",
        "outputId": "1ee9cab1-84e9-4eb5-f7a9-78731c67f71d"
      },
      "source": [
        "!pip install fastaparser"
      ],
      "execution_count": null,
      "outputs": [
        {
          "output_type": "stream",
          "text": [
            "Collecting fastaparser\n",
            "  Downloading https://files.pythonhosted.org/packages/05/0a/fbab5288782d700d04375b8227800dd8cbc176e9f5327bea4e336da579fd/fastaparser-1.1-py3-none-any.whl\n",
            "Installing collected packages: fastaparser\n",
            "Successfully installed fastaparser-1.1\n"
          ],
          "name": "stdout"
        }
      ]
    },
    {
      "cell_type": "code",
      "metadata": {
        "id": "j0oT_I6LHDzW"
      },
      "source": [
        "import fastaparser\n",
        "import pandas as pd\n",
        "import re\n",
        "import matplotlib.pyplot as plt\n",
        "\n",
        "def parse_fasta_file(file_name):\n",
        "  \"\"\"\n",
        "  this function parses a FASTA database and returns it as a mapping from the\n",
        "  header of the protein to the amino acid sequence it corresponds to\n",
        "  mapping: {header: sequence}\n",
        "  \"\"\"\n",
        "  out_dict = {}\n",
        "  fastaRaw = [] #uses quick parsing method\n",
        "  with open(file_name) as fasta_file:\n",
        "      parserQuick = fastaparser.Reader(fasta_file, parse_method = 'quick')\n",
        "      \n",
        "      for seq in parserQuick:\n",
        "          fastaRaw.append(seq)\n",
        "          \n",
        "  headerList = []\n",
        "  seqList = []\n",
        "\n",
        "  for k in fastaRaw:\n",
        "      headerList.append(k.header)\n",
        "      seqList.append(k.sequence)\n",
        "\n",
        "  if len(headerList) != len(seqList):\n",
        "      raise ValueError(\"Number of headers =/= number of sequences\")\n",
        "\n",
        "  for i in range(len(headerList)):\n",
        "      out_dict[headerList[i]] = seqList[i]\n",
        "\n",
        "  return out_dict\n",
        "\n",
        "def calc_PE(file_name, sptr = 'sp'):\n",
        "  \"\"\"\n",
        "  extracts the PE score for every protein in FASTA file\n",
        "  {protein accession code : PE score}\n",
        "  default extraction: sp (only takes swiss-prot proteins)\n",
        "  -> can select tr proteins only too\n",
        "  \"\"\"\n",
        "  out_dict = parse_fasta_file(file_name) #{header : sequence}\n",
        "  PE_dict = {}\n",
        "\n",
        "  #indice1 = 0 #indice for 'PE='\n",
        "  #indice2 = 0 #indice for 'SV='\n",
        "\n",
        "  for key in out_dict.keys():\n",
        "    swiss_or_trembl = key[1:3]\n",
        "    indice = []\n",
        "\n",
        "    if swiss_or_trembl == sptr:\n",
        "      for j in range(len(key)):\n",
        "        t_find = key[j:j+1]\n",
        "        if t_find == '|':\n",
        "          indice.append(j)\n",
        "        else:\n",
        "          pass\n",
        "\n",
        "      indice1 = None\n",
        "      indice2 = None\n",
        "\n",
        "      for k in range(len(key)):\n",
        "        t = key[k:k+3]\n",
        "        if t == 'PE=':\n",
        "          indice1 = k\n",
        "        elif t == 'SV=':\n",
        "          indice2 = k\n",
        "        else:\n",
        "          pass\n",
        "      \n",
        "      PE_dict[key[indice[0]+1:indice[1]]] = int(key[indice1+3:indice2])\n",
        "    \n",
        "    else:\n",
        "      pass\n",
        "  \n",
        "  return PE_dict\n",
        "\n",
        "def PE_dict_full(file_name):\n",
        "  \"\"\"\n",
        "  ignores whether it is SP or TR; same objective as calc_PE()\n",
        "  \"\"\"\n",
        "  out_dict = parse_fasta_file(file_name) #{header : sequence}\n",
        "  PE_dict = {}\n",
        "\n",
        "  #indice1 = 0 #indice for 'PE='\n",
        "  #indice2 = 0 #indice for 'SV='\n",
        "\n",
        "  for key in out_dict.keys():\n",
        "    indice = []\n",
        "    for j in range(len(key)):\n",
        "      t_find = key[j:j+1]\n",
        "      if t_find == '|':\n",
        "        indice.append(j)\n",
        "      else:\n",
        "        pass\n",
        "\n",
        "    indice1 = None\n",
        "    indice2 = None\n",
        "\n",
        "    for k in range(len(key)):\n",
        "      t = key[k:k+3]\n",
        "      if t == 'PE=':\n",
        "        indice1 = k\n",
        "      elif t == 'SV=':\n",
        "        indice2 = k\n",
        "      else:\n",
        "        pass\n",
        "      \n",
        "    PE_dict[key[indice[0]+1:indice[1]]] = int(key[indice1+3:indice2])\n",
        "  \n",
        "  return PE_dict"
      ],
      "execution_count": null,
      "outputs": []
    },
    {
      "cell_type": "code",
      "metadata": {
        "colab": {
          "base_uri": "https://localhost:8080/"
        },
        "id": "4cRhaHfC-upk",
        "outputId": "3a74ca1f-71f8-4fc4-927b-7c135f6e60dc"
      },
      "source": [
        "%cd data"
      ],
      "execution_count": null,
      "outputs": [
        {
          "output_type": "stream",
          "text": [
            "/content/drive/.shortcut-targets-by-id/1H3M9nQYJ9K9M22jDv-wcvZ0azPz9lhsr/Pig Proteomics Summer Project/data\n"
          ],
          "name": "stdout"
        }
      ]
    },
    {
      "cell_type": "code",
      "metadata": {
        "colab": {
          "base_uri": "https://localhost:8080/"
        },
        "id": "igrifckgi-ln",
        "outputId": "57c16d08-e048-496c-a630-5e702a6f5dda"
      },
      "source": [
        "!ls"
      ],
      "execution_count": null,
      "outputs": [
        {
          "output_type": "stream",
          "text": [
            "homo_sapien_all.fasta\n",
            "Homo_sapiens_uniprot-proteome_UP000005640.fasta\n",
            "mus_musculus_all.fasta\n",
            "mus_musculus_uniprot-proteome_UP000000589.fasta\n",
            "one_protein_per_gene_proteome\n",
            "other_api\n",
            "reactome_uniprot\n",
            "sus_scrofa_all_proteomes.fasta\n",
            "sus_scrofa_uniprot-proteome_UP000008227.fasta\n"
          ],
          "name": "stdout"
        }
      ]
    },
    {
      "cell_type": "markdown",
      "metadata": {
        "id": "e5FgD3HJwmPV"
      },
      "source": [
        "# **SUS SCROFA DATABASE ANALYSIS**"
      ]
    },
    {
      "cell_type": "markdown",
      "metadata": {
        "id": "mP3Q8yuplS3K"
      },
      "source": [
        "The following cells show the distribution for both Swiss-prot and TrEMBL and their respective PE scores"
      ]
    },
    {
      "cell_type": "code",
      "metadata": {
        "id": "ZCJoiQa2jBph"
      },
      "source": [
        "file_proteome = 'sus_scrofa_uniprot-proteome_UP000008227.fasta'\n",
        "swiss_prot_PE = calc_PE(file_proteome)"
      ],
      "execution_count": null,
      "outputs": []
    },
    {
      "cell_type": "code",
      "metadata": {
        "colab": {
          "base_uri": "https://localhost:8080/"
        },
        "id": "4wAtKmEAoh5w",
        "outputId": "c7469518-5d18-4b4f-e2e6-3dcef784364c"
      },
      "source": [
        "!cat sus_scrofa_uniprot-proteome_UP000008227.fasta | grep 'PE=5'| wc -l"
      ],
      "execution_count": null,
      "outputs": [
        {
          "output_type": "stream",
          "text": [
            "0\n"
          ],
          "name": "stdout"
        }
      ]
    },
    {
      "cell_type": "code",
      "metadata": {
        "colab": {
          "base_uri": "https://localhost:8080/",
          "height": 312
        },
        "id": "l2f_WkFujJib",
        "outputId": "4efd3ac2-169b-4f60-a896-10a4491f7ffe"
      },
      "source": [
        "import matplotlib.pyplot as plt\n",
        "\n",
        "PE_scores_sp = []\n",
        "\n",
        "for value in swiss_prot_PE.values():\n",
        "  PE_scores_sp.append(value)\n",
        "\n",
        "plt.hist(PE_scores_sp, log = True)\n",
        "plt.title(\"Swiss-prot Sus Scrofa Proteins\")\n",
        "plt.xlabel(\"PE score\")\n",
        "plt.ylabel(\"Number of proteins with score\")"
      ],
      "execution_count": null,
      "outputs": [
        {
          "output_type": "execute_result",
          "data": {
            "text/plain": [
              "Text(0, 0.5, 'Number of proteins with score')"
            ]
          },
          "metadata": {
            "tags": []
          },
          "execution_count": 8
        },
        {
          "output_type": "display_data",
          "data": {
            "image/png": "[encoded data removed]",
            "text/plain": [
              "<Figure size 432x288 with 1 Axes>"
            ]
          },
          "metadata": {
            "tags": [],
            "needs_background": "light"
          }
        }
      ]
    },
    {
      "cell_type": "code",
      "metadata": {
        "colab": {
          "base_uri": "https://localhost:8080/"
        },
        "id": "qizYsTyyVcx0",
        "outputId": "189e4f89-d620-4763-e552-9083cb4af3e9"
      },
      "source": [
        "num_of_SP_PE1 = PE_scores_sp.count(1) #returns number of elements in list with PE = 1\n",
        "num_of_SP_PE1 "
      ],
      "execution_count": null,
      "outputs": [
        {
          "output_type": "execute_result",
          "data": {
            "text/plain": [
              "567"
            ]
          },
          "metadata": {
            "tags": []
          },
          "execution_count": 9
        }
      ]
    },
    {
      "cell_type": "markdown",
      "metadata": {
        "id": "5tj_SkUymW0X"
      },
      "source": [
        "The following cell shows the PE values for TrEMBL proteins in sus scrofa"
      ]
    },
    {
      "cell_type": "code",
      "metadata": {
        "colab": {
          "base_uri": "https://localhost:8080/",
          "height": 312
        },
        "id": "zLEaC9rVj2Y8",
        "outputId": "84f39487-c71c-48d2-dc74-93a82969a531"
      },
      "source": [
        "#FOR TrEMBL:\n",
        "\n",
        "trembl_PE = calc_PE(file_proteome, sptr = 'tr')\n",
        "PE_scores_tr = []\n",
        "\n",
        "for value in trembl_PE.values():\n",
        "  PE_scores_tr.append(value)\n",
        "\n",
        "plt.hist(PE_scores_tr, log = True)\n",
        "plt.title(\"TrEMBL Sus Scrofa Proteins\")\n",
        "plt.xlabel(\"PE score\")\n",
        "plt.ylabel(\"Number of proteins with score\")"
      ],
      "execution_count": null,
      "outputs": [
        {
          "output_type": "execute_result",
          "data": {
            "text/plain": [
              "Text(0, 0.5, 'Number of proteins with score')"
            ]
          },
          "metadata": {
            "tags": []
          },
          "execution_count": 10
        },
        {
          "output_type": "display_data",
          "data": {
            "image/png": "[encoded data removed]",
            "text/plain": [
              "<Figure size 432x288 with 1 Axes>"
            ]
          },
          "metadata": {
            "tags": [],
            "needs_background": "light"
          }
        }
      ]
    },
    {
      "cell_type": "code",
      "metadata": {
        "colab": {
          "base_uri": "https://localhost:8080/"
        },
        "id": "G0OnbY3PkT44",
        "outputId": "b22d5c2c-3b60-42a6-9f3e-f323edf36a54"
      },
      "source": [
        "num_of_TR_PE1 = PE_scores_tr.count(1)\n",
        "num_of_TR_PE1"
      ],
      "execution_count": null,
      "outputs": [
        {
          "output_type": "execute_result",
          "data": {
            "text/plain": [
              "16441"
            ]
          },
          "metadata": {
            "tags": []
          },
          "execution_count": 11
        }
      ]
    },
    {
      "cell_type": "markdown",
      "metadata": {
        "id": "_f7t1QoyskSr"
      },
      "source": [
        "Sus scrofa proteome database histogram\n"
      ]
    },
    {
      "cell_type": "code",
      "metadata": {
        "colab": {
          "base_uri": "https://localhost:8080/",
          "height": 333
        },
        "id": "03nbVv_Wsp9O",
        "outputId": "291f4815-5cfc-40b7-f03e-aaa04fe37ace"
      },
      "source": [
        "proteome_scores = []\n",
        "proteome_PE = PE_dict_full(file_proteome)\n",
        "\n",
        "for value in proteome_PE.values():\n",
        "  proteome_scores.append(value)\n",
        "\n",
        "plt.hist(proteome_scores, log = True)"
      ],
      "execution_count": null,
      "outputs": [
        {
          "output_type": "execute_result",
          "data": {
            "text/plain": [
              "(array([17008.,     0.,     0.,  1281.,     0.,     0., 13041.,     0.,\n",
              "            0., 18462.]),\n",
              " array([1. , 1.3, 1.6, 1.9, 2.2, 2.5, 2.8, 3.1, 3.4, 3.7, 4. ]),\n",
              " <a list of 10 Patch objects>)"
            ]
          },
          "metadata": {
            "tags": []
          },
          "execution_count": 12
        },
        {
          "output_type": "display_data",
          "data": {
            "image/png": "[encoded data removed]",
            "text/plain": [
              "<Figure size 432x288 with 1 Axes>"
            ]
          },
          "metadata": {
            "tags": [],
            "needs_background": "light"
          }
        }
      ]
    },
    {
      "cell_type": "markdown",
      "metadata": {
        "id": "83dyRNeTUyI7"
      },
      "source": [
        "**Summary of Sus Scrofa Results**\n",
        "\n",
        "Next step: get PE distribution for full sus scrofa database and plot all 3 distributions together"
      ]
    },
    {
      "cell_type": "code",
      "metadata": {
        "colab": {
          "base_uri": "https://localhost:8080/"
        },
        "id": "HhvloPxKU6IY",
        "outputId": "55a2269f-9419-4898-d15c-813d182d8712"
      },
      "source": [
        "!ls"
      ],
      "execution_count": null,
      "outputs": [
        {
          "output_type": "stream",
          "text": [
            "homo_sapien_all.fasta\n",
            "Homo_sapiens_uniprot-proteome_UP000005640.fasta\n",
            "mus_musculus_all.fasta\n",
            "mus_musculus_uniprot-proteome_UP000000589.fasta\n",
            "one_protein_per_gene_proteome\n",
            "other_api\n",
            "reactome_uniprot\n",
            "sus_scrofa_all_proteomes.fasta\n",
            "sus_scrofa_uniprot-proteome_UP000008227.fasta\n"
          ],
          "name": "stdout"
        }
      ]
    },
    {
      "cell_type": "code",
      "metadata": {
        "id": "zx5xEwIUU_MY"
      },
      "source": [
        "all_pig_file = 'sus_scrofa_all_proteomes.fasta'\n",
        "all_pig_dict = PE_dict_full(all_pig_file)"
      ],
      "execution_count": null,
      "outputs": []
    },
    {
      "cell_type": "code",
      "metadata": {
        "colab": {
          "base_uri": "https://localhost:8080/",
          "height": 384
        },
        "id": "LMSJl-7XV6qE",
        "outputId": "d4ece19d-0552-431a-db2d-71dab6c3e635"
      },
      "source": [
        "all_pig_PE = []\n",
        "\n",
        "#blue = all, orange = trembl, green = swiss-prot\n",
        "\n",
        "for value in all_pig_dict.values():\n",
        "  all_pig_PE.append(value)\n",
        "\n",
        "plt.hist([all_pig_PE,PE_scores_tr,PE_scores_sp], log = True)\n",
        "plt.legend(['All','TrEMBL','Swiss-prot'])\n",
        "#plt.title(\"Full Sus Scrofa Database\")\n",
        "plt.xlabel(\"PE score\")\n",
        "plt.ylabel(\"Number of proteins with score\")"
      ],
      "execution_count": null,
      "outputs": [
        {
          "output_type": "stream",
          "text": [
            "/usr/local/lib/python3.7/dist-packages/numpy/core/_asarray.py:83: VisibleDeprecationWarning: Creating an ndarray from ragged nested sequences (which is a list-or-tuple of lists-or-tuples-or ndarrays with different lengths or shapes) is deprecated. If you meant to do this, you must specify 'dtype=object' when creating the ndarray\n",
            "  return array(a, dtype, copy=False, order=order)\n",
            "/usr/local/lib/python3.7/dist-packages/numpy/core/_asarray.py:83: VisibleDeprecationWarning: Creating an ndarray from ragged nested sequences (which is a list-or-tuple of lists-or-tuples-or ndarrays with different lengths or shapes) is deprecated. If you meant to do this, you must specify 'dtype=object' when creating the ndarray\n",
            "  return array(a, dtype, copy=False, order=order)\n"
          ],
          "name": "stderr"
        },
        {
          "output_type": "execute_result",
          "data": {
            "text/plain": [
              "Text(0, 0.5, 'Number of proteins with score')"
            ]
          },
          "metadata": {
            "tags": []
          },
          "execution_count": 38
        },
        {
          "output_type": "display_data",
          "data": {
            "image/png": "[encoded data removed]",
            "text/plain": [
              "<Figure size 432x288 with 1 Axes>"
            ]
          },
          "metadata": {
            "tags": [],
            "needs_background": "light"
          }
        }
      ]
    },
    {
      "cell_type": "code",
      "metadata": {
        "colab": {
          "base_uri": "https://localhost:8080/"
        },
        "id": "en6eQUwmV49M",
        "outputId": "7e3ef8fe-2e50-4146-cf2b-17da202579bc"
      },
      "source": [
        "num_of_all_PE1 = all_pig_PE.count(1)\n",
        "print(\"Total amount of proteome with PE = 1 : \", num_of_SP_PE1 + num_of_TR_PE1)\n",
        "print(\"Total amount of pig proteins with PE = 1 : \", num_of_all_PE1)"
      ],
      "execution_count": null,
      "outputs": [
        {
          "output_type": "stream",
          "text": [
            "Total amount of proteome with PE = 1 :  17008\n",
            "Total amount of pig proteins with PE = 1 :  17114\n"
          ],
          "name": "stdout"
        }
      ]
    },
    {
      "cell_type": "code",
      "metadata": {
        "colab": {
          "base_uri": "https://localhost:8080/"
        },
        "id": "BZPspcYtgyE2",
        "outputId": "c4af0f9f-c8c6-4eed-f276-00a38912bb9b"
      },
      "source": [
        "num_of_all_PE2 = all_pig_PE.count(2)\n",
        "print(\"Total amount of proteome with PE = 2 : \", PE_scores_tr.count(2) + PE_scores_sp.count(2))\n",
        "print(\"Total amount of pig proteins with PE = 2 : \", num_of_all_PE2)"
      ],
      "execution_count": null,
      "outputs": [
        {
          "output_type": "stream",
          "text": [
            "Total amount of proteome with PE = 2 :  1281\n",
            "Total amount of pig proteins with PE = 2 :  6446\n"
          ],
          "name": "stdout"
        }
      ]
    },
    {
      "cell_type": "code",
      "metadata": {
        "colab": {
          "base_uri": "https://localhost:8080/"
        },
        "id": "luQtI5rUhHNu",
        "outputId": "9c3037b1-d395-42bd-f57f-1641a53cf69d"
      },
      "source": [
        "print(\"Total amount of proteome with PE = 3 : \", PE_scores_tr.count(3) + PE_scores_sp.count(3))\n",
        "print(\"Total amount of pig proteins with PE = 3 : \", all_pig_PE.count(3))"
      ],
      "execution_count": null,
      "outputs": [
        {
          "output_type": "stream",
          "text": [
            "Total amount of proteome with PE = 3 :  13041\n",
            "Total amount of pig proteins with PE = 3 :  43284\n"
          ],
          "name": "stdout"
        }
      ]
    },
    {
      "cell_type": "code",
      "metadata": {
        "colab": {
          "base_uri": "https://localhost:8080/"
        },
        "id": "7hT_lTmdhHrS",
        "outputId": "073ce621-1670-4cab-deed-d22bba4bc2d1"
      },
      "source": [
        "print(\"Total amount of proteome with PE = 4 : \", PE_scores_tr.count(4) + PE_scores_sp.count(4))\n",
        "print(\"Total amount of pig proteins with PE = 4 : \", all_pig_PE.count(4))"
      ],
      "execution_count": null,
      "outputs": [
        {
          "output_type": "stream",
          "text": [
            "Total amount of proteome with PE = 4 :  18462\n",
            "Total amount of pig proteins with PE = 4 :  54082\n"
          ],
          "name": "stdout"
        }
      ]
    },
    {
      "cell_type": "markdown",
      "metadata": {
        "id": "zEloei-Zgnfb"
      },
      "source": [
        "how come ~106 pig proteins with PE = 1 did not fall under pig proteome"
      ]
    },
    {
      "cell_type": "markdown",
      "metadata": {
        "id": "axA6vP3gwq-s"
      },
      "source": [
        "# **HOMO SAPIEN DATABASE ANALYSIS**"
      ]
    },
    {
      "cell_type": "code",
      "metadata": {
        "colab": {
          "base_uri": "https://localhost:8080/"
        },
        "id": "_S96oZ0XnSjJ",
        "outputId": "564236d4-bd1b-4fbd-ed84-dfa062334fd0"
      },
      "source": [
        "!ls"
      ],
      "execution_count": null,
      "outputs": [
        {
          "output_type": "stream",
          "text": [
            "homo_sapien_all.fasta\n",
            "Homo_sapiens_uniprot-proteome_UP000005640.fasta\n",
            "mus_musculus_uniprot-proteome_UP000000589.fasta\n",
            "one_protein_per_gene_proteome\n",
            "other_api\n",
            "reactome_uniprot\n",
            "sus_scrofa_all_proteomes.fasta\n",
            "sus_scrofa_uniprot-proteome_UP000008227.fasta\n"
          ],
          "name": "stdout"
        }
      ]
    },
    {
      "cell_type": "code",
      "metadata": {
        "id": "4EKREuy5w3WO"
      },
      "source": [
        "file_human = 'Homo_sapiens_uniprot-proteome_UP000005640.fasta'\n",
        "human_PE_sp = calc_PE(file_human)"
      ],
      "execution_count": null,
      "outputs": []
    },
    {
      "cell_type": "code",
      "metadata": {
        "colab": {
          "base_uri": "https://localhost:8080/"
        },
        "id": "p4T-Ur41i6aI",
        "outputId": "9974ede6-1764-4858-bbbe-1281884819d4"
      },
      "source": [
        "!cat Homo_sapiens_uniprot-proteome_UP000005640.fasta | grep 'PE=5' | grep '>tr' | wc -l"
      ],
      "execution_count": null,
      "outputs": [
        {
          "output_type": "stream",
          "text": [
            "0\n"
          ],
          "name": "stdout"
        }
      ]
    },
    {
      "cell_type": "code",
      "metadata": {
        "colab": {
          "base_uri": "https://localhost:8080/"
        },
        "id": "gFTfODiKnTPw",
        "outputId": "81ffeded-491c-40de-a5af-bdeb4efcfb50"
      },
      "source": [
        "!cat Homo_sapiens_uniprot-proteome_UP000005640.fasta | grep 'PE=5' | grep '|' "
      ],
      "execution_count": null,
      "outputs": [
        {
          "output_type": "stream",
          "text": [
            ">sp|D3DTV9|PRAC2_HUMAN Putative protein PRAC2 OS=Homo sapiens OX=9606 GN=PRAC2 PE=5 SV=1\n",
            ">sp|Q92928|RAB1C_HUMAN Putative Ras-related protein Rab-1C OS=Homo sapiens OX=9606 GN=RAB1C PE=5 SV=2\n",
            ">sp|G3V0H7|SO1B7_HUMAN Putative solute carrier organic anion transporter family member 1B7 OS=Homo sapiens OX=9606 GN=SLCO1B7 PE=5 SV=1\n",
            ">sp|Q8N616|TM148_HUMAN Putative uncharacterized protein encoded by LINC00311 OS=Homo sapiens OX=9606 GN=LINC00311 PE=5 SV=1\n",
            ">sp|Q86SH4|PRNT_HUMAN Putative testis-specific prion protein OS=Homo sapiens OX=9606 GN=PRNT PE=5 SV=1\n",
            ">sp|A0A494C0Z2|SPD13_HUMAN Putative speedy protein E13 OS=Homo sapiens OX=9606 GN=SPDYE13 PE=5 SV=1\n",
            ">sp|P0DPA3|SNH28_HUMAN Putative uncharacterized protein SNHG28 OS=Homo sapiens OX=9606 GN=SNHG28 PE=5 SV=1\n",
            ">sp|Q7RTT6|SSX6_HUMAN Putative protein SSX6 OS=Homo sapiens OX=9606 GN=SSX6P PE=5 SV=1\n",
            ">sp|Q7RTT4|SSX8_HUMAN Putative protein SSX8 OS=Homo sapiens OX=9606 GN=SSX8P PE=5 SV=2\n",
            ">sp|Q8NBB2|STAS1_HUMAN Putative uncharacterized protein ST20-AS1 OS=Homo sapiens OX=9606 GN=ST20-AS1 PE=5 SV=1\n",
            ">sp|P0DUD1|SPD8_HUMAN Putative speedy protein E8 OS=Homo sapiens OX=9606 GN=SPDYE8 PE=5 SV=1\n",
            ">sp|P0CW21|SPGOS_HUMAN Putative uncharacterized protein SPART-AS1 OS=Homo sapiens OX=9606 GN=SPART-AS1 PE=5 SV=1\n",
            ">sp|P0C7Q5|S35G4_HUMAN Putative solute carrier family 35 member G4 OS=Homo sapiens OX=9606 GN=SLC35G4 PE=5 SV=1\n",
            ">sp|Q9BR46|SCAS1_HUMAN Putative uncharacterized protein SCP2D1-AS1 OS=Homo sapiens OX=9606 GN=SCP2D1-AS1 PE=5 SV=1\n",
            ">sp|Q96R84|OR1F2_HUMAN Putative olfactory receptor 1F2 OS=Homo sapiens OX=9606 GN=OR1F2P PE=5 SV=2\n",
            ">sp|P0DTA3|SPD11_HUMAN Putative speedy protein E11 OS=Homo sapiens OX=9606 GN=SPDYE11 PE=5 SV=1\n",
            ">sp|A6NDY2|F90AA_HUMAN Putative protein FAM90A10P OS=Homo sapiens OX=9606 GN=FAM90A10P PE=5 SV=1\n",
            ">sp|Q9Y5M1|F215A_HUMAN Uncharacterized protein FAM215A OS=Homo sapiens OX=9606 GN=FAM215A PE=5 SV=2\n",
            ">sp|Q58FF6|H90B4_HUMAN Putative heat shock protein HSP 90-beta 4 OS=Homo sapiens OX=9606 GN=HSP90AB4P PE=5 SV=1\n",
            ">sp|Q2M238|RN3P1_HUMAN Putative RRN3-like protein RRN3P1 OS=Homo sapiens OX=9606 GN=RRN3P1 PE=5 SV=1\n",
            ">sp|Q8IZP2|ST134_HUMAN Putative protein FAM10A4 OS=Homo sapiens OX=9606 GN=ST13P4 PE=5 SV=1\n",
            ">sp|Q9P1P4|TAAR3_HUMAN Putative trace amine-associated receptor 3 OS=Homo sapiens OX=9606 GN=TAAR3P PE=5 SV=1\n",
            ">sp|Q9BXW3|SNH12_HUMAN Putative uncharacterized protein SNHG12 OS=Homo sapiens OX=9606 GN=SNHG12 PE=5 SV=1\n",
            ">sp|Q495Y7|SPDE7_HUMAN Putative speedy protein E7 OS=Homo sapiens OX=9606 GN=SPDYE7P PE=5 SV=1\n",
            ">sp|P12525|MYCP1_HUMAN Putative myc-like protein MYCLP1 OS=Homo sapiens OX=9606 GN=MYCLP1 PE=5 SV=2\n",
            ">sp|Q8NGU4|OR2I1_HUMAN Putative olfactory receptor 2I1 OS=Homo sapiens OX=9606 GN=OR2I1P PE=5 SV=1\n",
            ">sp|P0C7V6|SP202_HUMAN Putative transcription factor SPT20 homolog-like 2 OS=Homo sapiens OX=9606 GN=SUPT20HL2 PE=5 SV=1\n",
            ">sp|Q9BTD1|SHAS3_HUMAN Putative uncharacterized protein SHANK2-AS3 OS=Homo sapiens OX=9606 GN=SHANK2-AS3 PE=5 SV=2\n",
            ">sp|P0DUD4|SPD15_HUMAN Putative speedy protein E15 OS=Homo sapiens OX=9606 GN=SPDYE15 PE=5 SV=1\n",
            ">sp|Q7RTT3|SSX9_HUMAN Putative protein SSX9 OS=Homo sapiens OX=9606 GN=SSX9P PE=5 SV=1\n",
            ">sp|A6NN06|U633A_HUMAN Putative UPF0633 protein MGC21881 OS=Homo sapiens OX=9606 PE=5 SV=1\n",
            ">sp|Q7Z2R9|SSAS1_HUMAN Putative uncharacterized protein SSBP3-AS1 OS=Homo sapiens OX=9606 GN=SSBP3-AS1 PE=5 SV=1\n",
            ">sp|Q59GN2|R39L5_HUMAN Putative 60S ribosomal protein L39-like 5 OS=Homo sapiens OX=9606 GN=RPL39P5 PE=5 SV=2\n",
            ">sp|Q9GZW5|SCND2_HUMAN Putative SCAN domain-containing protein SCAND2P OS=Homo sapiens OX=9606 GN=SCAND2P PE=5 SV=2\n",
            ">sp|Q5JQD4|PYY3_HUMAN Putative peptide YY-3 OS=Homo sapiens OX=9606 GN=PYY3 PE=5 SV=1\n",
            ">sp|A0A494C086|SPD21_HUMAN Putative speedy protein E21 OS=Homo sapiens OX=9606 GN=SPDYE21 PE=5 SV=1\n",
            ">sp|Q8N9U9|SPOT1_HUMAN Putative uncharacterized protein SPANXA2-OT1 OS=Homo sapiens OX=9606 GN=SPANXA2-OT1 PE=5 SV=1\n",
            ">sp|A6NEY8|PRXD1_HUMAN Putative prolyl-tRNA synthetase associated domain-containing protein 1 OS=Homo sapiens OX=9606 GN=PRORSD1P PE=5 SV=3\n",
            ">sp|Q9NQ39|RS10L_HUMAN Putative 40S ribosomal protein S10-like OS=Homo sapiens OX=9606 GN=RPS10P5 PE=5 SV=1\n",
            ">sp|B4DYI2|S31C2_HUMAN Putative spermatogenesis-associated protein 31C2 OS=Homo sapiens OX=9606 GN=SPATA31C2 PE=5 SV=2\n",
            ">sp|A0A1B0GTR4|SPRR5_HUMAN Putative small proline-rich protein 5 OS=Homo sapiens OX=9606 GN=SPRR5 PE=5 SV=1\n",
            ">sp|Q6Q795|VBPC1_HUMAN Putative viral protein-binding protein C1 OS=Homo sapiens OX=9606 PE=5 SV=1\n",
            ">sp|Q1A5X7|WHAL1_HUMAN Putative WASP homolog-associated protein with actin, membranes and microtubules-like protein 1 OS=Homo sapiens OX=9606 GN=WHAMMP3 PE=5 SV=1\n",
            ">sp|Q13401|PM2P3_HUMAN Putative postmeiotic segregation increased 2-like protein 3 OS=Homo sapiens OX=9606 GN=PMS2P3 PE=5 SV=2\n",
            ">sp|Q6NVV1|R13P3_HUMAN Putative 60S ribosomal protein L13a protein RPL13AP3 OS=Homo sapiens OX=9606 GN=RPL13AP3 PE=5 SV=1\n",
            ">sp|Q58G82|SY14L_HUMAN Putative synaptotagmin-14-like protein OS=Homo sapiens OX=9606 GN=SYT14P1 PE=5 SV=2\n",
            ">sp|Q9HAU6|TCTP8_HUMAN Putative translationally-controlled tumor protein-like protein TPT1P8 OS=Homo sapiens OX=9606 GN=TPT1P8 PE=5 SV=2\n",
            ">sp|Q6NUR6|R216L_HUMAN Putative protein RNF216-like OS=Homo sapiens OX=9606 GN=RNF216P1 PE=5 SV=2\n",
            ">sp|P0DUD3|SPD14_HUMAN Putative speedy protein E14 OS=Homo sapiens OX=9606 GN=SPDYE14 PE=5 SV=1\n",
            ">sp|A8MWL6|SNG2L_HUMAN Putative synaptogyrin-2 like protein OS=Homo sapiens OX=9606 PE=5 SV=1\n",
            ">sp|A6NJR5|SPDL3_HUMAN Putative speedy protein-like protein 3 OS=Homo sapiens OX=9606 PE=5 SV=3\n",
            ">sp|Q6UXR4|SPA13_HUMAN Putative serpin A13 OS=Homo sapiens OX=9606 GN=SERPINA13P PE=5 SV=1\n",
            ">sp|A6NCI5|SIM16_HUMAN Putative transmembrane protein encoded by LINC00862 OS=Homo sapiens OX=9606 GN=LINC00862 PE=5 SV=1\n",
            ">sp|P0DTE0|T2R36_HUMAN Putative taste receptor type 2 member 36 OS=Homo sapiens OX=9606 GN=TAS2R36 PE=5 SV=1\n",
            ">sp|Q5VWM6|PRA13_HUMAN Putative PRAME family member 13 OS=Homo sapiens OX=9606 GN=PRAMEF13 PE=5 SV=2\n",
            ">sp|Q6UXP3|TM14E_HUMAN Transmembrane protein 14EP OS=Homo sapiens OX=9606 GN=TMEM14EP PE=5 SV=1\n",
            ">sp|A4QPH2|PI4P2_HUMAN Putative phosphatidylinositol 4-kinase alpha-like protein P2 OS=Homo sapiens OX=9606 GN=PI4KAP2 PE=5 SV=3\n",
            ">sp|B1AK76|SNUFL_HUMAN Putative SNURF-like protein OS=Homo sapiens OX=9606 GN=SNURFL PE=5 SV=2\n",
            ">sp|A6NDL7|MT21E_HUMAN Putative methyltransferase-like protein 21E pseudogene OS=Homo sapiens OX=9606 GN=METTL21EP PE=5 SV=2\n",
            ">sp|A6NNV3|SPD16_HUMAN Putative speedy protein E16 OS=Homo sapiens OX=9606 GN=SPDYE16 PE=5 SV=3\n",
            ">sp|Q8TBR4|ST3L4_HUMAN Putative STAG3-like protein 4 OS=Homo sapiens OX=9606 GN=STAG3L4 PE=5 SV=1\n",
            ">sp|Q8TAI1|TYMOS_HUMAN TYMS opposite strand protein OS=Homo sapiens OX=9606 GN=TYMSOS PE=5 SV=2\n",
            ">sp|Q8NCQ3|NC301_HUMAN Putative uncharacterized protein encoded by LINC00301 OS=Homo sapiens OX=9606 GN=LINC00301 PE=5 SV=1\n",
            ">sp|Q66K80|RUAS1_HUMAN Putative uncharacterized protein RUSC1-AS1 OS=Homo sapiens OX=9606 GN=RUSC1-AS1 PE=5 SV=1\n",
            ">sp|Q13046|PSG7_HUMAN Putative pregnancy-specific beta-1-glycoprotein 7 OS=Homo sapiens OX=9606 GN=PSG7 PE=5 SV=3\n",
            ">sp|Q9NRI6|PYY2_HUMAN Putative peptide YY-2 OS=Homo sapiens OX=9606 GN=PYY2 PE=5 SV=1\n",
            ">sp|Q13278|RIG_HUMAN Putative protein RIG OS=Homo sapiens OX=9606 GN=RIG PE=5 SV=1\n",
            ">sp|Q8N8J0|PI4P1_HUMAN Putative inactive phosphatidylinositol 4-kinase alpha-like protein P1 OS=Homo sapiens OX=9606 GN=PI4KAP1 PE=5 SV=1\n",
            ">sp|A8MTI9|PRS47_HUMAN Putative serine protease 47 OS=Homo sapiens OX=9606 GN=PRSS47 PE=5 SV=2\n",
            ">sp|Q9NSQ0|RRP7B_HUMAN Putative ribosomal RNA-processing protein 7 homolog B OS=Homo sapiens OX=9606 GN=RRP7BP PE=5 SV=1\n",
            ">sp|I3L0S3|PYAS1_HUMAN Putative uncharacterized protein PYCARD-AS1 OS=Homo sapiens OX=9606 GN=PYCARD-AS1 PE=5 SV=1\n",
            ">sp|A6NC62|RAKDN_HUMAN Putative RBAK downstream neighbor protein OS=Homo sapiens OX=9606 GN=RBAKDN PE=5 SV=2\n",
            ">sp|O95744|PM2P2_HUMAN Putative postmeiotic segregation increased 2-like protein 2 OS=Homo sapiens OX=9606 GN=PMS2P2 PE=5 SV=1\n",
            ">sp|Q5JNZ5|RS26L_HUMAN Putative 40S ribosomal protein S26-like 1 OS=Homo sapiens OX=9606 GN=RPS26P11 PE=5 SV=1\n",
            ">sp|A8MWD9|RUXGL_HUMAN Putative small nuclear ribonucleoprotein G-like protein 15 OS=Homo sapiens OX=9606 GN=SNRPGP15 PE=5 SV=2\n",
            ">sp|Q8NHA6|OR2W6_HUMAN Putative olfactory receptor 2W6 OS=Homo sapiens OX=9606 GN=OR2W6P PE=5 SV=1\n",
            ">sp|A8MQ11|PM2P5_HUMAN Postmeiotic segregation increased 2-like protein 5 OS=Homo sapiens OX=9606 GN=PMS2P5 PE=5 SV=2\n",
            ">sp|Q86YQ2|LATH_HUMAN Putative BPIFA4P protein OS=Homo sapiens OX=9606 GN=BPIFA4P PE=5 SV=1\n",
            ">sp|Q9UHF3|NAT8B_HUMAN Putative N-acetyltransferase 8B OS=Homo sapiens OX=9606 GN=NAT8B PE=5 SV=1\n",
            ">sp|Q3KNT7|NSN5B_HUMAN Putative NOL1/NOP2/Sun domain family member 5B OS=Homo sapiens OX=9606 GN=NSUN5P1 PE=5 SV=1\n",
            ">sp|Q8NH89|O5AK3_HUMAN Putative olfactory receptor 5AK3 OS=Homo sapiens OX=9606 GN=OR5AK3P PE=5 SV=1\n",
            ">sp|A8MVU1|NCF1C_HUMAN Putative neutrophil cytosol factor 1C OS=Homo sapiens OX=9606 GN=NCF1C PE=5 SV=1\n",
            ">sp|Q6DRA6|H2B2D_HUMAN Putative histone H2B type 2-D OS=Homo sapiens OX=9606 GN=H2BC19P PE=5 SV=3\n",
            ">sp|Q8NBZ9|NEAS1_HUMAN Putative uncharacterized protein NEXN-AS1 OS=Homo sapiens OX=9606 GN=NEXN-AS1 PE=5 SV=1\n",
            ">sp|A6NJ64|NPIB2_HUMAN Putative nuclear pore complex-interacting protein family member B2 OS=Homo sapiens OX=9606 GN=NPIPB2 PE=5 SV=4\n",
            ">sp|O60361|NDK8_HUMAN Putative nucleoside diphosphate kinase OS=Homo sapiens OX=9606 GN=NME2P1 PE=5 SV=1\n",
            ">sp|Q06416|P5F1B_HUMAN Putative POU domain, class 5, transcription factor 1B OS=Homo sapiens OX=9606 GN=POU5F1B PE=5 SV=2\n",
            ">sp|Q16048|MCHL1_HUMAN Putative pro-MCH-like protein 1 OS=Homo sapiens OX=9606 GN=PMCHL1 PE=5 SV=2\n",
            ">sp|Q8NGA2|OR7A2_HUMAN Putative olfactory receptor 7A2 OS=Homo sapiens OX=9606 GN=OR7A2P PE=5 SV=1\n",
            ">sp|Q8NGI1|O56B2_HUMAN Putative olfactory receptor 56B2 OS=Homo sapiens OX=9606 GN=OR56B2P PE=5 SV=1\n",
            ">sp|Q6A1A2|PDPK2_HUMAN Putative 3-phosphoinositide-dependent protein kinase 2 OS=Homo sapiens OX=9606 GN=PDPK2P PE=5 SV=1\n",
            ">sp|Q8N6C7|PGSF1_HUMAN Putative uncharacterized protein encoded by MIR7-3HG OS=Homo sapiens OX=9606 GN=MIR7-3HG PE=5 SV=1\n",
            ">sp|A6NJ08|MB3L5_HUMAN Putative methyl-CpG-binding domain protein 3-like 5 OS=Homo sapiens OX=9606 GN=MBD3L5 PE=5 SV=1\n",
            ">sp|P0DP75|M14OS_HUMAN Putative uncharacterized protein MED14OS OS=Homo sapiens OX=9606 GN=MED14OS PE=5 SV=1\n",
            ">sp|O15172|PSPHL_HUMAN Putative phosphoserine phosphatase-like protein OS=Homo sapiens OX=9606 GN=PSPHP1 PE=5 SV=1\n",
            ">sp|A6NHM9|MOXD2_HUMAN Putative DBH-like monooxygenase protein 2 OS=Homo sapiens OX=9606 GN=MOXD2P PE=5 SV=1\n",
            ">sp|P0C2Y1|NBPF7_HUMAN Putative neuroblastoma breakpoint family member 7 OS=Homo sapiens OX=9606 GN=NBPF7 PE=5 SV=1\n",
            ">sp|Q13670|PM2PB_HUMAN Putative postmeiotic segregation increased 2-like protein 11 OS=Homo sapiens OX=9606 GN=PMS2P11 PE=5 SV=1\n",
            ">sp|Q107X0|KRIP1_HUMAN Putative protein KRIP1 OS=Homo sapiens OX=9606 GN=KLKP1 PE=5 SV=1\n",
            ">sp|A6NE82|MB3L3_HUMAN Putative methyl-CpG-binding domain protein 3-like 3 OS=Homo sapiens OX=9606 GN=MBD3L3 PE=5 SV=1\n",
            ">sp|A8MZH6|OOSP1_HUMAN Putative oocyte-secreted protein 1 homolog OS=Homo sapiens OX=9606 GN=OOSP1 PE=5 SV=1\n",
            ">sp|Q6IF36|O8G2P_HUMAN Putative olfactory receptor 8G2 OS=Homo sapiens OX=9606 GN=OR8G2P PE=5 SV=1\n",
            ">sp|Q8NHW5|RLA0L_HUMAN 60S acidic ribosomal protein P0-like OS=Homo sapiens OX=9606 GN=RPLP0P6 PE=5 SV=1\n",
            ">sp|P13985|HRES1_HUMAN Putative HTLV-1-related endogenous sequence OS=Homo sapiens OX=9606 GN=HRES1 PE=5 SV=1\n",
            ">sp|Q8NGH6|O52L2_HUMAN Putative olfactory receptor 52L2 OS=Homo sapiens OX=9606 GN=OR52L2P PE=5 SV=3\n",
            ">sp|A8MUH7|PDZ1P_HUMAN Putative PDZ domain-containing protein PDZK1P1 OS=Homo sapiens OX=9606 GN=PDZK1P1 PE=5 SV=2\n",
            ">sp|Q9P1G2|RBAS1_HUMAN Putative uncharacterized protein encoded by RBM12B-AS1 OS=Homo sapiens OX=9606 GN=RBM12B-AS1 PE=5 SV=2\n",
            ">sp|Q9BWJ2|RHAS1_HUMAN Putative uncharacterized protein encoded by RHPN1-AS1 OS=Homo sapiens OX=9606 GN=RHPN1-AS1 PE=5 SV=1\n",
            ">sp|Q6ZS52|YF013_HUMAN Putative uncharacterized protein FLJ45825 OS=Homo sapiens OX=9606 PE=5 SV=1\n",
            ">sp|P0C7P4|UCRIL_HUMAN Putative cytochrome b-c1 complex subunit Rieske-like protein 1 OS=Homo sapiens OX=9606 GN=UQCRFS1P1 PE=5 SV=1\n",
            ">sp|A6NEH8|ZNAS2_HUMAN Putative uncharacterized protein encoded by ZNF503-AS2 OS=Homo sapiens OX=9606 GN=ZNF503-AS2 PE=5 SV=1\n",
            ">sp|Q9H853|TBA4B_HUMAN Putative tubulin-like protein alpha-4B OS=Homo sapiens OX=9606 GN=TUBA4B PE=5 SV=2\n",
            ">sp|Q8TAT8|YK045_HUMAN Putative uncharacterized protein LOC644613 OS=Homo sapiens OX=9606 PE=5 SV=2\n",
            ">sp|P0DSN6|T2R33_HUMAN Putative taste receptor type 2 member 33 OS=Homo sapiens OX=9606 GN=TAS2R33 PE=5 SV=1\n",
            ">sp|Q9UFV1|TBC29_HUMAN Putative TBC1 domain family member 29 OS=Homo sapiens OX=9606 GN=TBC1D29P PE=5 SV=1\n",
            ">sp|Q8NA96|YE027_HUMAN Putative uncharacterized protein FLJ35723 OS=Homo sapiens OX=9606 PE=5 SV=2\n",
            ">sp|Q49A33|Z876P_HUMAN Putative zinc finger protein 876 OS=Homo sapiens OX=9606 GN=ZNF876P PE=5 SV=3\n",
            ">sp|Q6ZT77|ZN826_HUMAN Putative zinc finger protein 826 OS=Homo sapiens OX=9606 GN=ZNF826P PE=5 SV=2\n",
            ">sp|Q5EBM4|ZN542_HUMAN Putative zinc finger protein 542 OS=Homo sapiens OX=9606 GN=ZNF542P PE=5 SV=2\n",
            ">sp|P0C879|YJ018_HUMAN Putative uncharacterized protein FLJ43185 OS=Homo sapiens OX=9606 PE=5 SV=1\n",
            ">sp|Q9BRP9|YK016_HUMAN Putative uncharacterized protein MGC13053 OS=Homo sapiens OX=9606 PE=5 SV=2\n",
            ">sp|A6NDX5|ZN840_HUMAN Putative zinc finger protein 840 OS=Homo sapiens OX=9606 GN=ZNF840P PE=5 SV=5\n",
            ">sp|Q3BBV2|NBPF8_HUMAN Putative neuroblastoma breakpoint family member 8 OS=Homo sapiens OX=9606 GN=NBPF8 PE=5 SV=1\n",
            ">sp|Q8IWF7|U2D2L_HUMAN Putative ubiquitin-conjugating enzyme E2 D2-like protein OS=Homo sapiens OX=9606 GN=UBE2DNL PE=5 SV=1\n",
            ">sp|A6NM43|TCPQL_HUMAN Putative T-complex protein 1 subunit theta-like 1 OS=Homo sapiens OX=9606 GN=CCT8L1P PE=5 SV=1\n",
            ">sp|Q8N377|YJ004_HUMAN Putative uncharacterized protein LOC387726 OS=Homo sapiens OX=9606 PE=5 SV=2\n",
            ">sp|P0CG00|ZSA5D_HUMAN Putative zinc finger and SCAN domain-containing protein 5D OS=Homo sapiens OX=9606 GN=ZSCAN5DP PE=5 SV=1\n",
            ">sp|Q9UHU1|YK039_HUMAN Putative uncharacterized protein PRO1716 OS=Homo sapiens OX=9606 GN=PRO1716 PE=5 SV=1\n",
            ">sp|Q6ZQT0|YD023_HUMAN Putative uncharacterized protein FLJ45035 OS=Homo sapiens OX=9606 PE=5 SV=1\n",
            ">sp|Q9HAA7|YG046_HUMAN Putative uncharacterized protein FLJ11871 OS=Homo sapiens OX=9606 PE=5 SV=1\n",
            ">sp|Q6ZTI0|YK032_HUMAN Putative uncharacterized protein FLJ44636 OS=Homo sapiens OX=9606 PE=5 SV=1\n",
            ">sp|Q9BTK2|YX002_HUMAN Putative uncharacterized protein LOC642776 OS=Homo sapiens OX=9606 PE=5 SV=2\n",
            ">sp|Q9H489|TSY26_HUMAN Putative testis-specific Y-encoded-like protein 3 OS=Homo sapiens OX=9606 GN=TSPY26P PE=5 SV=1\n",
            ">sp|Q0P140|YA037_HUMAN Putative uncharacterized protein HSD52 OS=Homo sapiens OX=9606 GN=HSD52 PE=5 SV=1\n",
            ">sp|Q06250|WIT1_HUMAN Putative Wilms tumor upstream neighbor 1 gene protein OS=Homo sapiens OX=9606 GN=WT1-AS PE=5 SV=2\n",
            ">sp|Q6ZV60|YL023_HUMAN Putative uncharacterized protein encoded by LINC00173 OS=Homo sapiens OX=9606 GN=LINC00173 PE=5 SV=1\n",
            ">sp|A6NIE9|PRS29_HUMAN Putative serine protease 29 OS=Homo sapiens OX=9606 GN=PRSS29P PE=5 SV=3\n",
            ">sp|Q6DN03|H2B2C_HUMAN Putative histone H2B type 2-C OS=Homo sapiens OX=9606 GN=H2BC20P PE=5 SV=3\n",
            ">sp|Q8NGY7|O10J6_HUMAN Putative olfactory receptor 10J6 OS=Homo sapiens OX=9606 GN=OR10J6P PE=5 SV=1\n",
            ">sp|Q96TA0|PCDBI_HUMAN Putative protocadherin beta-18 OS=Homo sapiens OX=9606 GN=PCDHB18P PE=5 SV=2\n",
            ">sp|H0Y7S4|PRA26_HUMAN Putative PRAME family member 26 OS=Homo sapiens OX=9606 GN=PRAMEF26 PE=5 SV=2\n",
            ">sp|Q9NZH4|PTTG3_HUMAN Putative pituitary tumor-transforming gene 3 protein OS=Homo sapiens OX=9606 GN=PTTG3P PE=5 SV=1\n",
            ">sp|Q7Z5A4|PRS42_HUMAN Putative serine protease 42 OS=Homo sapiens OX=9606 GN=PRSS42P PE=5 SV=1\n",
            ">sp|A8MV57|MPTX_HUMAN Putative mucosal pentraxin homolog OS=Homo sapiens OX=9606 GN=MPTX1 PE=5 SV=2\n",
            ">sp|Q6ZUF6|NC336_HUMAN Putative uncharacterized protein encoded by LINC00336 OS=Homo sapiens OX=9606 GN=LINC00336 PE=5 SV=1\n",
            ">sp|P59922|OR2B8_HUMAN Putative olfactory receptor 2B8 OS=Homo sapiens OX=9606 GN=OR2B8P PE=5 SV=1\n",
            ">sp|A6NGE7|URAD_HUMAN Putative 2-oxo-4-hydroxy-4-carboxy-5-ureidoimidazoline decarboxylase OS=Homo sapiens OX=9606 GN=URAD PE=5 SV=2\n",
            ">sp|Q6ZS46|YF009_HUMAN Putative uncharacterized protein FLJ45840 OS=Homo sapiens OX=9606 PE=5 SV=2\n",
            ">sp|Q8N1Y9|YI025_HUMAN Putative uncharacterized protein FLJ37218 OS=Homo sapiens OX=9606 PE=5 SV=2\n",
            ">sp|Q9Y3F1|TA6P_HUMAN Putative TAP2-associated 6.5 kDa polypeptide OS=Homo sapiens OX=9606 PE=5 SV=1\n",
            ">sp|Q8N814|YG045_HUMAN Putative uncharacterized protein FLJ40140 OS=Homo sapiens OX=9606 PE=5 SV=1\n",
            ">sp|Q0IIN9|ZNFS1_HUMAN Putative uncharacterized protein ZNF252P-AS1 OS=Homo sapiens OX=9606 GN=ZNF252P-AS1 PE=5 SV=1\n",
            ">sp|Q6ZN08|ZNF66_HUMAN Putative zinc finger protein 66 OS=Homo sapiens OX=9606 GN=ZNF66 PE=5 SV=3\n",
            ">sp|Q9H963|ZN702_HUMAN Putative zinc finger protein 702 OS=Homo sapiens OX=9606 GN=ZNF702P PE=5 SV=2\n",
            ">sp|Q75MW2|ZN767_HUMAN Protein ZNF767 OS=Homo sapiens OX=9606 GN=ZNF767P PE=5 SV=1\n",
            ">sp|Q9BZA5|TXNG2_HUMAN Putative gamma-taxilin 2 OS=Homo sapiens OX=9606 GN=TXLNGY PE=5 SV=3\n",
            ">sp|D6RBM5|U17LN_HUMAN Putative ubiquitin carboxyl-terminal hydrolase 17-like protein 23 OS=Homo sapiens OX=9606 GN=USP17L23 PE=5 SV=1\n",
            ">sp|Q9BZA0|TTY10_HUMAN Putative transcript Y 10 protein OS=Homo sapiens OX=9606 GN=TTTY10 PE=5 SV=1\n",
            ">sp|Q6UXR6|YI004_HUMAN Putative uncharacterized protein UNQ6494/PRO21346 OS=Homo sapiens OX=9606 GN=UNQ6494/PRO21346 PE=5 SV=1\n",
            ">sp|Q6ZRU5|YQ032_HUMAN Putative uncharacterized protein FLJ46089 OS=Homo sapiens OX=9606 PE=5 SV=2\n",
            ">sp|Q8N9W7|YO010_HUMAN Putative transmembrane protein FLJ36131 OS=Homo sapiens OX=9606 PE=5 SV=1\n",
            ">sp|Q92670|ZN75C_HUMAN Putative zinc finger protein 75C OS=Homo sapiens OX=9606 GN=ZNF75CP PE=5 SV=2\n",
            ">sp|Q8NHM4|TRY6_HUMAN Putative trypsin-6 OS=Homo sapiens OX=9606 GN=PRSS3P2 PE=5 SV=2\n",
            ">sp|A8MV72|YH009_HUMAN Putative UPF0607 protein ENSP00000382826 OS=Homo sapiens OX=9606 PE=5 SV=2\n",
            ">sp|Q6ZTR6|ZNFDT_HUMAN Putative uncharacterized protein ZNF516-DT OS=Homo sapiens OX=9606 GN=ZNF516-DT PE=5 SV=1\n",
            ">sp|Q9P1D8|YP008_HUMAN Putative uncharacterized protein PRO2289 OS=Homo sapiens OX=9606 GN=PRO2289 PE=5 SV=1\n",
            ">sp|Q5T742|ZFAS1_HUMAN Uncharacterized protein ZNF22-AS1 OS=Homo sapiens OX=9606 GN=ZNF22-AS1 PE=5 SV=3\n",
            ">sp|P0C880|YT014_HUMAN Putative uncharacterized protein FLJ40606 OS=Homo sapiens OX=9606 PE=5 SV=1\n",
            ">sp|Q75L30|YG027_HUMAN Putative uncharacterized protein FLJ92257 OS=Homo sapiens OX=9606 PE=5 SV=1\n",
            ">sp|A8MWP4|YU008_HUMAN Putative uncharacterized protein ENSP00000401716 OS=Homo sapiens OX=9606 PE=5 SV=1\n",
            ">sp|Q6UXP9|YO001_HUMAN Putative uncharacterized protein UNQ9370/PRO34162 OS=Homo sapiens OX=9606 GN=UNQ9370/PRO34162 PE=5 SV=1\n",
            ">sp|Q8N8H1|ZN321_HUMAN Putative protein ZNF321 OS=Homo sapiens OX=9606 GN=ZNF321P PE=5 SV=3\n",
            ">sp|Q9P1A2|PP4RL_HUMAN Putative serine/threonine-protein phosphatase 4 regulatory subunit 1-like OS=Homo sapiens OX=9606 GN=PPP4R1L PE=5 SV=3\n",
            ">sp|P0DKV0|S31C1_HUMAN Putative spermatogenesis-associated protein 31C1 OS=Homo sapiens OX=9606 GN=SPATA31C1 PE=5 SV=1\n",
            ">sp|Q8IUI4|S29P2_HUMAN Putative protein SNX29P2 OS=Homo sapiens OX=9606 GN=SNX29P2 PE=5 SV=2\n",
            ">sp|P0DUD2|SPD17_HUMAN Putative speedy protein E17 OS=Homo sapiens OX=9606 GN=SPDYE17 PE=5 SV=1\n",
            ">sp|A6NKH3|RL37L_HUMAN Putative 60S ribosomal protein L37a-like protein OS=Homo sapiens OX=9606 GN=RPL37AP8 PE=5 SV=2\n",
            ">sp|P0C7V7|SC11B_HUMAN Putative signal peptidase complex catalytic subunit SEC11B OS=Homo sapiens OX=9606 GN=SEC11B PE=5 SV=1\n",
            ">sp|Q5TG53|SEAS1_HUMAN Putative uncharacterized protein SERTAD4-AS1 OS=Homo sapiens OX=9606 GN=SERTAD4-AS1 PE=5 SV=2\n",
            ">sp|A6NJY1|SL9P1_HUMAN Putative SLC9B1-like protein SLC9B1P1 OS=Homo sapiens OX=9606 GN=SLC9B1P1 PE=5 SV=4\n",
            ">sp|A6NJ88|SGE2P_HUMAN Putative SAGE1-like protein OS=Homo sapiens OX=9606 GN=SAGE2P PE=5 SV=4\n",
            ">sp|P0CL83|ST3L1_HUMAN Putative STAG3-like protein 1 OS=Homo sapiens OX=9606 GN=STAG3L1 PE=5 SV=1\n",
            ">sp|Q9NQF3|SERHL_HUMAN Serine hydrolase-like protein OS=Homo sapiens OX=9606 GN=SERHL PE=5 SV=1\n",
            ">sp|A0A494C191|SPD9_HUMAN Putative speedy protein E9 OS=Homo sapiens OX=9606 GN=SPDYE9 PE=5 SV=1\n",
            ">sp|P0CL84|ST3L2_HUMAN Putative STAG3-like protein 2 OS=Homo sapiens OX=9606 GN=STAG3L2 PE=5 SV=1\n",
            ">sp|Q7RTY3|PRS45_HUMAN Putative serine protease 45 OS=Homo sapiens OX=9606 GN=PRSS45P PE=5 SV=1\n",
            ">sp|O43930|PRKY_HUMAN Putative serine/threonine-protein kinase PRKY OS=Homo sapiens OX=9606 GN=PRKY PE=5 SV=1\n",
            ">sp|Q6P435|SMG1L_HUMAN Putative uncharacterized SMG1-like protein OS=Homo sapiens OX=9606 PE=5 SV=1\n",
            ">sp|A6NGW2|STRCL_HUMAN Putative stereocilin-like protein OS=Homo sapiens OX=9606 GN=STRCP1 PE=5 SV=1\n",
            ">sp|A8MT19|RHN2P_HUMAN Putative rhophilin-2-like protein RHPN2P1 OS=Homo sapiens OX=9606 GN=RHPN2P1 PE=5 SV=2\n",
            ">sp|A6NIE6|RN3P2_HUMAN Putative RRN3-like protein RRN3P2 OS=Homo sapiens OX=9606 GN=RRN3P2 PE=5 SV=3\n",
            ">sp|B5MCN3|S14L6_HUMAN Putative SEC14-like protein 6 OS=Homo sapiens OX=9606 GN=SEC14L6 PE=5 SV=1\n",
            ">sp|P59091|CU093_HUMAN Putative uncharacterized protein encoded by LINC00315 OS=Homo sapiens OX=9606 GN=LINC00315 PE=5 SV=1\n",
            ">sp|Q6ZS02|DMP46_HUMAN Putative GED domain-containing protein DNM1P46 OS=Homo sapiens OX=9606 GN=DNM1P46 PE=5 SV=1\n",
            ">sp|Q86SQ3|AGRE4_HUMAN Putative adhesion G protein-coupled receptor E4P OS=Homo sapiens OX=9606 GN=ADGRE4P PE=5 SV=1\n",
            ">sp|A0A087X1C5|CP2D7_HUMAN Putative cytochrome P450 2D7 OS=Homo sapiens OX=9606 GN=CYP2D7 PE=5 SV=1\n",
            ">sp|Q658K8|EF1DL_HUMAN Putative elongation factor 1-delta-like protein OS=Homo sapiens OX=9606 GN=EEF1DP3 PE=5 SV=1\n",
            ">sp|D6RGX4|F90AP_HUMAN Putative protein FAM90A26 OS=Homo sapiens OX=9606 GN=FAM90A26 PE=5 SV=1\n",
            ">sp|P0C7V4|F90AJ_HUMAN Putative protein FAM90A15P OS=Homo sapiens OX=9606 GN=FAM90A15P PE=5 SV=1\n",
            ">sp|Q0D2H9|GOG8D_HUMAN Putative golgin subfamily A member 8D OS=Homo sapiens OX=9606 GN=GOLGA8DP PE=5 SV=1\n",
            ">sp|Q6NVV9|ADAM5_HUMAN Putative disintegrin and metalloproteinase domain-containing protein 5 OS=Homo sapiens OX=9606 GN=ADAM5 PE=5 SV=2\n",
            ">sp|Q6NSI1|AR26L_HUMAN Putative ankyrin repeat domain-containing protein 26-like protein OS=Homo sapiens OX=9606 GN=ANKRD26P1 PE=5 SV=2\n",
            ">sp|Q9H4G8|DPH3B_HUMAN Putative DPH3 homolog B OS=Homo sapiens OX=9606 GN=DPH3P1 PE=5 SV=1\n",
            ">sp|Q5VUR7|A20A3_HUMAN Putative ankyrin repeat domain-containing protein 20A3 OS=Homo sapiens OX=9606 GN=ANKRD20A3P PE=5 SV=1\n",
            ">sp|Q8IZM0|CNG1O_HUMAN Putative CNGA1-overlapping antisense gene protein OS=Homo sapiens OX=9606 PE=5 SV=1\n",
            ">sp|Q8N9R0|CP081_HUMAN Putative uncharacterized protein encoded by LINC00304 OS=Homo sapiens OX=9606 GN=LINC00304 PE=5 SV=2\n",
            ">sp|Q658T7|F90A2_HUMAN Putative protein FAM90A2P OS=Homo sapiens OX=9606 GN=FAM90A2P PE=5 SV=2\n",
            ">sp|Q8N326|CJ111_HUMAN Putative uncharacterized protein RPP38-DT OS=Homo sapiens OX=9606 GN=RPP38-DT PE=5 SV=1\n",
            ">sp|O60397|COX7S_HUMAN Putative cytochrome c oxidase subunit 7A3, mitochondrial OS=Homo sapiens OX=9606 GN=COX7A2P2 PE=5 SV=1\n",
            ">sp|O96002|CX001_HUMAN Putative transmembrane protein CXorf1 OS=Homo sapiens OX=9606 GN=CXorf1 PE=5 SV=1\n",
            ">sp|Q30KR1|DB109_HUMAN Putative beta-defensin 109B OS=Homo sapiens OX=9606 GN=DEFB109B PE=5 SV=1\n",
            ">sp|A6NEY3|GG6L3_HUMAN Putative golgin subfamily A member 6-like protein 3 OS=Homo sapiens OX=9606 GN=GOLGA6L3 PE=5 SV=3\n",
            ">sp|P59051|BRAS2_HUMAN Putative uncharacterized protein encoded by BRWD1-AS2 OS=Homo sapiens OX=9606 GN=BRWD1-AS2 PE=5 SV=1\n",
            ">sp|P0C853|BAAS2_HUMAN Putative uncharacterized protein BAALC-AS2 OS=Homo sapiens OX=9606 GN=BAALC-AS2 PE=5 SV=1\n",
            ">sp|Q96M42|CU129_HUMAN Putative uncharacterized protein encoded by LINC00479 OS=Homo sapiens OX=9606 GN=LINC00479 PE=5 SV=2\n",
            ">sp|Q9NRJ2|GSAS1_HUMAN Putative uncharacterized protein GSN-AS1 OS=Homo sapiens OX=9606 GN=GSN-AS1 PE=5 SV=1\n",
            ">sp|B2RPK0|HGB1A_HUMAN Putative high mobility group protein B1-like 1 OS=Homo sapiens OX=9606 GN=HMGB1P1 PE=5 SV=1\n",
            ">sp|Q96L14|C170L_HUMAN Cep170-like protein OS=Homo sapiens OX=9606 GN=CEP170P1 PE=5 SV=2\n",
            ">sp|Q5TEZ4|CF164_HUMAN Putative uncharacterized protein encoded by LINC01590 OS=Homo sapiens OX=9606 GN=LINC01590 PE=5 SV=2\n",
            ">sp|Q96FQ7|CR018_HUMAN Putative uncharacterized protein encoded by LINC00526 OS=Homo sapiens OX=9606 GN=LINC00526 PE=5 SV=1\n",
            ">sp|Q86X59|CQ082_HUMAN Putative uncharacterized protein LINC02875 OS=Homo sapiens OX=9606 GN=LINC02875 PE=5 SV=2\n",
            ">sp|A8MVJ9|HPF1L_HUMAN Putative histone PARylation factor 1-like OS=Homo sapiens OX=9606 PE=5 SV=1\n",
            ">sp|Q58FF3|ENPLL_HUMAN Putative endoplasmin-like protein OS=Homo sapiens OX=9606 GN=HSP90B2P PE=5 SV=1\n",
            ">sp|P0DPK5|H3Y2_HUMAN Histone H3.X OS=Homo sapiens OX=9606 GN=H3Y2 PE=5 SV=1\n",
            ">sp|P0C7V9|ME15P_HUMAN Putative methyltransferase-like protein 15P1 OS=Homo sapiens OX=9606 GN=METTL15P1 PE=5 SV=1\n",
            ">sp|A6NDR6|ME3L1_HUMAN Putative homeobox protein Meis3-like 1 OS=Homo sapiens OX=9606 GN=MEIS3P1 PE=5 SV=2\n",
            ">sp|Q86SG4|DPCA2_HUMAN Putative Dresden prostate carcinoma protein 2 OS=Homo sapiens OX=9606 GN=HMGN2P46 PE=5 SV=1\n",
            ">sp|Q96KV6|BT2A3_HUMAN Putative butyrophilin subfamily 2 member A3 OS=Homo sapiens OX=9606 GN=BTN2A3P PE=5 SV=2\n",
            ">sp|Q6NUI1|C144L_HUMAN Putative coiled-coil domain-containing protein 144 N-terminal-like OS=Homo sapiens OX=9606 GN=CCDC144NL PE=5 SV=1\n",
            ">sp|Q9H7B7|CG069_HUMAN Putative uncharacterized protein PKD1L1-AS1 OS=Homo sapiens OX=9606 GN=PKD1L1-AS1 PE=5 SV=3\n",
            ">sp|Q5T6M2|CF122_HUMAN Putative uncharacterized protein encoded by LINC00242 OS=Homo sapiens OX=9606 GN=LINC00242 PE=5 SV=1\n",
            ">sp|Q17RA5|CMAS1_HUMAN Putative uncharacterized protein C21orf62-AS1 OS=Homo sapiens OX=9606 GN=C21orf62-AS1 PE=5 SV=1\n",
            ">sp|Q495Z4|ASAS1_HUMAN Putative uncharacterized protein ASB16-AS1 OS=Homo sapiens OX=9606 GN=ASB16-AS1 PE=5 SV=2\n",
            ">sp|Q6ZSU1|C2G1P_HUMAN Putative inactive cytochrome P450 2G1 OS=Homo sapiens OX=9606 GN=CYP2G1P PE=5 SV=1\n",
            ">sp|Q9H8W2|CF155_HUMAN Putative uncharacterized protein encoded by LINC00472 OS=Homo sapiens OX=9606 GN=LINC00472 PE=5 SV=2\n",
            ">sp|Q86U02|CN165_HUMAN Putative uncharacterized protein encoded by LINC00596 OS=Homo sapiens OX=9606 GN=LINC00596 PE=5 SV=1\n",
            ">sp|Q5SY13|COAS1_HUMAN Putative uncharacterized protein encoded by COL5A1-AS1 OS=Homo sapiens OX=9606 GN=COL5A1-AS1 PE=5 SV=1\n",
            ">sp|Q96IX9|A26L1_HUMAN Putative ankyrin repeat domain-containing protein 26-like 1 OS=Homo sapiens OX=9606 GN=ANKRD36BP1 PE=5 SV=1\n",
            ">sp|Q8N888|BCOR2_HUMAN Putative BCoR-like protein 2 OS=Homo sapiens OX=9606 GN=BCORP1 PE=5 SV=1\n",
            ">sp|A6NL99|AQP73_HUMAN Putative aquaporin-7-like protein 3 OS=Homo sapiens OX=9606 GN=AQP7P3 PE=5 SV=2\n",
            ">sp|A2RU37|CI170_HUMAN Uncharacterized protein encoded by LINC02872 OS=Homo sapiens OX=9606 GN=LINC02872 PE=5 SV=1\n",
            ">sp|Q6ZST2|COLDT_HUMAN Putative uncharacterized protein COL25A1-DT OS=Homo sapiens OX=9606 GN=COL25A1-DT PE=5 SV=1\n",
            ">sp|Q6ZRV3|CC074_HUMAN Putative uncharacterized protein encoded by LINC00696 OS=Homo sapiens OX=9606 GN=LINC00696 PE=5 SV=1\n",
            ">sp|P0C843|CI014_HUMAN Putative uncharacterized protein encoded by LINC00032 OS=Homo sapiens OX=9606 GN=LINC00032 PE=5 SV=1\n",
            ">sp|A6NMY6|AXA2L_HUMAN Putative annexin A2-like protein OS=Homo sapiens OX=9606 GN=ANXA2P2 PE=5 SV=2\n",
            ">sp|Q8N535|CB052_HUMAN Putative uncharacterized protein encoded by LINC00471 OS=Homo sapiens OX=9606 GN=LINC00471 PE=5 SV=1\n",
            ">sp|Q96IT6|ARAS1_HUMAN Putative uncharacterized protein ARHGAP5-AS1 OS=Homo sapiens OX=9606 GN=ARHGAP5-AS1 PE=5 SV=1\n",
            ">sp|Q5SR53|CA200_HUMAN Putative uncharacterized protein PIK3CD-AS1 OS=Homo sapiens OX=9606 GN=PIK3CD-AS1 PE=5 SV=1\n",
            ">sp|P0C842|CJ052_HUMAN Putative uncharacterized protein encoded by LINC00614 OS=Homo sapiens OX=9606 GN=LINC00614 PE=5 SV=1\n",
            ">sp|Q9H2U6|CO005_HUMAN Putative uncharacterized protein encoded by LINC00597 OS=Homo sapiens OX=9606 GN=LINC00597 PE=5 SV=1\n",
            ">sp|Q6ZV77|CI139_HUMAN Putative uncharacterized protein LINC02908 OS=Homo sapiens OX=9606 GN=LINC02908 PE=5 SV=1\n",
            ">sp|P0CG22|DR4L1_HUMAN Putative dehydrogenase/reductase SDR family member 4-like 1 OS=Homo sapiens OX=9606 GN=DHRS4L1 PE=5 SV=1\n",
            ">sp|A6NIL9|CRAS1_HUMAN Putative uncharacterized protein CRYM-AS1 OS=Homo sapiens OX=9606 GN=CRYM-AS1 PE=5 SV=1\n",
            ">sp|Q86T23|CROL1_HUMAN Putative ciliary rootlet coiled-coil protein-like 1 protein OS=Homo sapiens OX=9606 GN=CROCCP2 PE=5 SV=1\n",
            ">sp|A6NM45|CLD24_HUMAN Putative claudin-24 OS=Homo sapiens OX=9606 GN=CLDN24 PE=5 SV=2\n",
            ">sp|A0A1B0GUI7|BRDOS_HUMAN Putative uncharacterized protein BRD3OS OS=Homo sapiens OX=9606 GN=BRD3OS PE=5 SV=1\n",
            ">sp|A8MQB3|CQ051_HUMAN Putative uncharacterized protein LINC02693 OS=Homo sapiens OX=9606 GN=LINC02693 PE=5 SV=1\n",
            ">sp|Q8N7U9|CQ054_HUMAN Putative uncharacterized protein encoded by LINC00469 OS=Homo sapiens OX=9606 GN=LINC00469 PE=5 SV=1\n",
            ">sp|Q0VDD5|CQ091_HUMAN Putative uncharacterized protein encoded by MIR22HG OS=Homo sapiens OX=9606 GN=MIR22HG PE=5 SV=1\n",
            ">sp|Q9P2X8|CI027_HUMAN Putative uncharacterized protein encoded by LINC00474 OS=Homo sapiens OX=9606 GN=LINC00474 PE=5 SV=2\n",
            ">sp|A8K010|CF176_HUMAN Putative transcriptional regulator encoded by LINC00473 OS=Homo sapiens OX=9606 GN=LINC00473 PE=5 SV=2\n",
            ">sp|P58513|CU042_HUMAN Putative uncharacterized protein encoded by LINC00158 OS=Homo sapiens OX=9606 GN=LINC00158 PE=5 SV=1\n",
            ">sp|Q92771|DDX12_HUMAN Putative ATP-dependent RNA helicase DDX12 OS=Homo sapiens OX=9606 GN=DDX12P PE=5 SV=3\n",
            ">sp|A0A1B0GUA6|CC195_HUMAN Putative coiled-coil domain-containing protein 195 OS=Homo sapiens OX=9606 GN=CCDC195 PE=5 SV=1\n",
            ">sp|Q9H0H9|C4F30_HUMAN Putative cytochrome P450 family member 4F30 OS=Homo sapiens OX=9606 GN=CYP4F30P PE=5 SV=1\n",
            ">sp|Q8N8I6|CQ055_HUMAN Putative uncharacterized protein encoded by LINC00482 OS=Homo sapiens OX=9606 GN=LINC00482 PE=5 SV=1\n",
            ">sp|Q7Z4J2|GL6D1_HUMAN Putative glycosyltransferase 6 domain-containing protein 1 OS=Homo sapiens OX=9606 GN=GLT6D1 PE=5 SV=2\n",
            ">sp|Q5H9B9|BM2KL_HUMAN Putative BMP-2-inducible kinase-like protein OS=Homo sapiens OX=9606 GN=BMP2KL PE=5 SV=2\n",
            ">sp|Q96LS8|CB048_HUMAN Putative uncharacterized protein C2orf48 OS=Homo sapiens OX=9606 GN=C2orf48 PE=5 SV=1\n",
            ">sp|Q9HD87|CF050_HUMAN Putative uncharacterized protein C6orf50 OS=Homo sapiens OX=9606 GN=C6orf50 PE=5 SV=1\n",
            ">sp|P0C854|CECR9_HUMAN Putative cat eye syndrome critical region protein 9 OS=Homo sapiens OX=9606 GN=CECR9 PE=5 SV=1\n",
            ">sp|Q8N1V8|CJ085_HUMAN Uncharacterized protein encoded by LINC01561 OS=Homo sapiens OX=9606 GN=LINC01561 PE=5 SV=1\n",
            ">sp|Q8TBR5|CSAS1_HUMAN Putative uncharacterized protein CIRBP-AS1 OS=Homo sapiens OX=9606 GN=CIRBP-AS1 PE=5 SV=1\n",
            ">sp|P0C866|F91A2_HUMAN Putative uncharacterized protein encoded by LINC00869 OS=Homo sapiens OX=9606 GN=LINC00869 PE=5 SV=1\n",
            ">sp|A8MWK0|FS2P1_HUMAN Putative fatty acid desaturase 2-like protein FADS2B OS=Homo sapiens OX=9606 GN=FADS2B PE=5 SV=2\n",
            ">sp|P0DPF6|CB27B_HUMAN Putative uncharacterized protein CDRT15P3 OS=Homo sapiens OX=9606 GN=CDRT15P3 PE=5 SV=1\n",
            ">sp|Q8NAP1|CAST3_HUMAN Putative protein CASTOR 3 OS=Homo sapiens OX=9606 GN=CASTOR3 PE=5 SV=1\n",
            ">sp|Q5K130|CLU1O_HUMAN Putative uncharacterized protein CLLU1-AS1 OS=Homo sapiens OX=9606 GN=CLLU1-AS1 PE=5 SV=1\n",
            ">sp|B1AMM8|CI107_HUMAN Putative uncharacterized protein encoded by LINC00587 OS=Homo sapiens OX=9606 GN=LINC00587 PE=5 SV=1\n",
            ">sp|Q6ZN92|DUTL_HUMAN Putative inactive deoxyuridine 5'-triphosphate nucleotidohydrolase-like protein FLJ16323 OS=Homo sapiens OX=9606 PE=5 SV=1\n",
            ">sp|Q0D2K5|EGFEM_HUMAN Putative EGF-like and EMI domain-containing protein 1 OS=Homo sapiens OX=9606 GN=EGFEM1P PE=5 SV=1\n",
            ">sp|Q96KT6|CH014_HUMAN Putative uncharacterized protein encoded by LINC00208 OS=Homo sapiens OX=9606 GN=LINC00208 PE=5 SV=1\n",
            ">sp|J3KSC0|CR064_HUMAN Putative uncharacterized protein encoded by LINC01387 OS=Homo sapiens OX=9606 GN=LINC01387 PE=5 SV=1\n",
            ">sp|A6NIU2|CU037_HUMAN Putative uncharacterized protein encoded by LINC01549 OS=Homo sapiens OX=9606 GN=LINC01549 PE=5 SV=1\n",
            ">sp|Q5T8R8|DOAS1_HUMAN Uncharacterized protein DOCK8-AS1 OS=Homo sapiens OX=9606 GN=DOCK8-AS1 PE=5 SV=1\n",
            ">sp|Q5NE16|CATL3_HUMAN Putative inactive cathepsin L-like protein CTSL3P OS=Homo sapiens OX=9606 GN=CTSL3P PE=5 SV=1\n",
            ">sp|Q6ZV80|CB091_HUMAN Putative uncharacterized protein LINC02898 OS=Homo sapiens OX=9606 GN=LINC02898 PE=5 SV=1\n",
            ">sp|Q8N6U2|CL033_HUMAN Putative uncharacterized protein encoded by LINC00612 OS=Homo sapiens OX=9606 GN=LINC00612 PE=5 SV=1\n",
            ">sp|Q96LM1|CL037_HUMAN Putative uncharacterized protein encoded by LINC00615 OS=Homo sapiens OX=9606 GN=LINC00615 PE=5 SV=1\n",
            ">sp|F2Z3M2|CQ112_HUMAN Uncharacterized protein encoded by LINC02876 OS=Homo sapiens OX=9606 GN=LINC02876 PE=5 SV=1\n",
            ">sp|Q5T4H9|CSC10_HUMAN Putative uncharacterized protein encoded by MIR1915-HG OS=Homo sapiens OX=9606 GN=MIR1915HG PE=5 SV=1\n",
            ">sp|Q5YKI7|GGNB1_HUMAN Putative gametogenetin-binding protein 1 OS=Homo sapiens OX=9606 GN=GGNBP1 PE=5 SV=1\n",
            ">sp|Q8WZA8|GC224_HUMAN Putative gastric cancer-related gene 224 protein OS=Homo sapiens OX=9606 GN=GCRG224 PE=5 SV=1\n",
            ">sp|P61568|ENK11_HUMAN Putative endogenous retrovirus group K member 11-1 Env polyprotein OS=Homo sapiens OX=9606 GN=ERVK11-1 PE=5 SV=1\n",
            ">sp|Q96M19|CL067_HUMAN Putative transmembrane protein encoded by LINC00477 OS=Homo sapiens OX=9606 GN=LINC00477 PE=5 SV=1\n",
            ">sp|Q7Z4B0|CR020_HUMAN Putative uncharacterized protein encoded by LINC00305 OS=Homo sapiens OX=9606 GN=LINC00305 PE=5 SV=1\n",
            ">sp|Q9BZP3|CR002_HUMAN Putative uncharacterized protein encoded by LINC00470 OS=Homo sapiens OX=9606 GN=LINC00470 PE=5 SV=1\n",
            ">sp|Q8N1L4|CP4Z2_HUMAN Putative inactive cytochrome P450 family member 4Z2 OS=Homo sapiens OX=9606 GN=CYP4Z2P PE=5 SV=2\n",
            ">sp|Q6PK57|DMP34_HUMAN Putative GED domain-containing protein DNM1P34 OS=Homo sapiens OX=9606 GN=DNM1P34 PE=5 SV=1\n",
            ">sp|C9JQL5|DSA2D_HUMAN Putative dispanin subfamily A member 2d OS=Homo sapiens OX=9606 PE=5 SV=1\n",
            ">sp|P59074|CHM4P_HUMAN Putative charged multivesicular body protein 4B-like protein CHMP4BP1 OS=Homo sapiens OX=9606 GN=CHMP4BP1 PE=5 SV=1\n",
            ">sp|Q86TU6|CN070_HUMAN Putative uncharacterized protein encoded by LINC00523 OS=Homo sapiens OX=9606 GN=LINC00523 PE=5 SV=1\n",
            ">sp|Q8N6G1|CA211_HUMAN Putative uncharacterized protein encoded by LINC00337 OS=Homo sapiens OX=9606 GN=LINC00337 PE=5 SV=1\n",
            ">sp|Q5VVS0|CA140_HUMAN Putative uncharacterized protein C1orf140 OS=Homo sapiens OX=9606 GN=C1orf140 PE=5 SV=1\n",
            ">sp|Q8N268|CT197_HUMAN Putative uncharacterized protein encoded by LINC02910 OS=Homo sapiens OX=9606 GN=LINC02910 PE=5 SV=1\n",
            ">sp|Q8IX95|CTGE3_HUMAN Putative cTAGE family member 3 OS=Homo sapiens OX=9606 GN=CTAGE3P PE=5 SV=1\n",
            ">sp|Q75LS8|FKB9L_HUMAN Putative FK506-binding protein 9-like protein OS=Homo sapiens OX=9606 GN=FKBP9P1 PE=5 SV=1\n",
            ">sp|A0PJZ0|A20A5_HUMAN Putative ankyrin repeat domain-containing protein 20A5 OS=Homo sapiens OX=9606 GN=ANKRD20A5P PE=5 SV=1\n",
            ">sp|Q5SQ80|A20A2_HUMAN Putative ankyrin repeat domain-containing protein 20A2 OS=Homo sapiens OX=9606 GN=ANKRD20A2P PE=5 SV=1\n",
            ">sp|Q6ZN68|D19P2_HUMAN Putative C-mannosyltransferase DPY19L2P2 OS=Homo sapiens OX=9606 GN=DPY19L2P2 PE=5 SV=2\n",
            ">sp|Q5T2L2|AKCL1_HUMAN Putative aldo-keto reductase family 1 member C8 OS=Homo sapiens OX=9606 GN=AKR1C8P PE=5 SV=2\n",
            ">sp|Q6ZUV0|BACHL_HUMAN Putative cytosolic acyl coenzyme A thioester hydrolase-like OS=Homo sapiens OX=9606 GN=ACOT7L PE=5 SV=1\n",
            ">sp|Q6ZSB3|CB046_HUMAN Putative uncharacterized protein encoded by LINC00299 OS=Homo sapiens OX=9606 GN=LINC00299 PE=5 SV=1\n",
            ">sp|Q8NF67|A2012_HUMAN Putative ankyrin repeat domain-containing protein 20A12 pseudogene OS=Homo sapiens OX=9606 GN=ANKRD20A12P PE=5 SV=3\n",
            ">sp|Q6ZMU1|C3P1_HUMAN Putative protein C3P1 OS=Homo sapiens OX=9606 GN=C3P1 PE=5 SV=3\n",
            ">sp|Q4VX62|CF099_HUMAN Putative uncharacterized protein LINC02901 OS=Homo sapiens OX=9606 GN=LINC02901 PE=5 SV=1\n",
            ">sp|Q96N68|CR015_HUMAN Putative uncharacterized protein C18orf15 OS=Homo sapiens OX=9606 GN=C18orf15 PE=5 SV=1\n",
            ">sp|O60756|BCE1_HUMAN Putative protein BCE-1 OS=Homo sapiens OX=9606 GN=BCE1 PE=5 SV=1\n",
            ">sp|P59052|B3AS1_HUMAN Putative uncharacterized protein B3GALT5-AS1 OS=Homo sapiens OX=9606 GN=B3GALT5-AS1 PE=5 SV=2\n",
            ">sp|Q9UKY3|CES1P_HUMAN Putative inactive carboxylesterase 4 OS=Homo sapiens OX=9606 GN=CES1P1 PE=5 SV=2\n",
            ">sp|Q719I0|AHSA2_HUMAN Putative activator of 90 kDa heat shock protein ATPase homolog 2 OS=Homo sapiens OX=9606 GN=AHSA2P PE=5 SV=2\n",
            ">sp|Q5T3Y7|BVAS1_HUMAN Putative uncharacterized protein BVES-AS1 OS=Homo sapiens OX=9606 GN=BVES-AS1 PE=5 SV=1\n",
            ">sp|P54792|DVLP1_HUMAN Putative segment polarity protein dishevelled homolog DVL1P1 OS=Homo sapiens OX=9606 GN=DVL1P1 PE=5 SV=1\n",
            ">sp|Q4VXF1|F74A3_HUMAN Putative protein FAM74A3 OS=Homo sapiens OX=9606 GN=FAM74A3 PE=5 SV=1\n",
            ">sp|Q5VUJ5|AGAP7_HUMAN Putative Arf-GAP with GTPase, ANK repeat and PH domain-containing protein 7 OS=Homo sapiens OX=9606 GN=AGAP7P PE=5 SV=1\n",
            ">sp|Q8N910|CO056_HUMAN Putative uncharacterized protein PAK6-AS1 OS=Homo sapiens OX=9606 GN=PAK6-AS1 PE=5 SV=1\n",
            ">sp|P59036|CU082_HUMAN Putative uncharacterized protein encoded by LINC00310 OS=Homo sapiens OX=9606 GN=LINC00310 PE=5 SV=1\n",
            ">sp|Q9Y4M8|CH071_HUMAN Putative uncharacterized protein encoded by LINC00588 OS=Homo sapiens OX=9606 GN=LINC00588 PE=5 SV=1\n",
            ">sp|Q6ZTY9|CG065_HUMAN Putative uncharacterized protein LINC02902 OS=Homo sapiens OX=9606 GN=LINC02902 PE=5 SV=1\n",
            ">sp|Q9H4R4|CT191_HUMAN Putative nuclear receptor corepressor 1-like protein NCOR1P1 OS=Homo sapiens OX=9606 GN=NCOR1P1 PE=5 SV=1\n",
            ">sp|Q9Y442|CV024_HUMAN Putative uncharacterized protein YWHAH-AS1 OS=Homo sapiens OX=9606 GN=YWHAH-AS1 PE=5 SV=1\n",
            ">sp|P0C5K6|CT18_HUMAN Putative tumor antigen NA88-A OS=Homo sapiens OX=9606 GN=VENTXP1 PE=5 SV=1\n",
            ">sp|P0CE67|CC079_HUMAN Putative uncharacterized protein encoded by LINC02877 OS=Homo sapiens OX=9606 GN=LINC02877 PE=5 SV=1\n",
            ">sp|E5RJ46|CH087_HUMAN Putative uncharacterized protein LINC02906 OS=Homo sapiens OX=9606 GN=LINC02906 PE=5 SV=1\n",
            ">sp|P0C7V0|CF217_HUMAN Putative uncharacterized protein encoded by LINC00271 OS=Homo sapiens OX=9606 GN=LINC00271 PE=5 SV=1\n",
            ">sp|Q9H8X3|CF208_HUMAN Putative uncharacterized protein LINC00574 OS=Homo sapiens OX=9606 GN=LINC00574 PE=5 SV=1\n",
            ">sp|Q96NS8|CLUP3_HUMAN Putative protein CLUHP3 OS=Homo sapiens OX=9606 GN=CLUHP3 PE=5 SV=1\n",
            ">sp|Q8WZB0|CI130_HUMAN Putative uncharacterized protein encoded by LINC00476 OS=Homo sapiens OX=9606 GN=LINC00476 PE=5 SV=1\n",
            ">sp|Q3SY05|CA157_HUMAN Putative uncharacterized protein encoded by LINC00303 OS=Homo sapiens OX=9606 GN=LINC00303 PE=5 SV=2\n",
            ">sp|A6NN92|CXE1_HUMAN Putative gap junction epsilon-1 protein OS=Homo sapiens OX=9606 GN=GJE1 PE=5 SV=1\n",
            ">sp|Q9UJ94|CU104_HUMAN Putative uncharacterized protein encoded by LINC00527 OS=Homo sapiens OX=9606 GN=LINC00527 PE=5 SV=2\n",
            ">sp|Q6IED9|DG2L7_HUMAN Putative diacylglycerol O-acyltransferase 2-like protein DGAT2L7P OS=Homo sapiens OX=9606 GN=DGAT2L7P PE=5 SV=2\n",
            ">sp|A8MUL3|ADAS1_HUMAN Putative uncharacterized protein ADARB2-AS1 OS=Homo sapiens OX=9606 GN=ADARB2-AS1 PE=5 SV=2\n",
            ">sp|C9JDP6|CLD25_HUMAN Putative claudin-25 OS=Homo sapiens OX=9606 GN=CLDN25 PE=5 SV=1\n",
            ">sp|Q8NI28|CG013_HUMAN Putative uncharacterized protein encoded by LINC01006 OS=Homo sapiens OX=9606 GN=LINC01006 PE=5 SV=1\n",
            ">sp|Q5T1J5|CHCH9_HUMAN Putative coiled-coil-helix-coiled-coil-helix domain-containing protein CHCHD2P9, mitochondrial OS=Homo sapiens OX=9606 GN=CHCHD2P9 PE=5 SV=1\n",
            ">sp|B1ANY3|F220P_HUMAN Putative protein FAM220BP OS=Homo sapiens OX=9606 GN=FAM220BP PE=5 SV=1\n",
            ">sp|A8MUU1|FB5L3_HUMAN Putative fatty acid-binding protein 5-like protein 3 OS=Homo sapiens OX=9606 GN=FABP5P3 PE=5 SV=1\n",
            ">sp|Q8IVE0|CROL2_HUMAN Putative ciliary rootlet coiled-coil protein-like 2 protein OS=Homo sapiens OX=9606 GN=CROCCP3 PE=5 SV=1\n",
            ">sp|Q6ZVS7|F183B_HUMAN Protein FAM183BP OS=Homo sapiens OX=9606 GN=FAM183BP PE=5 SV=2\n",
            ">sp|Q494R0|FBAS1_HUMAN Putative uncharacterized protein FBXL19-AS1 OS=Homo sapiens OX=9606 GN=FBXL19-AS1 PE=5 SV=1\n",
            ">sp|O75343|GCYB2_HUMAN Guanylate cyclase soluble subunit beta-2 OS=Homo sapiens OX=9606 GN=GUCY1B2 PE=5 SV=2\n",
            ">sp|Q8IYA2|C144C_HUMAN Putative coiled-coil domain-containing protein 144C OS=Homo sapiens OX=9606 GN=CCDC144CP PE=5 SV=3\n",
            ">sp|C9J442|CV046_HUMAN Uncharacterized protein C22orf46 OS=Homo sapiens OX=9606 GN=C22orf46 PE=5 SV=1\n",
            ">sp|A8MWA6|F90AM_HUMAN Putative protein FAM90A22P OS=Homo sapiens OX=9606 GN=FAM90A22P PE=5 SV=1\n",
            ">sp|P0C7X0|F90AO_HUMAN Putative protein FAM90A24P OS=Homo sapiens OX=9606 GN=FAM90A24P PE=5 SV=1\n",
            ">sp|Q6WQI6|HEPN1_HUMAN Putative cancer susceptibility gene HEPN1 protein OS=Homo sapiens OX=9606 GN=HEPN1 PE=5 SV=2\n",
            ">sp|A6NJQ4|F90A8_HUMAN Putative protein FAM90A8P OS=Homo sapiens OX=9606 GN=FAM90A8P PE=5 SV=1\n",
            ">sp|Q63HN1|F205B_HUMAN Putative protein FAM205B OS=Homo sapiens OX=9606 GN=FAM205BP PE=5 SV=1\n",
            ">sp|Q9HBQ8|GGA2B_HUMAN Putative golgin subfamily A member 2B OS=Homo sapiens OX=9606 GN=GOLGA2P5 PE=5 SV=1\n",
            ">sp|Q9Y6Z5|AFDDT_HUMAN Putative uncharacterized protein AFDN-DT OS=Homo sapiens OX=9606 GN=AFDN-DT PE=5 SV=1\n",
            ">sp|P0DSO3|GAGE4_HUMAN G antigen 4 OS=Homo sapiens OX=9606 GN=GAGE4 PE=5 SV=1\n",
            ">sp|Q8MH63|LAT1N_HUMAN Putative L-type amino acid transporter 1-like protein MLAS OS=Homo sapiens OX=9606 GN=SLC7A5P1 PE=5 SV=1\n",
            ">sp|A6NHR8|FA47D_HUMAN Putative protein FAM47D OS=Homo sapiens OX=9606 GN=FAM47DP PE=5 SV=3\n",
            ">sp|P0C7W9|F90AE_HUMAN Putative protein FAM90A14P OS=Homo sapiens OX=9606 GN=FAM90A14P PE=5 SV=1\n",
            ">sp|P48741|HSP77_HUMAN Putative heat shock 70 kDa protein 7 OS=Homo sapiens OX=9606 GN=HSPA7 PE=5 SV=2\n",
            ">sp|B5MD39|GGTL3_HUMAN Putative glutathione hydrolase light chain 3 OS=Homo sapiens OX=9606 GN=GGTLC3 PE=5 SV=1\n",
            ">sp|P01893|HLAH_HUMAN Putative HLA class I histocompatibility antigen, alpha chain H OS=Homo sapiens OX=9606 GN=HLA-H PE=5 SV=3\n",
            ">sp|A8MXU0|DB108_HUMAN Putative beta-defensin 108A OS=Homo sapiens OX=9606 GN=DEFB108A PE=5 SV=2\n",
            ">sp|P0C864|DANCR_HUMAN Putative uncharacterized protein DANCR OS=Homo sapiens OX=9606 GN=DANCR PE=5 SV=1\n",
            ">sp|Q5VTE0|EF1A3_HUMAN Putative elongation factor 1-alpha-like 3 OS=Homo sapiens OX=9606 GN=EEF1A1P5 PE=5 SV=1\n",
            ">sp|P0C7T7|FMAS1_HUMAN Putative uncharacterized protein FRMD6-AS1 OS=Homo sapiens OX=9606 GN=FRMD6-AS1 PE=5 SV=1\n",
            ">sp|Q1T7F1|CCB42_HUMAN Putative chemokine-related protein B42 OS=Homo sapiens OX=9606 PE=5 SV=1\n",
            ">sp|P0C7W8|F90AD_HUMAN Putative protein FAM90A13P OS=Homo sapiens OX=9606 GN=FAM90A13P PE=5 SV=1\n",
            ">sp|Q8NFI4|F10A5_HUMAN Putative protein FAM10A5 OS=Homo sapiens OX=9606 GN=ST13P5 PE=5 SV=1\n",
            ">sp|Q8IX06|GOR_HUMAN Putative exonuclease GOR OS=Homo sapiens OX=9606 GN=REXO1L1P PE=5 SV=2\n",
            ">sp|P59037|CU084_HUMAN Putative uncharacterized protein encoded by LINC00313 OS=Homo sapiens OX=9606 GN=LINC00313 PE=5 SV=1\n",
            ">sp|Q9UKT6|FXL21_HUMAN Putative F-box/LRR-repeat protein 21 OS=Homo sapiens OX=9606 GN=FBXL21P PE=5 SV=1\n",
            ">sp|Q4UJ75|A20A4_HUMAN Putative ankyrin repeat domain-containing protein 20A4 OS=Homo sapiens OX=9606 GN=ANKRD20A4P PE=5 SV=1\n",
            ">sp|Q9BYX7|ACTBM_HUMAN Putative beta-actin-like protein 3 OS=Homo sapiens OX=9606 GN=POTEKP PE=5 SV=1\n",
            ">sp|A8MVZ5|BTNLA_HUMAN Butyrophilin-like protein 10 OS=Homo sapiens OX=9606 GN=BTNL10 PE=5 SV=2\n",
            ">sp|Q8N0U6|CF218_HUMAN Putative uncharacterized protein encoded by LINC00518 OS=Homo sapiens OX=9606 GN=LINC00518 PE=5 SV=1\n",
            ">sp|Q8N2A0|CX062_HUMAN Putative uncharacterized protein encoded by LINC00269 OS=Homo sapiens OX=9606 GN=LINC00269 PE=5 SV=1\n",
            ">sp|Q5W188|CST9P_HUMAN Putative cystatin-9-like protein CST9LP1 OS=Homo sapiens OX=9606 GN=CST9LP1 PE=5 SV=1\n",
            ">sp|Q8N1L1|CV037_HUMAN Putative uncharacterized protein encoded by LINC00528 OS=Homo sapiens OX=9606 GN=LINC00528 PE=5 SV=1\n",
            ">sp|P0C6P0|BCL8_HUMAN Putative protein BCL8 OS=Homo sapiens OX=9606 GN=NBEAP1 PE=5 SV=1\n",
            ">sp|Q8TAB7|CCD26_HUMAN Putative coiled-coil domain-containing protein 26 OS=Homo sapiens OX=9606 GN=CCDC26 PE=5 SV=1\n",
            ">sp|Q8TCZ7|CU074_HUMAN Putative uncharacterized protein encoded by LINC00308 OS=Homo sapiens OX=9606 GN=LINC00308 PE=5 SV=2\n",
            ">sp|A6NEL3|F86C2_HUMAN Putative protein FAM86C2P OS=Homo sapiens OX=9606 GN=FAM86C2P PE=5 SV=1\n",
            ">sp|A6NIJ5|F90AK_HUMAN Putative protein FAM90A20P OS=Homo sapiens OX=9606 GN=FAM90A20P PE=5 SV=1\n",
            ">sp|P58550|FXYD8_HUMAN Putative FXYD domain-containing ion transport regulator 8 OS=Homo sapiens OX=9606 GN=FXYD6P3 PE=5 SV=2\n",
            ">sp|Q8IVK1|GLCM1_HUMAN Putative glycosylation-dependent cell adhesion molecule 1 OS=Homo sapiens OX=9606 GN=GLYCAM1 PE=5 SV=1\n",
            ">sp|A6NGU5|GGT3_HUMAN Putative glutathione hydrolase 3 proenzyme OS=Homo sapiens OX=9606 GN=GGT3P PE=5 SV=2\n",
            ">sp|Q7Z4Y8|AT5L2_HUMAN Putative ATP synthase subunit g 2, mitochondrial OS=Homo sapiens OX=9606 GN=ATP5MGL PE=5 SV=1\n",
            ">sp|Q5TC04|ATAS1_HUMAN Putative uncharacterized protein ATP1A1-AS1 OS=Homo sapiens OX=9606 GN=ATP1A1-AS1 PE=5 SV=1\n",
            ">sp|P0DMR3|AT8OS_HUMAN Putative protein ATXN8OS OS=Homo sapiens OX=9606 GN=ATXN8OS PE=5 SV=1\n",
            ">sp|A0A1B0GTZ2|CC196_HUMAN Putative coiled-coil domain-containing protein 196 OS=Homo sapiens OX=9606 GN=CCDC196 PE=5 SV=1\n",
            ">sp|Q9H0P7|AGIT1_HUMAN Putative uncharacterized protein encoded by AGPAT4-IT1 OS=Homo sapiens OX=9606 GN=AGPAT4-IT1 PE=5 SV=1\n",
            ">sp|Q9H560|ANR19_HUMAN Putative ankyrin repeat domain-containing protein 19 OS=Homo sapiens OX=9606 GN=ANKRD19P PE=5 SV=1\n",
            ">sp|B7Z368|CJ142_HUMAN Uncharacterized protein encoded by LINC02881 OS=Homo sapiens OX=9606 GN=LINC02881 PE=5 SV=1\n",
            ">sp|Q8N9T2|CX042_HUMAN Putative uncharacterized protein CXorf42 OS=Homo sapiens OX=9606 GN=NKAPP1 PE=5 SV=3\n",
            ">sp|Q6ZTU2|E400N_HUMAN Putative EP400-like protein OS=Homo sapiens OX=9606 GN=EP400P1 PE=5 SV=2\n",
            ">sp|Q4G0G2|H1AS1_HUMAN Putative uncharacterized protein H1-10-AS1 OS=Homo sapiens OX=9606 GN=H1-10-AS1 PE=5 SV=1\n",
            ">sp|P86434|AAS1_HUMAN Putative uncharacterized protein ADORA2A-AS1 OS=Homo sapiens OX=9606 GN=ADORA2A-AS1 PE=5 SV=1\n",
            ">sp|Q8WTZ4|CA5BL_HUMAN Putative inactive carbonic anhydrase 5B-like protein OS=Homo sapiens OX=9606 GN=CA5BP1 PE=5 SV=2\n",
            ">sp|Q8N7Q2|CEAS1_HUMAN Putative uncharacterized protein CELF2-AS1 OS=Homo sapiens OX=9606 GN=CELF2-AS1 PE=5 SV=2\n",
            ">sp|P59022|DSC10_HUMAN Down syndrome critical region protein 10 OS=Homo sapiens OX=9606 GN=DSCR10 PE=5 SV=1\n",
            ">sp|Q58FF7|H90B3_HUMAN Putative heat shock protein HSP 90-beta-3 OS=Homo sapiens OX=9606 GN=HSP90AB3P PE=5 SV=1\n",
            ">sp|Q9P1J3|DHAS1_HUMAN Putative uncharacterized protein DHRS4-AS1 OS=Homo sapiens OX=9606 GN=DHRS4-AS1 PE=5 SV=1\n",
            ">sp|Q9BZ68|FR8P1_HUMAN Putative FERM domain-containing protein FRMD8P1 OS=Homo sapiens OX=9606 GN=FRMD8P1 PE=5 SV=2\n",
            ">sp|G3V211|CL079_HUMAN Uncharacterized protein encoded by LINC01619 OS=Homo sapiens OX=9606 GN=LINC01619 PE=5 SV=1\n",
            ">sp|Q8NAA6|CO053_HUMAN Putative uncharacterized protein encoded by LINC02694 OS=Homo sapiens OX=9606 GN=LINC02694 PE=5 SV=1\n",
            ">sp|Q96N53|CK037_HUMAN Putative uncharacterized protein encoded by LINC00167 OS=Homo sapiens OX=9606 GN=LINC00167 PE=5 SV=1\n",
            ">sp|Q5U4N7|GDAS1_HUMAN Protein GDF5-AS1, mitochondrial OS=Homo sapiens OX=9606 GN=GDF5-AS1 PE=5 SV=2\n",
            ">sp|Q13434|MKRN4_HUMAN Putative E3 ubiquitin-protein ligase makorin-4 OS=Homo sapiens OX=9606 GN=MKRN4P PE=5 SV=1\n",
            ">sp|Q2M3A8|MRAS1_HUMAN Putative uncharacterized protein MRGPRG-AS1 OS=Homo sapiens OX=9606 GN=MRGPRG-AS1 PE=5 SV=1\n",
            ">sp|A6NKC0|F90A7_HUMAN Putative protein FAM90A7P OS=Homo sapiens OX=9606 GN=FAM90A7P PE=5 SV=1\n",
            ">sp|A8MXZ1|F90AN_HUMAN Putative protein FAM90A23P OS=Homo sapiens OX=9606 GN=FAM90A23P PE=5 SV=1\n",
            ">sp|A6NNJ1|F90A9_HUMAN Putative protein FAM90A9P OS=Homo sapiens OX=9606 GN=FAM90A9P PE=5 SV=1\n",
            ">sp|H0YKK7|GG6LS_HUMAN Putative golgin subfamily A member 6-like protein 19 OS=Homo sapiens OX=9606 GN=GOLGA6L19 PE=5 SV=1\n",
            ">sp|A6NC78|GOG8I_HUMAN Putative golgin subfamily A member 8I OS=Homo sapiens OX=9606 GN=GOLGA8IP PE=5 SV=2\n",
            ">sp|P60008|HILS1_HUMAN Putative spermatid-specific linker histone H1-like protein OS=Homo sapiens OX=9606 GN=H1-9P PE=5 SV=1\n",
            ">sp|Q9Y6Z4|KIAS1_HUMAN Putative uncharacterized protein KIF25-AS1 OS=Homo sapiens OX=9606 GN=KIF25-AS1 PE=5 SV=2\n",
            ">sp|Q8N7R0|NANG2_HUMAN Putative homeobox protein NANOG2 OS=Homo sapiens OX=9606 GN=NANOGP1 PE=5 SV=1\n",
            ">sp|Q9H7L2|KI3X1_HUMAN Putative killer cell immunoglobulin-like receptor-like protein KIR3DX1 OS=Homo sapiens OX=9606 GN=KIR3DX1 PE=5 SV=2\n",
            ">sp|Q8TAF5|LQK1_HUMAN Putative uncharacterized protein LQK1 OS=Homo sapiens OX=9606 GN=FLVCR1-DT PE=5 SV=1\n",
            ">sp|A6NGU7|CX028_HUMAN Putative uncharacterized protein encoded by LINC01546 OS=Homo sapiens OX=9606 GN=LINC01546 PE=5 SV=1\n",
            ">sp|Q96P88|GNRR2_HUMAN Putative gonadotropin-releasing hormone II receptor OS=Homo sapiens OX=9606 GN=GNRHR2 PE=5 SV=4\n",
            ">sp|Q9GIP4|LAT1L_HUMAN Putative L-type amino acid transporter 1-like protein IMAA OS=Homo sapiens OX=9606 GN=SLC7A5P2 PE=5 SV=2\n",
            ">sp|P0C860|MS3L2_HUMAN Putative male-specific lethal-3 protein-like 2 OS=Homo sapiens OX=9606 GN=MSL3P1 PE=5 SV=1\n",
            ">sp|A1L3X4|MT1DP_HUMAN Putative metallothionein MT1DP OS=Homo sapiens OX=9606 GN=MT1DP PE=5 SV=1\n",
            ">sp|Q6NSW5|DE10B_HUMAN Putative DENN domain-containing protein 10 B OS=Homo sapiens OX=9606 GN=DENND10P1 PE=5 SV=1\n",
            ">sp|Q16609|LPAL2_HUMAN Putative apolipoprotein(a)-like protein 2 OS=Homo sapiens OX=9606 GN=LPAL2 PE=5 SV=1\n",
            ">sp|A6NEW6|F90AG_HUMAN Putative protein FAM90A16P/FAM90A17P OS=Homo sapiens OX=9606 GN=FAM90A16P PE=5 SV=1\n",
            ">sp|A6NE21|F90AI_HUMAN Putative protein FAM90A18P/FAM90A19P OS=Homo sapiens OX=9606 GN=FAM90A18P PE=5 SV=1\n",
            ">sp|A6NC97|F172B_HUMAN Putative protein FAM172B OS=Homo sapiens OX=9606 GN=FAM172BP PE=5 SV=3\n",
            ">sp|P0C7X4|FHL19_HUMAN Putative ferritin heavy polypeptide-like 19 OS=Homo sapiens OX=9606 GN=FTH1P19 PE=5 SV=1\n",
            ">sp|Q05BU3|F86JP_HUMAN Putative protein FAM86JP OS=Homo sapiens OX=9606 GN=FAM86JP PE=5 SV=1\n",
            ">sp|O60774|FMO6_HUMAN Putative dimethylaniline monooxygenase [N-oxide-forming] 6 OS=Homo sapiens OX=9606 GN=FMO6P PE=5 SV=1\n",
            ">sp|Q58FG1|HS904_HUMAN Putative heat shock protein HSP 90-alpha A4 OS=Homo sapiens OX=9606 GN=HSP90AA4P PE=5 SV=1\n",
            ">sp|Q9BVR0|HRC23_HUMAN Putative HERC2-like protein 3 OS=Homo sapiens OX=9606 GN=HERC2P3 PE=5 SV=2\n",
            ">sp|Q3SYA9|P12L1_HUMAN Putative POM121-like protein 1 OS=Homo sapiens OX=9606 GN=POM121L1P PE=5 SV=2\n",
            ">sp|A8MX19|F90AC_HUMAN Putative protein FAM90A12P OS=Homo sapiens OX=9606 GN=FAM90A12P PE=5 SV=1\n",
            ">sp|O76042|ERIT1_HUMAN Putative uncharacterized protein encoded by ERC2-IT1 OS=Homo sapiens OX=9606 GN=ERC2-IT1 PE=5 SV=2\n",
            ">sp|Q6IN97|FRP2L_HUMAN Putative protein FRMPD2-like OS=Homo sapiens OX=9606 GN=FRMPD2B PE=5 SV=1\n",
            ">sp|A0A1W2PPG7|GBG14_HUMAN Putative guanine nucleotide-binding protein G(I)/G(S)/G(O) subunit gamma-14 OS=Homo sapiens OX=9606 GN=GNG14 PE=5 SV=1\n",
            ">sp|A6NDZ8|MB3L4_HUMAN Putative methyl-CpG-binding domain protein 3-like 4 OS=Homo sapiens OX=9606 GN=MBD3L4 PE=5 SV=1\n",
            ">sp|Q14602|ID2B_HUMAN Putative DNA-binding protein inhibitor ID-2B OS=Homo sapiens OX=9606 GN=ID2B PE=5 SV=1\n",
            ">sp|Q6NVV0|MKRN5_HUMAN Putative makorin-5 OS=Homo sapiens OX=9606 GN=MKRN9P PE=5 SV=1\n",
            ">sp|O15225|INE1_HUMAN Putative inactivation escape 1 protein OS=Homo sapiens OX=9606 GN=INE1 PE=5 SV=5\n",
            ">sp|B1ANH7|IBADT_HUMAN Putative uncharacterized protein IBA57-DT OS=Homo sapiens OX=9606 GN=IBA57-DT PE=5 SV=1\n",
            ">sp|Q96PQ5|IPP2L_HUMAN Putative protein phosphatase inhibitor 2-like protein 1 OS=Homo sapiens OX=9606 GN=PPP1R2P1 PE=5 SV=1\n",
            ">sp|O15428|PINL_HUMAN Putative PIN1-like protein OS=Homo sapiens OX=9606 GN=PIN1P1 PE=5 SV=1\n",
            ">sp|Q99463|NPY6R_HUMAN Putative neuropeptide Y receptor type 6 OS=Homo sapiens OX=9606 GN=NPY6R PE=5 SV=1\n",
            ">sp|O95397|PKHA9_HUMAN Putative protein PLEKHA9 OS=Homo sapiens OX=9606 GN=PLEKHA8P1 PE=5 SV=1\n",
            ">sp|Q9UH64|NSGX_HUMAN Putative protein CDKN2A-DT OS=Homo sapiens OX=9606 GN=CDKN2A-DT PE=5 SV=1\n",
            ">sp|O95177|GAAS1_HUMAN Uncharacterized protein GAS8-AS1 OS=Homo sapiens OX=9606 GN=GAS8-AS1 PE=5 SV=1\n",
            ">sp|A6NCN2|KR87P_HUMAN Putative keratin-87 protein OS=Homo sapiens OX=9606 GN=KRT87P PE=5 SV=4\n",
            ">sp|Q9H8Q6|HEAS1_HUMAN Putative uncharacterized protein encoded by HEXA-AS1 OS=Homo sapiens OX=9606 GN=HEXA-AS1 PE=5 SV=1\n",
            ">sp|A6NFC9|OR2W5_HUMAN Putative olfactory receptor 2W5 pseudogene OS=Homo sapiens OX=9606 GN=OR2W5P PE=5 SV=1\n",
            ">sp|Q63ZY6|NSN5C_HUMAN Putative methyltransferase NSUN5C OS=Homo sapiens OX=9606 GN=NSUN5P2 PE=5 SV=2\n",
            ">sp|A6NNC1|P12LL_HUMAN Putative POM121-like protein 1-like OS=Homo sapiens OX=9606 PE=5 SV=3\n",
            ">sp|Q8NHC6|O14L1_HUMAN Putative olfactory receptor 14L1 OS=Homo sapiens OX=9606 GN=OR14L1P PE=5 SV=1\n",
            ">sp|A6NFF2|NP1L6_HUMAN Putative nucleosome assembly protein 1-like 6 OS=Homo sapiens OX=9606 GN=NAP1L6P PE=5 SV=1\n",
            ">sp|Q8NEE0|KLAS1_HUMAN Putative uncharacterized protein KLHL30-AS1 OS=Homo sapiens OX=9606 GN=KLHL30-AS1 PE=5 SV=1\n",
            ">sp|Q9BZK3|NACP4_HUMAN Putative nascent polypeptide-associated complex subunit alpha-like protein OS=Homo sapiens OX=9606 GN=NACA4P PE=5 SV=1\n",
            ">sp|Q9NVL1|F86C1_HUMAN Putative protein FAM86C1P OS=Homo sapiens OX=9606 GN=FAM86C1P PE=5 SV=3\n",
            ">sp|P0C841|FA66E_HUMAN Putative protein FAM66E OS=Homo sapiens OX=9606 GN=FAM66E PE=5 SV=1\n",
            ">sp|A0A1B0GVX0|LITAD_HUMAN LITAF domain-containing protein OS=Homo sapiens OX=9606 GN=LITAFD PE=5 SV=1\n",
            ">sp|Q9Y6C7|L3R2A_HUMAN Putative uncharacterized protein encoded by LINC00312 OS=Homo sapiens OX=9606 GN=LINC00312 PE=5 SV=1\n",
            ">sp|Q8NGU1|OR9A1_HUMAN Putative olfactory receptor 9A1 OS=Homo sapiens OX=9606 GN=OR9A1P PE=5 SV=2\n",
            ">sp|Q8N7Y1|KIAS3_HUMAN Putative uncharacterized protein KIRREL3-AS3 OS=Homo sapiens OX=9606 GN=KIRREL3-AS3 PE=5 SV=1\n",
            ">sp|Q49AS3|L37A5_HUMAN Putative protein LRRC37A5P OS=Homo sapiens OX=9606 GN=LRRC37A5P PE=5 SV=3\n",
            ">sp|P0CE71|OCM2_HUMAN Putative oncomodulin-2 OS=Homo sapiens OX=9606 GN=OCM2 PE=5 SV=1\n",
            ">sp|B4DH59|NBPFP_HUMAN Neuroblastoma breakpoint family member 26 OS=Homo sapiens OX=9606 GN=NBPF26 PE=5 SV=1\n",
            ">sp|Q96PY0|K1908_HUMAN Putative uncharacterized protein PSMG3-AS1 OS=Homo sapiens OX=9606 GN=PSMG3-AS1 PE=5 SV=2\n",
            ">sp|A0A087WUL8|NBPFJ_HUMAN Neuroblastoma breakpoint family member 19 OS=Homo sapiens OX=9606 GN=NBPF19 PE=5 SV=1\n",
            ">sp|P0DMU2|OR83P_HUMAN Putative olfactory receptor 8G3 pseudogene OS=Homo sapiens OX=9606 GN=OR8G3P PE=5 SV=1\n",
            ">sp|X6R8D5|GUCNB_HUMAN Putative uncharacterized protein GUCA1ANB OS=Homo sapiens OX=9606 GN=GUCA1ANB PE=5 SV=2\n",
            ">sp|Q08AF8|GOG8F_HUMAN Putative golgin subfamily A member 8F/8G OS=Homo sapiens OX=9606 GN=GOLGA8F PE=5 SV=1\n",
            ">sp|Q86UQ5|GTSC1_HUMAN Gilles de la Tourette syndrome chromosomal region candidate gene 1 protein OS=Homo sapiens OX=9606 GN=GTSCR1 PE=5 SV=2\n",
            ">sp|Q15486|GUSP1_HUMAN Putative inactive beta-glucuronidase-like protein SMA3 OS=Homo sapiens OX=9606 GN=GUSBP1 PE=5 SV=3\n",
            ">sp|Q8N8E1|MAAS1_HUMAN Putative uncharacterized protein encoded by MAPKAPK5-AS1 OS=Homo sapiens OX=9606 GN=MAPKAPK5-AS1 PE=5 SV=1\n",
            ">sp|Q75NE6|MIRH1_HUMAN Putative microRNA 17 host gene protein OS=Homo sapiens OX=9606 GN=MIR17HG PE=5 SV=1\n",
            ">sp|Q8NH95|O13C6_HUMAN Putative olfactory receptor 13C6 OS=Homo sapiens OX=9606 GN=OR13C6P PE=5 SV=2\n",
            ">sp|Q8NH80|O10D3_HUMAN Putative olfactory receptor 10D3 OS=Homo sapiens OX=9606 GN=OR10D3 PE=5 SV=1\n",
            ">sp|Q86XG9|NBPF5_HUMAN Putative neuroblastoma breakpoint family member 5 OS=Homo sapiens OX=9606 GN=NBPF5P PE=5 SV=2\n",
            ">sp|A0A087WX78|ELB3C_HUMAN Putative elongin-A3 member C OS=Homo sapiens OX=9606 GN=ELOA3CP PE=5 SV=3\n",
            ">sp|Q9NZY2|FA30A_HUMAN Putative uncharacterized protein FAM30A OS=Homo sapiens OX=9606 GN=FAM30A PE=5 SV=2\n",
            ">sp|A8MXJ8|F90A5_HUMAN Putative protein FAM90A5P OS=Homo sapiens OX=9606 GN=FAM90A5P PE=5 SV=1\n",
            ">sp|Q8NGA4|G32P1_HUMAN Putative G-protein coupled receptor GPR32P1 OS=Homo sapiens OX=9606 GN=GPR32P1 PE=5 SV=2\n",
            ">sp|Q5VSP4|LC1L1_HUMAN Putative lipocalin 1-like protein 1 OS=Homo sapiens OX=9606 GN=LCN1P1 PE=5 SV=1\n",
            ">sp|A0A3B3IT52|MSD5_HUMAN Putative uncharacterized protein MSANTD5 OS=Homo sapiens OX=9606 GN=MSANTD5 PE=5 SV=1\n",
            ">sp|Q96HZ7|URAS1_HUMAN Putative uncharacterized protein URB1-AS1 OS=Homo sapiens OX=9606 GN=URB1-AS1 PE=5 SV=1\n",
            ">sp|Q5XG85|U633C_HUMAN Putative UPF0633 protein LOC554249 OS=Homo sapiens OX=9606 PE=5 SV=1\n",
            ">sp|Q15695|U2AFL_HUMAN Putative U2 small nuclear ribonucleoprotein auxiliary factor 35 kDa subunit-related protein 1 OS=Homo sapiens OX=9606 GN=ZRSR2P1 PE=5 SV=2\n",
            ">sp|Q6ZNB5|TRC2L_HUMAN Putative short transient receptor potential channel 2-like protein OS=Homo sapiens OX=9606 PE=5 SV=1\n",
            ">sp|A6NI03|TR64B_HUMAN Putative tripartite motif-containing protein 64B OS=Homo sapiens OX=9606 GN=TRIM64B PE=5 SV=3\n",
            ">sp|A0A0J9YWL9|TX13C_HUMAN Putative testis-expressed protein 13C OS=Homo sapiens OX=9606 GN=TEX13C PE=5 SV=1\n",
            ">sp|B1AH88|TSPOB_HUMAN Putative peripheral benzodiazepine receptor-related protein OS=Homo sapiens OX=9606 GN=TSPO PE=5 SV=1\n",
            ">sp|Q5VV11|U633B_HUMAN Putative UPF0633 protein ENSP00000303136 OS=Homo sapiens OX=9606 PE=5 SV=1\n",
            ">sp|A8MWX3|WASH4_HUMAN Putative WAS protein family homolog 4 OS=Homo sapiens OX=9606 GN=WASH4P PE=5 SV=1\n",
            ">sp|Q86SY8|KTAS1_HUMAN Putative uncharacterized protein KTN1-AS1 OS=Homo sapiens OX=9606 GN=KTN1-AS1 PE=5 SV=2\n",
            ">sp|Q8N9X3|YA026_HUMAN Putative uncharacterized protein encoded by LINC01356 OS=Homo sapiens OX=9606 GN=LINC01356 PE=5 SV=1\n",
            ">sp|Q9UHT4|YG001_HUMAN Putative uncharacterized protein PRO1854 OS=Homo sapiens OX=9606 GN=PRO1854 PE=5 SV=1\n",
            ">sp|O60384|ZN861_HUMAN Putative zinc finger protein 861 OS=Homo sapiens OX=9606 GN=ZNF861P PE=5 SV=1\n",
            ">sp|H0YL09|U2Q2L_HUMAN Putative ubiquitin-conjugating enzyme E2Q2-like protein OS=Homo sapiens OX=9606 GN=UBE2Q2L PE=5 SV=1\n",
            ">sp|Q6UXQ8|YO002_HUMAN Putative uncharacterized protein UNQ6190/PRO20217 OS=Homo sapiens OX=9606 GN=UNQ6190/PRO20217 PE=5 SV=1\n",
            ">sp|Q15940|ZNF67_HUMAN Putative zinc finger protein 726P1 OS=Homo sapiens OX=9606 GN=ZNF726P1 PE=5 SV=2\n",
            ">sp|A8MWL7|TM14D_HUMAN Transmembrane protein 14DP OS=Homo sapiens OX=9606 GN=TMEM14DP PE=5 SV=2\n",
            ">sp|Q16473|TENXA_HUMAN Putative tenascin-XA OS=Homo sapiens OX=9606 GN=TNXA PE=5 SV=2\n",
            ">sp|Q17RH7|TPRXL_HUMAN Putative protein TPRXL OS=Homo sapiens OX=9606 GN=TPRXL PE=5 SV=2\n",
            ">sp|Q86TS7|U730_HUMAN Putative UPF0730 protein encoded by LINC00643 OS=Homo sapiens OX=9606 GN=LINC00643 PE=5 SV=1\n",
            ">sp|Q8N9X5|TMM75_HUMAN Putative transmembrane protein 75 OS=Homo sapiens OX=9606 GN=TMEM75 PE=5 SV=1\n",
            ">sp|Q6ZS92|YD022_HUMAN Putative uncharacterized protein FLJ45721 OS=Homo sapiens OX=9606 PE=5 SV=2\n",
            ">sp|Q6ZVU0|YK022_HUMAN Putative uncharacterized protein FLJ42102 OS=Homo sapiens OX=9606 PE=5 SV=1\n",
            ">sp|A8MVM7|YD021_HUMAN Putative uncharacterized protein ENSP00000382790 OS=Homo sapiens OX=9606 PE=5 SV=3\n",
            ">sp|A8MZ25|YQ037_HUMAN Putative uncharacterized protein FLJ38767 OS=Homo sapiens OX=9606 PE=5 SV=1\n",
            ">sp|Q9UFV3|YO007_HUMAN Putative uncharacterized protein DKFZp434L187 OS=Homo sapiens OX=9606 PE=5 SV=2\n",
            ">sp|B1APH4|ZN487_HUMAN Putative zinc finger protein 487 OS=Homo sapiens OX=9606 GN=ZNF487 PE=5 SV=3\n",
            ">sp|A8MTW9|YB043_HUMAN Putative uncharacterized protein ENSP00000380674 OS=Homo sapiens OX=9606 PE=5 SV=2\n",
            ">sp|Q71RG6|YH006_HUMAN Putative chemokine-related protein FP248 OS=Homo sapiens OX=9606 GN=FP248 PE=5 SV=1\n",
            ">sp|A8MUN3|YQ048_HUMAN Putative uncharacterized protein ENSP00000381830 OS=Homo sapiens OX=9606 PE=5 SV=1\n",
            ">sp|A8K554|ZN815_HUMAN Putative protein ZNF815 OS=Homo sapiens OX=9606 GN=ZNF815P PE=5 SV=1\n",
            ">sp|Q6ZRP5|YD019_HUMAN Putative uncharacterized protein FLJ46204 OS=Homo sapiens OX=9606 PE=5 SV=2\n",
            ">sp|A8MUU9|YV023_HUMAN Putative uncharacterized protein ENSP00000383309 OS=Homo sapiens OX=9606 PE=5 SV=3\n",
            ">sp|Q8N9L7|YV006_HUMAN Putative uncharacterized protein FLJ36925 OS=Homo sapiens OX=9606 PE=5 SV=1\n",
            ">sp|Q8N9P0|YF006_HUMAN Putative uncharacterized protein FLJ36797 OS=Homo sapiens OX=9606 PE=5 SV=1\n",
            ">sp|Q6ZRG5|YQ015_HUMAN Putative uncharacterized protein FLJ43944 OS=Homo sapiens OX=9606 PE=5 SV=1\n",
            ">sp|A8MUV8|ZN727_HUMAN Putative zinc finger protein 727 OS=Homo sapiens OX=9606 GN=ZNF727 PE=5 SV=3\n",
            ">sp|Q8NBF4|YG006_HUMAN Putative uncharacterized protein FLJ33307 OS=Homo sapiens OX=9606 PE=5 SV=1\n",
            ">sp|Q9H8V8|YD018_HUMAN Putative uncharacterized protein FLJ13197 OS=Homo sapiens OX=9606 PE=5 SV=1\n",
            ">sp|Q6ZRX8|YL004_HUMAN Putative uncharacterized protein FLJ45999 OS=Homo sapiens OX=9606 PE=5 SV=1\n",
            ">sp|P52743|ZN137_HUMAN Putative zinc finger protein 137 OS=Homo sapiens OX=9606 GN=ZNF137P PE=5 SV=1\n",
            ">sp|Q6UXR8|YS001_HUMAN Putative uncharacterized protein UNQ6493/PRO21345 OS=Homo sapiens OX=9606 GN=UNQ6493/PRO21345 PE=5 SV=1\n",
            ">sp|Q9UI54|YT001_HUMAN Putative uncharacterized protein PRO0628 OS=Homo sapiens OX=9606 GN=PRO0628 PE=5 SV=1\n",
            ">sp|Q9BZS9|YG041_HUMAN Putative uncharacterized protein PNAS-138 OS=Homo sapiens OX=9606 GN=PNAS-138 PE=5 SV=1\n",
            ">sp|Q9NSJ1|Z355P_HUMAN Putative zinc finger protein 355P OS=Homo sapiens OX=9606 GN=ZNF355P PE=5 SV=2\n",
            ">sp|Q6ZSR3|YO027_HUMAN Putative uncharacterized protein FLJ45275, mitochondrial OS=Homo sapiens OX=9606 PE=5 SV=1\n",
            ">sp|Q6ZSA8|YS025_HUMAN Putative uncharacterized protein FLJ45684 OS=Homo sapiens OX=9606 PE=5 SV=2\n",
            ">sp|Q6ZWC4|YS043_HUMAN Putative uncharacterized protein LOC100128429 OS=Homo sapiens OX=9606 PE=5 SV=1\n",
            ">sp|A6NHS1|YK042_HUMAN Putative uncharacterized protein ENSP00000347057 OS=Homo sapiens OX=9606 PE=5 SV=3\n",
            ">sp|P0CI00|Z705B_HUMAN Putative zinc finger protein 705B OS=Homo sapiens OX=9606 GN=ZNF705B PE=5 SV=1\n",
            ">sp|Q9H354|YJ001_HUMAN Putative uncharacterized protein PRO1933 OS=Homo sapiens OX=9606 GN=PRO1933 PE=5 SV=1\n",
            ">sp|Q9H521|YM006_HUMAN Putative uncharacterized protein LOC645739 OS=Homo sapiens OX=9606 PE=5 SV=1\n",
            ">sp|Q6ZUT4|YL014_HUMAN Putative uncharacterized protein FLJ43343 OS=Homo sapiens OX=9606 PE=5 SV=1\n",
            ">sp|Q6P2S7|TTC41_HUMAN Putative tetratricopeptide repeat protein 41 OS=Homo sapiens OX=9606 GN=TTC41P PE=5 SV=3\n",
            ">sp|Q9UI25|YP002_HUMAN Putative uncharacterized protein PRO0461 OS=Homo sapiens OX=9606 GN=PRO0461 PE=5 SV=1\n",
            ">sp|Q9P1C3|YN010_HUMAN Putative uncharacterized protein PRO2829 OS=Homo sapiens OX=9606 GN=PRO2829 PE=5 SV=1\n",
            ">sp|P0CB33|ZN735_HUMAN Putative zinc finger protein 735 OS=Homo sapiens OX=9606 GN=ZNF735 PE=5 SV=1\n",
            ">sp|Q9NRI7|PPY2_HUMAN Putative pancreatic polypeptide 2 OS=Homo sapiens OX=9606 GN=PPY2P PE=5 SV=1\n",
            ">sp|Q8NH57|O52P1_HUMAN Putative olfactory receptor 52P1 OS=Homo sapiens OX=9606 GN=OR52P1P PE=5 SV=2\n",
            ">sp|A2A3N6|PIPSL_HUMAN Putative PIP5K1A and PSMD4-like protein OS=Homo sapiens OX=9606 GN=PIPSL PE=5 SV=1\n",
            ">sp|Q5JSQ8|KHDCL_HUMAN Putative KHDC1-like protein OS=Homo sapiens OX=9606 GN=KHDC1L PE=5 SV=1\n",
            ">sp|A6NI72|NCF1B_HUMAN Putative neutrophil cytosol factor 1B OS=Homo sapiens OX=9606 GN=NCF1B PE=5 SV=2\n",
            ">sp|A6NF01|P121B_HUMAN Putative nuclear envelope pore membrane protein POM 121B OS=Homo sapiens OX=9606 GN=POM121B PE=5 SV=2\n",
            ">sp|Q96MR7|OBAS1_HUMAN Putative uncharacterized protein OBSCN-AS1 OS=Homo sapiens OX=9606 GN=OBSCN-AS1 PE=5 SV=1\n",
            ">sp|P47883|OR3A4_HUMAN Putative olfactory receptor 3A4 OS=Homo sapiens OX=9606 GN=OR3A4P PE=5 SV=4\n",
            ">sp|Q8NGN8|OR4A4_HUMAN Putative olfactory receptor 4A4 OS=Homo sapiens OX=9606 GN=OR4A4P PE=5 SV=1\n",
            ">sp|Q6P474|PDXD2_HUMAN Putative pyridoxal-dependent decarboxylase domain-containing protein 2 OS=Homo sapiens OX=9606 GN=PDXDC2P PE=5 SV=3\n",
            ">sp|Q6ZSK4|NTAS1_HUMAN Putative uncharacterized protein NTM-AS1 OS=Homo sapiens OX=9606 GN=NTM-AS1 PE=5 SV=1\n",
            ">sp|Q8NGN7|O10D4_HUMAN Putative olfactory receptor 10D4 OS=Homo sapiens OX=9606 GN=OR10D4P PE=5 SV=1\n",
            ">sp|Q5QFB9|PAPAS_HUMAN Protein PAPPAS OS=Homo sapiens OX=9606 GN=PAPPA-AS1 PE=5 SV=1\n",
            ">sp|A4D2B8|PM2P1_HUMAN Putative postmeiotic segregation increased 2-like protein 1 OS=Homo sapiens OX=9606 GN=PMS2P1 PE=5 SV=1\n",
            ">sp|Q4VC39|HIG2B_HUMAN Putative HIG1 domain family member 2B OS=Homo sapiens OX=9606 GN=HIGD2B PE=5 SV=1\n",
            ">sp|Q9BQD1|MCHL2_HUMAN Putative pro-MCH-like protein 2 OS=Homo sapiens OX=9606 GN=PMCHL2 PE=5 SV=1\n",
            ">sp|A6NCF6|MA13P_HUMAN Putative MAGE domain-containing protein MAGEA13P OS=Homo sapiens OX=9606 GN=MAGEA13P PE=5 SV=1\n",
            ">sp|P0CB48|UBFL6_HUMAN Putative upstream-binding factor 1-like protein 6 OS=Homo sapiens OX=9606 GN=UBTFL6 PE=5 SV=1\n",
            ">sp|Q86TA4|YB049_HUMAN Putative uncharacterized protein FLJ44553 OS=Homo sapiens OX=9606 PE=5 SV=2\n",
            ">sp|Q9UI72|YE014_HUMAN Putative uncharacterized protein PRO0255 OS=Homo sapiens OX=9606 GN=PRO0255 PE=5 SV=1\n",
            ">sp|Q8N0V1|ZNAS1_HUMAN Putative uncharacterized protein ZNF295-AS1 OS=Homo sapiens OX=9606 GN=ZNF295-AS1 PE=5 SV=2\n",
            ">sp|Q96MF0|YO028_HUMAN Putative uncharacterized protein LOC100506887 OS=Homo sapiens OX=9606 PE=5 SV=2\n",
            ">sp|A6NDX4|YO011_HUMAN Putative transmembrane protein ENSP00000320207 OS=Homo sapiens OX=9606 PE=5 SV=1\n",
            ">sp|Q6ZQV5|ZN788_HUMAN Putative KRAB domain-containing protein ZNF788 OS=Homo sapiens OX=9606 GN=ZNF788P PE=5 SV=3\n",
            ">sp|Q6ZTB9|ZN833_HUMAN Putative zinc finger protein 833 OS=Homo sapiens OX=9606 GN=ZNF833P PE=5 SV=1\n",
            ">sp|Q6ZRF7|ZN818_HUMAN Putative zinc finger protein 818 OS=Homo sapiens OX=9606 GN=ZNF818P PE=5 SV=1\n",
            ">sp|P59090|TSAS2_HUMAN Putative uncharacterized protein TSPEAR-AS2 OS=Homo sapiens OX=9606 GN=TSPEAR-AS2 PE=5 SV=1\n",
            ">sp|A0A0U1RRA0|ZNOS_HUMAN Putative transmembrane protein ZNF593OS OS=Homo sapiens OX=9606 GN=ZNF593OS PE=5 SV=1\n",
            ">sp|P51864|TDGF3_HUMAN Putative teratocarcinoma-derived growth factor 3 OS=Homo sapiens OX=9606 GN=TDGF1P3 PE=5 SV=1\n",
            ">sp|A6NK02|TRI75_HUMAN Putative tripartite motif-containing protein 75 OS=Homo sapiens OX=9606 GN=TRIM75P PE=5 SV=2\n",
            ">sp|Q9BZ97|TTY13_HUMAN Putative transcript Y 13 protein OS=Homo sapiens OX=9606 GN=TTTY13 PE=5 SV=1\n",
            ">sp|A8MT66|YU005_HUMAN Putative uncharacterized protein ENSP00000383407 OS=Homo sapiens OX=9606 PE=5 SV=1\n",
            ">sp|Q6ZS49|YQ050_HUMAN Putative uncharacterized protein FLJ45831 OS=Homo sapiens OX=9606 PE=5 SV=1\n",
            ">sp|Q6AWC8|YK026_HUMAN Putative uncharacterized protein LOC100129027 OS=Homo sapiens OX=9606 PE=5 SV=1\n",
            ">sp|Q9BZ98|TTY12_HUMAN Putative transcript Y 12 protein OS=Homo sapiens OX=9606 GN=TTTY12 PE=5 SV=1\n",
            ">sp|Q0VG73|YC023_HUMAN Putative uncharacterized protein LOC152225 OS=Homo sapiens OX=9606 PE=5 SV=1\n",
            ">sp|Q8N976|YG039_HUMAN Putative uncharacterized protein FLJ38264 OS=Homo sapiens OX=9606 PE=5 SV=1\n",
            ">sp|Q6ZR54|YN009_HUMAN Putative uncharacterized protein FLJ46641 OS=Homo sapiens OX=9606 PE=5 SV=1\n",
            ">sp|Q5T6R2|TPT2L_HUMAN Putative phosphatidylinositol 3,4,5-trisphosphate 3-phosphatase TPTE2P1 OS=Homo sapiens OX=9606 GN=TPTE2P1 PE=5 SV=1\n",
            ">sp|Q8TDU5|VNRL4_HUMAN Putative vomeronasal receptor-like protein 4 OS=Homo sapiens OX=9606 GN=VN1R17P PE=5 SV=1\n",
            ">sp|Q3C1V9|YK041_HUMAN Putative uncharacterized protein ENSP00000334305 OS=Homo sapiens OX=9606 PE=5 SV=2\n",
            ">sp|Q96NR7|WWAS2_HUMAN Putative uncharacterized protein WWC2-AS2 OS=Homo sapiens OX=9606 GN=WWC2-AS2 PE=5 SV=1\n",
            ">sp|Q9H379|YI012_HUMAN Putative uncharacterized protein PRO3102 OS=Homo sapiens OX=9606 GN=PRO3102 PE=5 SV=1\n",
            ">sp|Q15929|ZNF56_HUMAN Putative zinc finger protein 56 OS=Homo sapiens OX=9606 GN=ZNF56 PE=5 SV=2\n",
            ">sp|Q96IR3|YV007_HUMAN Putative uncharacterized protein MGC15705 OS=Homo sapiens OX=9606 PE=5 SV=1\n",
            ">sp|P0CG31|Z286B_HUMAN Putative zinc finger protein 286B OS=Homo sapiens OX=9606 GN=ZNF286B PE=5 SV=1\n",
            ">sp|P0CAT3|TLXNB_HUMAN Putative TLX1 neighbor protein OS=Homo sapiens OX=9606 GN=TLX1NB PE=5 SV=1\n",
            ">sp|Q96N35|TMM83_HUMAN Putative uncharacterized protein encoded by LINC00052 OS=Homo sapiens OX=9606 GN=LINC00052 PE=5 SV=1\n",
            ">sp|Q8IYB0|YK038_HUMAN Putative uncharacterized protein MGC39545 OS=Homo sapiens OX=9606 PE=5 SV=2\n",
            ">sp|A1L4Q6|YK033_HUMAN Putative uncharacterized protein FLJ41423 OS=Homo sapiens OX=9606 PE=5 SV=1\n",
            ">sp|Q6P575|BGP11_HUMAN Putative inactive beta-glucuronidase protein GUSBP11 OS=Homo sapiens OX=9606 GN=GUSBP11 PE=5 SV=2\n",
            ">sp|Q6W349|CD011_HUMAN Putative uncharacterized protein encoded by LINC00575 OS=Homo sapiens OX=9606 GN=LINC00575 PE=5 SV=1\n",
            ">sp|Q6XXX2|CU024_HUMAN Putative uncharacterized protein encoded by LINC00114 OS=Homo sapiens OX=9606 GN=LINC00114 PE=5 SV=1\n",
            ">sp|Q6ZN03|CU136_HUMAN Putative uncharacterized protein encoded by LINC00322 OS=Homo sapiens OX=9606 GN=LINC00322 PE=5 SV=1\n"
          ],
          "name": "stdout"
        }
      ]
    },
    {
      "cell_type": "code",
      "metadata": {
        "colab": {
          "base_uri": "https://localhost:8080/"
        },
        "id": "s_eSfOxRxB_B",
        "outputId": "a25cc775-d18f-481b-a480-e42051f4715d"
      },
      "source": [
        "len(human_PE_sp)"
      ],
      "execution_count": null,
      "outputs": [
        {
          "output_type": "execute_result",
          "data": {
            "text/plain": [
              "20371"
            ]
          },
          "metadata": {
            "tags": []
          },
          "execution_count": 21
        }
      ]
    },
    {
      "cell_type": "code",
      "metadata": {
        "colab": {
          "base_uri": "https://localhost:8080/",
          "height": 312
        },
        "id": "JL5TXjYNxDFl",
        "outputId": "4fa5ddf0-c179-46bd-9045-a915b73a5694"
      },
      "source": [
        "human_sp_scores = []\n",
        "\n",
        "for value in human_PE_sp.values():\n",
        "  human_sp_scores.append(value)\n",
        "\n",
        "plt.hist(human_sp_scores)\n",
        "plt.title(\"Swiss-prot Homo Sapien Proteins\")\n",
        "plt.xlabel(\"PE score\")\n",
        "plt.ylabel(\"Number of proteins with score\")"
      ],
      "execution_count": null,
      "outputs": [
        {
          "output_type": "execute_result",
          "data": {
            "text/plain": [
              "Text(0, 0.5, 'Number of proteins with score')"
            ]
          },
          "metadata": {
            "tags": []
          },
          "execution_count": 32
        },
        {
          "output_type": "display_data",
          "data": {
            "image/png": "[encoded data removed]",
            "text/plain": [
              "<Figure size 432x288 with 1 Axes>"
            ]
          },
          "metadata": {
            "tags": [],
            "needs_background": "light"
          }
        }
      ]
    },
    {
      "cell_type": "code",
      "metadata": {
        "id": "J8qAeeDCxPKS"
      },
      "source": [
        "human_PE_tr = calc_PE(file_human, sptr = 'tr')"
      ],
      "execution_count": null,
      "outputs": []
    },
    {
      "cell_type": "code",
      "metadata": {
        "colab": {
          "base_uri": "https://localhost:8080/"
        },
        "id": "tKuUNuPExv5L",
        "outputId": "091ff117-65c3-4b4e-f8bf-c240f2dc49b1"
      },
      "source": [
        "len(human_PE_tr)"
      ],
      "execution_count": null,
      "outputs": [
        {
          "output_type": "execute_result",
          "data": {
            "text/plain": [
              "57749"
            ]
          },
          "metadata": {
            "tags": []
          },
          "execution_count": 34
        }
      ]
    },
    {
      "cell_type": "code",
      "metadata": {
        "colab": {
          "base_uri": "https://localhost:8080/",
          "height": 312
        },
        "id": "aexdafenxXTO",
        "outputId": "5711f394-8681-4c94-d2ce-8348529807a2"
      },
      "source": [
        "human_tr_scores = []\n",
        "\n",
        "for value in human_PE_tr.values():\n",
        "  human_tr_scores.append(value)\n",
        "\n",
        "plt.hist(human_tr_scores)\n",
        "plt.title(\"TrEMBL Homo Sapien Proteins\")\n",
        "plt.xlabel(\"PE score\")\n",
        "plt.ylabel(\"Number of proteins with score\")"
      ],
      "execution_count": null,
      "outputs": [
        {
          "output_type": "execute_result",
          "data": {
            "text/plain": [
              "Text(0, 0.5, 'Number of proteins with score')"
            ]
          },
          "metadata": {
            "tags": []
          },
          "execution_count": 35
        },
        {
          "output_type": "display_data",
          "data": {
            "image/png": "[encoded data removed]",
            "text/plain": [
              "<Figure size 432x288 with 1 Axes>"
            ]
          },
          "metadata": {
            "tags": [],
            "needs_background": "light"
          }
        }
      ]
    },
    {
      "cell_type": "markdown",
      "metadata": {
        "id": "Vb3C_cliYLpb"
      },
      "source": [
        "**Summary of Homo Sapien Analysis**"
      ]
    },
    {
      "cell_type": "code",
      "metadata": {
        "id": "fhuO-7nIYKs-"
      },
      "source": [
        "all_human_file = 'homo_sapien_all.fasta'\n",
        "all_human_dict = PE_dict_full(all_human_file)"
      ],
      "execution_count": null,
      "outputs": []
    },
    {
      "cell_type": "code",
      "metadata": {
        "colab": {
          "base_uri": "https://localhost:8080/",
          "height": 384
        },
        "id": "6xtr0p2ZYYgh",
        "outputId": "7ffd719e-c005-41e1-dd6f-0aba6b3db4ce"
      },
      "source": [
        "human_all_score = []\n",
        "for value in all_human_dict.values():\n",
        "  human_all_score.append(value)\n",
        "\n",
        "plt.hist([human_all_score,human_tr_scores,human_sp_scores], log = True)\n",
        "plt.legend(['All','TrEMBL','Swiss-prot'])\n",
        "plt.xlabel('PE score')\n",
        "plt.ylabel(\"Number of proteins with score\")"
      ],
      "execution_count": null,
      "outputs": [
        {
          "output_type": "stream",
          "text": [
            "/usr/local/lib/python3.7/dist-packages/numpy/core/_asarray.py:83: VisibleDeprecationWarning: Creating an ndarray from ragged nested sequences (which is a list-or-tuple of lists-or-tuples-or ndarrays with different lengths or shapes) is deprecated. If you meant to do this, you must specify 'dtype=object' when creating the ndarray\n",
            "  return array(a, dtype, copy=False, order=order)\n",
            "/usr/local/lib/python3.7/dist-packages/numpy/core/_asarray.py:83: VisibleDeprecationWarning: Creating an ndarray from ragged nested sequences (which is a list-or-tuple of lists-or-tuples-or ndarrays with different lengths or shapes) is deprecated. If you meant to do this, you must specify 'dtype=object' when creating the ndarray\n",
            "  return array(a, dtype, copy=False, order=order)\n"
          ],
          "name": "stderr"
        },
        {
          "output_type": "execute_result",
          "data": {
            "text/plain": [
              "Text(0, 0.5, 'Number of proteins with score')"
            ]
          },
          "metadata": {
            "tags": []
          },
          "execution_count": 37
        },
        {
          "output_type": "display_data",
          "data": {
            "image/png": "[encoded data removed]",
            "text/plain": [
              "<Figure size 432x288 with 1 Axes>"
            ]
          },
          "metadata": {
            "tags": [],
            "needs_background": "light"
          }
        }
      ]
    },
    {
      "cell_type": "markdown",
      "metadata": {
        "id": "tPas7DYMx5N-"
      },
      "source": [
        "# **MUS MUSCULUS DATABASE ANALYSIS**"
      ]
    },
    {
      "cell_type": "code",
      "metadata": {
        "colab": {
          "base_uri": "https://localhost:8080/"
        },
        "id": "4jrPctJzxp61",
        "outputId": "fd8c04fc-d544-48c8-e10b-6d27b480a828"
      },
      "source": [
        "!ls"
      ],
      "execution_count": null,
      "outputs": [
        {
          "output_type": "stream",
          "text": [
            "homo_sapien_all.fasta\n",
            "Homo_sapiens_uniprot-proteome_UP000005640.fasta\n",
            "mus_musculus_all.fasta\n",
            "mus_musculus_uniprot-proteome_UP000000589.fasta\n",
            "one_protein_per_gene_proteome\n",
            "other_api\n",
            "reactome_uniprot\n",
            "sus_scrofa_all_proteomes.fasta\n",
            "sus_scrofa_uniprot-proteome_UP000008227.fasta\n"
          ],
          "name": "stdout"
        }
      ]
    },
    {
      "cell_type": "code",
      "metadata": {
        "id": "9AiUUhkZx-Ew"
      },
      "source": [
        "file_mouse = 'mus_musculus_uniprot-proteome_UP000000589.fasta'\n",
        "mouse_PE_sp = calc_PE(file_mouse)"
      ],
      "execution_count": null,
      "outputs": []
    },
    {
      "cell_type": "code",
      "metadata": {
        "colab": {
          "base_uri": "https://localhost:8080/"
        },
        "id": "8oFLK_Dvjq-s",
        "outputId": "2dc72048-5648-4e1d-c5c2-521f56fbfe60"
      },
      "source": [
        "!cat mus_musculus_uniprot-proteome_UP000000589.fasta | grep 'PE=5' | grep '>sp' | wc -l"
      ],
      "execution_count": null,
      "outputs": [
        {
          "output_type": "stream",
          "text": [
            "9\n"
          ],
          "name": "stdout"
        }
      ]
    },
    {
      "cell_type": "code",
      "metadata": {
        "colab": {
          "base_uri": "https://localhost:8080/"
        },
        "id": "djTrpwsVo4je",
        "outputId": "ff32cb29-0961-482b-f166-71d7a81ed090"
      },
      "source": [
        "!cat mus_musculus_uniprot-proteome_UP000000589.fasta | grep 'PE=5'| wc -l"
      ],
      "execution_count": null,
      "outputs": [
        {
          "output_type": "stream",
          "text": [
            "9\n"
          ],
          "name": "stdout"
        }
      ]
    },
    {
      "cell_type": "code",
      "metadata": {
        "colab": {
          "base_uri": "https://localhost:8080/"
        },
        "id": "UDY8OJnlyE57",
        "outputId": "1e2915d1-fb28-4e3f-d39c-3167b3d7f829"
      },
      "source": [
        "len(mouse_PE_sp)"
      ],
      "execution_count": null,
      "outputs": [
        {
          "output_type": "execute_result",
          "data": {
            "text/plain": [
              "17077"
            ]
          },
          "metadata": {
            "tags": []
          },
          "execution_count": 39
        }
      ]
    },
    {
      "cell_type": "code",
      "metadata": {
        "colab": {
          "base_uri": "https://localhost:8080/",
          "height": 312
        },
        "id": "b3VZKfilyGud",
        "outputId": "199398f8-b35e-44ce-ecc0-ed6e20084e3f"
      },
      "source": [
        "mouse_sp_scores = []\n",
        "\n",
        "for value in mouse_PE_sp.values():\n",
        "  mouse_sp_scores.append(value)\n",
        "\n",
        "plt.hist(mouse_sp_scores)\n",
        "plt.title(\"Swiss-prot Mus Musculus Proteins\")\n",
        "plt.xlabel(\"PE score\")\n",
        "plt.ylabel(\"Number of proteins with score\")"
      ],
      "execution_count": null,
      "outputs": [
        {
          "output_type": "execute_result",
          "data": {
            "text/plain": [
              "Text(0, 0.5, 'Number of proteins with score')"
            ]
          },
          "metadata": {
            "tags": []
          },
          "execution_count": 40
        },
        {
          "output_type": "display_data",
          "data": {
            "image/png": "[encoded data removed]",
            "text/plain": [
              "<Figure size 432x288 with 1 Axes>"
            ]
          },
          "metadata": {
            "tags": [],
            "needs_background": "light"
          }
        }
      ]
    },
    {
      "cell_type": "code",
      "metadata": {
        "id": "M9o3UvIvyO4s"
      },
      "source": [
        "mouse_PE_tr = calc_PE(file_mouse, sptr = 'tr')"
      ],
      "execution_count": null,
      "outputs": []
    },
    {
      "cell_type": "code",
      "metadata": {
        "colab": {
          "base_uri": "https://localhost:8080/"
        },
        "id": "dV-Ezg3lyViY",
        "outputId": "43b80a8a-b359-4b5e-cf04-e2ed3c818767"
      },
      "source": [
        "len(mouse_PE_tr)"
      ],
      "execution_count": null,
      "outputs": [
        {
          "output_type": "execute_result",
          "data": {
            "text/plain": [
              "38289"
            ]
          },
          "metadata": {
            "tags": []
          },
          "execution_count": 42
        }
      ]
    },
    {
      "cell_type": "code",
      "metadata": {
        "colab": {
          "base_uri": "https://localhost:8080/",
          "height": 312
        },
        "id": "IRpAI2f2yWhm",
        "outputId": "9103c9ec-a0c8-4e0a-c1cb-6853c7fe62f2"
      },
      "source": [
        "mouse_tr_scores = []\n",
        "\n",
        "for value in mouse_PE_tr.values():\n",
        "  mouse_tr_scores.append(value)\n",
        "\n",
        "plt.hist(mouse_tr_scores)\n",
        "plt.title(\"TrEMBL Mus Musculus Proteins\")\n",
        "plt.xlabel(\"PE score\")\n",
        "plt.ylabel(\"Number of proteins with score\")"
      ],
      "execution_count": null,
      "outputs": [
        {
          "output_type": "execute_result",
          "data": {
            "text/plain": [
              "Text(0, 0.5, 'Number of proteins with score')"
            ]
          },
          "metadata": {
            "tags": []
          },
          "execution_count": 43
        },
        {
          "output_type": "display_data",
          "data": {
            "image/png": "[encoded data removed]",
            "text/plain": [
              "<Figure size 432x288 with 1 Axes>"
            ]
          },
          "metadata": {
            "tags": [],
            "needs_background": "light"
          }
        }
      ]
    },
    {
      "cell_type": "markdown",
      "metadata": {
        "id": "YAFhCWfnZ3Us"
      },
      "source": [
        "**Summary of Mus Musculus Analysis**"
      ]
    },
    {
      "cell_type": "code",
      "metadata": {
        "id": "0PV4K_oUyd6b"
      },
      "source": [
        "mouse_all_file = 'mus_musculus_all.fasta'\n",
        "mouse_all_dict = PE_dict_full(mouse_all_file)"
      ],
      "execution_count": null,
      "outputs": []
    },
    {
      "cell_type": "code",
      "metadata": {
        "colab": {
          "base_uri": "https://localhost:8080/",
          "height": 384
        },
        "id": "fLvzqsEYaBxf",
        "outputId": "b2009e65-1f3b-425f-c97b-6f585ef68322"
      },
      "source": [
        "mouse_all_score = []\n",
        "for value in mouse_all_dict.values():\n",
        "  mouse_all_score.append(value)\n",
        "\n",
        "plt.hist([mouse_all_score, mouse_tr_scores, mouse_sp_scores], log = True)\n",
        "plt.legend(['All','TrEMBL','Swiss-prot'], loc = 'upper right')\n",
        "#plt.title('Summary of Mus Musculus Results')\n",
        "plt.xlabel('PE score')\n",
        "plt.ylabel('Number of proteins with score')"
      ],
      "execution_count": null,
      "outputs": [
        {
          "output_type": "stream",
          "text": [
            "/usr/local/lib/python3.7/dist-packages/numpy/core/_asarray.py:83: VisibleDeprecationWarning: Creating an ndarray from ragged nested sequences (which is a list-or-tuple of lists-or-tuples-or ndarrays with different lengths or shapes) is deprecated. If you meant to do this, you must specify 'dtype=object' when creating the ndarray\n",
            "  return array(a, dtype, copy=False, order=order)\n",
            "/usr/local/lib/python3.7/dist-packages/numpy/core/_asarray.py:83: VisibleDeprecationWarning: Creating an ndarray from ragged nested sequences (which is a list-or-tuple of lists-or-tuples-or ndarrays with different lengths or shapes) is deprecated. If you meant to do this, you must specify 'dtype=object' when creating the ndarray\n",
            "  return array(a, dtype, copy=False, order=order)\n"
          ],
          "name": "stderr"
        },
        {
          "output_type": "execute_result",
          "data": {
            "text/plain": [
              "Text(0, 0.5, 'Number of proteins with score')"
            ]
          },
          "metadata": {
            "tags": []
          },
          "execution_count": 46
        },
        {
          "output_type": "display_data",
          "data": {
            "image/png": "[encoded data removed]",
            "text/plain": [
              "<Figure size 432x288 with 1 Axes>"
            ]
          },
          "metadata": {
            "tags": [],
            "needs_background": "light"
          }
        }
      ]
    },
    {
      "cell_type": "code",
      "metadata": {
        "id": "hMIilCWzaUov"
      },
      "source": [
        ""
      ],
      "execution_count": null,
      "outputs": []
    }
  ]
}