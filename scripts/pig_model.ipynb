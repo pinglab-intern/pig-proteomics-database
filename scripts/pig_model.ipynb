{
  "nbformat": 4,
  "nbformat_minor": 0,
  "metadata": {
    "colab": {
      "name": "pig_model.ipynb",
      "provenance": [],
      "collapsed_sections": [],
      "authorship_tag": "ABX9TyOoQSp1X2Orr6F4i29nZt3e"
    },
    "kernelspec": {
      "name": "python3",
      "display_name": "Python 3"
    },
    "language_info": {
      "name": "python"
    }
  },
  "cells": [
    {
      "cell_type": "code",
      "metadata": {
        "id": "palXNc30K6Lg",
        "colab": {
          "base_uri": "https://localhost:8080/"
        },
        "outputId": "0eeab586-1801-40ef-8af9-d4a5c10e5a50"
      },
      "source": [
        "# Connect notebook to Google Drive\n",
        "from google.colab import drive\n",
        "drive.mount('/content/drive', force_remount=True)"
      ],
      "execution_count": 1,
      "outputs": [
        {
          "output_type": "stream",
          "text": [
            "Mounted at /content/drive\n"
          ],
          "name": "stdout"
        }
      ]
    },
    {
      "cell_type": "code",
      "metadata": {
        "colab": {
          "base_uri": "https://localhost:8080/"
        },
        "id": "AkndYWUiQ0IF",
        "outputId": "b426bb5b-e957-4c64-83ed-b07d9d76f980"
      },
      "source": [
        "# Navigate to the shared drive folder\n",
        "%cd /content/drive/'My Drive'/'Pig Proteomics Summer Project'\n",
        "!pwd\n",
        "!ls"
      ],
      "execution_count": 2,
      "outputs": [
        {
          "output_type": "stream",
          "text": [
            "/content/drive/.shortcut-targets-by-id/1H3M9nQYJ9K9M22jDv-wcvZ0azPz9lhsr/Pig Proteomics Summer Project\n",
            "/content/drive/.shortcut-targets-by-id/1H3M9nQYJ9K9M22jDv-wcvZ0azPz9lhsr/Pig Proteomics Summer Project\n",
            "'2021-06-21 Introduction to Proteomes.ipynb'\n",
            "'2021-06-28 Reactome and Uniprot.ipynb'\n",
            "'2021-06-29 Identifying characteristics of an unreliable protein.gslides'\n",
            " data\n",
            " gene_PE.ipynb\n",
            " histogram.ipynb\n",
            "'machine learning.gslides'\n",
            " model_v1.ipynb\n",
            " model_v2.ipynb\n",
            " output\n",
            " pe_scores.ipynb\n",
            " pig_model.ipynb\n",
            " scratch\n",
            "'Summer Project.gdoc'\n",
            " violin.ipynb\n",
            "'Week 1 Introduction slides.gslides'\n",
            "'Week 3 Findings.gslides'\n"
          ],
          "name": "stdout"
        }
      ]
    },
    {
      "cell_type": "code",
      "metadata": {
        "colab": {
          "base_uri": "https://localhost:8080/"
        },
        "id": "pf-eZV-37PPe",
        "outputId": "33370dfa-126c-457a-c883-85319b4f03ca"
      },
      "source": [
        "!pip install fastaparser"
      ],
      "execution_count": 18,
      "outputs": [
        {
          "output_type": "stream",
          "text": [
            "Collecting fastaparser\n",
            "  Downloading fastaparser-1.1-py3-none-any.whl (29 kB)\n",
            "Installing collected packages: fastaparser\n",
            "Successfully installed fastaparser-1.1\n"
          ],
          "name": "stdout"
        }
      ]
    },
    {
      "cell_type": "code",
      "metadata": {
        "id": "pfrf5eK1Q5VU"
      },
      "source": [
        "import numpy as np\n",
        "import pandas as pd\n",
        "import matplotlib.pyplot as plt\n",
        "import sklearn\n",
        "from sklearn.model_selection import train_test_split\n",
        "from sklearn.preprocessing import StandardScaler\n",
        "from sklearn.metrics import accuracy_score\n",
        "from math import *\n",
        "from scipy.stats import zscore\n"
      ],
      "execution_count": 14,
      "outputs": []
    },
    {
      "cell_type": "code",
      "metadata": {
        "id": "9Rwd7Ht97JTL"
      },
      "source": [
        "import fastaparser\n",
        "import pandas as pd\n",
        "\n",
        "def parse_fasta_file(file_name):\n",
        "  \"\"\"\n",
        "  this function parses a FASTA database and returns it as a mapping from the\n",
        "  header of the protein to the amino acid sequence it corresponds to\n",
        "  mapping: {header: sequence}\n",
        "  \"\"\"\n",
        "  out_dict = {}\n",
        "  fastaRaw = [] #uses quick parsing method\n",
        "  with open(file_name) as fasta_file:\n",
        "      parserQuick = fastaparser.Reader(fasta_file, parse_method = 'quick')\n",
        "      \n",
        "      for seq in parserQuick:\n",
        "          fastaRaw.append(seq)\n",
        "          \n",
        "  headerList = []\n",
        "  seqList = []\n",
        "\n",
        "  for k in fastaRaw:\n",
        "      headerList.append(k.header)\n",
        "      seqList.append(k.sequence)\n",
        "\n",
        "  if len(headerList) != len(seqList):\n",
        "      raise ValueError(\"Number of headers =/= number of sequences\")\n",
        "\n",
        "  for i in range(len(headerList)):\n",
        "      out_dict[headerList[i]] = seqList[i]\n",
        "\n",
        "  return out_dict\n",
        "\n",
        "def extract_protein_length(file_name):\n",
        "  \"\"\"\n",
        "  gets protein length in the following format:\n",
        "  {accession ID : protein length}\n",
        "  \"\"\"\n",
        "  out_dict = parse_fasta_file(file_name)\n",
        "  protein_to_length = {}\n",
        "\n",
        "  for key in out_dict.keys():\n",
        "    indice = []\n",
        "    for k in range(len(key)):\n",
        "      t = key[k]\n",
        "      if '|' in t:\n",
        "        indice.append(k)\n",
        "    accession = key[indice[0] + 1 : indice[1]]\n",
        "\n",
        "    protein_to_length[accession] = len(out_dict[key])\n",
        "\n",
        "\n",
        "  return protein_to_length\n",
        "\n",
        "def extract_PE_scores(file_name):\n",
        "  \"\"\"\n",
        "  gets PE score in the following format:\n",
        "  {accession ID : PE score}\n",
        "  \"\"\"\n",
        "  out_dict = parse_fasta_file(file_name)\n",
        "  protein_to_PE_score = {}\n",
        "\n",
        "  for key in out_dict.keys():\n",
        "    indice_accession = []\n",
        "    indice_PE = []\n",
        "    for i in range(len(key)):\n",
        "      t_accession = key[i]\n",
        "      if '|' in t_accession:\n",
        "        indice_accession.append(i)    \n",
        "    accession = key[indice_accession[0] + 1 : indice_accession[1]]\n",
        "\n",
        "    for j in range(len(key)):\n",
        "      t_pe = key[j:j+3]\n",
        "      if 'PE=' in t_pe:\n",
        "        indice_PE.append(j)\n",
        "    \n",
        "    pe_score = int(key[indice_PE[0] + 3 : indice_PE[0] + 4])\n",
        "    protein_to_PE_score[accession] = pe_score\n",
        "  \n",
        "  return protein_to_PE_score\n",
        "\n",
        "def extract_confirmed_isoforms(isoform_file):\n",
        "  \"\"\"\n",
        "  {accession ID : num of confirmed isoforms}\n",
        "  specifically takes isoform file\n",
        "  \"\"\"\n",
        "  protein_to_length = extract_protein_length(isoform_file) #{accession ID : length of sequence}\n",
        "  protein_to_isoform = {}\n",
        "\n",
        "  set_of_proteins = list(set(protein_to_length.keys()))\n",
        "  set_of_isoforms = [x for x in set_of_proteins if '-' in x] #list of isoforms\n",
        "  set_of_no_isoforms = [x for x in set_of_proteins if '-' not in x] #list of non-isoforms\n",
        "\n",
        "  for protein in set_of_no_isoforms:\n",
        "    c = 0\n",
        "    for k in set_of_isoforms:\n",
        "      if protein in k:\n",
        "        c = c + 1\n",
        "    \n",
        "    protein_to_isoform[protein] = c\n",
        "  \n",
        "  return protein_to_isoform\n",
        "\n",
        "def reference_proteome(file_name, proteome_file):\n",
        "  \"\"\"\n",
        "  returns 1 if protein is in reference proteome, 0 if protein is not in reference proteome\n",
        "  file_name -> full db\n",
        "  proteome_file -> proteome db\n",
        "  \"\"\"\n",
        "  all_proteins = list(set(extract_protein_length(file_name).keys()))\n",
        "  proteome_proteins = list(set(extract_protein_length(proteome_file).keys()))\n",
        "\n",
        "  protein_to_binary = {}\n",
        "  for protein in all_proteins:\n",
        "    if protein in proteome_proteins:\n",
        "      protein_to_binary[protein] = 1\n",
        "    elif protein not in proteome_proteins:\n",
        "      protein_to_binary[protein] = 0\n",
        "  \n",
        "  return protein_to_binary"
      ],
      "execution_count": 19,
      "outputs": []
    },
    {
      "cell_type": "code",
      "metadata": {
        "id": "Hgsffara7c4B"
      },
      "source": [
        "def protein_to_features(file_name, proteome_file, isoform_file):\n",
        "  \"\"\"\n",
        "  inputs:\n",
        "  file_name -> full protein db\n",
        "  proteome_file -> reference proteome db\n",
        "  isoform_file -> full protein db with isoforms\n",
        "  creates dictionary in the following format:\n",
        "  {accession ID : [protein length, PE score, num of confirmed isoforms]}\n",
        "  \"\"\"\n",
        "  #hopefully the keys of each dictionary defined above are identical to each other\n",
        "  protein_to_length = extract_protein_length(file_name)\n",
        "  protein_to_PE_score = extract_PE_scores(file_name)\n",
        "  protein_to_isoform = extract_confirmed_isoforms(isoform_file)\n",
        "  protein_to_binary = reference_proteome(file_name, proteome_file)\n",
        "\n",
        "  protein_to_features = {}\n",
        "\n",
        "  for key in list(protein_to_length.keys()):\n",
        "    protein_to_features[key] = [protein_to_length[key],\n",
        "                                protein_to_PE_score[key],\n",
        "                                protein_to_isoform[key],\n",
        "                                protein_to_binary[key]]\n",
        "  \n",
        "  return protein_to_features\n",
        "\n",
        "def protein_features_dataframe(protein_features_dict):\n",
        "  \"\"\"\n",
        "  input: protein_to_features output\n",
        "  output: dataframe; headers = ['Protein Accession ID', 'Length', 'PE Score', '#Isoforms (confirmed)', 'In reference proteome']\n",
        "  \"\"\"  \n",
        "  accession = []\n",
        "  length = []\n",
        "  pe_score = []\n",
        "  confirmed_isoforms = []\n",
        "  ref_proteome = []\n",
        "\n",
        "  for protein in list(protein_features_dict.keys()):\n",
        "    accession.append(protein)\n",
        "    length.append(protein_features_dict[protein][0])\n",
        "    pe_score.append(protein_features_dict[protein][1])\n",
        "    confirmed_isoforms.append(protein_features_dict[protein][2])\n",
        "    ref_proteome.append(protein_features_dict[protein][3])\n",
        "  \n",
        "  d = {'Protein Accession' : accession,\n",
        "       'Length' : length,\n",
        "       'PE Score' : pe_score,\n",
        "       '#Confirmed Isoforms' : confirmed_isoforms,\n",
        "       'In Reference Proteome' : ref_proteome}\n",
        "\n",
        "  return pd.DataFrame(data = d)\n"
      ],
      "execution_count": 20,
      "outputs": []
    },
    {
      "cell_type": "markdown",
      "metadata": {
        "id": "MH5OfNXo7p3f"
      },
      "source": [
        "# **Constructing pig dataframe**"
      ]
    },
    {
      "cell_type": "code",
      "metadata": {
        "colab": {
          "base_uri": "https://localhost:8080/"
        },
        "id": "dY62tC9K7tP8",
        "outputId": "63785684-7cb4-4c50-af04-18736041007d"
      },
      "source": [
        "%cd data"
      ],
      "execution_count": 6,
      "outputs": [
        {
          "output_type": "stream",
          "text": [
            "/content/drive/.shortcut-targets-by-id/1H3M9nQYJ9K9M22jDv-wcvZ0azPz9lhsr/Pig Proteomics Summer Project/data\n"
          ],
          "name": "stdout"
        }
      ]
    },
    {
      "cell_type": "code",
      "metadata": {
        "id": "HYgXeyG67uwl"
      },
      "source": [
        "file_pig_isoforms = 'sus_scrofa_isoforms.fasta'\n",
        "file_pig_proteome = 'sus_scrofa_uniprot-proteome_UP000008227.fasta'\n",
        "file_pig_all = 'sus_scrofa_all.fasta'"
      ],
      "execution_count": 8,
      "outputs": []
    },
    {
      "cell_type": "code",
      "metadata": {
        "id": "uDYbk31A8yzi"
      },
      "source": [
        "protein_to_features_dict = protein_to_features(file_pig_all, file_pig_proteome, file_pig_isoforms)\n",
        "protein_to_features_dict"
      ],
      "execution_count": null,
      "outputs": []
    },
    {
      "cell_type": "code",
      "metadata": {
        "colab": {
          "base_uri": "https://localhost:8080/",
          "height": 419
        },
        "id": "VarmaGQr-Tul",
        "outputId": "6bbacdca-7980-49b8-98fa-c1f68f3247cf"
      },
      "source": [
        "df_protein_features = protein_features_dataframe(protein_to_features_dict)\n",
        "df_protein_features"
      ],
      "execution_count": 10,
      "outputs": [
        {
          "output_type": "execute_result",
          "data": {
            "text/html": [
              "<div>\n",
              "<style scoped>\n",
              "    .dataframe tbody tr th:only-of-type {\n",
              "        vertical-align: middle;\n",
              "    }\n",
              "\n",
              "    .dataframe tbody tr th {\n",
              "        vertical-align: top;\n",
              "    }\n",
              "\n",
              "    .dataframe thead th {\n",
              "        text-align: right;\n",
              "    }\n",
              "</style>\n",
              "<table border=\"1\" class=\"dataframe\">\n",
              "  <thead>\n",
              "    <tr style=\"text-align: right;\">\n",
              "      <th></th>\n",
              "      <th>Protein Accession</th>\n",
              "      <th>Length</th>\n",
              "      <th>PE Score</th>\n",
              "      <th>#Confirmed Isoforms</th>\n",
              "      <th>In Reference Proteome</th>\n",
              "    </tr>\n",
              "  </thead>\n",
              "  <tbody>\n",
              "    <tr>\n",
              "      <th>0</th>\n",
              "      <td>Q9TV69</td>\n",
              "      <td>335</td>\n",
              "      <td>1</td>\n",
              "      <td>0</td>\n",
              "      <td>1</td>\n",
              "    </tr>\n",
              "    <tr>\n",
              "      <th>1</th>\n",
              "      <td>P27594</td>\n",
              "      <td>663</td>\n",
              "      <td>2</td>\n",
              "      <td>0</td>\n",
              "      <td>1</td>\n",
              "    </tr>\n",
              "    <tr>\n",
              "      <th>2</th>\n",
              "      <td>P00355</td>\n",
              "      <td>333</td>\n",
              "      <td>1</td>\n",
              "      <td>0</td>\n",
              "      <td>1</td>\n",
              "    </tr>\n",
              "    <tr>\n",
              "      <th>3</th>\n",
              "      <td>Q5I2M3</td>\n",
              "      <td>1030</td>\n",
              "      <td>2</td>\n",
              "      <td>0</td>\n",
              "      <td>1</td>\n",
              "    </tr>\n",
              "    <tr>\n",
              "      <th>4</th>\n",
              "      <td>Q95JC9</td>\n",
              "      <td>676</td>\n",
              "      <td>1</td>\n",
              "      <td>2</td>\n",
              "      <td>1</td>\n",
              "    </tr>\n",
              "    <tr>\n",
              "      <th>...</th>\n",
              "      <td>...</td>\n",
              "      <td>...</td>\n",
              "      <td>...</td>\n",
              "      <td>...</td>\n",
              "      <td>...</td>\n",
              "    </tr>\n",
              "    <tr>\n",
              "      <th>120921</th>\n",
              "      <td>Q8SQ26</td>\n",
              "      <td>322</td>\n",
              "      <td>2</td>\n",
              "      <td>0</td>\n",
              "      <td>1</td>\n",
              "    </tr>\n",
              "    <tr>\n",
              "      <th>120922</th>\n",
              "      <td>Q6Q7J2</td>\n",
              "      <td>445</td>\n",
              "      <td>2</td>\n",
              "      <td>0</td>\n",
              "      <td>1</td>\n",
              "    </tr>\n",
              "    <tr>\n",
              "      <th>120923</th>\n",
              "      <td>F1S5L4</td>\n",
              "      <td>826</td>\n",
              "      <td>2</td>\n",
              "      <td>0</td>\n",
              "      <td>1</td>\n",
              "    </tr>\n",
              "    <tr>\n",
              "      <th>120924</th>\n",
              "      <td>P50132</td>\n",
              "      <td>363</td>\n",
              "      <td>3</td>\n",
              "      <td>0</td>\n",
              "      <td>1</td>\n",
              "    </tr>\n",
              "    <tr>\n",
              "      <th>120925</th>\n",
              "      <td>P0C5I2</td>\n",
              "      <td>360</td>\n",
              "      <td>1</td>\n",
              "      <td>0</td>\n",
              "      <td>1</td>\n",
              "    </tr>\n",
              "  </tbody>\n",
              "</table>\n",
              "<p>120926 rows × 5 columns</p>\n",
              "</div>"
            ],
            "text/plain": [
              "       Protein Accession  Length  ...  #Confirmed Isoforms  In Reference Proteome\n",
              "0                 Q9TV69     335  ...                    0                      1\n",
              "1                 P27594     663  ...                    0                      1\n",
              "2                 P00355     333  ...                    0                      1\n",
              "3                 Q5I2M3    1030  ...                    0                      1\n",
              "4                 Q95JC9     676  ...                    2                      1\n",
              "...                  ...     ...  ...                  ...                    ...\n",
              "120921            Q8SQ26     322  ...                    0                      1\n",
              "120922            Q6Q7J2     445  ...                    0                      1\n",
              "120923            F1S5L4     826  ...                    0                      1\n",
              "120924            P50132     363  ...                    0                      1\n",
              "120925            P0C5I2     360  ...                    0                      1\n",
              "\n",
              "[120926 rows x 5 columns]"
            ]
          },
          "metadata": {},
          "execution_count": 10
        }
      ]
    },
    {
      "cell_type": "code",
      "metadata": {
        "colab": {
          "base_uri": "https://localhost:8080/"
        },
        "id": "FOwGToS49oVb",
        "outputId": "fa5e4951-79f5-413a-c644-fae0c2c4a78b"
      },
      "source": [
        "%cd -"
      ],
      "execution_count": 11,
      "outputs": [
        {
          "output_type": "stream",
          "text": [
            "/content/drive/.shortcut-targets-by-id/1H3M9nQYJ9K9M22jDv-wcvZ0azPz9lhsr/Pig Proteomics Summer Project\n"
          ],
          "name": "stdout"
        }
      ]
    },
    {
      "cell_type": "code",
      "metadata": {
        "colab": {
          "base_uri": "https://localhost:8080/"
        },
        "id": "UyNa707M9pki",
        "outputId": "5f913702-7190-4f01-c36f-146cae3238ba"
      },
      "source": [
        "%cd output"
      ],
      "execution_count": 11,
      "outputs": [
        {
          "output_type": "stream",
          "text": [
            "/content/drive/.shortcut-targets-by-id/1H3M9nQYJ9K9M22jDv-wcvZ0azPz9lhsr/Pig Proteomics Summer Project/output\n"
          ],
          "name": "stdout"
        }
      ]
    },
    {
      "cell_type": "code",
      "metadata": {
        "id": "ytUeJ_EY9q1k"
      },
      "source": [
        "df_protein_features.to_csv(\"sus_scrofa_features_all.csv\")"
      ],
      "execution_count": 13,
      "outputs": []
    },
    {
      "cell_type": "markdown",
      "metadata": {
        "id": "cyoMDCiu9v2q"
      },
      "source": [
        "# Creating Sus Scrofa Model"
      ]
    },
    {
      "cell_type": "code",
      "metadata": {
        "id": "1ZAbbaEORbpd"
      },
      "source": [
        "w = np.array([-0.00409286, -1.41677154,  0.59926468])\n",
        "b = -0.6384198099664238\n"
      ],
      "execution_count": 14,
      "outputs": []
    },
    {
      "cell_type": "code",
      "metadata": {
        "id": "gwmX2zBXRcsY"
      },
      "source": [
        "def jaccard_overlap(predicted, reference):\n",
        "  \"\"\"\n",
        "  computes jaccard overlap; J = A.intersection(B)/A.union(B)\n",
        "  \"\"\"\n",
        "  return len(predicted.intersection(reference))/len(predicted.union(reference))\n",
        "\n",
        "def sigmoid_function(z):\n",
        "  \"\"\"\n",
        "  evaluates sigma(z) = 1/(1 + exp(-z))\n",
        "  \"\"\"\n",
        "  return 1/(1 + np.exp(-z))\n",
        "\n",
        "def z_score_dataframe(all):\n",
        "    \"\"\"\n",
        "    returns df w/ z-scores\n",
        "    \"\"\"\n",
        "    #all\n",
        "    all_input = all.drop(all.columns[[0,4]], axis=1) #[Length, PE Score, #Confirmed Isoforms]\n",
        "    all_input = all_input.apply(zscore)\n",
        "    all_proteins = list(all['Protein Accession'])\n",
        "    all_binary = list(all['In Reference Proteome'])\n",
        "    all_z_length = list(all_input['Length'])\n",
        "    all_z_pe_score = list(all_input['PE Score'])\n",
        "    all_z_isoforms = list(all_input['#Confirmed Isoforms'])\n",
        "\n",
        "    #creating all dataframe with z-scores\n",
        "    all['Protein Accession'] = all_proteins\n",
        "    all['Length'] = all_z_length\n",
        "    all['PE Score'] = all_z_pe_score\n",
        "    all['#Confirmed Isoforms'] = all_z_isoforms\n",
        "    all['In Reference Proteome'] = all_binary\n",
        "\n",
        "    return all\n",
        "\n",
        "def reliable_proteins(all, w, b, threshold = 0.5):\n",
        "    \"\"\"\n",
        "    output: list of proteins that are deemed reliable by software\n",
        "    \"\"\"\n",
        "    proteins_predict = []\n",
        "\n",
        "    all = z_score_dataframe(all)\n",
        "\n",
        "    for k in range(len(all['Length'])):\n",
        "        L = [list(all['Length'])[k],\n",
        "            list(all['PE Score'])[k],\n",
        "            list(all['#Confirmed Isoforms'])[k]]\n",
        "        \n",
        "        z = w[0]*L[0] + w[1]*L[1] + w[2]*L[2] + b\n",
        "        p = sigmoid_function(z)\n",
        "\n",
        "        if p >= threshold:\n",
        "            proteins_predict.append(list(all['Protein Accession'])[k])\n",
        "\n",
        "    return proteins_predict\n"
      ],
      "execution_count": 21,
      "outputs": []
    },
    {
      "cell_type": "code",
      "metadata": {
        "colab": {
          "base_uri": "https://localhost:8080/"
        },
        "id": "C0QfJdmk6pJK",
        "outputId": "a3bb2d17-6d8a-4d7c-b16e-a084e62a3e0d"
      },
      "source": [
        "!pwd"
      ],
      "execution_count": 17,
      "outputs": [
        {
          "output_type": "stream",
          "text": [
            "/content/drive/.shortcut-targets-by-id/1H3M9nQYJ9K9M22jDv-wcvZ0azPz9lhsr/Pig Proteomics Summer Project/output\n"
          ],
          "name": "stdout"
        }
      ]
    },
    {
      "cell_type": "code",
      "metadata": {
        "id": "xx6Lb1pE6xe1"
      },
      "source": [
        "pig_all = pd.read_csv(\"pig_all_table_PE.csv\")\n",
        "pig_proteome = pd.read_csv(\"pig_proteome_table_PE.csv\")"
      ],
      "execution_count": 15,
      "outputs": []
    },
    {
      "cell_type": "code",
      "metadata": {
        "id": "Q2n-QUrH64VC"
      },
      "source": [
        "proteome_list = list(pig_proteome['accession'])"
      ],
      "execution_count": 16,
      "outputs": []
    },
    {
      "cell_type": "code",
      "metadata": {
        "id": "ml0vl-wZ65GN"
      },
      "source": [
        "predicted_proteins = reliable_proteins(df_protein_features, w, b)\n",
        "predicted_proteins"
      ],
      "execution_count": null,
      "outputs": []
    },
    {
      "cell_type": "code",
      "metadata": {
        "colab": {
          "base_uri": "https://localhost:8080/"
        },
        "id": "drcKlTXe_Efn",
        "outputId": "83a54709-8fab-4a49-a241-efd944423e5b"
      },
      "source": [
        "jaccard_overlap(set(predicted_proteins), set(proteome_list))"
      ],
      "execution_count": 22,
      "outputs": [
        {
          "output_type": "execute_result",
          "data": {
            "text/plain": [
              "0.3322012966965113"
            ]
          },
          "metadata": {},
          "execution_count": 22
        }
      ]
    },
    {
      "cell_type": "code",
      "metadata": {
        "id": "KPlhojsvU3_-"
      },
      "source": [
        "common_proteins = set(predicted_proteins).intersection(set(proteome_list))\n",
        "difference_protein = set(proteome_list).difference(set(predicted_proteins))"
      ],
      "execution_count": 23,
      "outputs": []
    },
    {
      "cell_type": "code",
      "metadata": {
        "colab": {
          "base_uri": "https://localhost:8080/"
        },
        "id": "4yre6oAVVPGm",
        "outputId": "6805c5ca-2733-405a-8f24-c5717b531e03"
      },
      "source": [
        "len(difference_protein)"
      ],
      "execution_count": 24,
      "outputs": [
        {
          "output_type": "execute_result",
          "data": {
            "text/plain": [
              "31500"
            ]
          },
          "metadata": {},
          "execution_count": 24
        }
      ]
    },
    {
      "cell_type": "code",
      "metadata": {
        "colab": {
          "base_uri": "https://localhost:8080/"
        },
        "id": "8NVfP2t4VZDr",
        "outputId": "43194413-479c-4eaf-99f1-c85c14b5be59"
      },
      "source": [
        "len(common_proteins)"
      ],
      "execution_count": 25,
      "outputs": [
        {
          "output_type": "execute_result",
          "data": {
            "text/plain": [
              "18292"
            ]
          },
          "metadata": {},
          "execution_count": 25
        }
      ]
    },
    {
      "cell_type": "markdown",
      "metadata": {
        "id": "1VfuXFM3bT6X"
      },
      "source": [
        "# **PE Score Analysis**"
      ]
    },
    {
      "cell_type": "code",
      "metadata": {
        "id": "-KReXTeqVbAI"
      },
      "source": [
        "pe_score_common = [df_protein_features[df_protein_features['Protein Accession'] == x]['PE Score'].values[0] for x in list(common_proteins)]\n",
        "pe_score_common"
      ],
      "execution_count": null,
      "outputs": []
    },
    {
      "cell_type": "markdown",
      "metadata": {
        "id": "F5cWrPqLckT3"
      },
      "source": [
        "Following histogram is for predicted proteins in common with the reference proteome"
      ]
    },
    {
      "cell_type": "code",
      "metadata": {
        "colab": {
          "base_uri": "https://localhost:8080/",
          "height": 333
        },
        "id": "1-UoNRFiWKPD",
        "outputId": "06a66338-982d-4a56-b92b-5b3ac193f2f3"
      },
      "source": [
        "plt.hist(pe_score_common)"
      ],
      "execution_count": 60,
      "outputs": [
        {
          "output_type": "execute_result",
          "data": {
            "text/plain": [
              "(array([1.7008e+04, 0.0000e+00, 0.0000e+00, 0.0000e+00, 0.0000e+00,\n",
              "        1.2810e+03, 0.0000e+00, 0.0000e+00, 0.0000e+00, 3.0000e+00]),\n",
              " array([1. , 1.2, 1.4, 1.6, 1.8, 2. , 2.2, 2.4, 2.6, 2.8, 3. ]),\n",
              " <a list of 10 Patch objects>)"
            ]
          },
          "metadata": {},
          "execution_count": 60
        },
        {
          "output_type": "display_data",
          "data": {
            "image/png": "[encoded data removed]",
            "text/plain": [
              "<Figure size 432x288 with 1 Axes>"
            ]
          },
          "metadata": {
            "needs_background": "light"
          }
        }
      ]
    },
    {
      "cell_type": "markdown",
      "metadata": {
        "id": "EtrC5Mdmcp6N"
      },
      "source": [
        "Following histogram is for the proteins not picked up by the software"
      ]
    },
    {
      "cell_type": "code",
      "metadata": {
        "id": "Ip10M2WaacTN"
      },
      "source": [
        "pe_score_diff = [df_protein_features[df_protein_features['Protein Accession'] == x]['PE Score'].values[0] for x in list(difference_protein)]\n"
      ],
      "execution_count": 71,
      "outputs": []
    },
    {
      "cell_type": "code",
      "metadata": {
        "colab": {
          "base_uri": "https://localhost:8080/",
          "height": 333
        },
        "id": "1Ym8iBdkcd8c",
        "outputId": "53e572e3-368d-4e26-9d9a-8e81595735fd"
      },
      "source": [
        "plt.hist(pe_score_diff)"
      ],
      "execution_count": 72,
      "outputs": [
        {
          "output_type": "execute_result",
          "data": {
            "text/plain": [
              "(array([13038.,     0.,     0.,     0.,     0.,     0.,     0.,     0.,\n",
              "            0., 18462.]),\n",
              " array([3. , 3.1, 3.2, 3.3, 3.4, 3.5, 3.6, 3.7, 3.8, 3.9, 4. ]),\n",
              " <a list of 10 Patch objects>)"
            ]
          },
          "metadata": {},
          "execution_count": 72
        },
        {
          "output_type": "display_data",
          "data": {
            "image/png": "[encoded data removed]",
            "text/plain": [
              "<Figure size 432x288 with 1 Axes>"
            ]
          },
          "metadata": {
            "needs_background": "light"
          }
        }
      ]
    },
    {
      "cell_type": "markdown",
      "metadata": {
        "id": "u-OjcTHpbYW2"
      },
      "source": [
        "## **Protein Sequence Length Analysis**"
      ]
    },
    {
      "cell_type": "code",
      "metadata": {
        "id": "ep-FPMDIXVbw"
      },
      "source": [
        "length_common = [df_protein_features[df_protein_features['Protein Accession'] == x]['Length'].values[0] for x in list(common_proteins)]"
      ],
      "execution_count": 61,
      "outputs": []
    },
    {
      "cell_type": "code",
      "metadata": {
        "id": "iKqejw7YYN7H"
      },
      "source": [
        "def create_unnormalized_plot(data1, binwidth = 10, xlimit = (0,3000), organism = 'Sus scrofa'):\n",
        "  \"\"\"\n",
        "  creates unnormalized histogram for any dataset\n",
        "  default values: binwidth = 10, xlimit = (0,3000)\n",
        "  \"\"\"\n",
        "  plt.hist(data1, bins= range(min(data1), max(data1) + binwidth, binwidth))\n",
        "  plt.xlim(xlimit)\n",
        "  plt.xlabel(\"Protein Sequence Length\")\n",
        "  plt.ylabel(\"Number of Proteins in each bin of length\")\n",
        "  plt.title(\"\")\n",
        "  plt.title(str(\"Unnormalized plot of \" + str(organism) + \"; Binwidth = \" + str(binwidth)))"
      ],
      "execution_count": 63,
      "outputs": []
    },
    {
      "cell_type": "markdown",
      "metadata": {
        "id": "isNTY1u0bh9b"
      },
      "source": [
        "The following histogram is for the created sus scrofa model (predicted proteins)"
      ]
    },
    {
      "cell_type": "code",
      "metadata": {
        "colab": {
          "base_uri": "https://localhost:8080/",
          "height": 295
        },
        "id": "tf3h0ucmZ2VO",
        "outputId": "ba57dee0-8a0b-4d8a-9bc7-4de7d7906284"
      },
      "source": [
        "create_unnormalized_plot(length_common, binwidth=25)"
      ],
      "execution_count": 65,
      "outputs": [
        {
          "output_type": "display_data",
          "data": {
            "image/png": "[encoded data removed]",
            "text/plain": [
              "<Figure size 432x288 with 1 Axes>"
            ]
          },
          "metadata": {
            "needs_background": "light"
          }
        }
      ]
    },
    {
      "cell_type": "markdown",
      "metadata": {
        "id": "gCJoRExLFdzY"
      },
      "source": [
        "# Load .npy file"
      ]
    },
    {
      "cell_type": "code",
      "metadata": {
        "colab": {
          "base_uri": "https://localhost:8080/"
        },
        "id": "hkqe-moiF-TC",
        "outputId": "ce40bdd0-2814-4a35-f295-95b8b99cf8d6"
      },
      "source": [
        "%cd output"
      ],
      "execution_count": 3,
      "outputs": [
        {
          "output_type": "stream",
          "text": [
            "/content/drive/.shortcut-targets-by-id/1H3M9nQYJ9K9M22jDv-wcvZ0azPz9lhsr/Pig Proteomics Summer Project/output\n"
          ],
          "name": "stdout"
        }
      ]
    },
    {
      "cell_type": "code",
      "metadata": {
        "id": "6iF0RmpRFfe-"
      },
      "source": [
        "import numpy as np\n",
        "predicted_proteins = np.load(\"pig_predicted.npy\", allow_pickle=True)"
      ],
      "execution_count": 5,
      "outputs": []
    },
    {
      "cell_type": "code",
      "metadata": {
        "colab": {
          "base_uri": "https://localhost:8080/"
        },
        "id": "RfDgpsMwGM81",
        "outputId": "2832334f-3cd8-4364-e4b4-85a91768567f"
      },
      "source": [
        "len(predicted_proteins.tolist())"
      ],
      "execution_count": 8,
      "outputs": [
        {
          "output_type": "execute_result",
          "data": {
            "text/plain": [
              "23563"
            ]
          },
          "metadata": {},
          "execution_count": 8
        }
      ]
    },
    {
      "cell_type": "code",
      "metadata": {
        "id": "VJQ7n5hDGRc7"
      },
      "source": [
        "predicted_proteins = predicted_proteins.tolist()"
      ],
      "execution_count": 9,
      "outputs": []
    },
    {
      "cell_type": "code",
      "metadata": {
        "colab": {
          "base_uri": "https://localhost:8080/"
        },
        "id": "Cwkmet0-GeJJ",
        "outputId": "4529eb44-c807-4514-b256-d3179d5cc502"
      },
      "source": [
        "%cd -"
      ],
      "execution_count": 10,
      "outputs": [
        {
          "output_type": "stream",
          "text": [
            "/content/drive/.shortcut-targets-by-id/1H3M9nQYJ9K9M22jDv-wcvZ0azPz9lhsr/Pig Proteomics Summer Project\n"
          ],
          "name": "stdout"
        }
      ]
    },
    {
      "cell_type": "code",
      "metadata": {
        "id": "dkpWMTlaGgiJ"
      },
      "source": [
        ""
      ],
      "execution_count": null,
      "outputs": []
    }
  ]
}
