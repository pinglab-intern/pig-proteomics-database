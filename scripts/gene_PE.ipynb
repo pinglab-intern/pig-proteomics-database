{
  "nbformat": 4,
  "nbformat_minor": 0,
  "metadata": {
    "colab": {
      "name": "gene_PE.ipynb",
      "provenance": [],
      "collapsed_sections": [],
      "authorship_tag": "ABX9TyNPmAnqydKnf+ibTm6QdSZb"
    },
    "kernelspec": {
      "name": "python3",
      "display_name": "Python 3"
    },
    "language_info": {
      "name": "python"
    }
  },
  "cells": [
    {
      "cell_type": "markdown",
      "metadata": {
        "id": "z_zf984xH3mS"
      },
      "source": [
        "This notebook has been created to extract the PE scores for each protein in the sus scrofa proteome database (it can be edited to allow the input of any FASTA file), group the proteins to their respective genes and output the following dataframes:\n",
        "\n",
        "1. A dataframe which has unique gene names and the number of PE scores (grouped by 1, 2, 3, 4, 5) belonging to each gene (found in the output folder as no_sum_sus_scrofa_PE.csv)\n",
        "2. A processed dataframe taken from (1) to only pass gene names where it has at least two unique nonzero PE scores and has an additional column adding the PE scores across the row (found in the output folder as sus_scrofa_PE_sum_table.csv)"
      ]
    },
    {
      "cell_type": "code",
      "metadata": {
        "colab": {
          "base_uri": "https://localhost:8080/"
        },
        "id": "eHxsH4MggN7O",
        "outputId": "4af11d4b-c81d-42e7-97d8-6b87f2128660"
      },
      "source": [
        "# Connect notebook to Google Drive\n",
        "from google.colab import drive\n",
        "drive.mount('/content/drive', force_remount=True)"
      ],
      "execution_count": null,
      "outputs": [
        {
          "output_type": "stream",
          "text": [
            "Mounted at /content/drive\n"
          ],
          "name": "stdout"
        }
      ]
    },
    {
      "cell_type": "code",
      "metadata": {
        "colab": {
          "base_uri": "https://localhost:8080/"
        },
        "id": "jy-A9YbXgsoB",
        "outputId": "d3412dfa-665d-4511-cb43-0f80b03ea526"
      },
      "source": [
        "# Navigate to the shared drive folder\n",
        "%cd /content/drive/'My Drive'/'Pig Proteomics Summer Project'\n",
        "!pwd\n",
        "!ls"
      ],
      "execution_count": null,
      "outputs": [
        {
          "output_type": "stream",
          "text": [
            "/content/drive/.shortcut-targets-by-id/1H3M9nQYJ9K9M22jDv-wcvZ0azPz9lhsr/Pig Proteomics Summer Project\n",
            "/content/drive/.shortcut-targets-by-id/1H3M9nQYJ9K9M22jDv-wcvZ0azPz9lhsr/Pig Proteomics Summer Project\n",
            "'2021-06-21 Introduction to Proteomes.ipynb'\n",
            "'2021-06-28 Reactome and Uniprot.ipynb'\n",
            "'2021-06-29 Identifying characteristics of an unreliable protein.gslides'\n",
            " data\n",
            " extract_106.ipynb\n",
            " gene_PE.ipynb\n",
            " histogram.ipynb\n",
            " output\n",
            " pe_scores.ipynb\n",
            " scratch\n",
            "'Summer Project.gdoc'\n",
            " violin.ipynb\n",
            "'Week 1 Introduction slides.gslides'\n",
            "'Week 3 Findings.gslides'\n"
          ],
          "name": "stdout"
        }
      ]
    },
    {
      "cell_type": "code",
      "metadata": {
        "colab": {
          "base_uri": "https://localhost:8080/"
        },
        "id": "0O17iZ_agxs6",
        "outputId": "7616f736-4ff2-4480-a966-62bb0ee9ded8"
      },
      "source": [
        "!pip install fastaparser"
      ],
      "execution_count": null,
      "outputs": [
        {
          "output_type": "stream",
          "text": [
            "Collecting fastaparser\n",
            "  Downloading fastaparser-1.1-py3-none-any.whl (29 kB)\n",
            "Installing collected packages: fastaparser\n",
            "Successfully installed fastaparser-1.1\n"
          ],
          "name": "stdout"
        }
      ]
    },
    {
      "cell_type": "markdown",
      "metadata": {
        "id": "a1IxfZ0x7FkZ"
      },
      "source": [
        "# **FUNCTIONS**"
      ]
    },
    {
      "cell_type": "code",
      "metadata": {
        "id": "CenB3JYchVBf"
      },
      "source": [
        "import fastaparser\n",
        "import pandas as pd\n",
        "import re\n",
        "\n",
        "def parse_fasta_file(file_name):\n",
        "    \"\"\"\n",
        "    this function parses a FASTA database and returns it as a mapping from the\n",
        "    header of the protein to the amino acid sequence it corresponds to\n",
        "    mapping: {header: sequence}\n",
        "    \"\"\"\n",
        "    out_dict = {}\n",
        "    fastaRaw = [] #uses quick parsing method\n",
        "    with open(file_name) as fasta_file:\n",
        "        parserQuick = fastaparser.Reader(fasta_file, parse_method = 'quick')\n",
        "        \n",
        "        for seq in parserQuick:\n",
        "            fastaRaw.append(seq)\n",
        "            \n",
        "    headerList = []\n",
        "    seqList = []\n",
        "    \n",
        "    for k in fastaRaw:\n",
        "        headerList.append(k.header)\n",
        "        seqList.append(k.sequence)\n",
        "    \n",
        "    if len(headerList) != len(seqList):\n",
        "        raise ValueError(\"Number of headers =/= number of sequences\")\n",
        "    \n",
        "    for i in range(len(headerList)):\n",
        "        out_dict[headerList[i]] = seqList[i]\n",
        "    \n",
        "    return out_dict\n",
        "\n",
        "\n",
        "def fasta_to_table(file_name):\n",
        "    \"\"\"\n",
        "    creates function which accepts a FASTA file and returns dataframe in this format:\n",
        "    SP or TR | Accession | Organism | Gene Name | Length\n",
        "    --------------------------------------------------------\n",
        "    if it is swissprot or trembl, accession, organism, its gene name, and length\n",
        "    \"\"\"\n",
        "    header = ['sptr', 'Accession', 'Organism', 'Gene name', 'Length']\n",
        "    sptr = []\n",
        "    accession = []\n",
        "    organism = []\n",
        "    gene_name = []\n",
        "    length = []\n",
        "    fastaRaw = []\n",
        "    PE_scores = []\n",
        "    indice1 = 0 #indice for 'OS='\n",
        "    indice2 = 0 #indice for 'OX='\n",
        "    indice3 = 0 #indice for 'GN='\n",
        "    indice4 = 0 #indice for 'PE='\n",
        "    \n",
        "    out_dict = parse_fasta_file(file_name)\n",
        "    \n",
        "    for key in out_dict.keys():\n",
        "        indice1 = True #indice for 'OS='\n",
        "        indice2 = True #indice for 'OX='\n",
        "        indice3 = True #indice for 'GN='\n",
        "        indice4 = True #indice for 'PE='\n",
        "        indice5 = True #indice for 'SV='\n",
        "        \n",
        "        indice = []\n",
        "\n",
        "        t1 = key[1:3] #sp or tr\n",
        "\n",
        "        for j in range(len(key)):\n",
        "            t_find = key[j:j+1]\n",
        "            if t_find == '|':\n",
        "                indice.append(j)\n",
        "            else:\n",
        "                pass\n",
        "        \n",
        "        t2 = key[indice[0]+1:indice[1]] #accession\n",
        "        \n",
        "        for k in range(len(key)):\n",
        "            dummyText = key[k:k+3]\n",
        "            if dummyText == 'OS=':\n",
        "              indice1 = k\n",
        "            elif dummyText == 'OX=':\n",
        "              indice2 = k\n",
        "            elif dummyText == 'GN=':\n",
        "              indice3 = k\n",
        "            elif dummyText == 'PE=':\n",
        "              indice4 = k\n",
        "            elif dummyText == 'SV=':\n",
        "              indice5 = k\n",
        "            else:\n",
        "                pass\n",
        "        \n",
        "        if indice3 == True:\n",
        "          GNName = 'No Name'\n",
        "\n",
        "        else:\n",
        "          GNName = key[indice3+3:indice4]\n",
        "          \n",
        "        OSName = key[indice1+3:indice2]\n",
        "        lengthCalc = len(out_dict[key])\n",
        "        PE = int(key[indice4+3:indice5])\n",
        "        \n",
        "        sptr.append(t1)\n",
        "        accession.append(t2)\n",
        "        organism.append(OSName)\n",
        "        gene_name.append(GNName)\n",
        "        length.append(lengthCalc)\n",
        "        PE_scores.append(PE)\n",
        "        \n",
        "    data = {'sptr' : sptr, 'accession' : accession, 'organism' : organism, 'Gene Name' : gene_name,\n",
        "           'length' : length, 'PE Score' : PE_scores}\n",
        "    df = pd.DataFrame(data)\n",
        "    \n",
        "    ''' how alex would have done it\n",
        "        sub_table = fasta_table[fasta_table['GN'] == i]\n",
        "        pig_list = set(sub_table[sub_table['organism'] == 'Sus scrofa']['accession])\n",
        "        '''\n",
        "    return df\n",
        "\n",
        "def PE_score_table(fasta_table):\n",
        "  \"\"\"\n",
        "  Gene Name | #PE = 1 | #PE = 2 | #PE = 3 | #PE = 4 | #PE = 5\n",
        "  -------------------------------------------------------------\n",
        "\n",
        "  headers(fasta_table) = ['sptr','accession','organism','Gene Name','Length','PE Score']\n",
        "  \"\"\"\n",
        "  fasta_table['Gene Name'] = [x.upper() for x in list(fasta_table['Gene Name'])]\n",
        "  unique_gene_names = list(set(list(fasta_table['Gene Name'])))\n",
        "\n",
        "  #gene_to_PE = {}\n",
        "  PE_1 = [] #number of proteins in gene name with PE = 1\n",
        "  PE_2 = [] #number of proteins in gene name with PE = 2\n",
        "  PE_3 = [] #number of proteins in gene name with PE = 3\n",
        "  PE_4 = [] #number of proteins in gene name with PE = 4\n",
        "  PE_5 = [] #number of proteins in gene name with PE = 5\n",
        "\n",
        "  for i in unique_gene_names:\n",
        "    PE_1_num = list(fasta_table.loc[fasta_table['Gene Name'] == i]['PE Score']).count(1)\n",
        "    PE_2_num = list(fasta_table.loc[fasta_table['Gene Name'] == i]['PE Score']).count(2)\n",
        "    PE_3_num = list(fasta_table.loc[fasta_table['Gene Name'] == i]['PE Score']).count(3)\n",
        "    PE_4_num = list(fasta_table.loc[fasta_table['Gene Name'] == i]['PE Score']).count(4)\n",
        "    PE_5_num = list(fasta_table.loc[fasta_table['Gene Name'] == i]['PE Score']).count(5)\n",
        "\n",
        "    PE_1.append(PE_1_num)\n",
        "    PE_2.append(PE_2_num)\n",
        "    PE_3.append(PE_3_num)\n",
        "    PE_4.append(PE_4_num)\n",
        "    PE_5.append(PE_5_num)\n",
        "  \n",
        "  d = {\n",
        "      'Gene Name' : unique_gene_names,\n",
        "      '#PE = 1' : PE_1,\n",
        "      '#PE = 2' : PE_2,\n",
        "      '#PE = 3' : PE_3,\n",
        "      '#PE = 4' : PE_4,\n",
        "      '#PE = 5' : PE_5\n",
        "  }\n",
        "\n",
        "  gene_to_PE_score = pd.DataFrame(data = d)\n",
        "\n",
        "  return gene_to_PE_score\n"
      ],
      "execution_count": null,
      "outputs": []
    },
    {
      "cell_type": "code",
      "metadata": {
        "colab": {
          "base_uri": "https://localhost:8080/"
        },
        "id": "lz4832Hvi4D0",
        "outputId": "e8920e0b-a515-48ca-c73a-b2d5be4275ba"
      },
      "source": [
        "%cd data"
      ],
      "execution_count": null,
      "outputs": [
        {
          "output_type": "stream",
          "text": [
            "/content/drive/.shortcut-targets-by-id/1H3M9nQYJ9K9M22jDv-wcvZ0azPz9lhsr/Pig Proteomics Summer Project/data\n"
          ],
          "name": "stdout"
        }
      ]
    },
    {
      "cell_type": "markdown",
      "metadata": {
        "id": "pzEHd4mj7I-G"
      },
      "source": [
        "# **SUS SCROFA**"
      ]
    },
    {
      "cell_type": "code",
      "metadata": {
        "colab": {
          "base_uri": "https://localhost:8080/",
          "height": 419
        },
        "id": "JvFlKeeNi6yL",
        "outputId": "34756bba-37cd-4813-f4f0-6a4a36b0706d"
      },
      "source": [
        "pig_proteome_file = 'sus_scrofa_uniprot-proteome_UP000008227.fasta'\n",
        "pig_proteome_table = fasta_to_table(pig_proteome_file)\n",
        "pig_proteome_table"
      ],
      "execution_count": null,
      "outputs": [
        {
          "output_type": "execute_result",
          "data": {
            "text/html": [
              "<div>\n",
              "<style scoped>\n",
              "    .dataframe tbody tr th:only-of-type {\n",
              "        vertical-align: middle;\n",
              "    }\n",
              "\n",
              "    .dataframe tbody tr th {\n",
              "        vertical-align: top;\n",
              "    }\n",
              "\n",
              "    .dataframe thead th {\n",
              "        text-align: right;\n",
              "    }\n",
              "</style>\n",
              "<table border=\"1\" class=\"dataframe\">\n",
              "  <thead>\n",
              "    <tr style=\"text-align: right;\">\n",
              "      <th></th>\n",
              "      <th>sptr</th>\n",
              "      <th>accession</th>\n",
              "      <th>organism</th>\n",
              "      <th>Gene Name</th>\n",
              "      <th>length</th>\n",
              "      <th>PE Score</th>\n",
              "    </tr>\n",
              "  </thead>\n",
              "  <tbody>\n",
              "    <tr>\n",
              "      <th>0</th>\n",
              "      <td>sp</td>\n",
              "      <td>Q52NJ3</td>\n",
              "      <td>Sus scrofa</td>\n",
              "      <td>SAR1A</td>\n",
              "      <td>198</td>\n",
              "      <td>2</td>\n",
              "    </tr>\n",
              "    <tr>\n",
              "      <th>1</th>\n",
              "      <td>sp</td>\n",
              "      <td>Q6PKU1</td>\n",
              "      <td>Sus scrofa</td>\n",
              "      <td>SPI1</td>\n",
              "      <td>270</td>\n",
              "      <td>2</td>\n",
              "    </tr>\n",
              "    <tr>\n",
              "      <th>2</th>\n",
              "      <td>sp</td>\n",
              "      <td>P80928</td>\n",
              "      <td>Sus scrofa</td>\n",
              "      <td>MIF</td>\n",
              "      <td>115</td>\n",
              "      <td>1</td>\n",
              "    </tr>\n",
              "    <tr>\n",
              "      <th>3</th>\n",
              "      <td>sp</td>\n",
              "      <td>D5K8A2</td>\n",
              "      <td>Sus scrofa</td>\n",
              "      <td>SPATA18</td>\n",
              "      <td>560</td>\n",
              "      <td>2</td>\n",
              "    </tr>\n",
              "    <tr>\n",
              "      <th>4</th>\n",
              "      <td>sp</td>\n",
              "      <td>Q2HYU2</td>\n",
              "      <td>Sus scrofa</td>\n",
              "      <td>PFKM</td>\n",
              "      <td>780</td>\n",
              "      <td>2</td>\n",
              "    </tr>\n",
              "    <tr>\n",
              "      <th>...</th>\n",
              "      <td>...</td>\n",
              "      <td>...</td>\n",
              "      <td>...</td>\n",
              "      <td>...</td>\n",
              "      <td>...</td>\n",
              "      <td>...</td>\n",
              "    </tr>\n",
              "    <tr>\n",
              "      <th>49787</th>\n",
              "      <td>tr</td>\n",
              "      <td>A0A287B7R5</td>\n",
              "      <td>Sus scrofa</td>\n",
              "      <td>MEX3B</td>\n",
              "      <td>576</td>\n",
              "      <td>4</td>\n",
              "    </tr>\n",
              "    <tr>\n",
              "      <th>49788</th>\n",
              "      <td>tr</td>\n",
              "      <td>I3LQB3</td>\n",
              "      <td>Sus scrofa</td>\n",
              "      <td>ATP6V1H</td>\n",
              "      <td>465</td>\n",
              "      <td>3</td>\n",
              "    </tr>\n",
              "    <tr>\n",
              "      <th>49789</th>\n",
              "      <td>tr</td>\n",
              "      <td>K7GNX3</td>\n",
              "      <td>Sus scrofa</td>\n",
              "      <td>SLC25A14</td>\n",
              "      <td>344</td>\n",
              "      <td>3</td>\n",
              "    </tr>\n",
              "    <tr>\n",
              "      <th>49790</th>\n",
              "      <td>tr</td>\n",
              "      <td>A0A287AKI0</td>\n",
              "      <td>Sus scrofa</td>\n",
              "      <td>BCLAF1</td>\n",
              "      <td>921</td>\n",
              "      <td>1</td>\n",
              "    </tr>\n",
              "    <tr>\n",
              "      <th>49791</th>\n",
              "      <td>tr</td>\n",
              "      <td>F1RNH1</td>\n",
              "      <td>Sus scrofa</td>\n",
              "      <td>TMC4</td>\n",
              "      <td>699</td>\n",
              "      <td>3</td>\n",
              "    </tr>\n",
              "  </tbody>\n",
              "</table>\n",
              "<p>49792 rows × 6 columns</p>\n",
              "</div>"
            ],
            "text/plain": [
              "      sptr   accession     organism  Gene Name  length  PE Score\n",
              "0       sp      Q52NJ3  Sus scrofa      SAR1A      198         2\n",
              "1       sp      Q6PKU1  Sus scrofa       SPI1      270         2\n",
              "2       sp      P80928  Sus scrofa        MIF      115         1\n",
              "3       sp      D5K8A2  Sus scrofa    SPATA18      560         2\n",
              "4       sp      Q2HYU2  Sus scrofa       PFKM      780         2\n",
              "...    ...         ...          ...        ...     ...       ...\n",
              "49787   tr  A0A287B7R5  Sus scrofa      MEX3B      576         4\n",
              "49788   tr      I3LQB3  Sus scrofa    ATP6V1H      465         3\n",
              "49789   tr      K7GNX3  Sus scrofa   SLC25A14      344         3\n",
              "49790   tr  A0A287AKI0  Sus scrofa     BCLAF1      921         1\n",
              "49791   tr      F1RNH1  Sus scrofa       TMC4      699         3\n",
              "\n",
              "[49792 rows x 6 columns]"
            ]
          },
          "metadata": {
            "tags": []
          },
          "execution_count": 6
        }
      ]
    },
    {
      "cell_type": "code",
      "metadata": {
        "id": "gyoE6xhsbBIj"
      },
      "source": [
        "pig_proteome_table.to_csv(\"pig_proteome_table_PE.csv\")"
      ],
      "execution_count": null,
      "outputs": []
    },
    {
      "cell_type": "code",
      "metadata": {
        "colab": {
          "base_uri": "https://localhost:8080/",
          "height": 419
        },
        "id": "yyEnUP_9ysT4",
        "outputId": "1b50380f-5955-4889-8f2c-260ac7455941"
      },
      "source": [
        "pig_all_file = 'sus_scrofa_all.fasta'\n",
        "pig_all_table = fasta_to_table(pig_all_file)\n",
        "pig_all_table"
      ],
      "execution_count": null,
      "outputs": [
        {
          "output_type": "execute_result",
          "data": {
            "text/html": [
              "<div>\n",
              "<style scoped>\n",
              "    .dataframe tbody tr th:only-of-type {\n",
              "        vertical-align: middle;\n",
              "    }\n",
              "\n",
              "    .dataframe tbody tr th {\n",
              "        vertical-align: top;\n",
              "    }\n",
              "\n",
              "    .dataframe thead th {\n",
              "        text-align: right;\n",
              "    }\n",
              "</style>\n",
              "<table border=\"1\" class=\"dataframe\">\n",
              "  <thead>\n",
              "    <tr style=\"text-align: right;\">\n",
              "      <th></th>\n",
              "      <th>sptr</th>\n",
              "      <th>accession</th>\n",
              "      <th>organism</th>\n",
              "      <th>Gene Name</th>\n",
              "      <th>length</th>\n",
              "      <th>PE Score</th>\n",
              "    </tr>\n",
              "  </thead>\n",
              "  <tbody>\n",
              "    <tr>\n",
              "      <th>0</th>\n",
              "      <td>sp</td>\n",
              "      <td>Q9TV69</td>\n",
              "      <td>Sus scrofa</td>\n",
              "      <td>DHDH</td>\n",
              "      <td>335</td>\n",
              "      <td>1</td>\n",
              "    </tr>\n",
              "    <tr>\n",
              "      <th>1</th>\n",
              "      <td>sp</td>\n",
              "      <td>P27594</td>\n",
              "      <td>Sus scrofa</td>\n",
              "      <td>MX1</td>\n",
              "      <td>663</td>\n",
              "      <td>2</td>\n",
              "    </tr>\n",
              "    <tr>\n",
              "      <th>2</th>\n",
              "      <td>sp</td>\n",
              "      <td>P00355</td>\n",
              "      <td>Sus scrofa</td>\n",
              "      <td>GAPDH</td>\n",
              "      <td>333</td>\n",
              "      <td>1</td>\n",
              "    </tr>\n",
              "    <tr>\n",
              "      <th>3</th>\n",
              "      <td>sp</td>\n",
              "      <td>Q5I2M3</td>\n",
              "      <td>Sus scrofa</td>\n",
              "      <td>TLR9</td>\n",
              "      <td>1030</td>\n",
              "      <td>2</td>\n",
              "    </tr>\n",
              "    <tr>\n",
              "      <th>4</th>\n",
              "      <td>sp</td>\n",
              "      <td>Q95JC9</td>\n",
              "      <td>Sus scrofa</td>\n",
              "      <td>No Name</td>\n",
              "      <td>676</td>\n",
              "      <td>1</td>\n",
              "    </tr>\n",
              "    <tr>\n",
              "      <th>...</th>\n",
              "      <td>...</td>\n",
              "      <td>...</td>\n",
              "      <td>...</td>\n",
              "      <td>...</td>\n",
              "      <td>...</td>\n",
              "      <td>...</td>\n",
              "    </tr>\n",
              "    <tr>\n",
              "      <th>120921</th>\n",
              "      <td>sp</td>\n",
              "      <td>Q8SQ26</td>\n",
              "      <td>Sus scrofa</td>\n",
              "      <td>CRYL1</td>\n",
              "      <td>322</td>\n",
              "      <td>2</td>\n",
              "    </tr>\n",
              "    <tr>\n",
              "      <th>120922</th>\n",
              "      <td>sp</td>\n",
              "      <td>Q6Q7J2</td>\n",
              "      <td>Sus scrofa</td>\n",
              "      <td>GDI2</td>\n",
              "      <td>445</td>\n",
              "      <td>2</td>\n",
              "    </tr>\n",
              "    <tr>\n",
              "      <th>120923</th>\n",
              "      <td>sp</td>\n",
              "      <td>F1S5L4</td>\n",
              "      <td>Sus scrofa</td>\n",
              "      <td>GPAM</td>\n",
              "      <td>826</td>\n",
              "      <td>2</td>\n",
              "    </tr>\n",
              "    <tr>\n",
              "      <th>120924</th>\n",
              "      <td>sp</td>\n",
              "      <td>P50132</td>\n",
              "      <td>Sus scrofa</td>\n",
              "      <td>GPR4</td>\n",
              "      <td>363</td>\n",
              "      <td>3</td>\n",
              "    </tr>\n",
              "    <tr>\n",
              "      <th>120925</th>\n",
              "      <td>sp</td>\n",
              "      <td>P0C5I2</td>\n",
              "      <td>Sus scrofa</td>\n",
              "      <td>GMPPB</td>\n",
              "      <td>360</td>\n",
              "      <td>1</td>\n",
              "    </tr>\n",
              "  </tbody>\n",
              "</table>\n",
              "<p>120926 rows × 6 columns</p>\n",
              "</div>"
            ],
            "text/plain": [
              "       sptr accession     organism Gene Name  length  PE Score\n",
              "0        sp    Q9TV69  Sus scrofa      DHDH      335         1\n",
              "1        sp    P27594  Sus scrofa       MX1      663         2\n",
              "2        sp    P00355  Sus scrofa     GAPDH      333         1\n",
              "3        sp    Q5I2M3  Sus scrofa      TLR9     1030         2\n",
              "4        sp    Q95JC9  Sus scrofa    No Name     676         1\n",
              "...     ...       ...          ...       ...     ...       ...\n",
              "120921   sp    Q8SQ26  Sus scrofa     CRYL1      322         2\n",
              "120922   sp    Q6Q7J2  Sus scrofa      GDI2      445         2\n",
              "120923   sp    F1S5L4  Sus scrofa      GPAM      826         2\n",
              "120924   sp    P50132  Sus scrofa      GPR4      363         3\n",
              "120925   sp    P0C5I2  Sus scrofa     GMPPB      360         1\n",
              "\n",
              "[120926 rows x 6 columns]"
            ]
          },
          "metadata": {
            "tags": []
          },
          "execution_count": 7
        }
      ]
    },
    {
      "cell_type": "code",
      "metadata": {
        "id": "bfZVZ8Cxy9Gx"
      },
      "source": [
        "pig_all_table.to_csv(\"pig_all_table_PE.csv\")"
      ],
      "execution_count": null,
      "outputs": []
    },
    {
      "cell_type": "code",
      "metadata": {
        "colab": {
          "base_uri": "https://localhost:8080/",
          "height": 80
        },
        "id": "K5XopmBKLQYX",
        "outputId": "4e07c045-7f84-4b98-e968-280b03b7e25d"
      },
      "source": [
        "pig_proteome_table[pig_proteome_table['Gene Name'] == 'KCTD4 ']"
      ],
      "execution_count": null,
      "outputs": [
        {
          "output_type": "execute_result",
          "data": {
            "text/html": [
              "<div>\n",
              "<style scoped>\n",
              "    .dataframe tbody tr th:only-of-type {\n",
              "        vertical-align: middle;\n",
              "    }\n",
              "\n",
              "    .dataframe tbody tr th {\n",
              "        vertical-align: top;\n",
              "    }\n",
              "\n",
              "    .dataframe thead th {\n",
              "        text-align: right;\n",
              "    }\n",
              "</style>\n",
              "<table border=\"1\" class=\"dataframe\">\n",
              "  <thead>\n",
              "    <tr style=\"text-align: right;\">\n",
              "      <th></th>\n",
              "      <th>sptr</th>\n",
              "      <th>accession</th>\n",
              "      <th>organism</th>\n",
              "      <th>Gene Name</th>\n",
              "      <th>length</th>\n",
              "      <th>PE Score</th>\n",
              "    </tr>\n",
              "  </thead>\n",
              "  <tbody>\n",
              "    <tr>\n",
              "      <th>2826</th>\n",
              "      <td>tr</td>\n",
              "      <td>I3LNK6</td>\n",
              "      <td>Sus scrofa</td>\n",
              "      <td>KCTD4</td>\n",
              "      <td>259</td>\n",
              "      <td>4</td>\n",
              "    </tr>\n",
              "  </tbody>\n",
              "</table>\n",
              "</div>"
            ],
            "text/plain": [
              "     sptr accession     organism Gene Name  length  PE Score\n",
              "2826   tr    I3LNK6  Sus scrofa     KCTD4      259         4"
            ]
          },
          "metadata": {
            "tags": []
          },
          "execution_count": 9
        }
      ]
    },
    {
      "cell_type": "code",
      "metadata": {
        "colab": {
          "base_uri": "https://localhost:8080/"
        },
        "id": "a72m6GKRBRI9",
        "outputId": "25ae5ed5-e43e-46cc-d3da-e1035d6ff7c4"
      },
      "source": [
        "print(\"Total #PE Score 1: \", len(list(pig_proteome_table.loc[pig_proteome_table['PE Score'] == 1, 'Gene Name'])))\n",
        "print(\"Total #PE Score 2: \", len(list(pig_proteome_table.loc[pig_proteome_table['PE Score'] == 2, 'Gene Name'])))\n",
        "print(\"Total #PE Score 3: \", len(list(pig_proteome_table.loc[pig_proteome_table['PE Score'] == 3, 'Gene Name'])))\n",
        "print(\"Total #PE Score 4: \", len(list(pig_proteome_table.loc[pig_proteome_table['PE Score'] == 4, 'Gene Name'])))\n",
        "print(\"Total #PE Score 5: \", len(list(pig_proteome_table.loc[pig_proteome_table['PE Score'] == 5, 'Gene Name'])))\n"
      ],
      "execution_count": null,
      "outputs": [
        {
          "output_type": "stream",
          "text": [
            "Total #PE Score 1:  17008\n",
            "Total #PE Score 2:  1281\n",
            "Total #PE Score 3:  13041\n",
            "Total #PE Score 4:  18462\n",
            "Total #PE Score 5:  0\n"
          ],
          "name": "stdout"
        }
      ]
    },
    {
      "cell_type": "code",
      "metadata": {
        "colab": {
          "base_uri": "https://localhost:8080/",
          "height": 419
        },
        "id": "F7z6SbwLjGI6",
        "outputId": "eaa5ccfb-eb45-47cd-a5d9-1daaacd2970a"
      },
      "source": [
        "sus_scrofa_PE_table = PE_score_table(pig_proteome_table)\n",
        "sus_scrofa_PE_table"
      ],
      "execution_count": null,
      "outputs": [
        {
          "output_type": "execute_result",
          "data": {
            "text/html": [
              "<div>\n",
              "<style scoped>\n",
              "    .dataframe tbody tr th:only-of-type {\n",
              "        vertical-align: middle;\n",
              "    }\n",
              "\n",
              "    .dataframe tbody tr th {\n",
              "        vertical-align: top;\n",
              "    }\n",
              "\n",
              "    .dataframe thead th {\n",
              "        text-align: right;\n",
              "    }\n",
              "</style>\n",
              "<table border=\"1\" class=\"dataframe\">\n",
              "  <thead>\n",
              "    <tr style=\"text-align: right;\">\n",
              "      <th></th>\n",
              "      <th>Gene Name</th>\n",
              "      <th>#PE = 1</th>\n",
              "      <th>#PE = 2</th>\n",
              "      <th>#PE = 3</th>\n",
              "      <th>#PE = 4</th>\n",
              "      <th>#PE = 5</th>\n",
              "    </tr>\n",
              "  </thead>\n",
              "  <tbody>\n",
              "    <tr>\n",
              "      <th>0</th>\n",
              "      <td>NANOS2</td>\n",
              "      <td>0</td>\n",
              "      <td>0</td>\n",
              "      <td>1</td>\n",
              "      <td>0</td>\n",
              "      <td>0</td>\n",
              "    </tr>\n",
              "    <tr>\n",
              "      <th>1</th>\n",
              "      <td>LRRK1</td>\n",
              "      <td>0</td>\n",
              "      <td>0</td>\n",
              "      <td>0</td>\n",
              "      <td>3</td>\n",
              "      <td>0</td>\n",
              "    </tr>\n",
              "    <tr>\n",
              "      <th>2</th>\n",
              "      <td>DAPK2</td>\n",
              "      <td>0</td>\n",
              "      <td>0</td>\n",
              "      <td>5</td>\n",
              "      <td>1</td>\n",
              "      <td>0</td>\n",
              "    </tr>\n",
              "    <tr>\n",
              "      <th>3</th>\n",
              "      <td>SLC26A10</td>\n",
              "      <td>0</td>\n",
              "      <td>0</td>\n",
              "      <td>1</td>\n",
              "      <td>0</td>\n",
              "      <td>0</td>\n",
              "    </tr>\n",
              "    <tr>\n",
              "      <th>4</th>\n",
              "      <td>FGF6</td>\n",
              "      <td>0</td>\n",
              "      <td>0</td>\n",
              "      <td>1</td>\n",
              "      <td>0</td>\n",
              "      <td>0</td>\n",
              "    </tr>\n",
              "    <tr>\n",
              "      <th>...</th>\n",
              "      <td>...</td>\n",
              "      <td>...</td>\n",
              "      <td>...</td>\n",
              "      <td>...</td>\n",
              "      <td>...</td>\n",
              "      <td>...</td>\n",
              "    </tr>\n",
              "    <tr>\n",
              "      <th>18016</th>\n",
              "      <td>GOLPH3</td>\n",
              "      <td>0</td>\n",
              "      <td>1</td>\n",
              "      <td>0</td>\n",
              "      <td>0</td>\n",
              "      <td>0</td>\n",
              "    </tr>\n",
              "    <tr>\n",
              "      <th>18017</th>\n",
              "      <td>LOC102159509</td>\n",
              "      <td>0</td>\n",
              "      <td>0</td>\n",
              "      <td>0</td>\n",
              "      <td>1</td>\n",
              "      <td>0</td>\n",
              "    </tr>\n",
              "    <tr>\n",
              "      <th>18018</th>\n",
              "      <td>TMEM160</td>\n",
              "      <td>0</td>\n",
              "      <td>0</td>\n",
              "      <td>0</td>\n",
              "      <td>1</td>\n",
              "      <td>0</td>\n",
              "    </tr>\n",
              "    <tr>\n",
              "      <th>18019</th>\n",
              "      <td>SNX11</td>\n",
              "      <td>0</td>\n",
              "      <td>0</td>\n",
              "      <td>2</td>\n",
              "      <td>0</td>\n",
              "      <td>0</td>\n",
              "    </tr>\n",
              "    <tr>\n",
              "      <th>18020</th>\n",
              "      <td>GMFG</td>\n",
              "      <td>0</td>\n",
              "      <td>0</td>\n",
              "      <td>6</td>\n",
              "      <td>0</td>\n",
              "      <td>0</td>\n",
              "    </tr>\n",
              "  </tbody>\n",
              "</table>\n",
              "<p>18021 rows × 6 columns</p>\n",
              "</div>"
            ],
            "text/plain": [
              "           Gene Name  #PE = 1  #PE = 2  #PE = 3  #PE = 4  #PE = 5\n",
              "0            NANOS2         0        0        1        0        0\n",
              "1             LRRK1         0        0        0        3        0\n",
              "2             DAPK2         0        0        5        1        0\n",
              "3          SLC26A10         0        0        1        0        0\n",
              "4              FGF6         0        0        1        0        0\n",
              "...              ...      ...      ...      ...      ...      ...\n",
              "18016        GOLPH3         0        1        0        0        0\n",
              "18017  LOC102159509         0        0        0        1        0\n",
              "18018       TMEM160         0        0        0        1        0\n",
              "18019         SNX11         0        0        2        0        0\n",
              "18020          GMFG         0        0        6        0        0\n",
              "\n",
              "[18021 rows x 6 columns]"
            ]
          },
          "metadata": {
            "tags": []
          },
          "execution_count": 7
        }
      ]
    },
    {
      "cell_type": "code",
      "metadata": {
        "id": "KQJbrHvc7Oyu"
      },
      "source": [
        "pig_PE_table_copy = sus_scrofa_PE_table.copy()"
      ],
      "execution_count": null,
      "outputs": []
    },
    {
      "cell_type": "code",
      "metadata": {
        "id": "TNVDAPPU4CNF"
      },
      "source": [
        "PE_scores = [x[1:6] for x in pig_PE_table_copy.values.tolist()]\n",
        "num_zero = [x.count(0) for x in PE_scores]\n",
        "pig_PE_table_copy['Number of null PE'] = num_zero\n",
        "#sum_PE = [sum(x) for x in PE_scores]\n",
        "#sus_scrofa_PE_table['Sum of Proteins'] = sum_PE"
      ],
      "execution_count": null,
      "outputs": []
    },
    {
      "cell_type": "code",
      "metadata": {
        "colab": {
          "base_uri": "https://localhost:8080/",
          "height": 419
        },
        "id": "BRIfN3R59Aue",
        "outputId": "2b94c4e1-4d64-437c-8fc0-7691b5c556bb"
      },
      "source": [
        "pig_PE_table_copy"
      ],
      "execution_count": null,
      "outputs": [
        {
          "output_type": "execute_result",
          "data": {
            "text/html": [
              "<div>\n",
              "<style scoped>\n",
              "    .dataframe tbody tr th:only-of-type {\n",
              "        vertical-align: middle;\n",
              "    }\n",
              "\n",
              "    .dataframe tbody tr th {\n",
              "        vertical-align: top;\n",
              "    }\n",
              "\n",
              "    .dataframe thead th {\n",
              "        text-align: right;\n",
              "    }\n",
              "</style>\n",
              "<table border=\"1\" class=\"dataframe\">\n",
              "  <thead>\n",
              "    <tr style=\"text-align: right;\">\n",
              "      <th></th>\n",
              "      <th>Gene Name</th>\n",
              "      <th>#PE = 1</th>\n",
              "      <th>#PE = 2</th>\n",
              "      <th>#PE = 3</th>\n",
              "      <th>#PE = 4</th>\n",
              "      <th>#PE = 5</th>\n",
              "      <th>Number of null PE</th>\n",
              "    </tr>\n",
              "  </thead>\n",
              "  <tbody>\n",
              "    <tr>\n",
              "      <th>0</th>\n",
              "      <td>NANOS2</td>\n",
              "      <td>0</td>\n",
              "      <td>0</td>\n",
              "      <td>1</td>\n",
              "      <td>0</td>\n",
              "      <td>0</td>\n",
              "      <td>4</td>\n",
              "    </tr>\n",
              "    <tr>\n",
              "      <th>1</th>\n",
              "      <td>LRRK1</td>\n",
              "      <td>0</td>\n",
              "      <td>0</td>\n",
              "      <td>0</td>\n",
              "      <td>3</td>\n",
              "      <td>0</td>\n",
              "      <td>4</td>\n",
              "    </tr>\n",
              "    <tr>\n",
              "      <th>2</th>\n",
              "      <td>DAPK2</td>\n",
              "      <td>0</td>\n",
              "      <td>0</td>\n",
              "      <td>5</td>\n",
              "      <td>1</td>\n",
              "      <td>0</td>\n",
              "      <td>3</td>\n",
              "    </tr>\n",
              "    <tr>\n",
              "      <th>3</th>\n",
              "      <td>SLC26A10</td>\n",
              "      <td>0</td>\n",
              "      <td>0</td>\n",
              "      <td>1</td>\n",
              "      <td>0</td>\n",
              "      <td>0</td>\n",
              "      <td>4</td>\n",
              "    </tr>\n",
              "    <tr>\n",
              "      <th>4</th>\n",
              "      <td>FGF6</td>\n",
              "      <td>0</td>\n",
              "      <td>0</td>\n",
              "      <td>1</td>\n",
              "      <td>0</td>\n",
              "      <td>0</td>\n",
              "      <td>4</td>\n",
              "    </tr>\n",
              "    <tr>\n",
              "      <th>...</th>\n",
              "      <td>...</td>\n",
              "      <td>...</td>\n",
              "      <td>...</td>\n",
              "      <td>...</td>\n",
              "      <td>...</td>\n",
              "      <td>...</td>\n",
              "      <td>...</td>\n",
              "    </tr>\n",
              "    <tr>\n",
              "      <th>18016</th>\n",
              "      <td>GOLPH3</td>\n",
              "      <td>0</td>\n",
              "      <td>1</td>\n",
              "      <td>0</td>\n",
              "      <td>0</td>\n",
              "      <td>0</td>\n",
              "      <td>4</td>\n",
              "    </tr>\n",
              "    <tr>\n",
              "      <th>18017</th>\n",
              "      <td>LOC102159509</td>\n",
              "      <td>0</td>\n",
              "      <td>0</td>\n",
              "      <td>0</td>\n",
              "      <td>1</td>\n",
              "      <td>0</td>\n",
              "      <td>4</td>\n",
              "    </tr>\n",
              "    <tr>\n",
              "      <th>18018</th>\n",
              "      <td>TMEM160</td>\n",
              "      <td>0</td>\n",
              "      <td>0</td>\n",
              "      <td>0</td>\n",
              "      <td>1</td>\n",
              "      <td>0</td>\n",
              "      <td>4</td>\n",
              "    </tr>\n",
              "    <tr>\n",
              "      <th>18019</th>\n",
              "      <td>SNX11</td>\n",
              "      <td>0</td>\n",
              "      <td>0</td>\n",
              "      <td>2</td>\n",
              "      <td>0</td>\n",
              "      <td>0</td>\n",
              "      <td>4</td>\n",
              "    </tr>\n",
              "    <tr>\n",
              "      <th>18020</th>\n",
              "      <td>GMFG</td>\n",
              "      <td>0</td>\n",
              "      <td>0</td>\n",
              "      <td>6</td>\n",
              "      <td>0</td>\n",
              "      <td>0</td>\n",
              "      <td>4</td>\n",
              "    </tr>\n",
              "  </tbody>\n",
              "</table>\n",
              "<p>18021 rows × 7 columns</p>\n",
              "</div>"
            ],
            "text/plain": [
              "           Gene Name  #PE = 1  #PE = 2  ...  #PE = 4  #PE = 5  Number of null PE\n",
              "0            NANOS2         0        0  ...        0        0                  4\n",
              "1             LRRK1         0        0  ...        3        0                  4\n",
              "2             DAPK2         0        0  ...        1        0                  3\n",
              "3          SLC26A10         0        0  ...        0        0                  4\n",
              "4              FGF6         0        0  ...        0        0                  4\n",
              "...              ...      ...      ...  ...      ...      ...                ...\n",
              "18016        GOLPH3         0        1  ...        0        0                  4\n",
              "18017  LOC102159509         0        0  ...        1        0                  4\n",
              "18018       TMEM160         0        0  ...        1        0                  4\n",
              "18019         SNX11         0        0  ...        0        0                  4\n",
              "18020          GMFG         0        0  ...        0        0                  4\n",
              "\n",
              "[18021 rows x 7 columns]"
            ]
          },
          "metadata": {
            "tags": []
          },
          "execution_count": 10
        }
      ]
    },
    {
      "cell_type": "code",
      "metadata": {
        "id": "UQzyjbXu5i_T"
      },
      "source": [
        "df_new = pig_PE_table_copy.drop(pig_PE_table_copy[(pig_PE_table_copy['Number of null PE'] == 4)].index)"
      ],
      "execution_count": null,
      "outputs": []
    },
    {
      "cell_type": "code",
      "metadata": {
        "id": "bviLIVJ39hVX"
      },
      "source": [
        "del df_new['Number of null PE']"
      ],
      "execution_count": null,
      "outputs": []
    },
    {
      "cell_type": "code",
      "metadata": {
        "colab": {
          "base_uri": "https://localhost:8080/",
          "height": 419
        },
        "id": "KBEUPFvD9l_L",
        "outputId": "55083a10-f3e9-4632-f461-6ff33b3c837f"
      },
      "source": [
        "sum_PE = [sum(x) for x in [i[1:6] for i in df_new.values.tolist()]]\n",
        "df_new['Sum of Proteins'] = sum_PE\n",
        "df_new"
      ],
      "execution_count": null,
      "outputs": [
        {
          "output_type": "execute_result",
          "data": {
            "text/html": [
              "<div>\n",
              "<style scoped>\n",
              "    .dataframe tbody tr th:only-of-type {\n",
              "        vertical-align: middle;\n",
              "    }\n",
              "\n",
              "    .dataframe tbody tr th {\n",
              "        vertical-align: top;\n",
              "    }\n",
              "\n",
              "    .dataframe thead th {\n",
              "        text-align: right;\n",
              "    }\n",
              "</style>\n",
              "<table border=\"1\" class=\"dataframe\">\n",
              "  <thead>\n",
              "    <tr style=\"text-align: right;\">\n",
              "      <th></th>\n",
              "      <th>Gene Name</th>\n",
              "      <th>#PE = 1</th>\n",
              "      <th>#PE = 2</th>\n",
              "      <th>#PE = 3</th>\n",
              "      <th>#PE = 4</th>\n",
              "      <th>#PE = 5</th>\n",
              "      <th>Sum of Proteins</th>\n",
              "    </tr>\n",
              "  </thead>\n",
              "  <tbody>\n",
              "    <tr>\n",
              "      <th>2</th>\n",
              "      <td>DAPK2</td>\n",
              "      <td>0</td>\n",
              "      <td>0</td>\n",
              "      <td>5</td>\n",
              "      <td>1</td>\n",
              "      <td>0</td>\n",
              "      <td>6</td>\n",
              "    </tr>\n",
              "    <tr>\n",
              "      <th>18</th>\n",
              "      <td>NCOA7</td>\n",
              "      <td>0</td>\n",
              "      <td>0</td>\n",
              "      <td>3</td>\n",
              "      <td>1</td>\n",
              "      <td>0</td>\n",
              "      <td>4</td>\n",
              "    </tr>\n",
              "    <tr>\n",
              "      <th>23</th>\n",
              "      <td>UPK1A</td>\n",
              "      <td>0</td>\n",
              "      <td>1</td>\n",
              "      <td>0</td>\n",
              "      <td>2</td>\n",
              "      <td>0</td>\n",
              "      <td>3</td>\n",
              "    </tr>\n",
              "    <tr>\n",
              "      <th>44</th>\n",
              "      <td>FFAR1</td>\n",
              "      <td>0</td>\n",
              "      <td>1</td>\n",
              "      <td>1</td>\n",
              "      <td>0</td>\n",
              "      <td>0</td>\n",
              "      <td>2</td>\n",
              "    </tr>\n",
              "    <tr>\n",
              "      <th>54</th>\n",
              "      <td>OPTN</td>\n",
              "      <td>1</td>\n",
              "      <td>0</td>\n",
              "      <td>0</td>\n",
              "      <td>4</td>\n",
              "      <td>0</td>\n",
              "      <td>5</td>\n",
              "    </tr>\n",
              "    <tr>\n",
              "      <th>...</th>\n",
              "      <td>...</td>\n",
              "      <td>...</td>\n",
              "      <td>...</td>\n",
              "      <td>...</td>\n",
              "      <td>...</td>\n",
              "      <td>...</td>\n",
              "      <td>...</td>\n",
              "    </tr>\n",
              "    <tr>\n",
              "      <th>17989</th>\n",
              "      <td>SLC44A2</td>\n",
              "      <td>4</td>\n",
              "      <td>0</td>\n",
              "      <td>2</td>\n",
              "      <td>0</td>\n",
              "      <td>0</td>\n",
              "      <td>6</td>\n",
              "    </tr>\n",
              "    <tr>\n",
              "      <th>17992</th>\n",
              "      <td>TBCE</td>\n",
              "      <td>6</td>\n",
              "      <td>0</td>\n",
              "      <td>1</td>\n",
              "      <td>0</td>\n",
              "      <td>0</td>\n",
              "      <td>7</td>\n",
              "    </tr>\n",
              "    <tr>\n",
              "      <th>18009</th>\n",
              "      <td>VIPR1</td>\n",
              "      <td>0</td>\n",
              "      <td>2</td>\n",
              "      <td>4</td>\n",
              "      <td>0</td>\n",
              "      <td>0</td>\n",
              "      <td>6</td>\n",
              "    </tr>\n",
              "    <tr>\n",
              "      <th>18011</th>\n",
              "      <td>KDM5A</td>\n",
              "      <td>0</td>\n",
              "      <td>0</td>\n",
              "      <td>4</td>\n",
              "      <td>1</td>\n",
              "      <td>0</td>\n",
              "      <td>5</td>\n",
              "    </tr>\n",
              "    <tr>\n",
              "      <th>18015</th>\n",
              "      <td>IPPK</td>\n",
              "      <td>0</td>\n",
              "      <td>0</td>\n",
              "      <td>2</td>\n",
              "      <td>1</td>\n",
              "      <td>0</td>\n",
              "      <td>3</td>\n",
              "    </tr>\n",
              "  </tbody>\n",
              "</table>\n",
              "<p>2206 rows × 7 columns</p>\n",
              "</div>"
            ],
            "text/plain": [
              "      Gene Name  #PE = 1  #PE = 2  #PE = 3  #PE = 4  #PE = 5  Sum of Proteins\n",
              "2        DAPK2         0        0        5        1        0                6\n",
              "18       NCOA7         0        0        3        1        0                4\n",
              "23       UPK1A         0        1        0        2        0                3\n",
              "44       FFAR1         0        1        1        0        0                2\n",
              "54        OPTN         1        0        0        4        0                5\n",
              "...         ...      ...      ...      ...      ...      ...              ...\n",
              "17989  SLC44A2         4        0        2        0        0                6\n",
              "17992     TBCE         6        0        1        0        0                7\n",
              "18009    VIPR1         0        2        4        0        0                6\n",
              "18011    KDM5A         0        0        4        1        0                5\n",
              "18015     IPPK         0        0        2        1        0                3\n",
              "\n",
              "[2206 rows x 7 columns]"
            ]
          },
          "metadata": {
            "tags": []
          },
          "execution_count": 13
        }
      ]
    },
    {
      "cell_type": "code",
      "metadata": {
        "colab": {
          "base_uri": "https://localhost:8080/"
        },
        "id": "t7mO2Boqogrx",
        "outputId": "4d626d95-dc1f-469e-e1d6-a2d9e30f0dee"
      },
      "source": [
        "S1 = sum(list(sus_scrofa_PE_table['#PE = 1']))\n",
        "S1"
      ],
      "execution_count": null,
      "outputs": [
        {
          "output_type": "execute_result",
          "data": {
            "text/plain": [
              "17008"
            ]
          },
          "metadata": {
            "tags": []
          },
          "execution_count": 15
        }
      ]
    },
    {
      "cell_type": "code",
      "metadata": {
        "colab": {
          "base_uri": "https://localhost:8080/"
        },
        "id": "8TUWdocGqP6k",
        "outputId": "9bffe55a-b83c-4bf3-c763-da5cc5ae74c1"
      },
      "source": [
        "S2 = sum(list(sus_scrofa_PE_table['#PE = 2']))\n",
        "S2"
      ],
      "execution_count": null,
      "outputs": [
        {
          "output_type": "execute_result",
          "data": {
            "text/plain": [
              "1281"
            ]
          },
          "metadata": {
            "tags": []
          },
          "execution_count": 16
        }
      ]
    },
    {
      "cell_type": "code",
      "metadata": {
        "colab": {
          "base_uri": "https://localhost:8080/"
        },
        "id": "KnqSWSZTrckg",
        "outputId": "bc50252b-03be-47d4-b1e9-3a9b6e128ad7"
      },
      "source": [
        "S3 = sum(list(sus_scrofa_PE_table['#PE = 3']))\n",
        "S3"
      ],
      "execution_count": null,
      "outputs": [
        {
          "output_type": "execute_result",
          "data": {
            "text/plain": [
              "13041"
            ]
          },
          "metadata": {
            "tags": []
          },
          "execution_count": 17
        }
      ]
    },
    {
      "cell_type": "code",
      "metadata": {
        "colab": {
          "base_uri": "https://localhost:8080/"
        },
        "id": "PApd9gU_reRW",
        "outputId": "9d19b823-14ba-4e99-f13b-e1c001c851aa"
      },
      "source": [
        "S4 = sum(list(sus_scrofa_PE_table['#PE = 4']))\n",
        "S4"
      ],
      "execution_count": null,
      "outputs": [
        {
          "output_type": "execute_result",
          "data": {
            "text/plain": [
              "18462"
            ]
          },
          "metadata": {
            "tags": []
          },
          "execution_count": 18
        }
      ]
    },
    {
      "cell_type": "code",
      "metadata": {
        "colab": {
          "base_uri": "https://localhost:8080/"
        },
        "id": "lAKhpyDprfXp",
        "outputId": "617070ff-bd30-4137-f3b8-f58df9550287"
      },
      "source": [
        "S1 + S2 + S3 + S4"
      ],
      "execution_count": null,
      "outputs": [
        {
          "output_type": "execute_result",
          "data": {
            "text/plain": [
              "49792"
            ]
          },
          "metadata": {
            "tags": []
          },
          "execution_count": 19
        }
      ]
    },
    {
      "cell_type": "code",
      "metadata": {
        "id": "JMH4BTGnDMZy"
      },
      "source": [
        "df_new.to_csv(\"sus_scrofa_PE_sum_table.csv\")"
      ],
      "execution_count": null,
      "outputs": []
    },
    {
      "cell_type": "code",
      "metadata": {
        "id": "63-XFeqO35If"
      },
      "source": [
        "sus_scrofa_PE_table.to_csv(\"no_sum_sus_scrofa_PE.csv\")"
      ],
      "execution_count": null,
      "outputs": []
    },
    {
      "cell_type": "markdown",
      "metadata": {
        "id": "cGWxh-9l7L9x"
      },
      "source": [
        "# **HOMO SAPIEN**"
      ]
    },
    {
      "cell_type": "code",
      "metadata": {
        "colab": {
          "base_uri": "https://localhost:8080/",
          "height": 419
        },
        "id": "-MS0lZe5bIzu",
        "outputId": "edfac82a-9b13-4601-cfff-12b54d7a3030"
      },
      "source": [
        "human_proteome_file = 'Homo_sapiens_uniprot-proteome_UP000005640.fasta'\n",
        "human_proteome_table = fasta_to_table(human_proteome_file)\n",
        "human_proteome_table"
      ],
      "execution_count": null,
      "outputs": [
        {
          "output_type": "execute_result",
          "data": {
            "text/html": [
              "<div>\n",
              "<style scoped>\n",
              "    .dataframe tbody tr th:only-of-type {\n",
              "        vertical-align: middle;\n",
              "    }\n",
              "\n",
              "    .dataframe tbody tr th {\n",
              "        vertical-align: top;\n",
              "    }\n",
              "\n",
              "    .dataframe thead th {\n",
              "        text-align: right;\n",
              "    }\n",
              "</style>\n",
              "<table border=\"1\" class=\"dataframe\">\n",
              "  <thead>\n",
              "    <tr style=\"text-align: right;\">\n",
              "      <th></th>\n",
              "      <th>sptr</th>\n",
              "      <th>accession</th>\n",
              "      <th>organism</th>\n",
              "      <th>Gene Name</th>\n",
              "      <th>length</th>\n",
              "      <th>PE Score</th>\n",
              "    </tr>\n",
              "  </thead>\n",
              "  <tbody>\n",
              "    <tr>\n",
              "      <th>0</th>\n",
              "      <td>sp</td>\n",
              "      <td>Q00266</td>\n",
              "      <td>Homo sapiens</td>\n",
              "      <td>MAT1A</td>\n",
              "      <td>395</td>\n",
              "      <td>1</td>\n",
              "    </tr>\n",
              "    <tr>\n",
              "      <th>1</th>\n",
              "      <td>sp</td>\n",
              "      <td>Q8NB16</td>\n",
              "      <td>Homo sapiens</td>\n",
              "      <td>MLKL</td>\n",
              "      <td>471</td>\n",
              "      <td>1</td>\n",
              "    </tr>\n",
              "    <tr>\n",
              "      <th>2</th>\n",
              "      <td>sp</td>\n",
              "      <td>O94851</td>\n",
              "      <td>Homo sapiens</td>\n",
              "      <td>MICAL2</td>\n",
              "      <td>1124</td>\n",
              "      <td>1</td>\n",
              "    </tr>\n",
              "    <tr>\n",
              "      <th>3</th>\n",
              "      <td>sp</td>\n",
              "      <td>Q8TDZ2</td>\n",
              "      <td>Homo sapiens</td>\n",
              "      <td>MICAL1</td>\n",
              "      <td>1067</td>\n",
              "      <td>1</td>\n",
              "    </tr>\n",
              "    <tr>\n",
              "      <th>4</th>\n",
              "      <td>sp</td>\n",
              "      <td>Q9NPJ6</td>\n",
              "      <td>Homo sapiens</td>\n",
              "      <td>MED4</td>\n",
              "      <td>270</td>\n",
              "      <td>1</td>\n",
              "    </tr>\n",
              "    <tr>\n",
              "      <th>...</th>\n",
              "      <td>...</td>\n",
              "      <td>...</td>\n",
              "      <td>...</td>\n",
              "      <td>...</td>\n",
              "      <td>...</td>\n",
              "      <td>...</td>\n",
              "    </tr>\n",
              "    <tr>\n",
              "      <th>78115</th>\n",
              "      <td>tr</td>\n",
              "      <td>A0A087WVB8</td>\n",
              "      <td>Homo sapiens</td>\n",
              "      <td>CNBD2</td>\n",
              "      <td>181</td>\n",
              "      <td>1</td>\n",
              "    </tr>\n",
              "    <tr>\n",
              "      <th>78116</th>\n",
              "      <td>tr</td>\n",
              "      <td>H0Y876</td>\n",
              "      <td>Homo sapiens</td>\n",
              "      <td>CCDC136</td>\n",
              "      <td>548</td>\n",
              "      <td>1</td>\n",
              "    </tr>\n",
              "    <tr>\n",
              "      <th>78117</th>\n",
              "      <td>tr</td>\n",
              "      <td>A0A3B3IU88</td>\n",
              "      <td>Homo sapiens</td>\n",
              "      <td>No Name</td>\n",
              "      <td>217</td>\n",
              "      <td>4</td>\n",
              "    </tr>\n",
              "    <tr>\n",
              "      <th>78118</th>\n",
              "      <td>tr</td>\n",
              "      <td>A0A1W2PR38</td>\n",
              "      <td>Homo sapiens</td>\n",
              "      <td>CSAG2</td>\n",
              "      <td>78</td>\n",
              "      <td>4</td>\n",
              "    </tr>\n",
              "    <tr>\n",
              "      <th>78119</th>\n",
              "      <td>tr</td>\n",
              "      <td>A0A1B0GU22</td>\n",
              "      <td>Homo sapiens</td>\n",
              "      <td>No Name</td>\n",
              "      <td>75</td>\n",
              "      <td>3</td>\n",
              "    </tr>\n",
              "  </tbody>\n",
              "</table>\n",
              "<p>78120 rows × 6 columns</p>\n",
              "</div>"
            ],
            "text/plain": [
              "      sptr   accession       organism Gene Name  length  PE Score\n",
              "0       sp      Q00266  Homo sapiens     MAT1A      395         1\n",
              "1       sp      Q8NB16  Homo sapiens      MLKL      471         1\n",
              "2       sp      O94851  Homo sapiens    MICAL2     1124         1\n",
              "3       sp      Q8TDZ2  Homo sapiens    MICAL1     1067         1\n",
              "4       sp      Q9NPJ6  Homo sapiens      MED4      270         1\n",
              "...    ...         ...            ...       ...     ...       ...\n",
              "78115   tr  A0A087WVB8  Homo sapiens     CNBD2      181         1\n",
              "78116   tr      H0Y876  Homo sapiens   CCDC136      548         1\n",
              "78117   tr  A0A3B3IU88  Homo sapiens    No Name     217         4\n",
              "78118   tr  A0A1W2PR38  Homo sapiens     CSAG2       78         4\n",
              "78119   tr  A0A1B0GU22  Homo sapiens    No Name      75         3\n",
              "\n",
              "[78120 rows x 6 columns]"
            ]
          },
          "metadata": {
            "tags": []
          },
          "execution_count": 8
        }
      ]
    },
    {
      "cell_type": "code",
      "metadata": {
        "id": "P0_70CVUbSpe"
      },
      "source": [
        "human_proteome_table.to_csv(\"human_proteome_table_PE.csv\")"
      ],
      "execution_count": null,
      "outputs": []
    },
    {
      "cell_type": "code",
      "metadata": {
        "id": "J15tjdaWHUFB",
        "colab": {
          "base_uri": "https://localhost:8080/",
          "height": 419
        },
        "outputId": "5781f21d-f66c-4dfd-e240-24f799a1cca0"
      },
      "source": [
        "human_all_file = 'homo_sapien_all.fasta'\n",
        "human_all_table = fasta_to_table(human_all_file)\n",
        "human_all_table"
      ],
      "execution_count": null,
      "outputs": [
        {
          "output_type": "execute_result",
          "data": {
            "text/html": [
              "<div>\n",
              "<style scoped>\n",
              "    .dataframe tbody tr th:only-of-type {\n",
              "        vertical-align: middle;\n",
              "    }\n",
              "\n",
              "    .dataframe tbody tr th {\n",
              "        vertical-align: top;\n",
              "    }\n",
              "\n",
              "    .dataframe thead th {\n",
              "        text-align: right;\n",
              "    }\n",
              "</style>\n",
              "<table border=\"1\" class=\"dataframe\">\n",
              "  <thead>\n",
              "    <tr style=\"text-align: right;\">\n",
              "      <th></th>\n",
              "      <th>sptr</th>\n",
              "      <th>accession</th>\n",
              "      <th>organism</th>\n",
              "      <th>Gene Name</th>\n",
              "      <th>length</th>\n",
              "      <th>PE Score</th>\n",
              "    </tr>\n",
              "  </thead>\n",
              "  <tbody>\n",
              "    <tr>\n",
              "      <th>0</th>\n",
              "      <td>sp</td>\n",
              "      <td>P04439</td>\n",
              "      <td>Homo sapiens</td>\n",
              "      <td>HLA-A</td>\n",
              "      <td>365</td>\n",
              "      <td>1</td>\n",
              "    </tr>\n",
              "    <tr>\n",
              "      <th>1</th>\n",
              "      <td>sp</td>\n",
              "      <td>P01911</td>\n",
              "      <td>Homo sapiens</td>\n",
              "      <td>HLA-DRB1</td>\n",
              "      <td>266</td>\n",
              "      <td>1</td>\n",
              "    </tr>\n",
              "    <tr>\n",
              "      <th>2</th>\n",
              "      <td>sp</td>\n",
              "      <td>P01889</td>\n",
              "      <td>Homo sapiens</td>\n",
              "      <td>HLA-B</td>\n",
              "      <td>362</td>\n",
              "      <td>1</td>\n",
              "    </tr>\n",
              "    <tr>\n",
              "      <th>3</th>\n",
              "      <td>sp</td>\n",
              "      <td>P31689</td>\n",
              "      <td>Homo sapiens</td>\n",
              "      <td>DNAJA1</td>\n",
              "      <td>397</td>\n",
              "      <td>1</td>\n",
              "    </tr>\n",
              "    <tr>\n",
              "      <th>4</th>\n",
              "      <td>sp</td>\n",
              "      <td>P08246</td>\n",
              "      <td>Homo sapiens</td>\n",
              "      <td>ELANE</td>\n",
              "      <td>267</td>\n",
              "      <td>1</td>\n",
              "    </tr>\n",
              "    <tr>\n",
              "      <th>...</th>\n",
              "      <td>...</td>\n",
              "      <td>...</td>\n",
              "      <td>...</td>\n",
              "      <td>...</td>\n",
              "      <td>...</td>\n",
              "      <td>...</td>\n",
              "    </tr>\n",
              "    <tr>\n",
              "      <th>202155</th>\n",
              "      <td>sp</td>\n",
              "      <td>Q9P2T1</td>\n",
              "      <td>Homo sapiens</td>\n",
              "      <td>GMPR2</td>\n",
              "      <td>348</td>\n",
              "      <td>1</td>\n",
              "    </tr>\n",
              "    <tr>\n",
              "      <th>202156</th>\n",
              "      <td>sp</td>\n",
              "      <td>Q8IUX8</td>\n",
              "      <td>Homo sapiens</td>\n",
              "      <td>EGFL6</td>\n",
              "      <td>553</td>\n",
              "      <td>1</td>\n",
              "    </tr>\n",
              "    <tr>\n",
              "      <th>202157</th>\n",
              "      <td>sp</td>\n",
              "      <td>O15372</td>\n",
              "      <td>Homo sapiens</td>\n",
              "      <td>EIF3H</td>\n",
              "      <td>352</td>\n",
              "      <td>1</td>\n",
              "    </tr>\n",
              "    <tr>\n",
              "      <th>202158</th>\n",
              "      <td>sp</td>\n",
              "      <td>P54852</td>\n",
              "      <td>Homo sapiens</td>\n",
              "      <td>EMP3</td>\n",
              "      <td>163</td>\n",
              "      <td>1</td>\n",
              "    </tr>\n",
              "    <tr>\n",
              "      <th>202159</th>\n",
              "      <td>sp</td>\n",
              "      <td>P50402</td>\n",
              "      <td>Homo sapiens</td>\n",
              "      <td>EMD</td>\n",
              "      <td>254</td>\n",
              "      <td>1</td>\n",
              "    </tr>\n",
              "  </tbody>\n",
              "</table>\n",
              "<p>202160 rows × 6 columns</p>\n",
              "</div>"
            ],
            "text/plain": [
              "       sptr accession       organism  Gene Name  length  PE Score\n",
              "0        sp    P04439  Homo sapiens      HLA-A      365         1\n",
              "1        sp    P01911  Homo sapiens   HLA-DRB1      266         1\n",
              "2        sp    P01889  Homo sapiens      HLA-B      362         1\n",
              "3        sp    P31689  Homo sapiens     DNAJA1      397         1\n",
              "4        sp    P08246  Homo sapiens      ELANE      267         1\n",
              "...     ...       ...            ...        ...     ...       ...\n",
              "202155   sp    Q9P2T1  Homo sapiens      GMPR2      348         1\n",
              "202156   sp    Q8IUX8  Homo sapiens      EGFL6      553         1\n",
              "202157   sp    O15372  Homo sapiens      EIF3H      352         1\n",
              "202158   sp    P54852  Homo sapiens       EMP3      163         1\n",
              "202159   sp    P50402  Homo sapiens        EMD      254         1\n",
              "\n",
              "[202160 rows x 6 columns]"
            ]
          },
          "metadata": {
            "tags": []
          },
          "execution_count": 6
        }
      ]
    },
    {
      "cell_type": "markdown",
      "metadata": {
        "id": "QCndPyTR8Vug"
      },
      "source": [
        "Converting PE tables to CSV"
      ]
    },
    {
      "cell_type": "code",
      "metadata": {
        "id": "wm3AwIHc7rpw"
      },
      "source": [
        "human_all_table.to_csv(\"human_all_table_PE.csv\")"
      ],
      "execution_count": null,
      "outputs": []
    },
    {
      "cell_type": "markdown",
      "metadata": {
        "id": "cZk6LzchzEJX"
      },
      "source": [
        "# **MUS MUSCULUS**"
      ]
    },
    {
      "cell_type": "code",
      "metadata": {
        "colab": {
          "base_uri": "https://localhost:8080/",
          "height": 419
        },
        "id": "YlE97XVmbla7",
        "outputId": "5b0b3845-5c96-4b8e-9c09-101c6a5cc100"
      },
      "source": [
        "mouse_proteome_file = 'mus_musculus_uniprot-proteome_UP000000589.fasta'\n",
        "mouse_proteome_table = fasta_to_table(mouse_proteome_file)\n",
        "mouse_proteome_table"
      ],
      "execution_count": null,
      "outputs": [
        {
          "output_type": "execute_result",
          "data": {
            "text/html": [
              "<div>\n",
              "<style scoped>\n",
              "    .dataframe tbody tr th:only-of-type {\n",
              "        vertical-align: middle;\n",
              "    }\n",
              "\n",
              "    .dataframe tbody tr th {\n",
              "        vertical-align: top;\n",
              "    }\n",
              "\n",
              "    .dataframe thead th {\n",
              "        text-align: right;\n",
              "    }\n",
              "</style>\n",
              "<table border=\"1\" class=\"dataframe\">\n",
              "  <thead>\n",
              "    <tr style=\"text-align: right;\">\n",
              "      <th></th>\n",
              "      <th>sptr</th>\n",
              "      <th>accession</th>\n",
              "      <th>organism</th>\n",
              "      <th>Gene Name</th>\n",
              "      <th>length</th>\n",
              "      <th>PE Score</th>\n",
              "    </tr>\n",
              "  </thead>\n",
              "  <tbody>\n",
              "    <tr>\n",
              "      <th>0</th>\n",
              "      <td>sp</td>\n",
              "      <td>Q9D2V8</td>\n",
              "      <td>Mus musculus</td>\n",
              "      <td>Mfsd10</td>\n",
              "      <td>456</td>\n",
              "      <td>1</td>\n",
              "    </tr>\n",
              "    <tr>\n",
              "      <th>1</th>\n",
              "      <td>sp</td>\n",
              "      <td>Q8VHK5</td>\n",
              "      <td>Mus musculus</td>\n",
              "      <td>Mlc1</td>\n",
              "      <td>382</td>\n",
              "      <td>1</td>\n",
              "    </tr>\n",
              "    <tr>\n",
              "      <th>2</th>\n",
              "      <td>sp</td>\n",
              "      <td>Q5SW45</td>\n",
              "      <td>Mus musculus</td>\n",
              "      <td>Mks1</td>\n",
              "      <td>561</td>\n",
              "      <td>1</td>\n",
              "    </tr>\n",
              "    <tr>\n",
              "      <th>3</th>\n",
              "      <td>sp</td>\n",
              "      <td>Q3UQI9</td>\n",
              "      <td>Mus musculus</td>\n",
              "      <td>Mindy4</td>\n",
              "      <td>744</td>\n",
              "      <td>1</td>\n",
              "    </tr>\n",
              "    <tr>\n",
              "      <th>4</th>\n",
              "      <td>sp</td>\n",
              "      <td>Q9D273</td>\n",
              "      <td>Mus musculus</td>\n",
              "      <td>Mmab</td>\n",
              "      <td>237</td>\n",
              "      <td>1</td>\n",
              "    </tr>\n",
              "    <tr>\n",
              "      <th>...</th>\n",
              "      <td>...</td>\n",
              "      <td>...</td>\n",
              "      <td>...</td>\n",
              "      <td>...</td>\n",
              "      <td>...</td>\n",
              "      <td>...</td>\n",
              "    </tr>\n",
              "    <tr>\n",
              "      <th>55361</th>\n",
              "      <td>tr</td>\n",
              "      <td>D3Z0K8</td>\n",
              "      <td>Mus musculus</td>\n",
              "      <td>Txnrd2</td>\n",
              "      <td>466</td>\n",
              "      <td>1</td>\n",
              "    </tr>\n",
              "    <tr>\n",
              "      <th>55362</th>\n",
              "      <td>tr</td>\n",
              "      <td>A0A1L1STA1</td>\n",
              "      <td>Mus musculus</td>\n",
              "      <td>Csk</td>\n",
              "      <td>139</td>\n",
              "      <td>1</td>\n",
              "    </tr>\n",
              "    <tr>\n",
              "      <th>55363</th>\n",
              "      <td>tr</td>\n",
              "      <td>A0A0G2JF94</td>\n",
              "      <td>Mus musculus</td>\n",
              "      <td>Trav14-1</td>\n",
              "      <td>121</td>\n",
              "      <td>1</td>\n",
              "    </tr>\n",
              "    <tr>\n",
              "      <th>55364</th>\n",
              "      <td>tr</td>\n",
              "      <td>G5E8Y0</td>\n",
              "      <td>Mus musculus</td>\n",
              "      <td>Slc8a1</td>\n",
              "      <td>970</td>\n",
              "      <td>1</td>\n",
              "    </tr>\n",
              "    <tr>\n",
              "      <th>55365</th>\n",
              "      <td>tr</td>\n",
              "      <td>E9Q851</td>\n",
              "      <td>Mus musculus</td>\n",
              "      <td>Racgap1</td>\n",
              "      <td>131</td>\n",
              "      <td>1</td>\n",
              "    </tr>\n",
              "  </tbody>\n",
              "</table>\n",
              "<p>55366 rows × 6 columns</p>\n",
              "</div>"
            ],
            "text/plain": [
              "      sptr   accession       organism  Gene Name  length  PE Score\n",
              "0       sp      Q9D2V8  Mus musculus     Mfsd10      456         1\n",
              "1       sp      Q8VHK5  Mus musculus       Mlc1      382         1\n",
              "2       sp      Q5SW45  Mus musculus       Mks1      561         1\n",
              "3       sp      Q3UQI9  Mus musculus     Mindy4      744         1\n",
              "4       sp      Q9D273  Mus musculus       Mmab      237         1\n",
              "...    ...         ...            ...        ...     ...       ...\n",
              "55361   tr      D3Z0K8  Mus musculus     Txnrd2      466         1\n",
              "55362   tr  A0A1L1STA1  Mus musculus        Csk      139         1\n",
              "55363   tr  A0A0G2JF94  Mus musculus   Trav14-1      121         1\n",
              "55364   tr      G5E8Y0  Mus musculus     Slc8a1      970         1\n",
              "55365   tr      E9Q851  Mus musculus    Racgap1      131         1\n",
              "\n",
              "[55366 rows x 6 columns]"
            ]
          },
          "metadata": {
            "tags": []
          },
          "execution_count": 10
        }
      ]
    },
    {
      "cell_type": "code",
      "metadata": {
        "id": "u3t1nXlrbum4"
      },
      "source": [
        "mouse_proteome_table.to_csv(\"mouse_proteome_table_PE.csv\")"
      ],
      "execution_count": null,
      "outputs": []
    },
    {
      "cell_type": "code",
      "metadata": {
        "id": "eEp4P1jS71us",
        "colab": {
          "base_uri": "https://localhost:8080/",
          "height": 419
        },
        "outputId": "97ec71c1-3b57-4b7c-f52c-92b21b87dfc1"
      },
      "source": [
        "mouse_all_file = 'mus_musculus_all.fasta'\n",
        "mouse_all_table = fasta_to_table(mouse_all_file)\n",
        "mouse_all_table"
      ],
      "execution_count": null,
      "outputs": [
        {
          "output_type": "execute_result",
          "data": {
            "text/html": [
              "<div>\n",
              "<style scoped>\n",
              "    .dataframe tbody tr th:only-of-type {\n",
              "        vertical-align: middle;\n",
              "    }\n",
              "\n",
              "    .dataframe tbody tr th {\n",
              "        vertical-align: top;\n",
              "    }\n",
              "\n",
              "    .dataframe thead th {\n",
              "        text-align: right;\n",
              "    }\n",
              "</style>\n",
              "<table border=\"1\" class=\"dataframe\">\n",
              "  <thead>\n",
              "    <tr style=\"text-align: right;\">\n",
              "      <th></th>\n",
              "      <th>sptr</th>\n",
              "      <th>accession</th>\n",
              "      <th>organism</th>\n",
              "      <th>Gene Name</th>\n",
              "      <th>length</th>\n",
              "      <th>PE Score</th>\n",
              "    </tr>\n",
              "  </thead>\n",
              "  <tbody>\n",
              "    <tr>\n",
              "      <th>0</th>\n",
              "      <td>sp</td>\n",
              "      <td>P02762</td>\n",
              "      <td>Mus musculus</td>\n",
              "      <td>Mup6</td>\n",
              "      <td>180</td>\n",
              "      <td>1</td>\n",
              "    </tr>\n",
              "    <tr>\n",
              "      <th>1</th>\n",
              "      <td>sp</td>\n",
              "      <td>Q91ZJ0</td>\n",
              "      <td>Mus musculus</td>\n",
              "      <td>Mus81</td>\n",
              "      <td>551</td>\n",
              "      <td>1</td>\n",
              "    </tr>\n",
              "    <tr>\n",
              "      <th>2</th>\n",
              "      <td>tr</td>\n",
              "      <td>Q6ZQL8</td>\n",
              "      <td>Mus musculus</td>\n",
              "      <td>Gbp6</td>\n",
              "      <td>611</td>\n",
              "      <td>2</td>\n",
              "    </tr>\n",
              "    <tr>\n",
              "      <th>3</th>\n",
              "      <td>sp</td>\n",
              "      <td>Q8R4K8</td>\n",
              "      <td>Mus musculus</td>\n",
              "      <td>Pappa</td>\n",
              "      <td>1624</td>\n",
              "      <td>2</td>\n",
              "    </tr>\n",
              "    <tr>\n",
              "      <th>4</th>\n",
              "      <td>sp</td>\n",
              "      <td>P02089</td>\n",
              "      <td>Mus musculus</td>\n",
              "      <td>Hbb-b2</td>\n",
              "      <td>147</td>\n",
              "      <td>1</td>\n",
              "    </tr>\n",
              "    <tr>\n",
              "      <th>...</th>\n",
              "      <td>...</td>\n",
              "      <td>...</td>\n",
              "      <td>...</td>\n",
              "      <td>...</td>\n",
              "      <td>...</td>\n",
              "      <td>...</td>\n",
              "    </tr>\n",
              "    <tr>\n",
              "      <th>86516</th>\n",
              "      <td>sp</td>\n",
              "      <td>Q9Z0F1</td>\n",
              "      <td>Mus musculus</td>\n",
              "      <td>Gnas</td>\n",
              "      <td>257</td>\n",
              "      <td>2</td>\n",
              "    </tr>\n",
              "    <tr>\n",
              "      <th>86517</th>\n",
              "      <td>sp</td>\n",
              "      <td>Q9DCZ1</td>\n",
              "      <td>Mus musculus</td>\n",
              "      <td>Gmpr</td>\n",
              "      <td>345</td>\n",
              "      <td>1</td>\n",
              "    </tr>\n",
              "    <tr>\n",
              "      <th>86518</th>\n",
              "      <td>sp</td>\n",
              "      <td>Q9EQQ3</td>\n",
              "      <td>Mus musculus</td>\n",
              "      <td>Gpr63</td>\n",
              "      <td>425</td>\n",
              "      <td>2</td>\n",
              "    </tr>\n",
              "    <tr>\n",
              "      <th>86519</th>\n",
              "      <td>sp</td>\n",
              "      <td>Q99L27</td>\n",
              "      <td>Mus musculus</td>\n",
              "      <td>Gmpr2</td>\n",
              "      <td>348</td>\n",
              "      <td>1</td>\n",
              "    </tr>\n",
              "    <tr>\n",
              "      <th>86520</th>\n",
              "      <td>sp</td>\n",
              "      <td>Q9JJZ5</td>\n",
              "      <td>Mus musculus</td>\n",
              "      <td>Egfl6</td>\n",
              "      <td>550</td>\n",
              "      <td>1</td>\n",
              "    </tr>\n",
              "  </tbody>\n",
              "</table>\n",
              "<p>86521 rows × 6 columns</p>\n",
              "</div>"
            ],
            "text/plain": [
              "      sptr accession       organism Gene Name  length  PE Score\n",
              "0       sp    P02762  Mus musculus      Mup6      180         1\n",
              "1       sp    Q91ZJ0  Mus musculus     Mus81      551         1\n",
              "2       tr    Q6ZQL8  Mus musculus      Gbp6      611         2\n",
              "3       sp    Q8R4K8  Mus musculus     Pappa     1624         2\n",
              "4       sp    P02089  Mus musculus    Hbb-b2      147         1\n",
              "...    ...       ...            ...       ...     ...       ...\n",
              "86516   sp    Q9Z0F1  Mus musculus      Gnas      257         2\n",
              "86517   sp    Q9DCZ1  Mus musculus      Gmpr      345         1\n",
              "86518   sp    Q9EQQ3  Mus musculus     Gpr63      425         2\n",
              "86519   sp    Q99L27  Mus musculus     Gmpr2      348         1\n",
              "86520   sp    Q9JJZ5  Mus musculus     Egfl6      550         1\n",
              "\n",
              "[86521 rows x 6 columns]"
            ]
          },
          "metadata": {
            "tags": []
          },
          "execution_count": 9
        }
      ]
    },
    {
      "cell_type": "code",
      "metadata": {
        "id": "P25Sgu9xzUTs"
      },
      "source": [
        "mouse_all_table.to_csv(\"mouse_all_table_PE.csv\")"
      ],
      "execution_count": null,
      "outputs": []
    },
    {
      "cell_type": "code",
      "metadata": {
        "id": "RspCJfgMzZyf"
      },
      "source": [
        ""
      ],
      "execution_count": null,
      "outputs": []
    }
  ]
}
