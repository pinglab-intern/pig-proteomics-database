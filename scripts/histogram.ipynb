{
  "nbformat": 4,
  "nbformat_minor": 0,
  "metadata": {
    "colab": {
      "name": "histogram.ipynb",
      "provenance": [],
      "collapsed_sections": [],
      "authorship_tag": "ABX9TyP6+sIhmQfCs8LFtMH0o9Kd"
    },
    "kernelspec": {
      "name": "python3",
      "display_name": "Python 3"
    },
    "language_info": {
      "name": "python"
    }
  },
  "cells": [
    {
      "cell_type": "markdown",
      "metadata": {
        "id": "wcbzclD59BD1"
      },
      "source": [
        "This notebook has histograms of the following:\n",
        "1. Sus scrofa full database probability density distribution\n",
        "2. Sus scrofa proteome database probability density distribution\n",
        "3. Sus scrofa full and proteome database unnormalized distributions\n",
        "4. Homo sapien full and proteome probability density distributions\n",
        "5. Homo sapien full and proteome unnormalized distributions\n",
        "\n",
        "The purpose of this notebook is to make observations on protein length and what about protein length characterizes an \"unreliable\" protein sequence\n",
        "\n",
        "What to work on:\n",
        "> Alter the bin width of some sus scrofa and homo sapien distributions\n",
        "\n"
      ]
    },
    {
      "cell_type": "code",
      "metadata": {
        "colab": {
          "base_uri": "https://localhost:8080/"
        },
        "id": "bjRtQicMZr4t",
        "outputId": "605b77af-fa70-4aae-b0d2-a2bac3c5769a"
      },
      "source": [
        "# Connect notebook to Google Drive\n",
        "from google.colab import drive\n",
        "drive.mount('/content/drive', force_remount=True)"
      ],
      "execution_count": null,
      "outputs": [
        {
          "output_type": "stream",
          "text": [
            "Mounted at /content/drive\n"
          ],
          "name": "stdout"
        }
      ]
    },
    {
      "cell_type": "code",
      "metadata": {
        "colab": {
          "base_uri": "https://localhost:8080/"
        },
        "id": "4CQBwc12ZzHg",
        "outputId": "7dbf6961-2284-48f0-f433-d75f462e2bc6"
      },
      "source": [
        "# Navigate to the shared drive folder\n",
        "%cd /content/drive/'My Drive'/'Pig Proteomics Summer Project'\n",
        "!pwd\n",
        "!ls"
      ],
      "execution_count": null,
      "outputs": [
        {
          "output_type": "stream",
          "text": [
            "/content/drive/.shortcut-targets-by-id/1H3M9nQYJ9K9M22jDv-wcvZ0azPz9lhsr/Pig Proteomics Summer Project\n",
            "/content/drive/.shortcut-targets-by-id/1H3M9nQYJ9K9M22jDv-wcvZ0azPz9lhsr/Pig Proteomics Summer Project\n",
            "'2021-06-21 Introduction to Proteomes.ipynb'\n",
            "'2021-06-28 Reactome and Uniprot.ipynb'\n",
            "'2021-06-29 Identifying characteristics of an unreliable protein.gslides'\n",
            "'Copy of gene_PE.ipynb'\n",
            " data\n",
            " gene_PE.ipynb\n",
            " histogram.ipynb\n",
            " output\n",
            " pe_scores.ipynb\n",
            " scratch\n",
            "'Summer Project.gdoc'\n",
            "'Week 1 Introduction slides.gslides'\n",
            "'Week 3 Findings.gslides'\n"
          ],
          "name": "stdout"
        }
      ]
    },
    {
      "cell_type": "code",
      "metadata": {
        "colab": {
          "base_uri": "https://localhost:8080/"
        },
        "id": "JGy883rt9fI5",
        "outputId": "3d10dc8c-683b-4335-c470-aecf85b42bbc"
      },
      "source": [
        "%cd data"
      ],
      "execution_count": null,
      "outputs": [
        {
          "output_type": "stream",
          "text": [
            "/content/drive/.shortcut-targets-by-id/1H3M9nQYJ9K9M22jDv-wcvZ0azPz9lhsr/Pig Proteomics Summer Project/data\n"
          ],
          "name": "stdout"
        }
      ]
    },
    {
      "cell_type": "code",
      "metadata": {
        "id": "dj3iIZIMZ-Bh"
      },
      "source": [
        "#unzipping the sus scrofa proteins with low confidence (120,926)\n",
        "! gunzip all_human_and_isoforms.fasta.gz"
      ],
      "execution_count": null,
      "outputs": []
    },
    {
      "cell_type": "code",
      "metadata": {
        "colab": {
          "base_uri": "https://localhost:8080/"
        },
        "id": "BZFQBwWf9BQv",
        "outputId": "bf4eef89-a58c-4955-d790-be99f411e588"
      },
      "source": [
        "!pip install fastaparser"
      ],
      "execution_count": null,
      "outputs": [
        {
          "output_type": "stream",
          "text": [
            "Collecting fastaparser\n",
            "  Downloading fastaparser-1.1-py3-none-any.whl (29 kB)\n",
            "Installing collected packages: fastaparser\n",
            "Successfully installed fastaparser-1.1\n"
          ],
          "name": "stdout"
        }
      ]
    },
    {
      "cell_type": "markdown",
      "metadata": {
        "id": "yfqCjcZGFwI2"
      },
      "source": [
        "# **FUNCTIONS**"
      ]
    },
    {
      "cell_type": "code",
      "metadata": {
        "id": "urW5Fx2r9yKs"
      },
      "source": [
        "import fastaparser\n",
        "import matplotlib.pyplot as plt\n",
        "import pandas as pd\n",
        "from itertools import groupby\n",
        "from random import sample\n",
        "import numpy as np\n",
        "from itertools import chain, combinations\n",
        "\n",
        "def parse_fasta_file(file_name):\n",
        "  \"\"\"\n",
        "  this function parses a FASTA database and returns it as a mapping from the\n",
        "  header of the protein to the amino acid sequence it corresponds to\n",
        "  mapping: {header: sequence}\n",
        "  \"\"\"\n",
        "  out_dict = {}\n",
        "  fastaRaw = [] #uses quick parsing method\n",
        "  with open(file_name) as fasta_file:\n",
        "      parserQuick = fastaparser.Reader(fasta_file, parse_method = 'quick')\n",
        "      \n",
        "      for seq in parserQuick:\n",
        "          fastaRaw.append(seq)\n",
        "          \n",
        "  headerList = []\n",
        "  seqList = []\n",
        "\n",
        "  for k in fastaRaw:\n",
        "      headerList.append(k.header)\n",
        "      seqList.append(k.sequence)\n",
        "\n",
        "  if len(headerList) != len(seqList):\n",
        "      raise ValueError(\"Number of headers =/= number of sequences\")\n",
        "\n",
        "  for i in range(len(headerList)):\n",
        "      out_dict[headerList[i]] = seqList[i]\n",
        "\n",
        "  return out_dict\n",
        "\n",
        "def fasta_to_table(file_name):\n",
        "    \"\"\"\n",
        "    creates function which accepts a FASTA file and returns dataframe in this format:\n",
        "    SP or TR | Accession | Organism | Gene Name | Length\n",
        "    --------------------------------------------------------\n",
        "    if it is swissprot or trembl, accession, organism, its gene name, and length\n",
        "    \"\"\"\n",
        "    header = ['sptr', 'Accession', 'Organism', 'Gene name', 'Length']\n",
        "    sptr = []\n",
        "    accession = []\n",
        "    organism = []\n",
        "    gene_name = []\n",
        "    length = []\n",
        "    fastaRaw = []\n",
        "    PE_scores = []\n",
        "    indice1 = 0 #indice for 'OS='\n",
        "    indice2 = 0 #indice for 'OX='\n",
        "    indice3 = 0 #indice for 'GN='\n",
        "    indice4 = 0 #indice for 'PE='\n",
        "    \n",
        "    out_dict = parse_fasta_file(file_name)\n",
        "    \n",
        "    for key in out_dict.keys():\n",
        "        indice1 = True #indice for 'OS='\n",
        "        indice2 = True #indice for 'OX='\n",
        "        indice3 = True #indice for 'GN='\n",
        "        indice4 = True #indice for 'PE='\n",
        "        indice5 = True #indice for 'SV='\n",
        "        \n",
        "        indice = []\n",
        "\n",
        "        t1 = key[1:3] #sp or tr\n",
        "\n",
        "        for j in range(len(key)):\n",
        "            t_find = key[j:j+1]\n",
        "            if t_find == '|':\n",
        "                indice.append(j)\n",
        "            else:\n",
        "                pass\n",
        "        \n",
        "        t2 = key[indice[0]+1:indice[1]] #accession\n",
        "        \n",
        "        for k in range(len(key)):\n",
        "            dummyText = key[k:k+3]\n",
        "            if dummyText == 'OS=':\n",
        "              indice1 = k\n",
        "            elif dummyText == 'OX=':\n",
        "              indice2 = k\n",
        "            elif dummyText == 'GN=':\n",
        "              indice3 = k\n",
        "            elif dummyText == 'PE=':\n",
        "              indice4 = k\n",
        "            elif dummyText == 'SV=':\n",
        "              indice5 = k\n",
        "            else:\n",
        "                pass\n",
        "        \n",
        "        if indice3 == True:\n",
        "          GNName = 'No Name'\n",
        "\n",
        "        else:\n",
        "          GNName = key[indice3+3:indice4]\n",
        "          \n",
        "        OSName = key[indice1+3:indice2]\n",
        "        lengthCalc = len(out_dict[key])\n",
        "        #PE = int(key[indice4+3:indice5])\n",
        "        \n",
        "        sptr.append(t1)\n",
        "        accession.append(t2)\n",
        "        organism.append(OSName)\n",
        "        gene_name.append(GNName)\n",
        "        length.append(lengthCalc)\n",
        "        #PE_scores.append(PE)\n",
        "        \n",
        "    data = {'sptr' : sptr, 'accession' : accession, 'organism' : organism, 'Gene Name' : gene_name,\n",
        "           'length' : length}\n",
        "    df = pd.DataFrame(data)\n",
        "    \n",
        "    ''' how alex would have done it\n",
        "        sub_table = fasta_table[fasta_table['GN'] == i]\n",
        "        pig_list = set(sub_table[sub_table['organism'] == 'Sus scrofa']['accession])\n",
        "        '''\n",
        "    return df\n",
        "\n",
        "def length_of_sequence(file_name):\n",
        "  \"\"\"\n",
        "  compute length of each sequence in FASTA file\n",
        "  \"\"\"\n",
        "  out_dict = parse_fasta_file(file_name)\n",
        "  length_list = []\n",
        "\n",
        "  for k in out_dict.keys():\n",
        "    length_seq = len(out_dict[k])\n",
        "    length_list.append(length_seq)\n",
        "  \n",
        "  return length_list\n",
        "\n",
        "\n",
        "def swiss_prot_sequences(file_name):\n",
        "  \"\"\"\n",
        "  only retrieves SP sequences from FASTA file inputted\n",
        "  \"\"\"\n",
        "  out_dict = parse_fasta_file(file_name)\n",
        "  sp_sequences = []\n",
        "\n",
        "  for k in out_dict.keys():\n",
        "    t = k[1:3]\n",
        "    if t == 'sp':\n",
        "      sp_sequences.append(out_dict[k])\n",
        "    else:\n",
        "      pass\n",
        "  \n",
        "  sp_lengths = []\n",
        "  for j in sp_sequences:\n",
        "    sp_lengths.append(len(j))\n",
        "  \n",
        "  return sp_lengths\n",
        "\n",
        "def PE_score_length(file_name, pe_req = [1]):\n",
        "  \"\"\"\n",
        "  extracts list of lengths where the PE score is 1 (default value)\n",
        "  type: list\n",
        "  \"\"\"\n",
        "  out_dict = parse_fasta_file(file_name)\n",
        "  header_to_PE = {} #accession code to PE score\n",
        "  length_list = []\n",
        "\n",
        "  for key in out_dict.keys():    \n",
        "    indice1 = None\n",
        "    indice2 = None\n",
        "\n",
        "    for k in range(len(key)):\n",
        "      t = key[k:k+3]\n",
        "      if t == 'PE=':\n",
        "        indice1 = k\n",
        "      elif t == 'SV=':\n",
        "        indice2 = k\n",
        "      else:\n",
        "        pass\n",
        "    \n",
        "    header_to_PE[key] = int(key[indice1+3:indice2])\n",
        "  \n",
        "  for key in header_to_PE.keys():\n",
        "    if (header_to_PE[key] in pe_req):\n",
        "      length_list.append(len(out_dict[key]))\n",
        "    else:\n",
        "      pass\n",
        "  \n",
        "  return length_list\n",
        "\n",
        "def extract_isoforms(fasta_table):\n",
        "  \"\"\"\n",
        "  extracts only isoforms and its respective sequence lengths from fasta_table\n",
        "  {accession codes : sequence lengths}\n",
        "  \"\"\"\n",
        "  isoform_dict = {}\n",
        "  accession_ids = list(fasta_table['accession'])\n",
        "\n",
        "  for j in range(len(accession_ids)):\n",
        "    if '-' in fasta_table['accession'].values[j]:\n",
        "      isoform_dict[fasta_table['accession'].values[j]] = fasta_table['length'].values[j]\n",
        "    else:\n",
        "      pass\n",
        "  \n",
        "  return isoform_dict\n",
        "\n",
        "def bin_to_accession(fasta_table, binwidth = 10):\n",
        "  \"\"\"\n",
        "  {bin : [acccession IDs]}\n",
        "  \"\"\"\n",
        "  accession_to_length = {}\n",
        "  for i,j in zip(fasta_table['accession'], fasta_table['length']):\n",
        "    accession_to_length[i] = j\n",
        "  \n",
        "  bins = range(min(accession_to_length.values()), max(accession_to_length.values()) + binwidth, binwidth)\n",
        "\n",
        "  bin_to_accession = {}\n",
        "  #for i,j in zip(list(bins), list(accession_to_length.keys())):\n",
        "  for j in list(accession_to_length.keys()):\n",
        "    for i in list(bins):\n",
        "      if accession_to_length[j] > i and accession_to_length[j] < i + binwidth:\n",
        "        if i not in list(bin_to_accession.keys()):\n",
        "          bin_to_accession[i] = [j]\n",
        "        elif i in list(bin_to_accession.keys()):\n",
        "          bin_to_accession[i].append(j)\n",
        "  \n",
        "  return bin_to_accession\n",
        "\n",
        "def powerset(iterable):\n",
        "  \"powerset([1,2,3]) --> () (1,) (2,) (3,) (1,2) (1,3) (2,3) (1,2,3)\"\n",
        "  s = list(iterable)  # allows duplicate elements\n",
        "  return chain.from_iterable(combinations(s, r) for r in range(len(s)+1))\n",
        "\n",
        "def create_normalized_plot(data1, binwidth = 10, xlimit = (0,3000), organism = 'Sus scrofa'):\n",
        "  \"\"\"\n",
        "  creates probability density function for any dataset\n",
        "  default values: binwidth = 10, xlimit = (0,3000) < can be altered\n",
        "  \"\"\"\n",
        "  plt.hist(data1, weights=np.zeros_like(data1)+1./ len(data1), bins= range(min(data1), max(data1) + binwidth, binwidth))\n",
        "  plt.xlim(xlimit)\n",
        "  plt.xlabel(\"Protein Sequence Length\")\n",
        "  plt.ylabel(\"Probability of Drawing Protein Length\")\n",
        "  plt.title(str(\"Probability Density Function of \" + str(organism) + \"; Binwidth = \" + str(binwidth)))\n",
        "\n",
        "def create_unnormalized_plot(data1, binwidth = 10, xlimit = (0,3000), organism = 'Sus scrofa'):\n",
        "  \"\"\"\n",
        "  creates unnormalized histogram for any dataset\n",
        "  default values: binwidth = 10, xlimit = (0,3000)\n",
        "  \"\"\"\n",
        "  plt.hist(data1, bins= range(min(data1), max(data1) + binwidth, binwidth))\n",
        "  plt.xlim(xlimit)\n",
        "  plt.xlabel(\"Protein Sequence Length\")\n",
        "  plt.ylabel(\"Number of Proteins in each bin of length\")\n",
        "  plt.title(\"\")\n",
        "  plt.title(str(\"Unnormalized plot of \" + str(organism) + \"; Binwidth = \" + str(binwidth)))\n",
        "\n",
        "def create_unnormalized_subplot(PE_table, binwidth = 10, organism = 'Homo sapien'):\n",
        "  \"\"\"\n",
        "  takes PE table and creates subplots of unnormalized protein sequence length distributions for:\n",
        "  PE scores = {1,2,3,4,5} (5 subplots)\n",
        "  \"\"\"\n",
        "  fig=plt.figure(figsize=(10,7))\n",
        "  fig.tight_layout()\n",
        "  columns = 3\n",
        "  rows = 2\n",
        "  pe_to_length = {1 : [], 2 : [], 3 : [], 4 : [], 5 : []}\n",
        "  \n",
        "  for i,j in zip(PE_table['PE Score'], PE_table['length']):\n",
        "    #i -> PE score, j -> length\n",
        "    pe_to_length[i].append(j)\n",
        "  \n",
        "  for i in range(1,6):\n",
        "    fig.add_subplot(rows, columns, i)\n",
        "    plt.hist(pe_to_length[i], bins= range(min(pe_to_length[i]), max(pe_to_length[i]) + binwidth, binwidth))\n",
        "    plt.title(\"PE Score : \" + str(i))\n",
        "    plt.xlabel(\"Protein Sequence Length\")\n",
        "    plt.ylabel(\"Frequency of protein length\")\n",
        "    plt.xlim(0,1500)\n",
        "  \n",
        "  fig.tight_layout()\n",
        "  plt.show()\n"
      ],
      "execution_count": null,
      "outputs": []
    },
    {
      "cell_type": "markdown",
      "metadata": {
        "id": "PAuJyq7tSXwm"
      },
      "source": [
        "# **Distribution of Homo Sapien protein sequence lengths with varying PE scores**"
      ]
    },
    {
      "cell_type": "code",
      "metadata": {
        "colab": {
          "base_uri": "https://localhost:8080/",
          "height": 419
        },
        "id": "sDINVNxnF_Fy",
        "outputId": "ff8de80b-eb36-4481-bcba-4a2abeff4360"
      },
      "source": [
        "human_all_table = pd.read_csv(\"human_all_table_PE.csv\")\n",
        "human_all_table"
      ],
      "execution_count": null,
      "outputs": [
        {
          "output_type": "execute_result",
          "data": {
            "text/html": [
              "<div>\n",
              "<style scoped>\n",
              "    .dataframe tbody tr th:only-of-type {\n",
              "        vertical-align: middle;\n",
              "    }\n",
              "\n",
              "    .dataframe tbody tr th {\n",
              "        vertical-align: top;\n",
              "    }\n",
              "\n",
              "    .dataframe thead th {\n",
              "        text-align: right;\n",
              "    }\n",
              "</style>\n",
              "<table border=\"1\" class=\"dataframe\">\n",
              "  <thead>\n",
              "    <tr style=\"text-align: right;\">\n",
              "      <th></th>\n",
              "      <th>Unnamed: 0</th>\n",
              "      <th>sptr</th>\n",
              "      <th>accession</th>\n",
              "      <th>organism</th>\n",
              "      <th>Gene Name</th>\n",
              "      <th>length</th>\n",
              "      <th>PE Score</th>\n",
              "    </tr>\n",
              "  </thead>\n",
              "  <tbody>\n",
              "    <tr>\n",
              "      <th>0</th>\n",
              "      <td>0</td>\n",
              "      <td>sp</td>\n",
              "      <td>P04439</td>\n",
              "      <td>Homo sapiens</td>\n",
              "      <td>HLA-A</td>\n",
              "      <td>365</td>\n",
              "      <td>1</td>\n",
              "    </tr>\n",
              "    <tr>\n",
              "      <th>1</th>\n",
              "      <td>1</td>\n",
              "      <td>sp</td>\n",
              "      <td>P01911</td>\n",
              "      <td>Homo sapiens</td>\n",
              "      <td>HLA-DRB1</td>\n",
              "      <td>266</td>\n",
              "      <td>1</td>\n",
              "    </tr>\n",
              "    <tr>\n",
              "      <th>2</th>\n",
              "      <td>2</td>\n",
              "      <td>sp</td>\n",
              "      <td>P01889</td>\n",
              "      <td>Homo sapiens</td>\n",
              "      <td>HLA-B</td>\n",
              "      <td>362</td>\n",
              "      <td>1</td>\n",
              "    </tr>\n",
              "    <tr>\n",
              "      <th>3</th>\n",
              "      <td>3</td>\n",
              "      <td>sp</td>\n",
              "      <td>P31689</td>\n",
              "      <td>Homo sapiens</td>\n",
              "      <td>DNAJA1</td>\n",
              "      <td>397</td>\n",
              "      <td>1</td>\n",
              "    </tr>\n",
              "    <tr>\n",
              "      <th>4</th>\n",
              "      <td>4</td>\n",
              "      <td>sp</td>\n",
              "      <td>P08246</td>\n",
              "      <td>Homo sapiens</td>\n",
              "      <td>ELANE</td>\n",
              "      <td>267</td>\n",
              "      <td>1</td>\n",
              "    </tr>\n",
              "    <tr>\n",
              "      <th>...</th>\n",
              "      <td>...</td>\n",
              "      <td>...</td>\n",
              "      <td>...</td>\n",
              "      <td>...</td>\n",
              "      <td>...</td>\n",
              "      <td>...</td>\n",
              "      <td>...</td>\n",
              "    </tr>\n",
              "    <tr>\n",
              "      <th>202155</th>\n",
              "      <td>202155</td>\n",
              "      <td>sp</td>\n",
              "      <td>Q9P2T1</td>\n",
              "      <td>Homo sapiens</td>\n",
              "      <td>GMPR2</td>\n",
              "      <td>348</td>\n",
              "      <td>1</td>\n",
              "    </tr>\n",
              "    <tr>\n",
              "      <th>202156</th>\n",
              "      <td>202156</td>\n",
              "      <td>sp</td>\n",
              "      <td>Q8IUX8</td>\n",
              "      <td>Homo sapiens</td>\n",
              "      <td>EGFL6</td>\n",
              "      <td>553</td>\n",
              "      <td>1</td>\n",
              "    </tr>\n",
              "    <tr>\n",
              "      <th>202157</th>\n",
              "      <td>202157</td>\n",
              "      <td>sp</td>\n",
              "      <td>O15372</td>\n",
              "      <td>Homo sapiens</td>\n",
              "      <td>EIF3H</td>\n",
              "      <td>352</td>\n",
              "      <td>1</td>\n",
              "    </tr>\n",
              "    <tr>\n",
              "      <th>202158</th>\n",
              "      <td>202158</td>\n",
              "      <td>sp</td>\n",
              "      <td>P54852</td>\n",
              "      <td>Homo sapiens</td>\n",
              "      <td>EMP3</td>\n",
              "      <td>163</td>\n",
              "      <td>1</td>\n",
              "    </tr>\n",
              "    <tr>\n",
              "      <th>202159</th>\n",
              "      <td>202159</td>\n",
              "      <td>sp</td>\n",
              "      <td>P50402</td>\n",
              "      <td>Homo sapiens</td>\n",
              "      <td>EMD</td>\n",
              "      <td>254</td>\n",
              "      <td>1</td>\n",
              "    </tr>\n",
              "  </tbody>\n",
              "</table>\n",
              "<p>202160 rows × 7 columns</p>\n",
              "</div>"
            ],
            "text/plain": [
              "        Unnamed: 0 sptr accession       organism  Gene Name  length  PE Score\n",
              "0                0   sp    P04439  Homo sapiens      HLA-A      365         1\n",
              "1                1   sp    P01911  Homo sapiens   HLA-DRB1      266         1\n",
              "2                2   sp    P01889  Homo sapiens      HLA-B      362         1\n",
              "3                3   sp    P31689  Homo sapiens     DNAJA1      397         1\n",
              "4                4   sp    P08246  Homo sapiens      ELANE      267         1\n",
              "...            ...  ...       ...            ...        ...     ...       ...\n",
              "202155      202155   sp    Q9P2T1  Homo sapiens      GMPR2      348         1\n",
              "202156      202156   sp    Q8IUX8  Homo sapiens      EGFL6      553         1\n",
              "202157      202157   sp    O15372  Homo sapiens      EIF3H      352         1\n",
              "202158      202158   sp    P54852  Homo sapiens       EMP3      163         1\n",
              "202159      202159   sp    P50402  Homo sapiens        EMD      254         1\n",
              "\n",
              "[202160 rows x 7 columns]"
            ]
          },
          "metadata": {
            "tags": []
          },
          "execution_count": 33
        }
      ]
    },
    {
      "cell_type": "code",
      "metadata": {
        "colab": {
          "base_uri": "https://localhost:8080/",
          "height": 513
        },
        "id": "FVRZlxAxQPs4",
        "outputId": "3a0287b8-4b23-487d-cba8-d1908d8de48c"
      },
      "source": [
        "create_unnormalized_subplot(human_all_table)"
      ],
      "execution_count": null,
      "outputs": [
        {
          "output_type": "display_data",
          "data": {
            "image/png": "[encoded data removed]",
            "text/plain": [
              "<Figure size 720x504 with 5 Axes>"
            ]
          },
          "metadata": {
            "tags": [],
            "needs_background": "light"
          }
        }
      ]
    },
    {
      "cell_type": "markdown",
      "metadata": {
        "id": "aSiSGtQ2NB_I"
      },
      "source": [
        "# **SUS SCROFA HISTOGRAMS**\n",
        "\n",
        "This section plots the distributions for all sus scrofa proteins vs. the sus scrofa proteins with \"confident\" proteins"
      ]
    },
    {
      "cell_type": "code",
      "metadata": {
        "id": "Np095IthkKa_"
      },
      "source": [
        "#the sus scrofa protein database with ~120,000 proteins\n",
        "file_name = 'sus_scrofa_all_proteomes.fasta'\n",
        "length_list = length_of_sequence(file_name)"
      ],
      "execution_count": null,
      "outputs": []
    },
    {
      "cell_type": "code",
      "metadata": {
        "colab": {
          "base_uri": "https://localhost:8080/"
        },
        "id": "_YjjkL9XkUtz",
        "outputId": "be203d9a-2ce5-4a59-b981-f3c3510ce405"
      },
      "source": [
        "len(length_list)"
      ],
      "execution_count": null,
      "outputs": [
        {
          "output_type": "execute_result",
          "data": {
            "text/plain": [
              "120926"
            ]
          },
          "metadata": {
            "tags": []
          },
          "execution_count": 7
        }
      ]
    },
    {
      "cell_type": "code",
      "metadata": {
        "id": "yg2_0Hr_LzIB"
      },
      "source": [
        "#the sus scrofa protein database with ~49,000 proteins\n",
        "file_proteome = 'sus_scrofa_uniprot-proteome_UP000008227.fasta'\n",
        "length_proteome = length_of_sequence(file_proteome)"
      ],
      "execution_count": null,
      "outputs": []
    },
    {
      "cell_type": "code",
      "metadata": {
        "colab": {
          "base_uri": "https://localhost:8080/"
        },
        "id": "Rx8yCNUNK2CX",
        "outputId": "16884322-774c-43d8-8a90-5a39732517ef"
      },
      "source": [
        "len(length_proteome)"
      ],
      "execution_count": null,
      "outputs": [
        {
          "output_type": "execute_result",
          "data": {
            "text/plain": [
              "49792"
            ]
          },
          "metadata": {
            "tags": []
          },
          "execution_count": 9
        }
      ]
    },
    {
      "cell_type": "code",
      "metadata": {
        "colab": {
          "base_uri": "https://localhost:8080/"
        },
        "id": "La7YgicLuyaO",
        "outputId": "429455be-e257-4405-9434-5ad14bc0a3f4"
      },
      "source": [
        "length_PE_1 = PE_score_length(file_proteome)\n",
        "len(length_PE_1)"
      ],
      "execution_count": null,
      "outputs": [
        {
          "output_type": "execute_result",
          "data": {
            "text/plain": [
              "17008"
            ]
          },
          "metadata": {
            "tags": []
          },
          "execution_count": 15
        }
      ]
    },
    {
      "cell_type": "markdown",
      "metadata": {
        "id": "qHtc2laHpPig"
      },
      "source": [
        "**Probability Density Functions of Sus Scrofa**"
      ]
    },
    {
      "cell_type": "code",
      "metadata": {
        "colab": {
          "base_uri": "https://localhost:8080/",
          "height": 312
        },
        "id": "ybRulsS7c9Ua",
        "outputId": "2832cd52-dff0-4928-b88b-8d26e108c965"
      },
      "source": [
        "binwidth = 5\n",
        "create_normalized_plot(length_list, binwidth)\n",
        "create_normalized_plot(length_proteome, binwidth)\n",
        "plt.legend(['All','Proteome'])"
      ],
      "execution_count": null,
      "outputs": [
        {
          "output_type": "execute_result",
          "data": {
            "text/plain": [
              "<matplotlib.legend.Legend at 0x7f89a01b75d0>"
            ]
          },
          "metadata": {
            "tags": []
          },
          "execution_count": 22
        },
        {
          "output_type": "display_data",
          "data": {
            "image/png": "[encoded data removed]",
            "text/plain": [
              "<Figure size 432x288 with 1 Axes>"
            ]
          },
          "metadata": {
            "tags": [],
            "needs_background": "light"
          }
        }
      ]
    },
    {
      "cell_type": "code",
      "metadata": {
        "colab": {
          "base_uri": "https://localhost:8080/",
          "height": 312
        },
        "id": "YULd-1AoLB9E",
        "outputId": "e7b36a3a-df4d-4f6b-96cc-2e7f4b3196c3"
      },
      "source": [
        "#probability density function of both the full sus scrofa database and the \"confident\" sus scrofa database protein sequences\n",
        "#BIN WIDTH = 10\n",
        "\n",
        "binwidth = 10\n",
        "values_all = [3001 if i > 3000 else i for i in length_list] #replaces all length sequences in full DB > 3000 with 3001\n",
        "values_proteome = [3001 if i > 3000 else i for i in length_proteome] #replaces all length sequences in proteome DB > 3000 with 3001\n",
        "\n",
        "create_normalized_plot(values_all, binwidth)\n",
        "create_normalized_plot(values_proteome, binwidth)\n",
        "plt.legend(['All Pig Proteins','Reference Proteome'])"
      ],
      "execution_count": null,
      "outputs": [
        {
          "output_type": "execute_result",
          "data": {
            "text/plain": [
              "<matplotlib.legend.Legend at 0x7f89a023ef10>"
            ]
          },
          "metadata": {
            "tags": []
          },
          "execution_count": 23
        },
        {
          "output_type": "display_data",
          "data": {
            "image/png": "[encoded data removed]",
            "text/plain": [
              "<Figure size 432x288 with 1 Axes>"
            ]
          },
          "metadata": {
            "tags": [],
            "needs_background": "light"
          }
        }
      ]
    },
    {
      "cell_type": "code",
      "metadata": {
        "colab": {
          "base_uri": "https://localhost:8080/",
          "height": 312
        },
        "id": "QK5YQlHRLPwN",
        "outputId": "c898c836-cc4c-477d-b4c3-fbb86e4d6ab7"
      },
      "source": [
        "binwidth = 25\n",
        "create_normalized_plot(length_list, binwidth)\n",
        "create_normalized_plot(length_proteome, binwidth)\n",
        "plt.legend(['All Pig Proteins','Reference Proteome'])"
      ],
      "execution_count": null,
      "outputs": [
        {
          "output_type": "execute_result",
          "data": {
            "text/plain": [
              "<matplotlib.legend.Legend at 0x7f899fcb0a90>"
            ]
          },
          "metadata": {
            "tags": []
          },
          "execution_count": 24
        },
        {
          "output_type": "display_data",
          "data": {
            "image/png": "[encoded data removed]",
            "text/plain": [
              "<Figure size 432x288 with 1 Axes>"
            ]
          },
          "metadata": {
            "tags": [],
            "needs_background": "light"
          }
        }
      ]
    },
    {
      "cell_type": "code",
      "metadata": {
        "colab": {
          "base_uri": "https://localhost:8080/",
          "height": 312
        },
        "id": "eaDuDsOlLU2s",
        "outputId": "87b045db-10e5-4a79-abc4-06758dfe0cdf"
      },
      "source": [
        "#probability density function of both the full sus scrofa database and the \"confident\" sus scrofa database protein sequences\n",
        "#BIN WIDTH = 50\n",
        "\n",
        "binwidth = 50\n",
        "create_normalized_plot(length_list, binwidth)\n",
        "create_normalized_plot(length_proteome, binwidth)\n",
        "plt.legend(['All Pig Proteins','Reference Proteome'])"
      ],
      "execution_count": null,
      "outputs": [
        {
          "output_type": "execute_result",
          "data": {
            "text/plain": [
              "<matplotlib.legend.Legend at 0x7f899d7c8410>"
            ]
          },
          "metadata": {
            "tags": []
          },
          "execution_count": 25
        },
        {
          "output_type": "display_data",
          "data": {
            "image/png": "[encoded data removed]",
            "text/plain": [
              "<Figure size 432x288 with 1 Axes>"
            ]
          },
          "metadata": {
            "tags": [],
            "needs_background": "light"
          }
        }
      ]
    },
    {
      "cell_type": "code",
      "metadata": {
        "colab": {
          "base_uri": "https://localhost:8080/",
          "height": 312
        },
        "id": "5a8KdTCzH2Ov",
        "outputId": "2033b101-8b29-4a12-e053-fffd0944d715"
      },
      "source": [
        "#probability density function of both the full sus scrofa database and the \"confident\" sus scrofa database protein sequences\n",
        "#BIN WIDTH = 100\n",
        "\n",
        "binwidth = 100\n",
        "create_normalized_plot(length_list, binwidth)\n",
        "create_normalized_plot(length_proteome, binwidth)\n",
        "plt.legend(['All Pig Proteins','Reference Proteome'])"
      ],
      "execution_count": null,
      "outputs": [
        {
          "output_type": "execute_result",
          "data": {
            "text/plain": [
              "<matplotlib.legend.Legend at 0x7f899e968950>"
            ]
          },
          "metadata": {
            "tags": []
          },
          "execution_count": 26
        },
        {
          "output_type": "display_data",
          "data": {
            "image/png": "[encoded data removed]",
            "text/plain": [
              "<Figure size 432x288 with 1 Axes>"
            ]
          },
          "metadata": {
            "tags": [],
            "needs_background": "light"
          }
        }
      ]
    },
    {
      "cell_type": "markdown",
      "metadata": {
        "id": "7T2ugLfN7StK"
      },
      "source": [
        "Swiss-prot vs. full:"
      ]
    },
    {
      "cell_type": "code",
      "metadata": {
        "colab": {
          "base_uri": "https://localhost:8080/",
          "height": 296
        },
        "id": "uxhD-BnD7WHb",
        "outputId": "f35599ed-03dd-4040-b83d-b983910d017f"
      },
      "source": [
        "pig_swiss_prot = swiss_prot_sequences(file_name)\n",
        "full_length = length_of_sequence(file_name)\n",
        "binwidth = 10\n",
        "\n",
        "values_all = [3001 if i > 3000 else i for i in full_length]\n",
        "values_swiss = [3001 if i > 3000 else i for i in pig_swiss_prot]\n",
        "\n",
        "plt.hist(values_all, weights = np.zeros_like(values_all)+1./ len(values_all), bins = range(min(values_all), max(values_all) + binwidth, binwidth))\n",
        "plt.hist(values_swiss, weights = np.zeros_like(values_swiss)+1./ len(values_swiss), bins = range(min(values_swiss), max(values_swiss) + binwidth, binwidth))\n",
        "plt.xlim(0,3100)\n",
        "\n",
        "plt.legend(['All','Swiss-Prot'])\n",
        "plt.xlabel(\"Protein Sequence Length\")\n",
        "plt.ylabel(\"Probability of protein having length\")\n"
      ],
      "execution_count": null,
      "outputs": [
        {
          "output_type": "execute_result",
          "data": {
            "text/plain": [
              "Text(0, 0.5, 'Probability of protein having length')"
            ]
          },
          "metadata": {
            "tags": []
          },
          "execution_count": 27
        },
        {
          "output_type": "display_data",
          "data": {
            "image/png": "[encoded data removed]",
            "text/plain": [
              "<Figure size 432x288 with 1 Axes>"
            ]
          },
          "metadata": {
            "tags": [],
            "needs_background": "light"
          }
        }
      ]
    },
    {
      "cell_type": "markdown",
      "metadata": {
        "id": "A_sI5bR48xQX"
      },
      "source": [
        "Plot Swiss-prot vs. proteins with PE = 1, PE = 1,2 and PE = 1,2,3\n",
        "\n",
        "powerset([1,2,3]) --> () (1,) (2,) (3,) (1,2) (1,3) (2,3) (1,2,3)"
      ]
    },
    {
      "cell_type": "code",
      "metadata": {
        "id": "_3vzMRse63Xg"
      },
      "source": [
        "length_PE_1 = PE_score_length(file_name, [1]) #extracts from full database the protein lengths with PE = 1\n",
        "length_PE_2 = PE_score_length(file_name, [1,2]) #extracts from full database the protein lengths with PE = {1,2}\n",
        "length_PE_3 = PE_score_length(file_name, [1,2,3]) #extracts from full database the protein lengths with PE = {1,2,3}\n"
      ],
      "execution_count": null,
      "outputs": []
    },
    {
      "cell_type": "code",
      "metadata": {
        "id": "lzDlm88c8wU2"
      },
      "source": [
        "PE_1_pig = [3001 if i > 3000 else i for i in length_PE_1]\n",
        "PE_2_pig = [3001 if i > 3000 else i for i in length_PE_2]\n",
        "PE_3_pig = [3001 if i > 3000 else i for i in length_PE_3]"
      ],
      "execution_count": null,
      "outputs": []
    },
    {
      "cell_type": "code",
      "metadata": {
        "id": "e9Wyal8tBBiD"
      },
      "source": [
        "#file_name = 'sus_scrofa_all_proteomes.fasta'\n",
        "#file_proteome = 'sus_scrofa_uniprot-proteome_UP000008227.fasta'\n",
        "\n",
        "length_PE_2 = PE_score_length(file_name, [1,2]) #extracts from full database the protein lengths with PE = {1,3}\n",
        "PE_2_pig = [3001 if i > 3000 else i for i in length_PE_2]"
      ],
      "execution_count": null,
      "outputs": []
    },
    {
      "cell_type": "code",
      "metadata": {
        "colab": {
          "base_uri": "https://localhost:8080/"
        },
        "id": "q66Sh_i78q8p",
        "outputId": "3ed83492-0e80-4450-c5b3-f634ebe92821"
      },
      "source": [
        "import difflib\n",
        "\n",
        "sm=difflib.SequenceMatcher(None,values_swiss,PE_2_pig)\n",
        "sm.ratio()"
      ],
      "execution_count": null,
      "outputs": [
        {
          "output_type": "execute_result",
          "data": {
            "text/plain": [
              "0.10264821185694856"
            ]
          },
          "metadata": {
            "tags": []
          },
          "execution_count": 57
        }
      ]
    },
    {
      "cell_type": "code",
      "metadata": {
        "colab": {
          "base_uri": "https://localhost:8080/",
          "height": 296
        },
        "id": "GER1j-1r9Mdq",
        "outputId": "bf5f5aa9-d673-434c-a8fc-579c9215c552"
      },
      "source": [
        "plt.hist(values_swiss, weights = np.zeros_like(values_swiss)+1./ len(values_swiss), bins = range(min(values_swiss), max(values_swiss) + binwidth, binwidth))\n",
        "#plt.hist(PE_1_pig, weights = np.zeros_like(PE_1_pig)+1./ len(PE_1_pig), bins = range(min(PE_1_pig), max(PE_1_pig) + binwidth, binwidth))\n",
        "plt.hist(PE_2_pig, weights = np.zeros_like(PE_2_pig)+1./ len(PE_2_pig), bins = range(min(PE_2_pig), max(PE_2_pig) + binwidth, binwidth))\n",
        "#plt.hist(PE_3_pig, weights = np.zeros_like(PE_3_pig)+1./ len(PE_3_pig), bins = range(min(PE_3_pig), max(PE_3_pig) + binwidth, binwidth))\n",
        "plt.legend(['Swiss-prot','PE = 1,2'])\n",
        "plt.xlabel(\"Protein Sequence Length\")\n",
        "plt.ylabel(\"Probability of drawing protein with length\")\n"
      ],
      "execution_count": null,
      "outputs": [
        {
          "output_type": "execute_result",
          "data": {
            "text/plain": [
              "Text(0, 0.5, 'Probability of drawing protein with length')"
            ]
          },
          "metadata": {
            "tags": []
          },
          "execution_count": 59
        },
        {
          "output_type": "display_data",
          "data": {
            "image/png": "[encoded data removed]",
            "text/plain": [
              "<Figure size 432x288 with 1 Axes>"
            ]
          },
          "metadata": {
            "tags": [],
            "needs_background": "light"
          }
        }
      ]
    },
    {
      "cell_type": "markdown",
      "metadata": {
        "id": "Bm8hNtaZvdjp"
      },
      "source": [
        "Objective: Plot the probability density function P(X) for the full sus scrofa database protein sequence lengths vs. a list of proteins from the proteome in sus scrofa where PE = {1}, PE = {1,2} and PE = {1,2,3}"
      ]
    },
    {
      "cell_type": "code",
      "metadata": {
        "colab": {
          "base_uri": "https://localhost:8080/",
          "height": 295
        },
        "id": "0lpLNzgivX1f",
        "outputId": "79d5f6f7-9970-40d9-8bbd-9557aeb3d59e"
      },
      "source": [
        "#probability density function of both the full sus scrofa database and the \"confident\" sus scrofa database protein sequences\n",
        "#BIN WIDTH = 10\n",
        "\n",
        "binwidth = 10\n",
        "values_all = [3001 if i > 3000 else i for i in length_list] #replaces all length sequences in full DB > 3000 with 3001\n",
        "values_proteome = [3001 if i > 3000 else i for i in length_PE_1] #replaces all length sequences in proteome DB > 3000 with 3001\n",
        "\n",
        "plt.hist(values_all, weights=np.zeros_like(values_all)+1./ len(values_all), bins= range(min(values_all), max(values_all) + binwidth, binwidth))\n",
        "plt.hist(values_proteome, weights=np.zeros_like(values_proteome)+1./ len(values_proteome), bins= range(min(values_proteome), max(values_proteome) + binwidth, binwidth))\n",
        "plt.xlim(0,3100)\n",
        "#plt.ylim(0,0.025)\n",
        "plt.legend(['All','Proteome'])\n",
        "plt.xlabel(\"Protein Sequence Length\")\n",
        "plt.ylabel(\"Probability of Drawing Protein Sequence\")\n",
        "plt.title(\"Probability Density Function ; Bin Width = 10\")\n",
        "plt.show()"
      ],
      "execution_count": null,
      "outputs": [
        {
          "output_type": "display_data",
          "data": {
            "image/png": "[encoded data removed]",
            "text/plain": [
              "<Figure size 432x288 with 1 Axes>"
            ]
          },
          "metadata": {
            "tags": [],
            "needs_background": "light"
          }
        }
      ]
    },
    {
      "cell_type": "markdown",
      "metadata": {
        "id": "ufjda6gPxBP0"
      },
      "source": [
        "Next, try extracting all PE scores of {1,2,3} from full sus scrofa database and plot it against all protein sequence lengths"
      ]
    },
    {
      "cell_type": "code",
      "metadata": {
        "colab": {
          "base_uri": "https://localhost:8080/"
        },
        "id": "n0NsmrSsxAfw",
        "outputId": "7a3f4852-ee6f-43b4-9ec2-a82be8142ea2"
      },
      "source": [
        "PE_score_full = PE_score_length(file_name)\n",
        "len(PE_score_full)"
      ],
      "execution_count": null,
      "outputs": [
        {
          "output_type": "execute_result",
          "data": {
            "text/plain": [
              "66844"
            ]
          },
          "metadata": {
            "tags": []
          },
          "execution_count": 13
        }
      ]
    },
    {
      "cell_type": "code",
      "metadata": {
        "colab": {
          "base_uri": "https://localhost:8080/",
          "height": 295
        },
        "id": "X-ctgSPSxZQo",
        "outputId": "200702b8-a6c2-49a9-fe1b-91a53cca8110"
      },
      "source": [
        "#probability density function of both the full sus scrofa database and the \"confident\" sus scrofa database protein sequences\n",
        "#BIN WIDTH = 10\n",
        "\n",
        "binwidth = 10\n",
        "values_all = [3001 if i > 3000 else i for i in length_list] #replaces all length sequences in full DB > 3000 with 3001\n",
        "values_proteome = [3001 if i > 3000 else i for i in PE_score_full] #replaces all length sequences in proteome DB > 3000 with 3001\n",
        "\n",
        "plt.hist(values_all, weights=np.zeros_like(values_all)+1./ len(values_all), bins= range(min(values_all), max(values_all) + binwidth, binwidth))\n",
        "plt.hist(values_proteome, weights=np.zeros_like(values_proteome)+1./ len(values_proteome), bins= range(min(values_proteome), max(values_proteome) + binwidth, binwidth))\n",
        "plt.xlim(0,3100)\n",
        "#plt.ylim(0,0.025)\n",
        "plt.legend(['All','Proteome'])\n",
        "plt.xlabel(\"Protein Sequence Length\")\n",
        "plt.ylabel(\"Probability of Drawing Protein Sequence\")\n",
        "plt.title(\"Probability Density Function ; Bin Width = 10\")\n",
        "plt.show()"
      ],
      "execution_count": null,
      "outputs": [
        {
          "output_type": "display_data",
          "data": {
            "image/png": "[encoded data removed]",
            "text/plain": [
              "<Figure size 432x288 with 1 Axes>"
            ]
          },
          "metadata": {
            "tags": [],
            "needs_background": "light"
          }
        }
      ]
    },
    {
      "cell_type": "markdown",
      "metadata": {
        "id": "GR-z06BUvUv7"
      },
      "source": [
        "**Unnormalized Plots**"
      ]
    },
    {
      "cell_type": "code",
      "metadata": {
        "colab": {
          "base_uri": "https://localhost:8080/",
          "height": 312
        },
        "id": "zFx95t68zhAQ",
        "outputId": "c10caf78-a45a-48dd-d9dc-65bd7885a48e"
      },
      "source": [
        "#number of times a protein sequence has length L of both the full sus scrofa database and the \"confident\" sus scrofa database protein sequences\n",
        "#BIN WIDTH = 5\n",
        "\n",
        "binwidth = 5\n",
        "create_unnormalized_plot(length_list, binwidth)\n",
        "create_unnormalized_plot(length_proteome, binwidth)\n",
        "plt.legend(['All Pig Proteins','Reference Proteome'])"
      ],
      "execution_count": null,
      "outputs": [
        {
          "output_type": "execute_result",
          "data": {
            "text/plain": [
              "<matplotlib.legend.Legend at 0x7f899cf92710>"
            ]
          },
          "metadata": {
            "tags": []
          },
          "execution_count": 27
        },
        {
          "output_type": "display_data",
          "data": {
            "image/png": "[encoded data removed]",
            "text/plain": [
              "<Figure size 432x288 with 1 Axes>"
            ]
          },
          "metadata": {
            "tags": [],
            "needs_background": "light"
          }
        }
      ]
    },
    {
      "cell_type": "code",
      "metadata": {
        "colab": {
          "base_uri": "https://localhost:8080/",
          "height": 312
        },
        "id": "Of9FtjekLkiz",
        "outputId": "74955248-6234-4e21-f871-255c3a5cb3e1"
      },
      "source": [
        "#number of times a protein sequence has length L of both the full sus scrofa database and the \"confident\" sus scrofa database protein sequences\n",
        "#BIN WIDTH = 10\n",
        "\n",
        "binwidth = 10\n",
        "create_unnormalized_plot(length_list, binwidth)\n",
        "create_unnormalized_plot(length_proteome, binwidth)\n",
        "plt.legend(['All Pig Proteins','Reference Proteome'])"
      ],
      "execution_count": null,
      "outputs": [
        {
          "output_type": "execute_result",
          "data": {
            "text/plain": [
              "<matplotlib.legend.Legend at 0x7f899c4f53d0>"
            ]
          },
          "metadata": {
            "tags": []
          },
          "execution_count": 28
        },
        {
          "output_type": "display_data",
          "data": {
            "image/png": "[encoded data removed]",
            "text/plain": [
              "<Figure size 432x288 with 1 Axes>"
            ]
          },
          "metadata": {
            "tags": [],
            "needs_background": "light"
          }
        }
      ]
    },
    {
      "cell_type": "code",
      "metadata": {
        "colab": {
          "base_uri": "https://localhost:8080/",
          "height": 312
        },
        "id": "eWgs9kcBLs4L",
        "outputId": "9a78ac28-e493-40bd-c945-77d75757831b"
      },
      "source": [
        "#number of times a protein sequence has length L of both the full sus scrofa database and the \"confident\" sus scrofa database protein sequences\n",
        "#BIN WIDTH = 25\n",
        "\n",
        "binwidth = 25\n",
        "create_unnormalized_plot(length_list, binwidth)\n",
        "create_unnormalized_plot(length_proteome, binwidth)\n",
        "plt.legend(['All Pig Proteins','Reference Proteome'])"
      ],
      "execution_count": null,
      "outputs": [
        {
          "output_type": "execute_result",
          "data": {
            "text/plain": [
              "<matplotlib.legend.Legend at 0x7f89946b1190>"
            ]
          },
          "metadata": {
            "tags": []
          },
          "execution_count": 29
        },
        {
          "output_type": "display_data",
          "data": {
            "image/png": "[encoded data removed]",
            "text/plain": [
              "<Figure size 432x288 with 1 Axes>"
            ]
          },
          "metadata": {
            "tags": [],
            "needs_background": "light"
          }
        }
      ]
    },
    {
      "cell_type": "code",
      "metadata": {
        "colab": {
          "base_uri": "https://localhost:8080/",
          "height": 312
        },
        "id": "YjsQ_4bCLyaU",
        "outputId": "4570a006-dc5b-45e8-fb9a-fd1aa06110a5"
      },
      "source": [
        "#number of times a protein sequence has length L of both the full sus scrofa database and the \"confident\" sus scrofa database protein sequences\n",
        "#BIN WIDTH = 50\n",
        "\n",
        "binwidth = 50\n",
        "create_unnormalized_plot(length_list, binwidth)\n",
        "create_unnormalized_plot(length_proteome, binwidth)\n",
        "plt.legend(['All Pig Proteins','Reference Proteome'])"
      ],
      "execution_count": null,
      "outputs": [
        {
          "output_type": "execute_result",
          "data": {
            "text/plain": [
              "<matplotlib.legend.Legend at 0x7f8993e60950>"
            ]
          },
          "metadata": {
            "tags": []
          },
          "execution_count": 30
        },
        {
          "output_type": "display_data",
          "data": {
            "image/png": "[encoded data removed]",
            "text/plain": [
              "<Figure size 432x288 with 1 Axes>"
            ]
          },
          "metadata": {
            "tags": [],
            "needs_background": "light"
          }
        }
      ]
    },
    {
      "cell_type": "code",
      "metadata": {
        "colab": {
          "base_uri": "https://localhost:8080/"
        },
        "id": "JgtdGS4i8EZm",
        "outputId": "3533138a-c5d3-40c7-d0f7-1745a38f03ce"
      },
      "source": [
        "from statistics import *\n",
        "\n",
        "mean_all = mean(length_list)\n",
        "mean_confident = mean(length_confident)\n",
        "\n",
        "print(\"Mean of blue: \", mean_all)\n",
        "print(\"Mean of orange: \", mean_confident)"
      ],
      "execution_count": null,
      "outputs": [
        {
          "output_type": "stream",
          "text": [
            "Mean of blue:  600.6892727783934\n",
            "Mean of orange:  587.454711600257\n"
          ],
          "name": "stdout"
        }
      ]
    },
    {
      "cell_type": "markdown",
      "metadata": {
        "id": "cAV16whwNYPX"
      },
      "source": [
        "# **HOMO SAPIEN HISTOGRAMS**\n",
        "\n",
        "Objective: compare all human proteins to Swiss-prot human proteins in proteome"
      ]
    },
    {
      "cell_type": "code",
      "metadata": {
        "colab": {
          "base_uri": "https://localhost:8080/",
          "height": 419
        },
        "id": "xHHjTAmcYZD1",
        "outputId": "811536cb-4f06-402f-8eba-92d7b39e046a"
      },
      "source": [
        "file_isoform_human = 'all_human_and_isoforms.fasta'\n",
        "humanFASTA_isoform = fasta_to_table(file_isoform_human)\n",
        "humanFASTA_isoform"
      ],
      "execution_count": null,
      "outputs": [
        {
          "output_type": "execute_result",
          "data": {
            "text/html": [
              "<div>\n",
              "<style scoped>\n",
              "    .dataframe tbody tr th:only-of-type {\n",
              "        vertical-align: middle;\n",
              "    }\n",
              "\n",
              "    .dataframe tbody tr th {\n",
              "        vertical-align: top;\n",
              "    }\n",
              "\n",
              "    .dataframe thead th {\n",
              "        text-align: right;\n",
              "    }\n",
              "</style>\n",
              "<table border=\"1\" class=\"dataframe\">\n",
              "  <thead>\n",
              "    <tr style=\"text-align: right;\">\n",
              "      <th></th>\n",
              "      <th>sptr</th>\n",
              "      <th>accession</th>\n",
              "      <th>organism</th>\n",
              "      <th>Gene Name</th>\n",
              "      <th>length</th>\n",
              "    </tr>\n",
              "  </thead>\n",
              "  <tbody>\n",
              "    <tr>\n",
              "      <th>0</th>\n",
              "      <td>sp</td>\n",
              "      <td>P04439</td>\n",
              "      <td>Homo sapiens</td>\n",
              "      <td>HLA-A</td>\n",
              "      <td>365</td>\n",
              "    </tr>\n",
              "    <tr>\n",
              "      <th>1</th>\n",
              "      <td>sp</td>\n",
              "      <td>P04439-2</td>\n",
              "      <td>Homo sapiens</td>\n",
              "      <td></td>\n",
              "      <td>371</td>\n",
              "    </tr>\n",
              "    <tr>\n",
              "      <th>2</th>\n",
              "      <td>sp</td>\n",
              "      <td>P01911</td>\n",
              "      <td>Homo sapiens</td>\n",
              "      <td>HLA-DRB1</td>\n",
              "      <td>266</td>\n",
              "    </tr>\n",
              "    <tr>\n",
              "      <th>3</th>\n",
              "      <td>sp</td>\n",
              "      <td>P01889</td>\n",
              "      <td>Homo sapiens</td>\n",
              "      <td>HLA-B</td>\n",
              "      <td>362</td>\n",
              "    </tr>\n",
              "    <tr>\n",
              "      <th>4</th>\n",
              "      <td>sp</td>\n",
              "      <td>P31689</td>\n",
              "      <td>Homo sapiens</td>\n",
              "      <td>DNAJA1</td>\n",
              "      <td>397</td>\n",
              "    </tr>\n",
              "    <tr>\n",
              "      <th>...</th>\n",
              "      <td>...</td>\n",
              "      <td>...</td>\n",
              "      <td>...</td>\n",
              "      <td>...</td>\n",
              "      <td>...</td>\n",
              "    </tr>\n",
              "    <tr>\n",
              "      <th>224135</th>\n",
              "      <td>sp</td>\n",
              "      <td>Q8IUX8</td>\n",
              "      <td>Homo sapiens</td>\n",
              "      <td>EGFL6</td>\n",
              "      <td>553</td>\n",
              "    </tr>\n",
              "    <tr>\n",
              "      <th>224136</th>\n",
              "      <td>sp</td>\n",
              "      <td>Q8IUX8-2</td>\n",
              "      <td>Homo sapiens</td>\n",
              "      <td></td>\n",
              "      <td>554</td>\n",
              "    </tr>\n",
              "    <tr>\n",
              "      <th>224137</th>\n",
              "      <td>sp</td>\n",
              "      <td>O15372</td>\n",
              "      <td>Homo sapiens</td>\n",
              "      <td>EIF3H</td>\n",
              "      <td>352</td>\n",
              "    </tr>\n",
              "    <tr>\n",
              "      <th>224138</th>\n",
              "      <td>sp</td>\n",
              "      <td>P54852</td>\n",
              "      <td>Homo sapiens</td>\n",
              "      <td>EMP3</td>\n",
              "      <td>163</td>\n",
              "    </tr>\n",
              "    <tr>\n",
              "      <th>224139</th>\n",
              "      <td>sp</td>\n",
              "      <td>P50402</td>\n",
              "      <td>Homo sapiens</td>\n",
              "      <td>EMD</td>\n",
              "      <td>254</td>\n",
              "    </tr>\n",
              "  </tbody>\n",
              "</table>\n",
              "<p>224140 rows × 5 columns</p>\n",
              "</div>"
            ],
            "text/plain": [
              "       sptr accession       organism  Gene Name  length\n",
              "0        sp    P04439  Homo sapiens      HLA-A      365\n",
              "1        sp  P04439-2  Homo sapiens                 371\n",
              "2        sp    P01911  Homo sapiens   HLA-DRB1      266\n",
              "3        sp    P01889  Homo sapiens      HLA-B      362\n",
              "4        sp    P31689  Homo sapiens     DNAJA1      397\n",
              "...     ...       ...            ...        ...     ...\n",
              "224135   sp    Q8IUX8  Homo sapiens      EGFL6      553\n",
              "224136   sp  Q8IUX8-2  Homo sapiens                 554\n",
              "224137   sp    O15372  Homo sapiens      EIF3H      352\n",
              "224138   sp    P54852  Homo sapiens       EMP3      163\n",
              "224139   sp    P50402  Homo sapiens        EMD      254\n",
              "\n",
              "[224140 rows x 5 columns]"
            ]
          },
          "metadata": {
            "tags": []
          },
          "execution_count": 6
        }
      ]
    },
    {
      "cell_type": "code",
      "metadata": {
        "colab": {
          "base_uri": "https://localhost:8080/",
          "height": 419
        },
        "id": "l5LAITZCqo3g",
        "outputId": "f5531c90-fe5d-4424-a048-98faa2746e87"
      },
      "source": [
        "file_human_all = 'homo_sapien_all.fasta'\n",
        "humanFASTA = fasta_to_table(file_human_all)\n",
        "humanFASTA"
      ],
      "execution_count": null,
      "outputs": [
        {
          "output_type": "execute_result",
          "data": {
            "text/html": [
              "<div>\n",
              "<style scoped>\n",
              "    .dataframe tbody tr th:only-of-type {\n",
              "        vertical-align: middle;\n",
              "    }\n",
              "\n",
              "    .dataframe tbody tr th {\n",
              "        vertical-align: top;\n",
              "    }\n",
              "\n",
              "    .dataframe thead th {\n",
              "        text-align: right;\n",
              "    }\n",
              "</style>\n",
              "<table border=\"1\" class=\"dataframe\">\n",
              "  <thead>\n",
              "    <tr style=\"text-align: right;\">\n",
              "      <th></th>\n",
              "      <th>sptr</th>\n",
              "      <th>accession</th>\n",
              "      <th>organism</th>\n",
              "      <th>Gene Name</th>\n",
              "      <th>length</th>\n",
              "    </tr>\n",
              "  </thead>\n",
              "  <tbody>\n",
              "    <tr>\n",
              "      <th>0</th>\n",
              "      <td>sp</td>\n",
              "      <td>P04439</td>\n",
              "      <td>Homo sapiens</td>\n",
              "      <td>HLA-A</td>\n",
              "      <td>365</td>\n",
              "    </tr>\n",
              "    <tr>\n",
              "      <th>1</th>\n",
              "      <td>sp</td>\n",
              "      <td>P01911</td>\n",
              "      <td>Homo sapiens</td>\n",
              "      <td>HLA-DRB1</td>\n",
              "      <td>266</td>\n",
              "    </tr>\n",
              "    <tr>\n",
              "      <th>2</th>\n",
              "      <td>sp</td>\n",
              "      <td>P01889</td>\n",
              "      <td>Homo sapiens</td>\n",
              "      <td>HLA-B</td>\n",
              "      <td>362</td>\n",
              "    </tr>\n",
              "    <tr>\n",
              "      <th>3</th>\n",
              "      <td>sp</td>\n",
              "      <td>P31689</td>\n",
              "      <td>Homo sapiens</td>\n",
              "      <td>DNAJA1</td>\n",
              "      <td>397</td>\n",
              "    </tr>\n",
              "    <tr>\n",
              "      <th>4</th>\n",
              "      <td>sp</td>\n",
              "      <td>P08246</td>\n",
              "      <td>Homo sapiens</td>\n",
              "      <td>ELANE</td>\n",
              "      <td>267</td>\n",
              "    </tr>\n",
              "    <tr>\n",
              "      <th>...</th>\n",
              "      <td>...</td>\n",
              "      <td>...</td>\n",
              "      <td>...</td>\n",
              "      <td>...</td>\n",
              "      <td>...</td>\n",
              "    </tr>\n",
              "    <tr>\n",
              "      <th>202155</th>\n",
              "      <td>sp</td>\n",
              "      <td>Q9P2T1</td>\n",
              "      <td>Homo sapiens</td>\n",
              "      <td>GMPR2</td>\n",
              "      <td>348</td>\n",
              "    </tr>\n",
              "    <tr>\n",
              "      <th>202156</th>\n",
              "      <td>sp</td>\n",
              "      <td>Q8IUX8</td>\n",
              "      <td>Homo sapiens</td>\n",
              "      <td>EGFL6</td>\n",
              "      <td>553</td>\n",
              "    </tr>\n",
              "    <tr>\n",
              "      <th>202157</th>\n",
              "      <td>sp</td>\n",
              "      <td>O15372</td>\n",
              "      <td>Homo sapiens</td>\n",
              "      <td>EIF3H</td>\n",
              "      <td>352</td>\n",
              "    </tr>\n",
              "    <tr>\n",
              "      <th>202158</th>\n",
              "      <td>sp</td>\n",
              "      <td>P54852</td>\n",
              "      <td>Homo sapiens</td>\n",
              "      <td>EMP3</td>\n",
              "      <td>163</td>\n",
              "    </tr>\n",
              "    <tr>\n",
              "      <th>202159</th>\n",
              "      <td>sp</td>\n",
              "      <td>P50402</td>\n",
              "      <td>Homo sapiens</td>\n",
              "      <td>EMD</td>\n",
              "      <td>254</td>\n",
              "    </tr>\n",
              "  </tbody>\n",
              "</table>\n",
              "<p>202160 rows × 5 columns</p>\n",
              "</div>"
            ],
            "text/plain": [
              "       sptr accession       organism  Gene Name  length\n",
              "0        sp    P04439  Homo sapiens      HLA-A      365\n",
              "1        sp    P01911  Homo sapiens   HLA-DRB1      266\n",
              "2        sp    P01889  Homo sapiens      HLA-B      362\n",
              "3        sp    P31689  Homo sapiens     DNAJA1      397\n",
              "4        sp    P08246  Homo sapiens      ELANE      267\n",
              "...     ...       ...            ...        ...     ...\n",
              "202155   sp    Q9P2T1  Homo sapiens      GMPR2      348\n",
              "202156   sp    Q8IUX8  Homo sapiens      EGFL6      553\n",
              "202157   sp    O15372  Homo sapiens      EIF3H      352\n",
              "202158   sp    P54852  Homo sapiens       EMP3      163\n",
              "202159   sp    P50402  Homo sapiens        EMD      254\n",
              "\n",
              "[202160 rows x 5 columns]"
            ]
          },
          "metadata": {
            "tags": []
          },
          "execution_count": 7
        }
      ]
    },
    {
      "cell_type": "code",
      "metadata": {
        "id": "t3YfAaU-rJ19"
      },
      "source": [
        "bin_accession_dict = bin_to_accession(humanFASTA)\n",
        "#bin_accession_dict"
      ],
      "execution_count": null,
      "outputs": []
    },
    {
      "cell_type": "code",
      "metadata": {
        "id": "xPzDj_7Op3Ga"
      },
      "source": [
        "most_entries = max([len(x) for x in list(bin_accession_dict.values())])\n",
        "most_accessions = None\n",
        "\n",
        "for key in list(bin_accession_dict.keys()):\n",
        "  if len(bin_accession_dict[key]) == most_entries:\n",
        "    most_accessions = bin_accession_dict[key]\n"
      ],
      "execution_count": null,
      "outputs": []
    },
    {
      "cell_type": "code",
      "metadata": {
        "id": "eqqbCoIZuNtq"
      },
      "source": [
        "#for hussain\n",
        "data_peak = {'Accession IDs ' : most_accessions}\n",
        "data_peak_df = pd.DataFrame(data_peak)\n",
        "data_peak_df.to_excel(\"human_peak_accessions.xlsx\", index = False)"
      ],
      "execution_count": null,
      "outputs": []
    },
    {
      "cell_type": "code",
      "metadata": {
        "id": "NktKJ356rQlE"
      },
      "source": [
        "isoform_dict = extract_isoforms(humanFASTA_isoform)\n",
        "isoform_human_length = []\n",
        "for value in isoform_dict.values():\n",
        "  isoform_human_length.append(value)\n"
      ],
      "execution_count": null,
      "outputs": []
    },
    {
      "cell_type": "code",
      "metadata": {
        "colab": {
          "base_uri": "https://localhost:8080/"
        },
        "id": "jbDkpp6SYoBl",
        "outputId": "e7a0f331-cde1-4cfe-ffee-26cd3b806706"
      },
      "source": [
        "!ls"
      ],
      "execution_count": null,
      "outputs": [
        {
          "output_type": "stream",
          "text": [
            "all_human_and_isoforms.fasta\n",
            "homo_sapien_all.fasta\n",
            "Homo_sapiens_uniprot-proteome_UP000005640.fasta\n",
            "mus_musculus_all.fasta\n",
            "mus_musculus_uniprot-proteome_UP000000589.fasta\n",
            "one_protein_per_gene_proteome\n",
            "other_api\n",
            "reactome_uniprot\n",
            "sus_scrofa_all_proteomes.fasta\n",
            "sus_scrofa_uniprot-proteome_UP000008227.fasta\n"
          ],
          "name": "stdout"
        }
      ]
    },
    {
      "cell_type": "code",
      "metadata": {
        "colab": {
          "base_uri": "https://localhost:8080/"
        },
        "id": "BQgHv2Xj2_NQ",
        "outputId": "1a68b21f-4f2e-4af0-afa9-355e658d7764"
      },
      "source": [
        "file_human_proteome = 'Homo_sapiens_uniprot-proteome_UP000005640.fasta'\n",
        "human_proteome = length_of_sequence(file_human_proteome)\n",
        "len(human_proteome)"
      ],
      "execution_count": null,
      "outputs": [
        {
          "output_type": "execute_result",
          "data": {
            "text/plain": [
              "78120"
            ]
          },
          "metadata": {
            "tags": []
          },
          "execution_count": 9
        }
      ]
    },
    {
      "cell_type": "code",
      "metadata": {
        "colab": {
          "base_uri": "https://localhost:8080/"
        },
        "id": "z-fyHYqJ3CxD",
        "outputId": "8d1d4d95-0cbf-420a-affb-5fd3fd8f117d"
      },
      "source": [
        "file_human_all = 'homo_sapien_all.fasta'\n",
        "human_all = length_of_sequence(file_human_all)\n",
        "len(human_all)"
      ],
      "execution_count": null,
      "outputs": [
        {
          "output_type": "execute_result",
          "data": {
            "text/plain": [
              "202160"
            ]
          },
          "metadata": {
            "tags": []
          },
          "execution_count": 10
        }
      ]
    },
    {
      "cell_type": "code",
      "metadata": {
        "colab": {
          "base_uri": "https://localhost:8080/",
          "height": 312
        },
        "id": "jpldRu4n5ppv",
        "outputId": "a5f8639a-fbe2-455b-e3dc-dd548bee474b"
      },
      "source": [
        "#probability density function of both the full homo sapien database and the swiss-prot homo sapien protein sequences\n",
        "#BIN WIDTH = 10\n",
        "\n",
        "binwidth = 10\n",
        "xlimit = (0,1500)\n",
        "create_normalized_plot(human_all, binwidth, xlimit, organism = 'Homo sapien')\n",
        "#create_normalized_plot(human_proteome, binwidth, xlimit, organism = 'Homo sapien')\n",
        "#create_normalized_plot(human_proteome, binwidth, xlimit, organism = 'Homo sapien')\n",
        "create_normalized_plot(isoform_human_length, binwidth, xlimit, organism = 'Homo sapien')\n",
        "plt.legend(['All Human Proteins','Isoform Proteins'])"
      ],
      "execution_count": null,
      "outputs": [
        {
          "output_type": "execute_result",
          "data": {
            "text/plain": [
              "<matplotlib.legend.Legend at 0x7f5b39ae8f90>"
            ]
          },
          "metadata": {
            "tags": []
          },
          "execution_count": 22
        },
        {
          "output_type": "display_data",
          "data": {
            "image/png": "[encoded data removed]",
            "text/plain": [
              "<Figure size 432x288 with 1 Axes>"
            ]
          },
          "metadata": {
            "tags": [],
            "needs_background": "light"
          }
        }
      ]
    },
    {
      "cell_type": "code",
      "metadata": {
        "colab": {
          "base_uri": "https://localhost:8080/",
          "height": 312
        },
        "id": "jl12AGSNqsM-",
        "outputId": "df2433f2-eec4-45f7-b43b-68ddfb93637a"
      },
      "source": [
        "#BIN WIDTH = 10\n",
        "\n",
        "binwidth = 10\n",
        "xlimit = (0,1500)\n",
        "create_unnormalized_plot(human_all, binwidth, xlimit, organism = 'Homo sapien')\n",
        "create_unnormalized_plot(human_proteome, binwidth, xlimit, organism = 'Homo sapien')\n",
        "create_unnormalized_plot(isoform_human_length, binwidth, xlimit, organism = 'Homo sapien')\n",
        "plt.legend(['All Human Proteins','Reference Proteome', 'Isoform Proteins'])"
      ],
      "execution_count": null,
      "outputs": [
        {
          "output_type": "execute_result",
          "data": {
            "text/plain": [
              "<matplotlib.legend.Legend at 0x7f5b2b96ec50>"
            ]
          },
          "metadata": {
            "tags": []
          },
          "execution_count": 24
        },
        {
          "output_type": "display_data",
          "data": {
            "image/png": "[encoded data removed]",
            "text/plain": [
              "<Figure size 432x288 with 1 Axes>"
            ]
          },
          "metadata": {
            "tags": [],
            "needs_background": "light"
          }
        }
      ]
    },
    {
      "cell_type": "markdown",
      "metadata": {
        "id": "SEIEPjkZ2Lha"
      },
      "source": [
        "# **MUS MUSCULUS HISTOGRAMS**"
      ]
    },
    {
      "cell_type": "code",
      "metadata": {
        "colab": {
          "base_uri": "https://localhost:8080/"
        },
        "id": "4mCFlyey74AT",
        "outputId": "d3fcfaa5-6d77-4a20-fa88-1acff19f823f"
      },
      "source": [
        "!ls"
      ],
      "execution_count": null,
      "outputs": [
        {
          "output_type": "stream",
          "text": [
            "homo_sapien_all.fasta\n",
            "Homo_sapiens_uniprot-proteome_UP000005640.fasta\n",
            "mus_musculus_all.fasta\n",
            "mus_musculus_uniprot-proteome_UP000000589.fasta\n",
            "one_protein_per_gene_proteome\n",
            "other_api\n",
            "reactome_uniprot\n",
            "sus_scrofa_all_proteomes.fasta\n",
            "sus_scrofa_uniprot-proteome_UP000008227.fasta\n"
          ],
          "name": "stdout"
        }
      ]
    },
    {
      "cell_type": "code",
      "metadata": {
        "colab": {
          "base_uri": "https://localhost:8080/"
        },
        "id": "Jcw1x3jV3GGR",
        "outputId": "8aad7fb8-4475-4b34-d3c1-e0451c37858e"
      },
      "source": [
        "mouse_all_file = 'mus_musculus_all.fasta'\n",
        "mouse_all_length = length_of_sequence(mouse_all_file) #all sequence lengths\n",
        "len(mouse_all_length)"
      ],
      "execution_count": null,
      "outputs": [
        {
          "output_type": "execute_result",
          "data": {
            "text/plain": [
              "86521"
            ]
          },
          "metadata": {
            "tags": []
          },
          "execution_count": 36
        }
      ]
    },
    {
      "cell_type": "code",
      "metadata": {
        "colab": {
          "base_uri": "https://localhost:8080/"
        },
        "id": "SKooysKLne1m",
        "outputId": "7204e381-75d9-49c4-82c3-6c9ce11a2b22"
      },
      "source": [
        "mouse_proteome_file = 'mus_musculus_uniprot-proteome_UP000000589.fasta'\n",
        "mouse_proteome = length_of_sequence(mouse_proteome_file)\n",
        "len(mouse_proteome)"
      ],
      "execution_count": null,
      "outputs": [
        {
          "output_type": "execute_result",
          "data": {
            "text/plain": [
              "55366"
            ]
          },
          "metadata": {
            "tags": []
          },
          "execution_count": 38
        }
      ]
    },
    {
      "cell_type": "markdown",
      "metadata": {
        "id": "1HPkAuCE59K9"
      },
      "source": [
        "All mus musculus proteins vs. proteome proteins"
      ]
    },
    {
      "cell_type": "code",
      "metadata": {
        "colab": {
          "base_uri": "https://localhost:8080/",
          "height": 312
        },
        "id": "y-zeRQbR4_hD",
        "outputId": "e7c34fc7-2531-46b0-92c9-d4d818ca0a3b"
      },
      "source": [
        "#BIN WIDTH = 10\n",
        "\n",
        "binwidth = 10\n",
        "xlimit = (0,3000)\n",
        "create_normalized_plot(mouse_all_length, binwidth, xlimit, organism = 'Mus musculus')\n",
        "create_normalized_plot(mouse_proteome, binwidth, xlimit, organism = 'Mus musculus')\n",
        "plt.legend(['All Mouse Proteins','Reference Proteome'])"
      ],
      "execution_count": null,
      "outputs": [
        {
          "output_type": "execute_result",
          "data": {
            "text/plain": [
              "<matplotlib.legend.Legend at 0x7f898b52ad50>"
            ]
          },
          "metadata": {
            "tags": []
          },
          "execution_count": 39
        },
        {
          "output_type": "display_data",
          "data": {
            "image/png": "[encoded data removed]",
            "text/plain": [
              "<Figure size 432x288 with 1 Axes>"
            ]
          },
          "metadata": {
            "tags": [],
            "needs_background": "light"
          }
        }
      ]
    },
    {
      "cell_type": "code",
      "metadata": {
        "id": "8LIOnhRB6Hct",
        "colab": {
          "base_uri": "https://localhost:8080/",
          "height": 312
        },
        "outputId": "8fee28c0-de9c-4ff2-d065-843810c4b46f"
      },
      "source": [
        "#BIN WIDTH = 10\n",
        "\n",
        "binwidth = 10\n",
        "xlimit = (0,3000)\n",
        "create_unnormalized_plot(mouse_all_length, binwidth, xlimit, organism = 'Mus musculus')\n",
        "create_unnormalized_plot(mouse_proteome, binwidth, xlimit, organism = 'Mus musculus')\n",
        "plt.legend(['All Mouse Proteins','Reference Proteome'])"
      ],
      "execution_count": null,
      "outputs": [
        {
          "output_type": "execute_result",
          "data": {
            "text/plain": [
              "<matplotlib.legend.Legend at 0x7f8986334cd0>"
            ]
          },
          "metadata": {
            "tags": []
          },
          "execution_count": 40
        },
        {
          "output_type": "display_data",
          "data": {
            "image/png": "[encoded data removed]",
            "text/plain": [
              "<Figure size 432x288 with 1 Axes>"
            ]
          },
          "metadata": {
            "tags": [],
            "needs_background": "light"
          }
        }
      ]
    },
    {
      "cell_type": "code",
      "metadata": {
        "id": "bDPm9fKhoBBz"
      },
      "source": [
        ""
      ],
      "execution_count": null,
      "outputs": []
    }
  ]
}
